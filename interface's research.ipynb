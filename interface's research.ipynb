{
 "cells": [
  {
   "cell_type": "code",
   "execution_count": 1,
   "metadata": {},
   "outputs": [
    {
     "name": "stderr",
     "output_type": "stream",
     "text": [
      "/Users/r.yunisov/Library/Python/3.9/lib/python/site-packages/urllib3/__init__.py:34: NotOpenSSLWarning: urllib3 v2.0 only supports OpenSSL 1.1.1+, currently the 'ssl' module is compiled with 'LibreSSL 2.8.3'. See: https://github.com/urllib3/urllib3/issues/3020\n",
      "  warnings.warn(\n"
     ]
    }
   ],
   "source": [
    "import pandas as pd\n",
    "import numpy as np\n",
    "import tinkoffpy as tf\n",
    "import plotly.express as px\n",
    "import matplotlib.pyplot as plt\n",
    "import seaborn as sns\n",
    "import plotly.figure_factory as ff\n",
    "from datetime import datetime, timedelta, date\n",
    "import datetime\n",
    "\n",
    "%matplotlib inline\n",
    "\n",
    "now = datetime.datetime.now().strftime(\"%Y-%m-%d %H:%M:%S\")\n",
    "\n",
    "tf.auth_by_credentials(username='r.yunisov', password='Htyfn2002Htyfn')\n",
    "\n"
   ]
  },
  {
   "cell_type": "code",
   "execution_count": 2,
   "metadata": {},
   "outputs": [
    {
     "name": "stdout",
     "output_type": "stream",
     "text": [
      "2023-12-07 12:50:12 - WARNING - Library version is outdated, you have: 1.0.49\n",
      "actual version: 1.0.53, please, update library.\n",
      "2023-12-07 12:50:53 - INFO - Query executed successfully. Result saved to DataFrame.\n"
     ]
    },
    {
     "data": {
      "text/html": [
       "<div>\n",
       "<style scoped>\n",
       "    .dataframe tbody tr th:only-of-type {\n",
       "        vertical-align: middle;\n",
       "    }\n",
       "\n",
       "    .dataframe tbody tr th {\n",
       "        vertical-align: top;\n",
       "    }\n",
       "\n",
       "    .dataframe thead th {\n",
       "        text-align: right;\n",
       "    }\n",
       "</style>\n",
       "<table border=\"1\" class=\"dataframe\">\n",
       "  <thead>\n",
       "    <tr style=\"text-align: right;\">\n",
       "      <th></th>\n",
       "      <th>entity_registration_week</th>\n",
       "      <th>date_diff</th>\n",
       "      <th>clients</th>\n",
       "      <th>sessions</th>\n",
       "      <th>cum_sum</th>\n",
       "      <th>total_clients</th>\n",
       "      <th>prop</th>\n",
       "    </tr>\n",
       "  </thead>\n",
       "  <tbody>\n",
       "    <tr>\n",
       "      <th>0</th>\n",
       "      <td>2023-10-30 00:00:00+03:00</td>\n",
       "      <td>36</td>\n",
       "      <td>1</td>\n",
       "      <td>1</td>\n",
       "      <td>5818.0</td>\n",
       "      <td>9372.0</td>\n",
       "      <td>62.08</td>\n",
       "    </tr>\n",
       "    <tr>\n",
       "      <th>1</th>\n",
       "      <td>2023-09-18 00:00:00+03:00</td>\n",
       "      <td>56</td>\n",
       "      <td>4</td>\n",
       "      <td>4</td>\n",
       "      <td>5832.0</td>\n",
       "      <td>9010.0</td>\n",
       "      <td>64.73</td>\n",
       "    </tr>\n",
       "    <tr>\n",
       "      <th>2</th>\n",
       "      <td>2023-10-09 00:00:00+03:00</td>\n",
       "      <td>55</td>\n",
       "      <td>4</td>\n",
       "      <td>4</td>\n",
       "      <td>6073.0</td>\n",
       "      <td>9426.0</td>\n",
       "      <td>64.43</td>\n",
       "    </tr>\n",
       "    <tr>\n",
       "      <th>3</th>\n",
       "      <td>2023-09-04 00:00:00+03:00</td>\n",
       "      <td>87</td>\n",
       "      <td>12</td>\n",
       "      <td>12</td>\n",
       "      <td>5509.0</td>\n",
       "      <td>8312.0</td>\n",
       "      <td>66.28</td>\n",
       "    </tr>\n",
       "    <tr>\n",
       "      <th>4</th>\n",
       "      <td>2023-09-11 00:00:00+03:00</td>\n",
       "      <td>46</td>\n",
       "      <td>13</td>\n",
       "      <td>13</td>\n",
       "      <td>5435.0</td>\n",
       "      <td>8593.0</td>\n",
       "      <td>63.25</td>\n",
       "    </tr>\n",
       "  </tbody>\n",
       "</table>\n",
       "</div>"
      ],
      "text/plain": [
       "   entity_registration_week  date_diff  clients  sessions  cum_sum  \\\n",
       "0 2023-10-30 00:00:00+03:00         36        1         1   5818.0   \n",
       "1 2023-09-18 00:00:00+03:00         56        4         4   5832.0   \n",
       "2 2023-10-09 00:00:00+03:00         55        4         4   6073.0   \n",
       "3 2023-09-04 00:00:00+03:00         87       12        12   5509.0   \n",
       "4 2023-09-11 00:00:00+03:00         46       13        13   5435.0   \n",
       "\n",
       "   total_clients   prop  \n",
       "0         9372.0  62.08  \n",
       "1         9010.0  64.73  \n",
       "2         9426.0  64.43  \n",
       "3         8312.0  66.28  \n",
       "4         8593.0  63.25  "
      ]
     },
     "execution_count": 2,
     "metadata": {},
     "output_type": "execute_result"
    }
   ],
   "source": [
    "df = tf.gp_to_df(\"\"\"\n",
    "SELECT *, ROUND((cum_sum::NUMERIC / total_clients::NUMERIC) * 100, 2) AS prop\n",
    "FROM (SELECT *,\n",
    "             SUM(sessions)\n",
    "             OVER (PARTITION BY entity_registration_week ORDER BY date_diff ROWS BETWEEN UNBOUNDED PRECEDING AND CURRENT ROW) AS cum_sum,\n",
    "             SUM(clients) OVER (PARTITION BY entity_registration_week)                                                       AS total_clients\n",
    "      FROM (SELECT entity_registration_week,\n",
    "                   date_diff,\n",
    "                   COUNT(party_rk_regist)          AS clients,\n",
    "                   COUNT(party_rk_session) AS sessions\n",
    "            FROM usr_wrk.first_session_after_registr\n",
    "            GROUP BY entity_registration_week,\n",
    "                     date_diff) t) tt\n",
    "WHERE date_diff IS NOT NULL\n",
    "\"\"\", gp_service = 'sme')\n",
    "\n",
    "df.head()"
   ]
  },
  {
   "cell_type": "code",
   "execution_count": 4,
   "metadata": {},
   "outputs": [
    {
     "data": {
      "application/vnd.plotly.v1+json": {
       "config": {
        "plotlyServerURL": "https://plot.ly"
       },
       "data": [
        {
         "hovertemplate": "entity_registration_week=2023-08-28 00:00:00+03:00<br>date_diff=%{x}<br>prop=%{y}<extra></extra>",
         "legendgroup": "2023-08-28 00:00:00+03:00",
         "line": {
          "color": "#636efa",
          "dash": "solid"
         },
         "marker": {
          "symbol": "circle"
         },
         "mode": "lines+markers",
         "name": "2023-08-28 00:00:00+03:00",
         "orientation": "v",
         "showlegend": true,
         "type": "scatter",
         "x": [
          0,
          1,
          2,
          3,
          4,
          5,
          6,
          7,
          8,
          9,
          10,
          11,
          12,
          13,
          14,
          15,
          16,
          17,
          18,
          19,
          20,
          21,
          22,
          23,
          24,
          25,
          26,
          27,
          28,
          29,
          30,
          31,
          32,
          33,
          34,
          35,
          36,
          37,
          38,
          39,
          40,
          41,
          42,
          44,
          45,
          46,
          47,
          48,
          49,
          50
         ],
         "xaxis": "x",
         "y": [
          29.11,
          35.22,
          38.63,
          41.72,
          44.42,
          46.58,
          48.42,
          50,
          50.85,
          51.05,
          51.91,
          52.43,
          52.96,
          53.61,
          53.94,
          54.07,
          54.27,
          54.8,
          54.99,
          55.06,
          55.65,
          55.85,
          55.91,
          56.11,
          56.31,
          56.5,
          56.7,
          56.77,
          57.1,
          57.16,
          57.56,
          57.75,
          58.08,
          58.15,
          58.28,
          58.34,
          58.41,
          58.74,
          58.87,
          59.07,
          59.2,
          59.26,
          59.46,
          59.72,
          59.86,
          59.92,
          60.05,
          60.71,
          61.1,
          61.37
         ],
         "yaxis": "y"
        },
        {
         "hovertemplate": "entity_registration_week=2023-09-04 00:00:00+03:00<br>date_diff=%{x}<br>prop=%{y}<extra></extra>",
         "legendgroup": "2023-09-04 00:00:00+03:00",
         "line": {
          "color": "#EF553B",
          "dash": "solid"
         },
         "marker": {
          "symbol": "circle"
         },
         "mode": "lines+markers",
         "name": "2023-09-04 00:00:00+03:00",
         "orientation": "v",
         "showlegend": true,
         "type": "scatter",
         "x": [
          0,
          1,
          2,
          3,
          4,
          5,
          6,
          7,
          8,
          9,
          10,
          11,
          12,
          13,
          14,
          15,
          16,
          17,
          18,
          19,
          20,
          21,
          22,
          23,
          24,
          25,
          26,
          27,
          28,
          29,
          30,
          31,
          32,
          33,
          34,
          35,
          36,
          37,
          38,
          39,
          40,
          41,
          42,
          43,
          44,
          45,
          46,
          47,
          48,
          49,
          50
         ],
         "xaxis": "x",
         "y": [
          27.76,
          35.96,
          39.85,
          42.77,
          44.92,
          46.49,
          47.87,
          49.16,
          50.2,
          51.05,
          51.7,
          52.32,
          52.86,
          53.55,
          53.97,
          54.37,
          54.75,
          55.25,
          55.58,
          55.98,
          56.29,
          56.71,
          57.07,
          57.35,
          57.6,
          57.83,
          58.06,
          58.27,
          58.47,
          58.69,
          58.94,
          59.1,
          59.24,
          59.54,
          59.65,
          59.78,
          59.94,
          60.08,
          60.2,
          60.38,
          60.54,
          60.8,
          61.19,
          61.49,
          61.86,
          62.15,
          62.28,
          62.46,
          62.6,
          62.78,
          62.91
         ],
         "yaxis": "y"
        },
        {
         "hovertemplate": "entity_registration_week=2023-09-11 00:00:00+03:00<br>date_diff=%{x}<br>prop=%{y}<extra></extra>",
         "legendgroup": "2023-09-11 00:00:00+03:00",
         "line": {
          "color": "#00cc96",
          "dash": "solid"
         },
         "marker": {
          "symbol": "circle"
         },
         "mode": "lines+markers",
         "name": "2023-09-11 00:00:00+03:00",
         "orientation": "v",
         "showlegend": true,
         "type": "scatter",
         "x": [
          0,
          1,
          2,
          3,
          4,
          5,
          6,
          7,
          8,
          9,
          10,
          11,
          12,
          13,
          14,
          15,
          16,
          17,
          18,
          19,
          20,
          21,
          22,
          23,
          24,
          25,
          26,
          27,
          28,
          29,
          30,
          31,
          32,
          33,
          34,
          35,
          36,
          37,
          38,
          39,
          40,
          41,
          42,
          43,
          44,
          45,
          46,
          47,
          48,
          49,
          50
         ],
         "xaxis": "x",
         "y": [
          28.08,
          36.48,
          41.11,
          43.88,
          45.98,
          47.61,
          48.95,
          50.18,
          51.22,
          52,
          52.54,
          53.21,
          53.69,
          54.27,
          54.79,
          55.24,
          55.59,
          55.98,
          56.44,
          56.98,
          57.26,
          57.47,
          57.72,
          58.09,
          58.55,
          58.75,
          59.05,
          59.26,
          59.44,
          59.72,
          59.9,
          60.13,
          60.34,
          60.53,
          60.82,
          61.13,
          61.52,
          61.7,
          61.96,
          62.19,
          62.36,
          62.53,
          62.69,
          62.81,
          62.98,
          63.1,
          63.25,
          63.35,
          63.53,
          63.64,
          63.78
         ],
         "yaxis": "y"
        },
        {
         "hovertemplate": "entity_registration_week=2023-09-18 00:00:00+03:00<br>date_diff=%{x}<br>prop=%{y}<extra></extra>",
         "legendgroup": "2023-09-18 00:00:00+03:00",
         "line": {
          "color": "#ab63fa",
          "dash": "solid"
         },
         "marker": {
          "symbol": "circle"
         },
         "mode": "lines+markers",
         "name": "2023-09-18 00:00:00+03:00",
         "orientation": "v",
         "showlegend": true,
         "type": "scatter",
         "x": [
          0,
          1,
          2,
          3,
          4,
          5,
          6,
          7,
          8,
          9,
          10,
          11,
          12,
          13,
          14,
          15,
          16,
          17,
          18,
          19,
          20,
          21,
          22,
          23,
          24,
          25,
          26,
          27,
          28,
          29,
          30,
          31,
          32,
          33,
          34,
          35,
          36,
          37,
          38,
          39,
          40,
          41,
          42,
          43,
          44,
          45,
          46,
          47,
          48,
          49,
          50
         ],
         "xaxis": "x",
         "y": [
          29.2,
          36.99,
          41.38,
          43.95,
          46.26,
          47.88,
          49.27,
          50.33,
          51.19,
          52.12,
          52.8,
          53.52,
          54.02,
          54.51,
          55.03,
          55.56,
          55.97,
          56.35,
          56.76,
          57.11,
          57.54,
          57.89,
          58.1,
          58.45,
          58.81,
          59.11,
          59.31,
          59.72,
          60.22,
          60.54,
          60.82,
          61.23,
          61.45,
          61.68,
          61.92,
          62.04,
          62.23,
          62.35,
          62.51,
          62.69,
          62.93,
          63.05,
          63.2,
          63.29,
          63.37,
          63.46,
          63.55,
          63.68,
          63.77,
          63.91,
          64.04
         ],
         "yaxis": "y"
        },
        {
         "hovertemplate": "entity_registration_week=2023-09-25 00:00:00+03:00<br>date_diff=%{x}<br>prop=%{y}<extra></extra>",
         "legendgroup": "2023-09-25 00:00:00+03:00",
         "line": {
          "color": "#FFA15A",
          "dash": "solid"
         },
         "marker": {
          "symbol": "circle"
         },
         "mode": "lines+markers",
         "name": "2023-09-25 00:00:00+03:00",
         "orientation": "v",
         "showlegend": true,
         "type": "scatter",
         "x": [
          0,
          1,
          2,
          3,
          4,
          5,
          6,
          7,
          8,
          9,
          10,
          11,
          12,
          13,
          14,
          15,
          16,
          17,
          18,
          19,
          20,
          21,
          22,
          23,
          24,
          25,
          26,
          27,
          28,
          29,
          30,
          31,
          32,
          33,
          34,
          35,
          36,
          37,
          38,
          39,
          40,
          41,
          42,
          43,
          44,
          45,
          46,
          47,
          48,
          49,
          50
         ],
         "xaxis": "x",
         "y": [
          28.94,
          37.01,
          40.79,
          43.97,
          46.01,
          47.7,
          49.14,
          50.42,
          51.22,
          52.12,
          52.77,
          53.59,
          54.38,
          54.89,
          55.45,
          56.04,
          56.6,
          57.01,
          57.38,
          57.77,
          58.28,
          58.8,
          59.25,
          59.72,
          60.04,
          60.22,
          60.48,
          60.76,
          61.02,
          61.28,
          61.53,
          61.67,
          61.84,
          62.04,
          62.22,
          62.42,
          62.56,
          62.72,
          62.86,
          62.97,
          63.1,
          63.28,
          63.42,
          63.5,
          63.66,
          63.83,
          63.95,
          64.06,
          64.15,
          64.31,
          64.43
         ],
         "yaxis": "y"
        },
        {
         "hovertemplate": "entity_registration_week=2023-10-02 00:00:00+03:00<br>date_diff=%{x}<br>prop=%{y}<extra></extra>",
         "legendgroup": "2023-10-02 00:00:00+03:00",
         "line": {
          "color": "#19d3f3",
          "dash": "solid"
         },
         "marker": {
          "symbol": "circle"
         },
         "mode": "lines+markers",
         "name": "2023-10-02 00:00:00+03:00",
         "orientation": "v",
         "showlegend": true,
         "type": "scatter",
         "x": [
          0,
          1,
          2,
          3,
          4,
          5,
          6,
          7,
          8,
          9,
          10,
          11,
          12,
          13,
          14,
          15,
          16,
          17,
          18,
          19,
          20,
          21,
          22,
          23,
          24,
          25,
          26,
          27,
          28,
          29,
          30,
          31,
          32,
          33,
          34,
          35,
          36,
          37,
          38,
          39,
          40,
          41,
          42,
          43,
          44,
          45,
          46,
          47,
          48,
          49,
          50
         ],
         "xaxis": "x",
         "y": [
          28.39,
          37.42,
          41.67,
          44.37,
          46.33,
          48.12,
          49.59,
          50.9,
          51.92,
          52.73,
          53.49,
          54.17,
          54.62,
          55.3,
          56.01,
          56.73,
          57.31,
          57.87,
          58.22,
          58.61,
          58.89,
          59.26,
          59.66,
          59.9,
          60.07,
          60.36,
          60.61,
          60.77,
          61,
          61.14,
          61.35,
          61.63,
          61.86,
          62.03,
          62.28,
          62.55,
          62.71,
          62.83,
          62.96,
          63.07,
          63.2,
          63.34,
          63.43,
          63.57,
          63.69,
          63.81,
          63.9,
          64,
          64.08,
          64.16,
          64.24
         ],
         "yaxis": "y"
        },
        {
         "hovertemplate": "entity_registration_week=2023-10-09 00:00:00+03:00<br>date_diff=%{x}<br>prop=%{y}<extra></extra>",
         "legendgroup": "2023-10-09 00:00:00+03:00",
         "line": {
          "color": "#FF6692",
          "dash": "solid"
         },
         "marker": {
          "symbol": "circle"
         },
         "mode": "lines+markers",
         "name": "2023-10-09 00:00:00+03:00",
         "orientation": "v",
         "showlegend": true,
         "type": "scatter",
         "x": [
          0,
          1,
          2,
          3,
          4,
          5,
          6,
          7,
          8,
          9,
          10,
          11,
          12,
          13,
          14,
          15,
          16,
          17,
          18,
          19,
          20,
          21,
          22,
          23,
          24,
          25,
          26,
          27,
          28,
          29,
          30,
          31,
          32,
          33,
          34,
          35,
          36,
          37,
          38,
          39,
          40,
          41,
          42,
          43,
          44,
          45,
          46,
          47,
          48,
          49,
          50
         ],
         "xaxis": "x",
         "y": [
          29.63,
          37.92,
          42.53,
          45.22,
          47.32,
          48.67,
          50.22,
          51.77,
          52.79,
          53.65,
          54.58,
          55.12,
          55.63,
          56.23,
          56.69,
          57.24,
          57.57,
          58.04,
          58.44,
          58.72,
          59.06,
          59.56,
          59.77,
          60.06,
          60.2,
          60.49,
          60.74,
          61.08,
          61.29,
          61.45,
          61.61,
          61.72,
          61.94,
          62.09,
          62.23,
          62.36,
          62.57,
          62.68,
          62.82,
          62.88,
          62.96,
          63.08,
          63.24,
          63.3,
          63.4,
          63.54,
          63.65,
          63.72,
          63.83,
          63.98,
          64.07
         ],
         "yaxis": "y"
        },
        {
         "hovertemplate": "entity_registration_week=2023-10-16 00:00:00+03:00<br>date_diff=%{x}<br>prop=%{y}<extra></extra>",
         "legendgroup": "2023-10-16 00:00:00+03:00",
         "line": {
          "color": "#B6E880",
          "dash": "solid"
         },
         "marker": {
          "symbol": "circle"
         },
         "mode": "lines+markers",
         "name": "2023-10-16 00:00:00+03:00",
         "orientation": "v",
         "showlegend": true,
         "type": "scatter",
         "x": [
          0,
          1,
          2,
          3,
          4,
          5,
          6,
          7,
          8,
          9,
          10,
          11,
          12,
          13,
          14,
          15,
          16,
          17,
          18,
          19,
          20,
          21,
          22,
          23,
          24,
          25,
          26,
          27,
          28,
          29,
          30,
          31,
          32,
          33,
          34,
          35,
          36,
          37,
          38,
          39,
          40,
          41,
          42,
          43,
          44,
          45,
          46,
          47,
          48,
          49,
          50
         ],
         "xaxis": "x",
         "y": [
          30.47,
          38.3,
          42.66,
          45.69,
          47.73,
          49.34,
          50.66,
          51.61,
          52.68,
          53.53,
          54.12,
          54.79,
          55.37,
          55.83,
          56.28,
          56.81,
          57.37,
          57.63,
          58.03,
          58.48,
          58.73,
          59.05,
          59.29,
          59.56,
          59.73,
          59.99,
          60.28,
          60.54,
          60.72,
          60.93,
          61.17,
          61.33,
          61.51,
          61.58,
          61.73,
          61.91,
          62.08,
          62.23,
          62.39,
          62.55,
          62.65,
          62.82,
          62.89,
          63,
          63.08,
          63.24,
          63.32,
          63.45,
          63.52,
          63.57,
          63.6
         ],
         "yaxis": "y"
        },
        {
         "hovertemplate": "entity_registration_week=2023-10-23 00:00:00+03:00<br>date_diff=%{x}<br>prop=%{y}<extra></extra>",
         "legendgroup": "2023-10-23 00:00:00+03:00",
         "line": {
          "color": "#FF97FF",
          "dash": "solid"
         },
         "marker": {
          "symbol": "circle"
         },
         "mode": "lines+markers",
         "name": "2023-10-23 00:00:00+03:00",
         "orientation": "v",
         "showlegend": true,
         "type": "scatter",
         "x": [
          0,
          1,
          2,
          3,
          4,
          5,
          6,
          7,
          8,
          9,
          10,
          11,
          12,
          13,
          14,
          15,
          16,
          17,
          18,
          19,
          20,
          21,
          22,
          23,
          24,
          25,
          26,
          27,
          28,
          29,
          30,
          31,
          32,
          33,
          34,
          35,
          36,
          37,
          38,
          39,
          40,
          41,
          42,
          43
         ],
         "xaxis": "x",
         "y": [
          29.88,
          38.33,
          42.76,
          45.58,
          47.6,
          49.35,
          50.64,
          52.06,
          53.15,
          54.11,
          54.89,
          55.56,
          56.17,
          56.69,
          57.24,
          57.68,
          58.04,
          58.42,
          58.75,
          59.04,
          59.29,
          59.65,
          59.98,
          60.3,
          60.49,
          60.72,
          60.98,
          61.09,
          61.26,
          61.5,
          61.71,
          61.9,
          62.1,
          62.33,
          62.45,
          62.66,
          62.82,
          62.98,
          63.11,
          63.23,
          63.33,
          63.4,
          63.44,
          63.45
         ],
         "yaxis": "y"
        },
        {
         "hovertemplate": "entity_registration_week=2023-10-30 00:00:00+03:00<br>date_diff=%{x}<br>prop=%{y}<extra></extra>",
         "legendgroup": "2023-10-30 00:00:00+03:00",
         "line": {
          "color": "#FECB52",
          "dash": "solid"
         },
         "marker": {
          "symbol": "circle"
         },
         "mode": "lines+markers",
         "name": "2023-10-30 00:00:00+03:00",
         "orientation": "v",
         "showlegend": true,
         "type": "scatter",
         "x": [
          0,
          1,
          2,
          3,
          4,
          5,
          6,
          7,
          8,
          9,
          10,
          11,
          12,
          13,
          14,
          15,
          16,
          17,
          18,
          19,
          20,
          21,
          22,
          23,
          24,
          25,
          26,
          27,
          28,
          29,
          30,
          31,
          32,
          33,
          34,
          35,
          36
         ],
         "xaxis": "x",
         "y": [
          30.43,
          38.59,
          42.73,
          45.42,
          47.24,
          49.02,
          50.51,
          51.59,
          52.56,
          53.31,
          54.18,
          54.87,
          55.59,
          56.14,
          56.66,
          57.15,
          57.63,
          57.96,
          58.15,
          58.56,
          58.87,
          59.11,
          59.38,
          59.69,
          60.05,
          60.37,
          60.57,
          60.82,
          61.08,
          61.3,
          61.43,
          61.61,
          61.79,
          61.92,
          62.03,
          62.07,
          62.08
         ],
         "yaxis": "y"
        },
        {
         "hovertemplate": "entity_registration_week=2023-11-06 00:00:00+03:00<br>date_diff=%{x}<br>prop=%{y}<extra></extra>",
         "legendgroup": "2023-11-06 00:00:00+03:00",
         "line": {
          "color": "#636efa",
          "dash": "solid"
         },
         "marker": {
          "symbol": "circle"
         },
         "mode": "lines+markers",
         "name": "2023-11-06 00:00:00+03:00",
         "orientation": "v",
         "showlegend": true,
         "type": "scatter",
         "x": [
          0,
          1,
          2,
          3,
          4,
          5,
          6,
          7,
          8,
          9,
          10,
          11,
          12,
          13,
          14,
          15,
          16,
          17,
          18,
          19,
          20,
          21,
          22,
          23,
          24,
          25,
          26,
          27,
          28
         ],
         "xaxis": "x",
         "y": [
          29.74,
          39.49,
          44.28,
          47.82,
          49.56,
          50.87,
          52.56,
          53.81,
          54.96,
          55.94,
          56.43,
          57.03,
          57.46,
          57.84,
          58.28,
          58.88,
          59.42,
          59.75,
          59.86,
          60.02,
          60.24,
          60.51,
          60.89,
          61.33,
          61.6,
          61.87,
          62.09,
          62.36,
          62.58
         ],
         "yaxis": "y"
        }
       ],
       "layout": {
        "height": 800,
        "legend": {
         "title": {
          "text": "entity_registration_week"
         },
         "tracegroupgap": 0
        },
        "margin": {
         "t": 60
        },
        "template": {
         "data": {
          "bar": [
           {
            "error_x": {
             "color": "#2a3f5f"
            },
            "error_y": {
             "color": "#2a3f5f"
            },
            "marker": {
             "line": {
              "color": "#E5ECF6",
              "width": 0.5
             },
             "pattern": {
              "fillmode": "overlay",
              "size": 10,
              "solidity": 0.2
             }
            },
            "type": "bar"
           }
          ],
          "barpolar": [
           {
            "marker": {
             "line": {
              "color": "#E5ECF6",
              "width": 0.5
             },
             "pattern": {
              "fillmode": "overlay",
              "size": 10,
              "solidity": 0.2
             }
            },
            "type": "barpolar"
           }
          ],
          "carpet": [
           {
            "aaxis": {
             "endlinecolor": "#2a3f5f",
             "gridcolor": "white",
             "linecolor": "white",
             "minorgridcolor": "white",
             "startlinecolor": "#2a3f5f"
            },
            "baxis": {
             "endlinecolor": "#2a3f5f",
             "gridcolor": "white",
             "linecolor": "white",
             "minorgridcolor": "white",
             "startlinecolor": "#2a3f5f"
            },
            "type": "carpet"
           }
          ],
          "choropleth": [
           {
            "colorbar": {
             "outlinewidth": 0,
             "ticks": ""
            },
            "type": "choropleth"
           }
          ],
          "contour": [
           {
            "colorbar": {
             "outlinewidth": 0,
             "ticks": ""
            },
            "colorscale": [
             [
              0,
              "#0d0887"
             ],
             [
              0.1111111111111111,
              "#46039f"
             ],
             [
              0.2222222222222222,
              "#7201a8"
             ],
             [
              0.3333333333333333,
              "#9c179e"
             ],
             [
              0.4444444444444444,
              "#bd3786"
             ],
             [
              0.5555555555555556,
              "#d8576b"
             ],
             [
              0.6666666666666666,
              "#ed7953"
             ],
             [
              0.7777777777777778,
              "#fb9f3a"
             ],
             [
              0.8888888888888888,
              "#fdca26"
             ],
             [
              1,
              "#f0f921"
             ]
            ],
            "type": "contour"
           }
          ],
          "contourcarpet": [
           {
            "colorbar": {
             "outlinewidth": 0,
             "ticks": ""
            },
            "type": "contourcarpet"
           }
          ],
          "heatmap": [
           {
            "colorbar": {
             "outlinewidth": 0,
             "ticks": ""
            },
            "colorscale": [
             [
              0,
              "#0d0887"
             ],
             [
              0.1111111111111111,
              "#46039f"
             ],
             [
              0.2222222222222222,
              "#7201a8"
             ],
             [
              0.3333333333333333,
              "#9c179e"
             ],
             [
              0.4444444444444444,
              "#bd3786"
             ],
             [
              0.5555555555555556,
              "#d8576b"
             ],
             [
              0.6666666666666666,
              "#ed7953"
             ],
             [
              0.7777777777777778,
              "#fb9f3a"
             ],
             [
              0.8888888888888888,
              "#fdca26"
             ],
             [
              1,
              "#f0f921"
             ]
            ],
            "type": "heatmap"
           }
          ],
          "heatmapgl": [
           {
            "colorbar": {
             "outlinewidth": 0,
             "ticks": ""
            },
            "colorscale": [
             [
              0,
              "#0d0887"
             ],
             [
              0.1111111111111111,
              "#46039f"
             ],
             [
              0.2222222222222222,
              "#7201a8"
             ],
             [
              0.3333333333333333,
              "#9c179e"
             ],
             [
              0.4444444444444444,
              "#bd3786"
             ],
             [
              0.5555555555555556,
              "#d8576b"
             ],
             [
              0.6666666666666666,
              "#ed7953"
             ],
             [
              0.7777777777777778,
              "#fb9f3a"
             ],
             [
              0.8888888888888888,
              "#fdca26"
             ],
             [
              1,
              "#f0f921"
             ]
            ],
            "type": "heatmapgl"
           }
          ],
          "histogram": [
           {
            "marker": {
             "pattern": {
              "fillmode": "overlay",
              "size": 10,
              "solidity": 0.2
             }
            },
            "type": "histogram"
           }
          ],
          "histogram2d": [
           {
            "colorbar": {
             "outlinewidth": 0,
             "ticks": ""
            },
            "colorscale": [
             [
              0,
              "#0d0887"
             ],
             [
              0.1111111111111111,
              "#46039f"
             ],
             [
              0.2222222222222222,
              "#7201a8"
             ],
             [
              0.3333333333333333,
              "#9c179e"
             ],
             [
              0.4444444444444444,
              "#bd3786"
             ],
             [
              0.5555555555555556,
              "#d8576b"
             ],
             [
              0.6666666666666666,
              "#ed7953"
             ],
             [
              0.7777777777777778,
              "#fb9f3a"
             ],
             [
              0.8888888888888888,
              "#fdca26"
             ],
             [
              1,
              "#f0f921"
             ]
            ],
            "type": "histogram2d"
           }
          ],
          "histogram2dcontour": [
           {
            "colorbar": {
             "outlinewidth": 0,
             "ticks": ""
            },
            "colorscale": [
             [
              0,
              "#0d0887"
             ],
             [
              0.1111111111111111,
              "#46039f"
             ],
             [
              0.2222222222222222,
              "#7201a8"
             ],
             [
              0.3333333333333333,
              "#9c179e"
             ],
             [
              0.4444444444444444,
              "#bd3786"
             ],
             [
              0.5555555555555556,
              "#d8576b"
             ],
             [
              0.6666666666666666,
              "#ed7953"
             ],
             [
              0.7777777777777778,
              "#fb9f3a"
             ],
             [
              0.8888888888888888,
              "#fdca26"
             ],
             [
              1,
              "#f0f921"
             ]
            ],
            "type": "histogram2dcontour"
           }
          ],
          "mesh3d": [
           {
            "colorbar": {
             "outlinewidth": 0,
             "ticks": ""
            },
            "type": "mesh3d"
           }
          ],
          "parcoords": [
           {
            "line": {
             "colorbar": {
              "outlinewidth": 0,
              "ticks": ""
             }
            },
            "type": "parcoords"
           }
          ],
          "pie": [
           {
            "automargin": true,
            "type": "pie"
           }
          ],
          "scatter": [
           {
            "fillpattern": {
             "fillmode": "overlay",
             "size": 10,
             "solidity": 0.2
            },
            "type": "scatter"
           }
          ],
          "scatter3d": [
           {
            "line": {
             "colorbar": {
              "outlinewidth": 0,
              "ticks": ""
             }
            },
            "marker": {
             "colorbar": {
              "outlinewidth": 0,
              "ticks": ""
             }
            },
            "type": "scatter3d"
           }
          ],
          "scattercarpet": [
           {
            "marker": {
             "colorbar": {
              "outlinewidth": 0,
              "ticks": ""
             }
            },
            "type": "scattercarpet"
           }
          ],
          "scattergeo": [
           {
            "marker": {
             "colorbar": {
              "outlinewidth": 0,
              "ticks": ""
             }
            },
            "type": "scattergeo"
           }
          ],
          "scattergl": [
           {
            "marker": {
             "colorbar": {
              "outlinewidth": 0,
              "ticks": ""
             }
            },
            "type": "scattergl"
           }
          ],
          "scattermapbox": [
           {
            "marker": {
             "colorbar": {
              "outlinewidth": 0,
              "ticks": ""
             }
            },
            "type": "scattermapbox"
           }
          ],
          "scatterpolar": [
           {
            "marker": {
             "colorbar": {
              "outlinewidth": 0,
              "ticks": ""
             }
            },
            "type": "scatterpolar"
           }
          ],
          "scatterpolargl": [
           {
            "marker": {
             "colorbar": {
              "outlinewidth": 0,
              "ticks": ""
             }
            },
            "type": "scatterpolargl"
           }
          ],
          "scatterternary": [
           {
            "marker": {
             "colorbar": {
              "outlinewidth": 0,
              "ticks": ""
             }
            },
            "type": "scatterternary"
           }
          ],
          "surface": [
           {
            "colorbar": {
             "outlinewidth": 0,
             "ticks": ""
            },
            "colorscale": [
             [
              0,
              "#0d0887"
             ],
             [
              0.1111111111111111,
              "#46039f"
             ],
             [
              0.2222222222222222,
              "#7201a8"
             ],
             [
              0.3333333333333333,
              "#9c179e"
             ],
             [
              0.4444444444444444,
              "#bd3786"
             ],
             [
              0.5555555555555556,
              "#d8576b"
             ],
             [
              0.6666666666666666,
              "#ed7953"
             ],
             [
              0.7777777777777778,
              "#fb9f3a"
             ],
             [
              0.8888888888888888,
              "#fdca26"
             ],
             [
              1,
              "#f0f921"
             ]
            ],
            "type": "surface"
           }
          ],
          "table": [
           {
            "cells": {
             "fill": {
              "color": "#EBF0F8"
             },
             "line": {
              "color": "white"
             }
            },
            "header": {
             "fill": {
              "color": "#C8D4E3"
             },
             "line": {
              "color": "white"
             }
            },
            "type": "table"
           }
          ]
         },
         "layout": {
          "annotationdefaults": {
           "arrowcolor": "#2a3f5f",
           "arrowhead": 0,
           "arrowwidth": 1
          },
          "autotypenumbers": "strict",
          "coloraxis": {
           "colorbar": {
            "outlinewidth": 0,
            "ticks": ""
           }
          },
          "colorscale": {
           "diverging": [
            [
             0,
             "#8e0152"
            ],
            [
             0.1,
             "#c51b7d"
            ],
            [
             0.2,
             "#de77ae"
            ],
            [
             0.3,
             "#f1b6da"
            ],
            [
             0.4,
             "#fde0ef"
            ],
            [
             0.5,
             "#f7f7f7"
            ],
            [
             0.6,
             "#e6f5d0"
            ],
            [
             0.7,
             "#b8e186"
            ],
            [
             0.8,
             "#7fbc41"
            ],
            [
             0.9,
             "#4d9221"
            ],
            [
             1,
             "#276419"
            ]
           ],
           "sequential": [
            [
             0,
             "#0d0887"
            ],
            [
             0.1111111111111111,
             "#46039f"
            ],
            [
             0.2222222222222222,
             "#7201a8"
            ],
            [
             0.3333333333333333,
             "#9c179e"
            ],
            [
             0.4444444444444444,
             "#bd3786"
            ],
            [
             0.5555555555555556,
             "#d8576b"
            ],
            [
             0.6666666666666666,
             "#ed7953"
            ],
            [
             0.7777777777777778,
             "#fb9f3a"
            ],
            [
             0.8888888888888888,
             "#fdca26"
            ],
            [
             1,
             "#f0f921"
            ]
           ],
           "sequentialminus": [
            [
             0,
             "#0d0887"
            ],
            [
             0.1111111111111111,
             "#46039f"
            ],
            [
             0.2222222222222222,
             "#7201a8"
            ],
            [
             0.3333333333333333,
             "#9c179e"
            ],
            [
             0.4444444444444444,
             "#bd3786"
            ],
            [
             0.5555555555555556,
             "#d8576b"
            ],
            [
             0.6666666666666666,
             "#ed7953"
            ],
            [
             0.7777777777777778,
             "#fb9f3a"
            ],
            [
             0.8888888888888888,
             "#fdca26"
            ],
            [
             1,
             "#f0f921"
            ]
           ]
          },
          "colorway": [
           "#636efa",
           "#EF553B",
           "#00cc96",
           "#ab63fa",
           "#FFA15A",
           "#19d3f3",
           "#FF6692",
           "#B6E880",
           "#FF97FF",
           "#FECB52"
          ],
          "font": {
           "color": "#2a3f5f"
          },
          "geo": {
           "bgcolor": "white",
           "lakecolor": "white",
           "landcolor": "#E5ECF6",
           "showlakes": true,
           "showland": true,
           "subunitcolor": "white"
          },
          "hoverlabel": {
           "align": "left"
          },
          "hovermode": "closest",
          "mapbox": {
           "style": "light"
          },
          "paper_bgcolor": "white",
          "plot_bgcolor": "#E5ECF6",
          "polar": {
           "angularaxis": {
            "gridcolor": "white",
            "linecolor": "white",
            "ticks": ""
           },
           "bgcolor": "#E5ECF6",
           "radialaxis": {
            "gridcolor": "white",
            "linecolor": "white",
            "ticks": ""
           }
          },
          "scene": {
           "xaxis": {
            "backgroundcolor": "#E5ECF6",
            "gridcolor": "white",
            "gridwidth": 2,
            "linecolor": "white",
            "showbackground": true,
            "ticks": "",
            "zerolinecolor": "white"
           },
           "yaxis": {
            "backgroundcolor": "#E5ECF6",
            "gridcolor": "white",
            "gridwidth": 2,
            "linecolor": "white",
            "showbackground": true,
            "ticks": "",
            "zerolinecolor": "white"
           },
           "zaxis": {
            "backgroundcolor": "#E5ECF6",
            "gridcolor": "white",
            "gridwidth": 2,
            "linecolor": "white",
            "showbackground": true,
            "ticks": "",
            "zerolinecolor": "white"
           }
          },
          "shapedefaults": {
           "line": {
            "color": "#2a3f5f"
           }
          },
          "ternary": {
           "aaxis": {
            "gridcolor": "white",
            "linecolor": "white",
            "ticks": ""
           },
           "baxis": {
            "gridcolor": "white",
            "linecolor": "white",
            "ticks": ""
           },
           "bgcolor": "#E5ECF6",
           "caxis": {
            "gridcolor": "white",
            "linecolor": "white",
            "ticks": ""
           }
          },
          "title": {
           "x": 0.05
          },
          "xaxis": {
           "automargin": true,
           "gridcolor": "white",
           "linecolor": "white",
           "ticks": "",
           "title": {
            "standoff": 15
           },
           "zerolinecolor": "white",
           "zerolinewidth": 2
          },
          "yaxis": {
           "automargin": true,
           "gridcolor": "white",
           "linecolor": "white",
           "ticks": "",
           "title": {
            "standoff": 15
           },
           "zerolinecolor": "white",
           "zerolinewidth": 2
          }
         }
        },
        "width": 1800,
        "xaxis": {
         "anchor": "y",
         "domain": [
          0,
          1
         ],
         "title": {
          "text": "date_diff"
         }
        },
        "yaxis": {
         "anchor": "x",
         "domain": [
          0,
          1
         ],
         "title": {
          "text": "prop"
         }
        }
       }
      }
     },
     "metadata": {},
     "output_type": "display_data"
    }
   ],
   "source": [
    "fig_vintage = px.line(df.groupby(['entity_registration_week', 'date_diff'], as_index=False)['prop'].agg('max').query(\"date_diff <= 50\"), x='date_diff', y='prop', \n",
    "                      markers=True, \n",
    "                      width=1800, \n",
    "                      height=800,\n",
    "                      color='entity_registration_week')\n",
    "\n",
    "\n",
    "fig_vintage.show()"
   ]
  }
 ],
 "metadata": {
  "kernelspec": {
   "display_name": "Python 3",
   "language": "python",
   "name": "python3"
  },
  "language_info": {
   "codemirror_mode": {
    "name": "ipython",
    "version": 3
   },
   "file_extension": ".py",
   "mimetype": "text/x-python",
   "name": "python",
   "nbconvert_exporter": "python",
   "pygments_lexer": "ipython3",
   "version": "3.9.6"
  }
 },
 "nbformat": 4,
 "nbformat_minor": 2
}
