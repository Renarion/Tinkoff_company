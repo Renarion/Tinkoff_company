{
 "cells": [
  {
   "cell_type": "code",
   "execution_count": 1,
   "id": "cd933838",
   "metadata": {
    "tags": []
   },
   "outputs": [
    {
     "name": "stderr",
     "output_type": "stream",
     "text": [
      "/Users/r.yunisov/Library/Python/3.9/lib/python/site-packages/urllib3/__init__.py:34: NotOpenSSLWarning: urllib3 v2.0 only supports OpenSSL 1.1.1+, currently the 'ssl' module is compiled with 'LibreSSL 2.8.3'. See: https://github.com/urllib3/urllib3/issues/3020\n",
      "  warnings.warn(\n",
      "/Users/r.yunisov/Library/Python/3.9/lib/python/site-packages/umap/distances.py:1063: NumbaDeprecationWarning: The 'nopython' keyword argument was not supplied to the 'numba.jit' decorator. The implicit default value for this argument is currently False, but it will be changed to True in Numba 0.59.0. See https://numba.readthedocs.io/en/stable/reference/deprecation.html#deprecation-of-object-mode-fall-back-behaviour-when-using-jit for details.\n",
      "  @numba.jit()\n",
      "/Users/r.yunisov/Library/Python/3.9/lib/python/site-packages/umap/distances.py:1071: NumbaDeprecationWarning: The 'nopython' keyword argument was not supplied to the 'numba.jit' decorator. The implicit default value for this argument is currently False, but it will be changed to True in Numba 0.59.0. See https://numba.readthedocs.io/en/stable/reference/deprecation.html#deprecation-of-object-mode-fall-back-behaviour-when-using-jit for details.\n",
      "  @numba.jit()\n",
      "/Users/r.yunisov/Library/Python/3.9/lib/python/site-packages/umap/distances.py:1086: NumbaDeprecationWarning: The 'nopython' keyword argument was not supplied to the 'numba.jit' decorator. The implicit default value for this argument is currently False, but it will be changed to True in Numba 0.59.0. See https://numba.readthedocs.io/en/stable/reference/deprecation.html#deprecation-of-object-mode-fall-back-behaviour-when-using-jit for details.\n",
      "  @numba.jit()\n",
      "/Users/r.yunisov/Library/Python/3.9/lib/python/site-packages/umap/umap_.py:660: NumbaDeprecationWarning: The 'nopython' keyword argument was not supplied to the 'numba.jit' decorator. The implicit default value for this argument is currently False, but it will be changed to True in Numba 0.59.0. See https://numba.readthedocs.io/en/stable/reference/deprecation.html#deprecation-of-object-mode-fall-back-behaviour-when-using-jit for details.\n",
      "  @numba.jit()\n"
     ]
    }
   ],
   "source": [
    "import pandas as pd\n",
    "import seaborn as sns\n",
    "import matplotlib.pyplot as plt\n",
    "%matplotlib inline\n",
    "import scipy.stats\n",
    "from tqdm import tqdm\n",
    "\n",
    "import tinkoffpy as tf\n",
    "\n",
    "from datetime import datetime, timedelta, date\n",
    "import datetime\n",
    "import retentioneering\n",
    "\n",
    "import plotly.io as pio\n",
    "import plotly.express as px\n",
    "import plotly.graph_objects as go\n",
    "\n",
    "# pio.templates.default = \"plotly_dark\""
   ]
  },
  {
   "attachments": {},
   "cell_type": "markdown",
   "id": "fdff2708",
   "metadata": {},
   "source": [
    "------\n",
    "# Step - 2.\n",
    "------"
   ]
  },
  {
   "cell_type": "code",
   "execution_count": 2,
   "id": "2b8f8009",
   "metadata": {
    "tags": []
   },
   "outputs": [
    {
     "name": "stdout",
     "output_type": "stream",
     "text": [
      "2023-06-27 10:54:50 - INFO - Query executed successfully. Result saved to DataFrame.\n"
     ]
    }
   ],
   "source": [
    "df_1 = tf.gp_to_df(\"\"\"\n",
    "WITH cte AS (select *,\n",
    "                    case\n",
    "                        when date_diff is null AND valid_to_dt != '5999-01-01' then 'left'\n",
    "                        when date_diff >= 30 AND date_diff <= 90 then 're_active'\n",
    "                        WHEN date_diff < 30 OR valid_to_dt = '5999-01-01' then 'current'\n",
    "                        else 'others'\n",
    "                        end                                                                start_status,\n",
    "                    ROW_NUMBER() OVER (PARTITION BY gender_cd ORDER BY gender_cd)       AS row_number_by_gender,\n",
    "                    ROW_NUMBER() OVER (PARTITION BY lvn_state_nm ORDER BY lvn_state_nm) AS row_number_by_region\n",
    "             FROM (SELECT *,\n",
    "                          ABS((valid_to_dt - future_end::DATE)) AS date_diff\n",
    "                   FROM (select *,\n",
    "                                lead(valid_from_dt)\n",
    "                                over (partition by party_rk, financial_account_subtype_cd order by valid_to_dt) as future_end\n",
    "                         from (SELECT party_rk,\n",
    "                                      financial_account_subtype_cd,\n",
    "                                      active_flg,\n",
    "                                      valid_from_dt,\n",
    "                                      valid_to_dt,\n",
    "                                      first_date_by_product_client,\n",
    "                                      (CURRENT_DATE - first_active_date)       AS days_after_first_activation,\n",
    "                                      (CURRENT_DATE - first_active_date) / 365 AS years_after_first_activation,\n",
    "                                      age,\n",
    "                                      gender_cd,\n",
    "                                      children_cnt,\n",
    "                                      non_resident_flg,\n",
    "                                      last_mb_session_dttm,\n",
    "                                      last_ib_session_dttm,\n",
    "                                      last_session_dttm,\n",
    "                                      last_used_product_cd,\n",
    "                                      monthly_income_amt,\n",
    "                                      lvn_state_nm\n",
    "                               FROM (SELECT a.party_rk,\n",
    "                                            financial_account_subtype_cd,\n",
    "                                            active_flg,\n",
    "                                            valid_from_dt,\n",
    "                                            valid_to_dt,\n",
    "                                            MIN(valid_from_dt)\n",
    "                                            OVER (PARTITION BY a.party_rk, financial_account_subtype_cd) AS first_date_by_product_client,\n",
    "                                            MIN(valid_from_dt) OVER (PARTITION BY a.party_rk)            AS first_active_date,\n",
    "                                            age,\n",
    "                                            gender_cd,\n",
    "                                            children_cnt,\n",
    "                                            non_resident_flg,\n",
    "                                            last_mb_session_dttm,\n",
    "                                            last_ib_session_dttm,\n",
    "                                            last_session_dttm,\n",
    "                                            last_used_product_cd,\n",
    "                                            monthly_income_amt,\n",
    "                                            lvn_state_nm\n",
    "                                     FROM prod_v_EMART.CLIENT_ACTIVE_STATUS a\n",
    "                                              LEFT JOIN prod_v_emart.person_party b\n",
    "                                                        ON a.party_rk = b.party_rk) full_table\n",
    "                               WHERE active_flg != 0) as t) as tt) ttt),\n",
    "     cte2 AS (SELECT party_rk,\n",
    "                     financial_account_subtype_cd,\n",
    "                     LEAD(financial_account_subtype_cd)\n",
    "                     OVER (PARTITION BY party_rk ORDER BY valid_from_dt,valid_to_dt)                                          AS next_product,\n",
    "                     financial_account_subtype_cd || ' - ' || LEAD(financial_account_subtype_cd)\n",
    "                                                              OVER (PARTITION BY party_rk ORDER BY valid_from_dt,valid_to_dt) AS product_concat,\n",
    "                     active_flg,\n",
    "                     valid_from_dt,\n",
    "                     valid_to_dt,\n",
    "                     first_date_by_product_client,\n",
    "                     next_dttm::DATE,\n",
    "                     start_status,\n",
    "                     age,\n",
    "                     gender_cd,\n",
    "                     children_cnt,\n",
    "                     lvn_state_nm,\n",
    "                     monthly_income_amt,\n",
    "                     non_resident_flg,\n",
    "                     date_diff,\n",
    "                     days_after_first_activation,\n",
    "                     years_after_first_activation\n",
    "              FROM (SELECT party_rk,\n",
    "                           financial_account_subtype_cd,\n",
    "                           active_flg,\n",
    "                           valid_from_dt,\n",
    "                           valid_to_dt,\n",
    "                           LEAD(valid_from_dt)\n",
    "                           OVER (PARTITION BY party_rk ORDER BY valid_from_dt, valid_to_dt) AS next_dttm,\n",
    "                           first_date_by_product_client,\n",
    "                           age,\n",
    "                           children_cnt,\n",
    "                           date_diff,\n",
    "                           days_after_first_activation,\n",
    "                           start_status,\n",
    "                           gender_cd,\n",
    "                           lvn_state_nm,\n",
    "                           monthly_income_amt,\n",
    "                           non_resident_flg,\n",
    "                           years_after_first_activation\n",
    "                    FROM cte) a\n",
    "              WHERE valid_from_dt != next_dttm)\n",
    "SELECT *,\n",
    "       (CURRENT_DATE - first_date_by_product_client) AS days_after_first_activation_by_product,\n",
    "       (CURRENT_DATE - first_date_by_product_client) / 365 AS years_after_first_activation_by_product,\n",
    "       CASE \n",
    "           WHEN (CURRENT_DATE - first_date_by_product_client) / 365 BETWEEN 0 AND 1 THEN '0-1'\n",
    "           WHEN (CURRENT_DATE - first_date_by_product_client) / 365 BETWEEN 2 AND 4 THEN '2-4'\n",
    "           WHEN (CURRENT_DATE - first_date_by_product_client) / 365 BETWEEN 5 AND 7 THEN '5-7'\n",
    "           WHEN (CURRENT_DATE - first_date_by_product_client) / 365 >= 8 THEN '8 and over'\n",
    "        END years_after_first_activation_by_product_groups, \n",
    "       (valid_to_dt - valid_from_dt)                                                     AS diff_active_status_days,\n",
    "       CASE\n",
    "           WHEN (valid_to_dt - valid_from_dt) BETWEEN 0 AND 30 THEN '0-30'\n",
    "           WHEN (valid_to_dt - valid_from_dt) BETWEEN 31 AND 60 THEN '31-60'\n",
    "           WHEN (valid_to_dt - valid_from_dt) BETWEEN 61 AND 90 THEN '61-90'\n",
    "           WHEN (valid_to_dt - valid_from_dt) BETWEEN 91 AND 120 THEN '91-120'\n",
    "           WHEN (valid_to_dt - valid_from_dt) BETWEEN 121 AND 200 THEN '121-200'\n",
    "           WHEN (valid_to_dt - valid_from_dt) >= 201 THEN '201 and over'\n",
    "           END                                                                              diff_active_status_days_groups,\n",
    "       rank()\n",
    "       OVER (PARTITION BY party_rk, financial_account_subtype_cd ORDER BY valid_from_dt) AS outflow_number,\n",
    "       CASE\n",
    "           WHEN age BETWEEN 18 and 25 THEN '18-25'\n",
    "           WHEN age BETWEEN 26 and 30 THEN '26-30'\n",
    "           WHEN age BETWEEN 31 and 35 THEN '31-35'\n",
    "           WHEN age BETWEEN 36 and 40 THEN '36-40'\n",
    "           WHEN age BETWEEN 41 and 45 THEN '41-45'\n",
    "           WHEN age BETWEEN 46 and 50 THEN '46-50'\n",
    "           WHEN age BETWEEN 51 and 55 THEN '51-55'\n",
    "           WHEN age >= 56 THEN '56 and over'\n",
    "           END                                                                              age_groups,\n",
    "       CASE\n",
    "           WHEN rank()\n",
    "                OVER (PARTITION BY party_rk, financial_account_subtype_cd ORDER BY valid_from_dt) BETWEEN 1 AND 2\n",
    "               THEN '1-2'\n",
    "           WHEN rank()\n",
    "                OVER (PARTITION BY party_rk, financial_account_subtype_cd ORDER BY valid_from_dt) BETWEEN 3 AND 4\n",
    "               THEN '3-4'\n",
    "           WHEN rank()\n",
    "                OVER (PARTITION BY party_rk, financial_account_subtype_cd ORDER BY valid_from_dt) >= 5 THEN '5 and over'\n",
    "           END                                                                              outflow_number_groups,\n",
    "       CASE\n",
    "           WHEN monthly_income_amt BETWEEN 10000 AND 30000 THEN '10.000-30.000'\n",
    "           WHEN monthly_income_amt BETWEEN 30001 AND 60000 THEN '30.001-60.000'\n",
    "           WHEN monthly_income_amt BETWEEN 60001 AND 100000 THEN '60.001-100.000'\n",
    "           WHEN monthly_income_amt BETWEEN 100001 AND 150000 THEN '100.001-150.000'\n",
    "           WHEN monthly_income_amt BETWEEN 150001 AND 200000 THEN '150.001-200.000'\n",
    "           WHEN monthly_income_amt BETWEEN 200001 AND 250000 THEN '200.001-250.000'\n",
    "           WHEN monthly_income_amt BETWEEN 250001 AND 300000 THEN '250.001-300.000'\n",
    "           WHEN monthly_income_amt >= 300001 THEN '300.001 and over'\n",
    "           END                                                                              monthly_income_amt_groups,\n",
    "       CASE\n",
    "           WHEN years_after_first_activation BETWEEN 0 AND 3 THEN '0-3'\n",
    "           WHEN years_after_first_activation BETWEEN 4 AND 7 THEN '4-7'\n",
    "           WHEN years_after_first_activation >= 8 THEN '8 and over'\n",
    "           END                                                                              years_after_first_activation_groups\n",
    "FROM cte2\n",
    "WHERE start_status = 're_active'\n",
    "  AND valid_from_dt >= '2022-01-01'                                        \n",
    "\"\"\")"
   ]
  },
  {
   "attachments": {},
   "cell_type": "markdown",
   "id": "34697858",
   "metadata": {},
   "source": [
    "------------\n",
    "# Step - 3. Исследуем аномалии, закономерности в данных на этом этапе, вычисляем топ связок продуктов, смотрим частоту по временному ряду (всего / на человека);\n",
    "-----------"
   ]
  },
  {
   "cell_type": "code",
   "execution_count": 3,
   "id": "31fa34b3",
   "metadata": {},
   "outputs": [
    {
     "data": {
      "text/html": [
       "<div>\n",
       "<style scoped>\n",
       "    .dataframe tbody tr th:only-of-type {\n",
       "        vertical-align: middle;\n",
       "    }\n",
       "\n",
       "    .dataframe tbody tr th {\n",
       "        vertical-align: top;\n",
       "    }\n",
       "\n",
       "    .dataframe thead th {\n",
       "        text-align: right;\n",
       "    }\n",
       "</style>\n",
       "<table border=\"1\" class=\"dataframe\">\n",
       "  <thead>\n",
       "    <tr style=\"text-align: right;\">\n",
       "      <th></th>\n",
       "      <th>party_rk</th>\n",
       "      <th>financial_account_subtype_cd</th>\n",
       "      <th>next_product</th>\n",
       "      <th>product_concat</th>\n",
       "      <th>active_flg</th>\n",
       "      <th>valid_from_dt</th>\n",
       "      <th>valid_to_dt</th>\n",
       "      <th>first_date_by_product_client</th>\n",
       "      <th>next_dttm</th>\n",
       "      <th>start_status</th>\n",
       "      <th>...</th>\n",
       "      <th>days_after_first_activation_by_product</th>\n",
       "      <th>years_after_first_activation_by_product</th>\n",
       "      <th>years_after_first_activation_by_product_groups</th>\n",
       "      <th>diff_active_status_days</th>\n",
       "      <th>diff_active_status_days_groups</th>\n",
       "      <th>outflow_number</th>\n",
       "      <th>age_groups</th>\n",
       "      <th>outflow_number_groups</th>\n",
       "      <th>monthly_income_amt_groups</th>\n",
       "      <th>years_after_first_activation_groups</th>\n",
       "    </tr>\n",
       "  </thead>\n",
       "  <tbody>\n",
       "    <tr>\n",
       "      <th>3</th>\n",
       "      <td>861672897</td>\n",
       "      <td>CUR</td>\n",
       "      <td>CUR</td>\n",
       "      <td>CUR - CUR</td>\n",
       "      <td>1</td>\n",
       "      <td>2022-06-05</td>\n",
       "      <td>2022-07-03</td>\n",
       "      <td>2022-05-29</td>\n",
       "      <td>2022-08-04</td>\n",
       "      <td>re_active</td>\n",
       "      <td>...</td>\n",
       "      <td>394</td>\n",
       "      <td>1</td>\n",
       "      <td>0-1</td>\n",
       "      <td>28</td>\n",
       "      <td>0-30</td>\n",
       "      <td>1</td>\n",
       "      <td>18-25</td>\n",
       "      <td>1-2</td>\n",
       "      <td>NaN</td>\n",
       "      <td>0-3</td>\n",
       "    </tr>\n",
       "    <tr>\n",
       "      <th>2</th>\n",
       "      <td>758025234</td>\n",
       "      <td>CUR</td>\n",
       "      <td>CUR</td>\n",
       "      <td>CUR - CUR</td>\n",
       "      <td>1</td>\n",
       "      <td>2022-06-18</td>\n",
       "      <td>2022-08-08</td>\n",
       "      <td>2021-10-28</td>\n",
       "      <td>2022-09-14</td>\n",
       "      <td>re_active</td>\n",
       "      <td>...</td>\n",
       "      <td>607</td>\n",
       "      <td>1</td>\n",
       "      <td>0-1</td>\n",
       "      <td>51</td>\n",
       "      <td>31-60</td>\n",
       "      <td>1</td>\n",
       "      <td>56 and over</td>\n",
       "      <td>1-2</td>\n",
       "      <td>10.000-30.000</td>\n",
       "      <td>0-3</td>\n",
       "    </tr>\n",
       "    <tr>\n",
       "      <th>0</th>\n",
       "      <td>518911654</td>\n",
       "      <td>CUR</td>\n",
       "      <td>CUR</td>\n",
       "      <td>CUR - CUR</td>\n",
       "      <td>1</td>\n",
       "      <td>2023-02-19</td>\n",
       "      <td>2023-03-21</td>\n",
       "      <td>2020-07-22</td>\n",
       "      <td>2023-05-08</td>\n",
       "      <td>re_active</td>\n",
       "      <td>...</td>\n",
       "      <td>1070</td>\n",
       "      <td>2</td>\n",
       "      <td>2-4</td>\n",
       "      <td>30</td>\n",
       "      <td>0-30</td>\n",
       "      <td>4</td>\n",
       "      <td>18-25</td>\n",
       "      <td>3-4</td>\n",
       "      <td>30.001-60.000</td>\n",
       "      <td>0-3</td>\n",
       "    </tr>\n",
       "    <tr>\n",
       "      <th>4</th>\n",
       "      <td>973434578</td>\n",
       "      <td>BIL</td>\n",
       "      <td>CUR</td>\n",
       "      <td>BIL - CUR</td>\n",
       "      <td>1</td>\n",
       "      <td>2023-02-26</td>\n",
       "      <td>2023-04-09</td>\n",
       "      <td>2023-02-26</td>\n",
       "      <td>2023-02-28</td>\n",
       "      <td>re_active</td>\n",
       "      <td>...</td>\n",
       "      <td>121</td>\n",
       "      <td>0</td>\n",
       "      <td>0-1</td>\n",
       "      <td>42</td>\n",
       "      <td>31-60</td>\n",
       "      <td>1</td>\n",
       "      <td>18-25</td>\n",
       "      <td>1-2</td>\n",
       "      <td>10.000-30.000</td>\n",
       "      <td>0-3</td>\n",
       "    </tr>\n",
       "    <tr>\n",
       "      <th>1</th>\n",
       "      <td>677882773</td>\n",
       "      <td>BNP</td>\n",
       "      <td>NaN</td>\n",
       "      <td>NaN</td>\n",
       "      <td>1</td>\n",
       "      <td>2023-04-10</td>\n",
       "      <td>2023-04-22</td>\n",
       "      <td>2023-04-10</td>\n",
       "      <td>2023-06-12</td>\n",
       "      <td>re_active</td>\n",
       "      <td>...</td>\n",
       "      <td>78</td>\n",
       "      <td>0</td>\n",
       "      <td>0-1</td>\n",
       "      <td>12</td>\n",
       "      <td>0-30</td>\n",
       "      <td>1</td>\n",
       "      <td>56 and over</td>\n",
       "      <td>1-2</td>\n",
       "      <td>150.001-200.000</td>\n",
       "      <td>8 and over</td>\n",
       "    </tr>\n",
       "  </tbody>\n",
       "</table>\n",
       "<p>5 rows × 29 columns</p>\n",
       "</div>"
      ],
      "text/plain": [
       "    party_rk financial_account_subtype_cd next_product product_concat  \\\n",
       "3  861672897                          CUR          CUR      CUR - CUR   \n",
       "2  758025234                          CUR          CUR      CUR - CUR   \n",
       "0  518911654                          CUR          CUR      CUR - CUR   \n",
       "4  973434578                          BIL          CUR      BIL - CUR   \n",
       "1  677882773                          BNP          NaN            NaN   \n",
       "\n",
       "  active_flg valid_from_dt valid_to_dt first_date_by_product_client  \\\n",
       "3          1    2022-06-05  2022-07-03                   2022-05-29   \n",
       "2          1    2022-06-18  2022-08-08                   2021-10-28   \n",
       "0          1    2023-02-19  2023-03-21                   2020-07-22   \n",
       "4          1    2023-02-26  2023-04-09                   2023-02-26   \n",
       "1          1    2023-04-10  2023-04-22                   2023-04-10   \n",
       "\n",
       "    next_dttm start_status  ... days_after_first_activation_by_product  \\\n",
       "3  2022-08-04    re_active  ...                                    394   \n",
       "2  2022-09-14    re_active  ...                                    607   \n",
       "0  2023-05-08    re_active  ...                                   1070   \n",
       "4  2023-02-28    re_active  ...                                    121   \n",
       "1  2023-06-12    re_active  ...                                     78   \n",
       "\n",
       "  years_after_first_activation_by_product  \\\n",
       "3                                       1   \n",
       "2                                       1   \n",
       "0                                       2   \n",
       "4                                       0   \n",
       "1                                       0   \n",
       "\n",
       "  years_after_first_activation_by_product_groups diff_active_status_days  \\\n",
       "3                                            0-1                      28   \n",
       "2                                            0-1                      51   \n",
       "0                                            2-4                      30   \n",
       "4                                            0-1                      42   \n",
       "1                                            0-1                      12   \n",
       "\n",
       "   diff_active_status_days_groups outflow_number   age_groups  \\\n",
       "3                            0-30              1        18-25   \n",
       "2                           31-60              1  56 and over   \n",
       "0                            0-30              4        18-25   \n",
       "4                           31-60              1        18-25   \n",
       "1                            0-30              1  56 and over   \n",
       "\n",
       "   outflow_number_groups  monthly_income_amt_groups  \\\n",
       "3                    1-2                        NaN   \n",
       "2                    1-2              10.000-30.000   \n",
       "0                    3-4              30.001-60.000   \n",
       "4                    1-2              10.000-30.000   \n",
       "1                    1-2            150.001-200.000   \n",
       "\n",
       "   years_after_first_activation_groups  \n",
       "3                                  0-3  \n",
       "2                                  0-3  \n",
       "0                                  0-3  \n",
       "4                                  0-3  \n",
       "1                           8 and over  \n",
       "\n",
       "[5 rows x 29 columns]"
      ]
     },
     "execution_count": 3,
     "metadata": {},
     "output_type": "execute_result"
    }
   ],
   "source": [
    "df_1.head(\n",
    "    ).sort_values('valid_from_dt')"
   ]
  },
  {
   "attachments": {},
   "cell_type": "markdown",
   "id": "d6a41b99",
   "metadata": {},
   "source": [
    "## Обрабатываем данные и рисуем линейный график частоты миганий в разрезе по периодам. Смотрим период с 2022-01-01"
   ]
  },
  {
   "cell_type": "code",
   "execution_count": 4,
   "id": "ff2acc4e",
   "metadata": {},
   "outputs": [
    {
     "data": {
      "application/vnd.plotly.v1+json": {
       "config": {
        "plotlyServerURL": "https://plot.ly"
       },
       "data": [
        {
         "hovertemplate": "year_month_from=%{x}<br>date_diff=%{y}<extra></extra>",
         "legendgroup": "",
         "line": {
          "color": "#636efa",
          "dash": "solid"
         },
         "marker": {
          "symbol": "circle"
         },
         "mode": "markers+lines",
         "name": "",
         "orientation": "v",
         "showlegend": false,
         "type": "scatter",
         "x": [
          "2022-01",
          "2022-02",
          "2022-03",
          "2022-04",
          "2022-05",
          "2022-06",
          "2022-07",
          "2022-08",
          "2022-09",
          "2022-10",
          "2022-11",
          "2022-12",
          "2023-01",
          "2023-02",
          "2023-03",
          "2023-04",
          "2023-05"
         ],
         "xaxis": "x",
         "y": [
          334516,
          343325,
          362702,
          346213,
          340501,
          346260,
          327674,
          331527,
          312799,
          296796,
          299667,
          297544,
          226614,
          205449,
          152452,
          48621,
          3001
         ],
         "yaxis": "y"
        },
        {
         "type": "scatter",
         "x": [
          "2022-01",
          "2022-02",
          "2022-03",
          "2022-04",
          "2022-05",
          "2022-06",
          "2022-07",
          "2022-08",
          "2022-09",
          "2022-10",
          "2022-11",
          "2022-12",
          "2023-01",
          "2023-02",
          "2023-03",
          "2023-04",
          "2023-05"
         ],
         "y": [
          17158,
          134282,
          242974,
          277287,
          297928,
          299833,
          343608,
          333140,
          330931,
          344477,
          309470,
          338960,
          359883,
          269936,
          313805,
          258032,
          103957
         ]
        }
       ],
       "layout": {
        "legend": {
         "tracegroupgap": 0
        },
        "margin": {
         "t": 60
        },
        "template": {
         "data": {
          "bar": [
           {
            "error_x": {
             "color": "#2a3f5f"
            },
            "error_y": {
             "color": "#2a3f5f"
            },
            "marker": {
             "line": {
              "color": "#E5ECF6",
              "width": 0.5
             },
             "pattern": {
              "fillmode": "overlay",
              "size": 10,
              "solidity": 0.2
             }
            },
            "type": "bar"
           }
          ],
          "barpolar": [
           {
            "marker": {
             "line": {
              "color": "#E5ECF6",
              "width": 0.5
             },
             "pattern": {
              "fillmode": "overlay",
              "size": 10,
              "solidity": 0.2
             }
            },
            "type": "barpolar"
           }
          ],
          "carpet": [
           {
            "aaxis": {
             "endlinecolor": "#2a3f5f",
             "gridcolor": "white",
             "linecolor": "white",
             "minorgridcolor": "white",
             "startlinecolor": "#2a3f5f"
            },
            "baxis": {
             "endlinecolor": "#2a3f5f",
             "gridcolor": "white",
             "linecolor": "white",
             "minorgridcolor": "white",
             "startlinecolor": "#2a3f5f"
            },
            "type": "carpet"
           }
          ],
          "choropleth": [
           {
            "colorbar": {
             "outlinewidth": 0,
             "ticks": ""
            },
            "type": "choropleth"
           }
          ],
          "contour": [
           {
            "colorbar": {
             "outlinewidth": 0,
             "ticks": ""
            },
            "colorscale": [
             [
              0,
              "#0d0887"
             ],
             [
              0.1111111111111111,
              "#46039f"
             ],
             [
              0.2222222222222222,
              "#7201a8"
             ],
             [
              0.3333333333333333,
              "#9c179e"
             ],
             [
              0.4444444444444444,
              "#bd3786"
             ],
             [
              0.5555555555555556,
              "#d8576b"
             ],
             [
              0.6666666666666666,
              "#ed7953"
             ],
             [
              0.7777777777777778,
              "#fb9f3a"
             ],
             [
              0.8888888888888888,
              "#fdca26"
             ],
             [
              1,
              "#f0f921"
             ]
            ],
            "type": "contour"
           }
          ],
          "contourcarpet": [
           {
            "colorbar": {
             "outlinewidth": 0,
             "ticks": ""
            },
            "type": "contourcarpet"
           }
          ],
          "heatmap": [
           {
            "colorbar": {
             "outlinewidth": 0,
             "ticks": ""
            },
            "colorscale": [
             [
              0,
              "#0d0887"
             ],
             [
              0.1111111111111111,
              "#46039f"
             ],
             [
              0.2222222222222222,
              "#7201a8"
             ],
             [
              0.3333333333333333,
              "#9c179e"
             ],
             [
              0.4444444444444444,
              "#bd3786"
             ],
             [
              0.5555555555555556,
              "#d8576b"
             ],
             [
              0.6666666666666666,
              "#ed7953"
             ],
             [
              0.7777777777777778,
              "#fb9f3a"
             ],
             [
              0.8888888888888888,
              "#fdca26"
             ],
             [
              1,
              "#f0f921"
             ]
            ],
            "type": "heatmap"
           }
          ],
          "heatmapgl": [
           {
            "colorbar": {
             "outlinewidth": 0,
             "ticks": ""
            },
            "colorscale": [
             [
              0,
              "#0d0887"
             ],
             [
              0.1111111111111111,
              "#46039f"
             ],
             [
              0.2222222222222222,
              "#7201a8"
             ],
             [
              0.3333333333333333,
              "#9c179e"
             ],
             [
              0.4444444444444444,
              "#bd3786"
             ],
             [
              0.5555555555555556,
              "#d8576b"
             ],
             [
              0.6666666666666666,
              "#ed7953"
             ],
             [
              0.7777777777777778,
              "#fb9f3a"
             ],
             [
              0.8888888888888888,
              "#fdca26"
             ],
             [
              1,
              "#f0f921"
             ]
            ],
            "type": "heatmapgl"
           }
          ],
          "histogram": [
           {
            "marker": {
             "pattern": {
              "fillmode": "overlay",
              "size": 10,
              "solidity": 0.2
             }
            },
            "type": "histogram"
           }
          ],
          "histogram2d": [
           {
            "colorbar": {
             "outlinewidth": 0,
             "ticks": ""
            },
            "colorscale": [
             [
              0,
              "#0d0887"
             ],
             [
              0.1111111111111111,
              "#46039f"
             ],
             [
              0.2222222222222222,
              "#7201a8"
             ],
             [
              0.3333333333333333,
              "#9c179e"
             ],
             [
              0.4444444444444444,
              "#bd3786"
             ],
             [
              0.5555555555555556,
              "#d8576b"
             ],
             [
              0.6666666666666666,
              "#ed7953"
             ],
             [
              0.7777777777777778,
              "#fb9f3a"
             ],
             [
              0.8888888888888888,
              "#fdca26"
             ],
             [
              1,
              "#f0f921"
             ]
            ],
            "type": "histogram2d"
           }
          ],
          "histogram2dcontour": [
           {
            "colorbar": {
             "outlinewidth": 0,
             "ticks": ""
            },
            "colorscale": [
             [
              0,
              "#0d0887"
             ],
             [
              0.1111111111111111,
              "#46039f"
             ],
             [
              0.2222222222222222,
              "#7201a8"
             ],
             [
              0.3333333333333333,
              "#9c179e"
             ],
             [
              0.4444444444444444,
              "#bd3786"
             ],
             [
              0.5555555555555556,
              "#d8576b"
             ],
             [
              0.6666666666666666,
              "#ed7953"
             ],
             [
              0.7777777777777778,
              "#fb9f3a"
             ],
             [
              0.8888888888888888,
              "#fdca26"
             ],
             [
              1,
              "#f0f921"
             ]
            ],
            "type": "histogram2dcontour"
           }
          ],
          "mesh3d": [
           {
            "colorbar": {
             "outlinewidth": 0,
             "ticks": ""
            },
            "type": "mesh3d"
           }
          ],
          "parcoords": [
           {
            "line": {
             "colorbar": {
              "outlinewidth": 0,
              "ticks": ""
             }
            },
            "type": "parcoords"
           }
          ],
          "pie": [
           {
            "automargin": true,
            "type": "pie"
           }
          ],
          "scatter": [
           {
            "fillpattern": {
             "fillmode": "overlay",
             "size": 10,
             "solidity": 0.2
            },
            "type": "scatter"
           }
          ],
          "scatter3d": [
           {
            "line": {
             "colorbar": {
              "outlinewidth": 0,
              "ticks": ""
             }
            },
            "marker": {
             "colorbar": {
              "outlinewidth": 0,
              "ticks": ""
             }
            },
            "type": "scatter3d"
           }
          ],
          "scattercarpet": [
           {
            "marker": {
             "colorbar": {
              "outlinewidth": 0,
              "ticks": ""
             }
            },
            "type": "scattercarpet"
           }
          ],
          "scattergeo": [
           {
            "marker": {
             "colorbar": {
              "outlinewidth": 0,
              "ticks": ""
             }
            },
            "type": "scattergeo"
           }
          ],
          "scattergl": [
           {
            "marker": {
             "colorbar": {
              "outlinewidth": 0,
              "ticks": ""
             }
            },
            "type": "scattergl"
           }
          ],
          "scattermapbox": [
           {
            "marker": {
             "colorbar": {
              "outlinewidth": 0,
              "ticks": ""
             }
            },
            "type": "scattermapbox"
           }
          ],
          "scatterpolar": [
           {
            "marker": {
             "colorbar": {
              "outlinewidth": 0,
              "ticks": ""
             }
            },
            "type": "scatterpolar"
           }
          ],
          "scatterpolargl": [
           {
            "marker": {
             "colorbar": {
              "outlinewidth": 0,
              "ticks": ""
             }
            },
            "type": "scatterpolargl"
           }
          ],
          "scatterternary": [
           {
            "marker": {
             "colorbar": {
              "outlinewidth": 0,
              "ticks": ""
             }
            },
            "type": "scatterternary"
           }
          ],
          "surface": [
           {
            "colorbar": {
             "outlinewidth": 0,
             "ticks": ""
            },
            "colorscale": [
             [
              0,
              "#0d0887"
             ],
             [
              0.1111111111111111,
              "#46039f"
             ],
             [
              0.2222222222222222,
              "#7201a8"
             ],
             [
              0.3333333333333333,
              "#9c179e"
             ],
             [
              0.4444444444444444,
              "#bd3786"
             ],
             [
              0.5555555555555556,
              "#d8576b"
             ],
             [
              0.6666666666666666,
              "#ed7953"
             ],
             [
              0.7777777777777778,
              "#fb9f3a"
             ],
             [
              0.8888888888888888,
              "#fdca26"
             ],
             [
              1,
              "#f0f921"
             ]
            ],
            "type": "surface"
           }
          ],
          "table": [
           {
            "cells": {
             "fill": {
              "color": "#EBF0F8"
             },
             "line": {
              "color": "white"
             }
            },
            "header": {
             "fill": {
              "color": "#C8D4E3"
             },
             "line": {
              "color": "white"
             }
            },
            "type": "table"
           }
          ]
         },
         "layout": {
          "annotationdefaults": {
           "arrowcolor": "#2a3f5f",
           "arrowhead": 0,
           "arrowwidth": 1
          },
          "autotypenumbers": "strict",
          "coloraxis": {
           "colorbar": {
            "outlinewidth": 0,
            "ticks": ""
           }
          },
          "colorscale": {
           "diverging": [
            [
             0,
             "#8e0152"
            ],
            [
             0.1,
             "#c51b7d"
            ],
            [
             0.2,
             "#de77ae"
            ],
            [
             0.3,
             "#f1b6da"
            ],
            [
             0.4,
             "#fde0ef"
            ],
            [
             0.5,
             "#f7f7f7"
            ],
            [
             0.6,
             "#e6f5d0"
            ],
            [
             0.7,
             "#b8e186"
            ],
            [
             0.8,
             "#7fbc41"
            ],
            [
             0.9,
             "#4d9221"
            ],
            [
             1,
             "#276419"
            ]
           ],
           "sequential": [
            [
             0,
             "#0d0887"
            ],
            [
             0.1111111111111111,
             "#46039f"
            ],
            [
             0.2222222222222222,
             "#7201a8"
            ],
            [
             0.3333333333333333,
             "#9c179e"
            ],
            [
             0.4444444444444444,
             "#bd3786"
            ],
            [
             0.5555555555555556,
             "#d8576b"
            ],
            [
             0.6666666666666666,
             "#ed7953"
            ],
            [
             0.7777777777777778,
             "#fb9f3a"
            ],
            [
             0.8888888888888888,
             "#fdca26"
            ],
            [
             1,
             "#f0f921"
            ]
           ],
           "sequentialminus": [
            [
             0,
             "#0d0887"
            ],
            [
             0.1111111111111111,
             "#46039f"
            ],
            [
             0.2222222222222222,
             "#7201a8"
            ],
            [
             0.3333333333333333,
             "#9c179e"
            ],
            [
             0.4444444444444444,
             "#bd3786"
            ],
            [
             0.5555555555555556,
             "#d8576b"
            ],
            [
             0.6666666666666666,
             "#ed7953"
            ],
            [
             0.7777777777777778,
             "#fb9f3a"
            ],
            [
             0.8888888888888888,
             "#fdca26"
            ],
            [
             1,
             "#f0f921"
            ]
           ]
          },
          "colorway": [
           "#636efa",
           "#EF553B",
           "#00cc96",
           "#ab63fa",
           "#FFA15A",
           "#19d3f3",
           "#FF6692",
           "#B6E880",
           "#FF97FF",
           "#FECB52"
          ],
          "font": {
           "color": "#2a3f5f"
          },
          "geo": {
           "bgcolor": "white",
           "lakecolor": "white",
           "landcolor": "#E5ECF6",
           "showlakes": true,
           "showland": true,
           "subunitcolor": "white"
          },
          "hoverlabel": {
           "align": "left"
          },
          "hovermode": "closest",
          "mapbox": {
           "style": "light"
          },
          "paper_bgcolor": "white",
          "plot_bgcolor": "#E5ECF6",
          "polar": {
           "angularaxis": {
            "gridcolor": "white",
            "linecolor": "white",
            "ticks": ""
           },
           "bgcolor": "#E5ECF6",
           "radialaxis": {
            "gridcolor": "white",
            "linecolor": "white",
            "ticks": ""
           }
          },
          "scene": {
           "xaxis": {
            "backgroundcolor": "#E5ECF6",
            "gridcolor": "white",
            "gridwidth": 2,
            "linecolor": "white",
            "showbackground": true,
            "ticks": "",
            "zerolinecolor": "white"
           },
           "yaxis": {
            "backgroundcolor": "#E5ECF6",
            "gridcolor": "white",
            "gridwidth": 2,
            "linecolor": "white",
            "showbackground": true,
            "ticks": "",
            "zerolinecolor": "white"
           },
           "zaxis": {
            "backgroundcolor": "#E5ECF6",
            "gridcolor": "white",
            "gridwidth": 2,
            "linecolor": "white",
            "showbackground": true,
            "ticks": "",
            "zerolinecolor": "white"
           }
          },
          "shapedefaults": {
           "line": {
            "color": "#2a3f5f"
           }
          },
          "ternary": {
           "aaxis": {
            "gridcolor": "white",
            "linecolor": "white",
            "ticks": ""
           },
           "baxis": {
            "gridcolor": "white",
            "linecolor": "white",
            "ticks": ""
           },
           "bgcolor": "#E5ECF6",
           "caxis": {
            "gridcolor": "white",
            "linecolor": "white",
            "ticks": ""
           }
          },
          "title": {
           "x": 0.05
          },
          "xaxis": {
           "automargin": true,
           "gridcolor": "white",
           "linecolor": "white",
           "ticks": "",
           "title": {
            "standoff": 15
           },
           "zerolinecolor": "white",
           "zerolinewidth": 2
          },
          "yaxis": {
           "automargin": true,
           "gridcolor": "white",
           "linecolor": "white",
           "ticks": "",
           "title": {
            "standoff": 15
           },
           "zerolinecolor": "white",
           "zerolinewidth": 2
          }
         }
        },
        "xaxis": {
         "anchor": "y",
         "domain": [
          0,
          1
         ],
         "title": {
          "text": "year_month_from"
         }
        },
        "yaxis": {
         "anchor": "x",
         "domain": [
          0,
          1
         ],
         "title": {
          "text": "date_diff"
         }
        }
       }
      }
     },
     "metadata": {},
     "output_type": "display_data"
    }
   ],
   "source": [
    "\n",
    "df_1['valid_from_dt'] = pd.to_datetime(df_1[\"valid_from_dt\"])\n",
    "df_1['valid_to_dt'] = pd.to_datetime(df_1[\"valid_to_dt\"])\n",
    "df_1['year_month_from'] = df_1['valid_from_dt'].dt.strftime('%Y-%m')\n",
    "df_1['year_month_to'] = df_1['valid_to_dt'].dt.strftime('%Y-%m')\n",
    "\n",
    "for_chart_all = df_1.query(\"first_date_by_product_client < '2021-12-31'\")\n",
    "\n",
    "for_chart_date_from = for_chart_all.groupby(['year_month_from'], as_index=False)['date_diff'].count()\n",
    "for_chart_date_to = for_chart_all.groupby(['year_month_to'], as_index=False)['date_diff'].count()\n",
    "\n",
    "fig_1_1 = px.line(for_chart_date_from, x=\"year_month_from\", y=\"date_diff\", markers=True)\n",
    "fig_1_1.add_scatter(x=for_chart_date_to['year_month_to'], y=for_chart_date_to['date_diff'])\n",
    "fig_1_1.show()"
   ]
  },
  {
   "attachments": {},
   "cell_type": "markdown",
   "id": "910a7e3b",
   "metadata": {},
   "source": [
    "## Обрабатываем данные, чтобы собрать сводную таблицу из сочетаний продуктов между собой и сравнить частоту миганий"
   ]
  },
  {
   "cell_type": "code",
   "execution_count": 5,
   "id": "1c3fdbb1",
   "metadata": {},
   "outputs": [
    {
     "data": {
      "text/html": [
       "<div>\n",
       "<style scoped>\n",
       "    .dataframe tbody tr th:only-of-type {\n",
       "        vertical-align: middle;\n",
       "    }\n",
       "\n",
       "    .dataframe tbody tr th {\n",
       "        vertical-align: top;\n",
       "    }\n",
       "\n",
       "    .dataframe thead th {\n",
       "        text-align: right;\n",
       "    }\n",
       "</style>\n",
       "<table border=\"1\" class=\"dataframe\">\n",
       "  <thead>\n",
       "    <tr style=\"text-align: right;\">\n",
       "      <th>first_product_after_inactive</th>\n",
       "      <th>BIL</th>\n",
       "      <th>BNP</th>\n",
       "      <th>BNS</th>\n",
       "      <th>CAR</th>\n",
       "      <th>CCR</th>\n",
       "      <th>CLA</th>\n",
       "      <th>CLN</th>\n",
       "      <th>CUR</th>\n",
       "      <th>DEP</th>\n",
       "      <th>DLG</th>\n",
       "      <th>IIS</th>\n",
       "      <th>ISF</th>\n",
       "      <th>LEG</th>\n",
       "      <th>SAV</th>\n",
       "      <th>SCL</th>\n",
       "      <th>TRD</th>\n",
       "      <th>VKR</th>\n",
       "    </tr>\n",
       "    <tr>\n",
       "      <th>last_product_before_inactive</th>\n",
       "      <th></th>\n",
       "      <th></th>\n",
       "      <th></th>\n",
       "      <th></th>\n",
       "      <th></th>\n",
       "      <th></th>\n",
       "      <th></th>\n",
       "      <th></th>\n",
       "      <th></th>\n",
       "      <th></th>\n",
       "      <th></th>\n",
       "      <th></th>\n",
       "      <th></th>\n",
       "      <th></th>\n",
       "      <th></th>\n",
       "      <th></th>\n",
       "      <th></th>\n",
       "    </tr>\n",
       "  </thead>\n",
       "  <tbody>\n",
       "    <tr>\n",
       "      <th>BIL</th>\n",
       "      <td>506456</td>\n",
       "      <td>8609</td>\n",
       "      <td>-</td>\n",
       "      <td>-</td>\n",
       "      <td>70181</td>\n",
       "      <td>-</td>\n",
       "      <td>3733</td>\n",
       "      <td>228000</td>\n",
       "      <td>4774</td>\n",
       "      <td>-</td>\n",
       "      <td>1068</td>\n",
       "      <td>20264</td>\n",
       "      <td>-</td>\n",
       "      <td>37079</td>\n",
       "      <td>-</td>\n",
       "      <td>16221</td>\n",
       "      <td>6718</td>\n",
       "    </tr>\n",
       "    <tr>\n",
       "      <th>BNP</th>\n",
       "      <td>11059</td>\n",
       "      <td>275954</td>\n",
       "      <td>-</td>\n",
       "      <td>-</td>\n",
       "      <td>24596</td>\n",
       "      <td>-</td>\n",
       "      <td>1787</td>\n",
       "      <td>37577</td>\n",
       "      <td>-</td>\n",
       "      <td>-</td>\n",
       "      <td>-</td>\n",
       "      <td>6575</td>\n",
       "      <td>-</td>\n",
       "      <td>9251</td>\n",
       "      <td>-</td>\n",
       "      <td>2941</td>\n",
       "      <td>9497</td>\n",
       "    </tr>\n",
       "    <tr>\n",
       "      <th>BNS</th>\n",
       "      <td>-</td>\n",
       "      <td>-</td>\n",
       "      <td>4993</td>\n",
       "      <td>-</td>\n",
       "      <td>-</td>\n",
       "      <td>-</td>\n",
       "      <td>-</td>\n",
       "      <td>-</td>\n",
       "      <td>-</td>\n",
       "      <td>-</td>\n",
       "      <td>-</td>\n",
       "      <td>-</td>\n",
       "      <td>-</td>\n",
       "      <td>-</td>\n",
       "      <td>-</td>\n",
       "      <td>-</td>\n",
       "      <td>-</td>\n",
       "    </tr>\n",
       "    <tr>\n",
       "      <th>CAR</th>\n",
       "      <td>-</td>\n",
       "      <td>-</td>\n",
       "      <td>-</td>\n",
       "      <td>1053</td>\n",
       "      <td>-</td>\n",
       "      <td>-</td>\n",
       "      <td>-</td>\n",
       "      <td>-</td>\n",
       "      <td>-</td>\n",
       "      <td>-</td>\n",
       "      <td>-</td>\n",
       "      <td>-</td>\n",
       "      <td>-</td>\n",
       "      <td>-</td>\n",
       "      <td>-</td>\n",
       "      <td>-</td>\n",
       "      <td>-</td>\n",
       "    </tr>\n",
       "    <tr>\n",
       "      <th>CCR</th>\n",
       "      <td>46326</td>\n",
       "      <td>10802</td>\n",
       "      <td>-</td>\n",
       "      <td>-</td>\n",
       "      <td>749762</td>\n",
       "      <td>1485</td>\n",
       "      <td>9046</td>\n",
       "      <td>223892</td>\n",
       "      <td>4172</td>\n",
       "      <td>-</td>\n",
       "      <td>1071</td>\n",
       "      <td>16057</td>\n",
       "      <td>-</td>\n",
       "      <td>31460</td>\n",
       "      <td>1166</td>\n",
       "      <td>14922</td>\n",
       "      <td>15951</td>\n",
       "    </tr>\n",
       "    <tr>\n",
       "      <th>CLA</th>\n",
       "      <td>-</td>\n",
       "      <td>-</td>\n",
       "      <td>-</td>\n",
       "      <td>-</td>\n",
       "      <td>-</td>\n",
       "      <td>1284</td>\n",
       "      <td>-</td>\n",
       "      <td>-</td>\n",
       "      <td>-</td>\n",
       "      <td>-</td>\n",
       "      <td>-</td>\n",
       "      <td>-</td>\n",
       "      <td>-</td>\n",
       "      <td>-</td>\n",
       "      <td>-</td>\n",
       "      <td>-</td>\n",
       "      <td>-</td>\n",
       "    </tr>\n",
       "    <tr>\n",
       "      <th>CLN</th>\n",
       "      <td>1027</td>\n",
       "      <td>-</td>\n",
       "      <td>-</td>\n",
       "      <td>-</td>\n",
       "      <td>3310</td>\n",
       "      <td>-</td>\n",
       "      <td>8694</td>\n",
       "      <td>2102</td>\n",
       "      <td>-</td>\n",
       "      <td>-</td>\n",
       "      <td>-</td>\n",
       "      <td>-</td>\n",
       "      <td>-</td>\n",
       "      <td>1018</td>\n",
       "      <td>-</td>\n",
       "      <td>-</td>\n",
       "      <td>-</td>\n",
       "    </tr>\n",
       "    <tr>\n",
       "      <th>CUR</th>\n",
       "      <td>204202</td>\n",
       "      <td>41780</td>\n",
       "      <td>-</td>\n",
       "      <td>-</td>\n",
       "      <td>362053</td>\n",
       "      <td>1319</td>\n",
       "      <td>6211</td>\n",
       "      <td>3711089</td>\n",
       "      <td>6025</td>\n",
       "      <td>-</td>\n",
       "      <td>2751</td>\n",
       "      <td>53699</td>\n",
       "      <td>-</td>\n",
       "      <td>131681</td>\n",
       "      <td>-</td>\n",
       "      <td>70153</td>\n",
       "      <td>51059</td>\n",
       "    </tr>\n",
       "    <tr>\n",
       "      <th>DEP</th>\n",
       "      <td>1039</td>\n",
       "      <td>-</td>\n",
       "      <td>-</td>\n",
       "      <td>-</td>\n",
       "      <td>1054</td>\n",
       "      <td>-</td>\n",
       "      <td>-</td>\n",
       "      <td>-</td>\n",
       "      <td>10517</td>\n",
       "      <td>-</td>\n",
       "      <td>-</td>\n",
       "      <td>-</td>\n",
       "      <td>-</td>\n",
       "      <td>3544</td>\n",
       "      <td>-</td>\n",
       "      <td>1103</td>\n",
       "      <td>-</td>\n",
       "    </tr>\n",
       "    <tr>\n",
       "      <th>DLG</th>\n",
       "      <td>-</td>\n",
       "      <td>-</td>\n",
       "      <td>-</td>\n",
       "      <td>-</td>\n",
       "      <td>-</td>\n",
       "      <td>-</td>\n",
       "      <td>-</td>\n",
       "      <td>-</td>\n",
       "      <td>-</td>\n",
       "      <td>2697</td>\n",
       "      <td>-</td>\n",
       "      <td>-</td>\n",
       "      <td>-</td>\n",
       "      <td>-</td>\n",
       "      <td>-</td>\n",
       "      <td>-</td>\n",
       "      <td>-</td>\n",
       "    </tr>\n",
       "    <tr>\n",
       "      <th>ISF</th>\n",
       "      <td>14921</td>\n",
       "      <td>3908</td>\n",
       "      <td>-</td>\n",
       "      <td>-</td>\n",
       "      <td>17060</td>\n",
       "      <td>-</td>\n",
       "      <td>1007</td>\n",
       "      <td>19778</td>\n",
       "      <td>-</td>\n",
       "      <td>-</td>\n",
       "      <td>-</td>\n",
       "      <td>74955</td>\n",
       "      <td>-</td>\n",
       "      <td>16691</td>\n",
       "      <td>-</td>\n",
       "      <td>11072</td>\n",
       "      <td>2028</td>\n",
       "    </tr>\n",
       "    <tr>\n",
       "      <th>LEG</th>\n",
       "      <td>-</td>\n",
       "      <td>-</td>\n",
       "      <td>-</td>\n",
       "      <td>-</td>\n",
       "      <td>-</td>\n",
       "      <td>-</td>\n",
       "      <td>-</td>\n",
       "      <td>-</td>\n",
       "      <td>-</td>\n",
       "      <td>-</td>\n",
       "      <td>-</td>\n",
       "      <td>-</td>\n",
       "      <td>103349</td>\n",
       "      <td>-</td>\n",
       "      <td>-</td>\n",
       "      <td>-</td>\n",
       "      <td>-</td>\n",
       "    </tr>\n",
       "    <tr>\n",
       "      <th>SAV</th>\n",
       "      <td>29898</td>\n",
       "      <td>5971</td>\n",
       "      <td>-</td>\n",
       "      <td>-</td>\n",
       "      <td>31887</td>\n",
       "      <td>-</td>\n",
       "      <td>1665</td>\n",
       "      <td>73305</td>\n",
       "      <td>7415</td>\n",
       "      <td>-</td>\n",
       "      <td>904</td>\n",
       "      <td>18438</td>\n",
       "      <td>-</td>\n",
       "      <td>278747</td>\n",
       "      <td>-</td>\n",
       "      <td>13076</td>\n",
       "      <td>5247</td>\n",
       "    </tr>\n",
       "    <tr>\n",
       "      <th>SCL</th>\n",
       "      <td>-</td>\n",
       "      <td>-</td>\n",
       "      <td>-</td>\n",
       "      <td>-</td>\n",
       "      <td>-</td>\n",
       "      <td>-</td>\n",
       "      <td>-</td>\n",
       "      <td>-</td>\n",
       "      <td>-</td>\n",
       "      <td>-</td>\n",
       "      <td>-</td>\n",
       "      <td>-</td>\n",
       "      <td>-</td>\n",
       "      <td>-</td>\n",
       "      <td>1801</td>\n",
       "      <td>-</td>\n",
       "      <td>-</td>\n",
       "    </tr>\n",
       "    <tr>\n",
       "      <th>TRD</th>\n",
       "      <td>8527</td>\n",
       "      <td>1419</td>\n",
       "      <td>-</td>\n",
       "      <td>-</td>\n",
       "      <td>11981</td>\n",
       "      <td>-</td>\n",
       "      <td>1367</td>\n",
       "      <td>20911</td>\n",
       "      <td>2797</td>\n",
       "      <td>-</td>\n",
       "      <td>1555</td>\n",
       "      <td>10495</td>\n",
       "      <td>-</td>\n",
       "      <td>11753</td>\n",
       "      <td>-</td>\n",
       "      <td>79364</td>\n",
       "      <td>1630</td>\n",
       "    </tr>\n",
       "    <tr>\n",
       "      <th>VKR</th>\n",
       "      <td>2264</td>\n",
       "      <td>2451</td>\n",
       "      <td>-</td>\n",
       "      <td>-</td>\n",
       "      <td>7734</td>\n",
       "      <td>-</td>\n",
       "      <td>-</td>\n",
       "      <td>12425</td>\n",
       "      <td>-</td>\n",
       "      <td>-</td>\n",
       "      <td>-</td>\n",
       "      <td>1288</td>\n",
       "      <td>-</td>\n",
       "      <td>2385</td>\n",
       "      <td>-</td>\n",
       "      <td>1058</td>\n",
       "      <td>26498</td>\n",
       "    </tr>\n",
       "  </tbody>\n",
       "</table>\n",
       "</div>"
      ],
      "text/plain": [
       "first_product_after_inactive     BIL     BNP   BNS   CAR     CCR   CLA   CLN  \\\n",
       "last_product_before_inactive                                                   \n",
       "BIL                           506456    8609     -     -   70181     -  3733   \n",
       "BNP                            11059  275954     -     -   24596     -  1787   \n",
       "BNS                                -       -  4993     -       -     -     -   \n",
       "CAR                                -       -     -  1053       -     -     -   \n",
       "CCR                            46326   10802     -     -  749762  1485  9046   \n",
       "CLA                                -       -     -     -       -  1284     -   \n",
       "CLN                             1027       -     -     -    3310     -  8694   \n",
       "CUR                           204202   41780     -     -  362053  1319  6211   \n",
       "DEP                             1039       -     -     -    1054     -     -   \n",
       "DLG                                -       -     -     -       -     -     -   \n",
       "ISF                            14921    3908     -     -   17060     -  1007   \n",
       "LEG                                -       -     -     -       -     -     -   \n",
       "SAV                            29898    5971     -     -   31887     -  1665   \n",
       "SCL                                -       -     -     -       -     -     -   \n",
       "TRD                             8527    1419     -     -   11981     -  1367   \n",
       "VKR                             2264    2451     -     -    7734     -     -   \n",
       "\n",
       "first_product_after_inactive      CUR    DEP   DLG   IIS    ISF     LEG  \\\n",
       "last_product_before_inactive                                              \n",
       "BIL                            228000   4774     -  1068  20264       -   \n",
       "BNP                             37577      -     -     -   6575       -   \n",
       "BNS                                 -      -     -     -      -       -   \n",
       "CAR                                 -      -     -     -      -       -   \n",
       "CCR                            223892   4172     -  1071  16057       -   \n",
       "CLA                                 -      -     -     -      -       -   \n",
       "CLN                              2102      -     -     -      -       -   \n",
       "CUR                           3711089   6025     -  2751  53699       -   \n",
       "DEP                                 -  10517     -     -      -       -   \n",
       "DLG                                 -      -  2697     -      -       -   \n",
       "ISF                             19778      -     -     -  74955       -   \n",
       "LEG                                 -      -     -     -      -  103349   \n",
       "SAV                             73305   7415     -   904  18438       -   \n",
       "SCL                                 -      -     -     -      -       -   \n",
       "TRD                             20911   2797     -  1555  10495       -   \n",
       "VKR                             12425      -     -     -   1288       -   \n",
       "\n",
       "first_product_after_inactive     SAV   SCL    TRD    VKR  \n",
       "last_product_before_inactive                              \n",
       "BIL                            37079     -  16221   6718  \n",
       "BNP                             9251     -   2941   9497  \n",
       "BNS                                -     -      -      -  \n",
       "CAR                                -     -      -      -  \n",
       "CCR                            31460  1166  14922  15951  \n",
       "CLA                                -     -      -      -  \n",
       "CLN                             1018     -      -      -  \n",
       "CUR                           131681     -  70153  51059  \n",
       "DEP                             3544     -   1103      -  \n",
       "DLG                                -     -      -      -  \n",
       "ISF                            16691     -  11072   2028  \n",
       "LEG                                -     -      -      -  \n",
       "SAV                           278747     -  13076   5247  \n",
       "SCL                                -  1801      -      -  \n",
       "TRD                            11753     -  79364   1630  \n",
       "VKR                             2385     -   1058  26498  "
      ]
     },
     "execution_count": 5,
     "metadata": {},
     "output_type": "execute_result"
    }
   ],
   "source": [
    "df_1['next_product'] = df_1.next_product.fillna(df_1.financial_account_subtype_cd)\n",
    "\n",
    "for_chart = df_1.rename(columns={'financial_account_subtype_cd':'last_product_before_inactive', 'next_product':'first_product_after_inactive'}) \\\n",
    "        .groupby(['last_product_before_inactive', 'first_product_after_inactive'], as_index=False)['party_rk'].nunique() \\\n",
    "        .rename(columns={'party_rk':'number_of_couples'}) \\\n",
    "        .sort_values('number_of_couples', ascending=False) \\\n",
    "        .reset_index(drop=True) \\\n",
    "        .head(100) \\\n",
    "\n",
    "for_chart['pairs_of_products'] = for_chart['last_product_before_inactive'] + ' - ' + for_chart['first_product_after_inactive']\n",
    "df_1['pairs_of_products'] = df_1['financial_account_subtype_cd'] + ' - ' + df_1['next_product']\n",
    "\n",
    "df_1.rename(columns={'financial_account_subtype_cd':'last_product_before_inactive', 'next_product':'first_product_after_inactive'}) \\\n",
    "        .groupby(['last_product_before_inactive', 'first_product_after_inactive'], as_index=False)['party_rk'].count() \\\n",
    "        .rename(columns={'party_rk':'number_of_couples'}) \\\n",
    "        .sort_values('number_of_couples', ascending=False) \\\n",
    "        .reset_index(drop=True) \\\n",
    "        .head(100) \\\n",
    "        .pivot_table(index='last_product_before_inactive', columns='first_product_after_inactive', values='number_of_couples', aggfunc='sum') \\\n",
    "        .fillna(0) \\\n",
    "        .astype(int) \\\n",
    "        .replace(0, '-')\n",
    "\n",
    "\n"
   ]
  },
  {
   "attachments": {},
   "cell_type": "markdown",
   "id": "771b4e0c",
   "metadata": {},
   "source": [
    "### - Рисуем теперь график гистограмм по количеству продуктовых связок (частота миганий) уникальных по клиентам"
   ]
  },
  {
   "cell_type": "code",
   "execution_count": 6,
   "id": "df156dfa",
   "metadata": {},
   "outputs": [
    {
     "data": {
      "application/vnd.plotly.v1+json": {
       "config": {
        "plotlyServerURL": "https://plot.ly"
       },
       "data": [
        {
         "alignmentgroup": "True",
         "hovertemplate": "pairs_of_products=%{x}<br>number_of_couples=%{y}<extra></extra>",
         "legendgroup": "",
         "marker": {
          "color": "#636efa",
          "pattern": {
           "shape": ""
          }
         },
         "name": "",
         "offsetgroup": "",
         "orientation": "v",
         "showlegend": false,
         "textposition": "auto",
         "texttemplate": "%{y:.2s}",
         "type": "bar",
         "x": [
          "CUR - CUR",
          "CCR - CCR",
          "BIL - BIL",
          "CUR - CCR",
          "SAV - SAV",
          "BNP - BNP",
          "BIL - CUR",
          "CCR - CUR",
          "CUR - BIL",
          "CUR - SAV",
          "LEG - LEG",
          "SAV - CUR",
          "TRD - TRD",
          "CUR - TRD",
          "BIL - CCR",
          "ISF - ISF",
          "CUR - ISF",
          "CUR - VKR",
          "CCR - BIL",
          "CUR - BNP"
         ],
         "xaxis": "x",
         "y": [
          3004151,
          622517,
          431491,
          336134,
          244850,
          230183,
          218753,
          208655,
          196460,
          129139,
          86382,
          72024,
          69523,
          69213,
          67116,
          67075,
          52969,
          50596,
          44775,
          39291
         ],
         "yaxis": "y"
        }
       ],
       "layout": {
        "barmode": "relative",
        "legend": {
         "tracegroupgap": 0
        },
        "margin": {
         "t": 60
        },
        "template": {
         "data": {
          "bar": [
           {
            "error_x": {
             "color": "#2a3f5f"
            },
            "error_y": {
             "color": "#2a3f5f"
            },
            "marker": {
             "line": {
              "color": "#E5ECF6",
              "width": 0.5
             },
             "pattern": {
              "fillmode": "overlay",
              "size": 10,
              "solidity": 0.2
             }
            },
            "type": "bar"
           }
          ],
          "barpolar": [
           {
            "marker": {
             "line": {
              "color": "#E5ECF6",
              "width": 0.5
             },
             "pattern": {
              "fillmode": "overlay",
              "size": 10,
              "solidity": 0.2
             }
            },
            "type": "barpolar"
           }
          ],
          "carpet": [
           {
            "aaxis": {
             "endlinecolor": "#2a3f5f",
             "gridcolor": "white",
             "linecolor": "white",
             "minorgridcolor": "white",
             "startlinecolor": "#2a3f5f"
            },
            "baxis": {
             "endlinecolor": "#2a3f5f",
             "gridcolor": "white",
             "linecolor": "white",
             "minorgridcolor": "white",
             "startlinecolor": "#2a3f5f"
            },
            "type": "carpet"
           }
          ],
          "choropleth": [
           {
            "colorbar": {
             "outlinewidth": 0,
             "ticks": ""
            },
            "type": "choropleth"
           }
          ],
          "contour": [
           {
            "colorbar": {
             "outlinewidth": 0,
             "ticks": ""
            },
            "colorscale": [
             [
              0,
              "#0d0887"
             ],
             [
              0.1111111111111111,
              "#46039f"
             ],
             [
              0.2222222222222222,
              "#7201a8"
             ],
             [
              0.3333333333333333,
              "#9c179e"
             ],
             [
              0.4444444444444444,
              "#bd3786"
             ],
             [
              0.5555555555555556,
              "#d8576b"
             ],
             [
              0.6666666666666666,
              "#ed7953"
             ],
             [
              0.7777777777777778,
              "#fb9f3a"
             ],
             [
              0.8888888888888888,
              "#fdca26"
             ],
             [
              1,
              "#f0f921"
             ]
            ],
            "type": "contour"
           }
          ],
          "contourcarpet": [
           {
            "colorbar": {
             "outlinewidth": 0,
             "ticks": ""
            },
            "type": "contourcarpet"
           }
          ],
          "heatmap": [
           {
            "colorbar": {
             "outlinewidth": 0,
             "ticks": ""
            },
            "colorscale": [
             [
              0,
              "#0d0887"
             ],
             [
              0.1111111111111111,
              "#46039f"
             ],
             [
              0.2222222222222222,
              "#7201a8"
             ],
             [
              0.3333333333333333,
              "#9c179e"
             ],
             [
              0.4444444444444444,
              "#bd3786"
             ],
             [
              0.5555555555555556,
              "#d8576b"
             ],
             [
              0.6666666666666666,
              "#ed7953"
             ],
             [
              0.7777777777777778,
              "#fb9f3a"
             ],
             [
              0.8888888888888888,
              "#fdca26"
             ],
             [
              1,
              "#f0f921"
             ]
            ],
            "type": "heatmap"
           }
          ],
          "heatmapgl": [
           {
            "colorbar": {
             "outlinewidth": 0,
             "ticks": ""
            },
            "colorscale": [
             [
              0,
              "#0d0887"
             ],
             [
              0.1111111111111111,
              "#46039f"
             ],
             [
              0.2222222222222222,
              "#7201a8"
             ],
             [
              0.3333333333333333,
              "#9c179e"
             ],
             [
              0.4444444444444444,
              "#bd3786"
             ],
             [
              0.5555555555555556,
              "#d8576b"
             ],
             [
              0.6666666666666666,
              "#ed7953"
             ],
             [
              0.7777777777777778,
              "#fb9f3a"
             ],
             [
              0.8888888888888888,
              "#fdca26"
             ],
             [
              1,
              "#f0f921"
             ]
            ],
            "type": "heatmapgl"
           }
          ],
          "histogram": [
           {
            "marker": {
             "pattern": {
              "fillmode": "overlay",
              "size": 10,
              "solidity": 0.2
             }
            },
            "type": "histogram"
           }
          ],
          "histogram2d": [
           {
            "colorbar": {
             "outlinewidth": 0,
             "ticks": ""
            },
            "colorscale": [
             [
              0,
              "#0d0887"
             ],
             [
              0.1111111111111111,
              "#46039f"
             ],
             [
              0.2222222222222222,
              "#7201a8"
             ],
             [
              0.3333333333333333,
              "#9c179e"
             ],
             [
              0.4444444444444444,
              "#bd3786"
             ],
             [
              0.5555555555555556,
              "#d8576b"
             ],
             [
              0.6666666666666666,
              "#ed7953"
             ],
             [
              0.7777777777777778,
              "#fb9f3a"
             ],
             [
              0.8888888888888888,
              "#fdca26"
             ],
             [
              1,
              "#f0f921"
             ]
            ],
            "type": "histogram2d"
           }
          ],
          "histogram2dcontour": [
           {
            "colorbar": {
             "outlinewidth": 0,
             "ticks": ""
            },
            "colorscale": [
             [
              0,
              "#0d0887"
             ],
             [
              0.1111111111111111,
              "#46039f"
             ],
             [
              0.2222222222222222,
              "#7201a8"
             ],
             [
              0.3333333333333333,
              "#9c179e"
             ],
             [
              0.4444444444444444,
              "#bd3786"
             ],
             [
              0.5555555555555556,
              "#d8576b"
             ],
             [
              0.6666666666666666,
              "#ed7953"
             ],
             [
              0.7777777777777778,
              "#fb9f3a"
             ],
             [
              0.8888888888888888,
              "#fdca26"
             ],
             [
              1,
              "#f0f921"
             ]
            ],
            "type": "histogram2dcontour"
           }
          ],
          "mesh3d": [
           {
            "colorbar": {
             "outlinewidth": 0,
             "ticks": ""
            },
            "type": "mesh3d"
           }
          ],
          "parcoords": [
           {
            "line": {
             "colorbar": {
              "outlinewidth": 0,
              "ticks": ""
             }
            },
            "type": "parcoords"
           }
          ],
          "pie": [
           {
            "automargin": true,
            "type": "pie"
           }
          ],
          "scatter": [
           {
            "fillpattern": {
             "fillmode": "overlay",
             "size": 10,
             "solidity": 0.2
            },
            "type": "scatter"
           }
          ],
          "scatter3d": [
           {
            "line": {
             "colorbar": {
              "outlinewidth": 0,
              "ticks": ""
             }
            },
            "marker": {
             "colorbar": {
              "outlinewidth": 0,
              "ticks": ""
             }
            },
            "type": "scatter3d"
           }
          ],
          "scattercarpet": [
           {
            "marker": {
             "colorbar": {
              "outlinewidth": 0,
              "ticks": ""
             }
            },
            "type": "scattercarpet"
           }
          ],
          "scattergeo": [
           {
            "marker": {
             "colorbar": {
              "outlinewidth": 0,
              "ticks": ""
             }
            },
            "type": "scattergeo"
           }
          ],
          "scattergl": [
           {
            "marker": {
             "colorbar": {
              "outlinewidth": 0,
              "ticks": ""
             }
            },
            "type": "scattergl"
           }
          ],
          "scattermapbox": [
           {
            "marker": {
             "colorbar": {
              "outlinewidth": 0,
              "ticks": ""
             }
            },
            "type": "scattermapbox"
           }
          ],
          "scatterpolar": [
           {
            "marker": {
             "colorbar": {
              "outlinewidth": 0,
              "ticks": ""
             }
            },
            "type": "scatterpolar"
           }
          ],
          "scatterpolargl": [
           {
            "marker": {
             "colorbar": {
              "outlinewidth": 0,
              "ticks": ""
             }
            },
            "type": "scatterpolargl"
           }
          ],
          "scatterternary": [
           {
            "marker": {
             "colorbar": {
              "outlinewidth": 0,
              "ticks": ""
             }
            },
            "type": "scatterternary"
           }
          ],
          "surface": [
           {
            "colorbar": {
             "outlinewidth": 0,
             "ticks": ""
            },
            "colorscale": [
             [
              0,
              "#0d0887"
             ],
             [
              0.1111111111111111,
              "#46039f"
             ],
             [
              0.2222222222222222,
              "#7201a8"
             ],
             [
              0.3333333333333333,
              "#9c179e"
             ],
             [
              0.4444444444444444,
              "#bd3786"
             ],
             [
              0.5555555555555556,
              "#d8576b"
             ],
             [
              0.6666666666666666,
              "#ed7953"
             ],
             [
              0.7777777777777778,
              "#fb9f3a"
             ],
             [
              0.8888888888888888,
              "#fdca26"
             ],
             [
              1,
              "#f0f921"
             ]
            ],
            "type": "surface"
           }
          ],
          "table": [
           {
            "cells": {
             "fill": {
              "color": "#EBF0F8"
             },
             "line": {
              "color": "white"
             }
            },
            "header": {
             "fill": {
              "color": "#C8D4E3"
             },
             "line": {
              "color": "white"
             }
            },
            "type": "table"
           }
          ]
         },
         "layout": {
          "annotationdefaults": {
           "arrowcolor": "#2a3f5f",
           "arrowhead": 0,
           "arrowwidth": 1
          },
          "autotypenumbers": "strict",
          "coloraxis": {
           "colorbar": {
            "outlinewidth": 0,
            "ticks": ""
           }
          },
          "colorscale": {
           "diverging": [
            [
             0,
             "#8e0152"
            ],
            [
             0.1,
             "#c51b7d"
            ],
            [
             0.2,
             "#de77ae"
            ],
            [
             0.3,
             "#f1b6da"
            ],
            [
             0.4,
             "#fde0ef"
            ],
            [
             0.5,
             "#f7f7f7"
            ],
            [
             0.6,
             "#e6f5d0"
            ],
            [
             0.7,
             "#b8e186"
            ],
            [
             0.8,
             "#7fbc41"
            ],
            [
             0.9,
             "#4d9221"
            ],
            [
             1,
             "#276419"
            ]
           ],
           "sequential": [
            [
             0,
             "#0d0887"
            ],
            [
             0.1111111111111111,
             "#46039f"
            ],
            [
             0.2222222222222222,
             "#7201a8"
            ],
            [
             0.3333333333333333,
             "#9c179e"
            ],
            [
             0.4444444444444444,
             "#bd3786"
            ],
            [
             0.5555555555555556,
             "#d8576b"
            ],
            [
             0.6666666666666666,
             "#ed7953"
            ],
            [
             0.7777777777777778,
             "#fb9f3a"
            ],
            [
             0.8888888888888888,
             "#fdca26"
            ],
            [
             1,
             "#f0f921"
            ]
           ],
           "sequentialminus": [
            [
             0,
             "#0d0887"
            ],
            [
             0.1111111111111111,
             "#46039f"
            ],
            [
             0.2222222222222222,
             "#7201a8"
            ],
            [
             0.3333333333333333,
             "#9c179e"
            ],
            [
             0.4444444444444444,
             "#bd3786"
            ],
            [
             0.5555555555555556,
             "#d8576b"
            ],
            [
             0.6666666666666666,
             "#ed7953"
            ],
            [
             0.7777777777777778,
             "#fb9f3a"
            ],
            [
             0.8888888888888888,
             "#fdca26"
            ],
            [
             1,
             "#f0f921"
            ]
           ]
          },
          "colorway": [
           "#636efa",
           "#EF553B",
           "#00cc96",
           "#ab63fa",
           "#FFA15A",
           "#19d3f3",
           "#FF6692",
           "#B6E880",
           "#FF97FF",
           "#FECB52"
          ],
          "font": {
           "color": "#2a3f5f"
          },
          "geo": {
           "bgcolor": "white",
           "lakecolor": "white",
           "landcolor": "#E5ECF6",
           "showlakes": true,
           "showland": true,
           "subunitcolor": "white"
          },
          "hoverlabel": {
           "align": "left"
          },
          "hovermode": "closest",
          "mapbox": {
           "style": "light"
          },
          "paper_bgcolor": "white",
          "plot_bgcolor": "#E5ECF6",
          "polar": {
           "angularaxis": {
            "gridcolor": "white",
            "linecolor": "white",
            "ticks": ""
           },
           "bgcolor": "#E5ECF6",
           "radialaxis": {
            "gridcolor": "white",
            "linecolor": "white",
            "ticks": ""
           }
          },
          "scene": {
           "xaxis": {
            "backgroundcolor": "#E5ECF6",
            "gridcolor": "white",
            "gridwidth": 2,
            "linecolor": "white",
            "showbackground": true,
            "ticks": "",
            "zerolinecolor": "white"
           },
           "yaxis": {
            "backgroundcolor": "#E5ECF6",
            "gridcolor": "white",
            "gridwidth": 2,
            "linecolor": "white",
            "showbackground": true,
            "ticks": "",
            "zerolinecolor": "white"
           },
           "zaxis": {
            "backgroundcolor": "#E5ECF6",
            "gridcolor": "white",
            "gridwidth": 2,
            "linecolor": "white",
            "showbackground": true,
            "ticks": "",
            "zerolinecolor": "white"
           }
          },
          "shapedefaults": {
           "line": {
            "color": "#2a3f5f"
           }
          },
          "ternary": {
           "aaxis": {
            "gridcolor": "white",
            "linecolor": "white",
            "ticks": ""
           },
           "baxis": {
            "gridcolor": "white",
            "linecolor": "white",
            "ticks": ""
           },
           "bgcolor": "#E5ECF6",
           "caxis": {
            "gridcolor": "white",
            "linecolor": "white",
            "ticks": ""
           }
          },
          "title": {
           "x": 0.05
          },
          "xaxis": {
           "automargin": true,
           "gridcolor": "white",
           "linecolor": "white",
           "ticks": "",
           "title": {
            "standoff": 15
           },
           "zerolinecolor": "white",
           "zerolinewidth": 2
          },
          "yaxis": {
           "automargin": true,
           "gridcolor": "white",
           "linecolor": "white",
           "ticks": "",
           "title": {
            "standoff": 15
           },
           "zerolinecolor": "white",
           "zerolinewidth": 2
          }
         }
        },
        "xaxis": {
         "anchor": "y",
         "domain": [
          0,
          1
         ],
         "title": {
          "text": "pairs_of_products"
         }
        },
        "yaxis": {
         "anchor": "x",
         "domain": [
          0,
          1
         ],
         "title": {
          "text": "number_of_couples"
         }
        }
       }
      }
     },
     "metadata": {},
     "output_type": "display_data"
    }
   ],
   "source": [
    "fig = px.bar(for_chart.nlargest(20 , 'number_of_couples'), x='pairs_of_products', y='number_of_couples', text_auto='.2s') # Можно ввести кол-во, которое нужно посмотреть\n",
    "fig.show()\n",
    "\n"
   ]
  },
  {
   "cell_type": "code",
   "execution_count": 7,
   "id": "46833e3f",
   "metadata": {},
   "outputs": [
    {
     "name": "stdout",
     "output_type": "stream",
     "text": [
      "Share of CUR-CUR:  43.35 %\n"
     ]
    }
   ],
   "source": [
    "print('Share of CUR-CUR: ', round(3000000 / for_chart['number_of_couples'].sum() * 100,2), '%')"
   ]
  },
  {
   "attachments": {},
   "cell_type": "markdown",
   "id": "b3c4a49e",
   "metadata": {},
   "source": [
    "## Отбираем топ 2 связок продуктов и смотрим как меняются частота миганий в зависимости от различных признаков (lifetime, возраст, пол..)"
   ]
  },
  {
   "attachments": {},
   "cell_type": "markdown",
   "id": "bbfb7a2d",
   "metadata": {},
   "source": [
    "###  - Проверяем изменения на Lifetime по топ 2 продуктам-связок и частоте миганий"
   ]
  },
  {
   "cell_type": "code",
   "execution_count": 8,
   "id": "8e894d20",
   "metadata": {
    "scrolled": true
   },
   "outputs": [
    {
     "name": "stderr",
     "output_type": "stream",
     "text": [
      "/var/folders/3g/twm5z59x18s28jmjj3c3ghfm0000gq/T/ipykernel_2928/2217713509.py:9: SettingWithCopyWarning:\n",
      "\n",
      "\n",
      "A value is trying to be set on a copy of a slice from a DataFrame.\n",
      "Try using .loc[row_indexer,col_indexer] = value instead\n",
      "\n",
      "See the caveats in the documentation: https://pandas.pydata.org/pandas-docs/stable/user_guide/indexing.html#returning-a-view-versus-a-copy\n",
      "\n",
      "/var/folders/3g/twm5z59x18s28jmjj3c3ghfm0000gq/T/ipykernel_2928/2217713509.py:10: SettingWithCopyWarning:\n",
      "\n",
      "\n",
      "A value is trying to be set on a copy of a slice from a DataFrame.\n",
      "Try using .loc[row_indexer,col_indexer] = value instead\n",
      "\n",
      "See the caveats in the documentation: https://pandas.pydata.org/pandas-docs/stable/user_guide/indexing.html#returning-a-view-versus-a-copy\n",
      "\n"
     ]
    },
    {
     "data": {
      "text/html": [
       "<div>\n",
       "<style scoped>\n",
       "    .dataframe tbody tr th:only-of-type {\n",
       "        vertical-align: middle;\n",
       "    }\n",
       "\n",
       "    .dataframe tbody tr th {\n",
       "        vertical-align: top;\n",
       "    }\n",
       "\n",
       "    .dataframe thead th {\n",
       "        text-align: right;\n",
       "    }\n",
       "</style>\n",
       "<table border=\"1\" class=\"dataframe\">\n",
       "  <thead>\n",
       "    <tr style=\"text-align: right;\">\n",
       "      <th>years_after_first_activation</th>\n",
       "      <th>0</th>\n",
       "      <th>1</th>\n",
       "      <th>2</th>\n",
       "      <th>3</th>\n",
       "      <th>4</th>\n",
       "      <th>5</th>\n",
       "      <th>6</th>\n",
       "      <th>7</th>\n",
       "      <th>8</th>\n",
       "      <th>9</th>\n",
       "      <th>10</th>\n",
       "      <th>11</th>\n",
       "      <th>12</th>\n",
       "      <th>13</th>\n",
       "      <th>14</th>\n",
       "      <th>15</th>\n",
       "      <th>16</th>\n",
       "      <th>23</th>\n",
       "    </tr>\n",
       "    <tr>\n",
       "      <th>pairs_of_products</th>\n",
       "      <th></th>\n",
       "      <th></th>\n",
       "      <th></th>\n",
       "      <th></th>\n",
       "      <th></th>\n",
       "      <th></th>\n",
       "      <th></th>\n",
       "      <th></th>\n",
       "      <th></th>\n",
       "      <th></th>\n",
       "      <th></th>\n",
       "      <th></th>\n",
       "      <th></th>\n",
       "      <th></th>\n",
       "      <th></th>\n",
       "      <th></th>\n",
       "      <th></th>\n",
       "      <th></th>\n",
       "    </tr>\n",
       "  </thead>\n",
       "  <tbody>\n",
       "    <tr>\n",
       "      <th>CCR - CCR</th>\n",
       "      <td>39489</td>\n",
       "      <td>129468</td>\n",
       "      <td>179702</td>\n",
       "      <td>99607</td>\n",
       "      <td>100114</td>\n",
       "      <td>62689</td>\n",
       "      <td>46519</td>\n",
       "      <td>26226</td>\n",
       "      <td>13368</td>\n",
       "      <td>15113</td>\n",
       "      <td>14050</td>\n",
       "      <td>8899</td>\n",
       "      <td>7041</td>\n",
       "      <td>1997</td>\n",
       "      <td>1348</td>\n",
       "      <td>1586</td>\n",
       "      <td>18</td>\n",
       "      <td>2528</td>\n",
       "    </tr>\n",
       "    <tr>\n",
       "      <th>CUR - CUR</th>\n",
       "      <td>460998</td>\n",
       "      <td>1414888</td>\n",
       "      <td>782403</td>\n",
       "      <td>328309</td>\n",
       "      <td>246756</td>\n",
       "      <td>143094</td>\n",
       "      <td>101881</td>\n",
       "      <td>63818</td>\n",
       "      <td>32276</td>\n",
       "      <td>35805</td>\n",
       "      <td>35811</td>\n",
       "      <td>26411</td>\n",
       "      <td>20660</td>\n",
       "      <td>5056</td>\n",
       "      <td>3710</td>\n",
       "      <td>5210</td>\n",
       "      <td>50</td>\n",
       "      <td>3953</td>\n",
       "    </tr>\n",
       "  </tbody>\n",
       "</table>\n",
       "</div>"
      ],
      "text/plain": [
       "years_after_first_activation      0        1       2       3       4       5   \\\n",
       "pairs_of_products                                                               \n",
       "CCR - CCR                      39489   129468  179702   99607  100114   62689   \n",
       "CUR - CUR                     460998  1414888  782403  328309  246756  143094   \n",
       "\n",
       "years_after_first_activation      6      7      8      9      10     11  \\\n",
       "pairs_of_products                                                         \n",
       "CCR - CCR                      46519  26226  13368  15113  14050   8899   \n",
       "CUR - CUR                     101881  63818  32276  35805  35811  26411   \n",
       "\n",
       "years_after_first_activation     12    13    14    15  16    23  \n",
       "pairs_of_products                                                \n",
       "CCR - CCR                      7041  1997  1348  1586  18  2528  \n",
       "CUR - CUR                     20660  5056  3710  5210  50  3953  "
      ]
     },
     "execution_count": 8,
     "metadata": {},
     "output_type": "execute_result"
    }
   ],
   "source": [
    "df_top_pairs = df_1[(df_1['pairs_of_products'] == 'CUR - CUR') | (df_1['pairs_of_products'] == 'CCR - CCR')]\n",
    "df_top_pair_4_step = df_1[(df_1['pairs_of_products'] == 'CUR - CUR')]\n",
    "x = tuple(range(16))\n",
    "\n",
    "for_funnel_chart = df_top_pairs.groupby(['pairs_of_products', 'years_after_first_activation'], as_index=False)['party_rk'].count() \\\n",
    "            .rename(columns={'party_rk':'count'}) \\\n",
    "            .query(f\"years_after_first_activation in {x}\", engine='python')\n",
    "\n",
    "df_top_pairs['date_diff_groups'] = pd.cut(df_top_pairs['date_diff'], 3)\n",
    "df_top_pairs['date_diff_groups'] = df_top_pairs['date_diff_groups'].astype(object)\n",
    "\n",
    "df_top_pairs.groupby(['pairs_of_products', 'years_after_first_activation'], as_index=False)['party_rk'].count() \\\n",
    "            .rename(columns={'party_rk':'count'}) \\\n",
    "            .sort_values(['count'], ascending=False) \\\n",
    "            .pivot_table(index='pairs_of_products', columns='years_after_first_activation', values='count', aggfunc='sum') \\\n",
    "            .fillna(0) \\\n",
    "            .astype(int)\n",
    "\n"
   ]
  },
  {
   "attachments": {},
   "cell_type": "markdown",
   "id": "ce1d3bd6",
   "metadata": {},
   "source": [
    "### - Рисуем воронку по данным измений частоты миганий в зависимости от lifetime, чтобы визуализировать результат"
   ]
  },
  {
   "cell_type": "code",
   "execution_count": 9,
   "id": "3ba9f2a1",
   "metadata": {},
   "outputs": [
    {
     "data": {
      "application/vnd.plotly.v1+json": {
       "config": {
        "plotlyServerURL": "https://plot.ly"
       },
       "data": [
        {
         "hovertemplate": "pairs_of_products=CCR - CCR<br>years_after_first_activation=%{x}<br>count=%{y}<extra></extra>",
         "legendgroup": "CCR - CCR",
         "marker": {
          "color": "#636efa"
         },
         "name": "CCR - CCR",
         "orientation": "v",
         "showlegend": true,
         "type": "funnel",
         "x": [
          0,
          1,
          2,
          3,
          4,
          5,
          6,
          7,
          8,
          9,
          10,
          11,
          12,
          13,
          14,
          15
         ],
         "xaxis": "x",
         "y": [
          39489,
          129468,
          179702,
          99607,
          100114,
          62689,
          46519,
          26226,
          13368,
          15113,
          14050,
          8899,
          7041,
          1997,
          1348,
          1586
         ],
         "yaxis": "y"
        },
        {
         "hovertemplate": "pairs_of_products=CUR - CUR<br>years_after_first_activation=%{x}<br>count=%{y}<extra></extra>",
         "legendgroup": "CUR - CUR",
         "marker": {
          "color": "#EF553B"
         },
         "name": "CUR - CUR",
         "orientation": "v",
         "showlegend": true,
         "type": "funnel",
         "x": [
          0,
          1,
          2,
          3,
          4,
          5,
          6,
          7,
          8,
          9,
          10,
          11,
          12,
          13,
          14,
          15
         ],
         "xaxis": "x",
         "y": [
          460998,
          1414888,
          782403,
          328309,
          246756,
          143094,
          101881,
          63818,
          32276,
          35805,
          35811,
          26411,
          20660,
          5056,
          3710,
          5210
         ],
         "yaxis": "y"
        }
       ],
       "layout": {
        "legend": {
         "title": {
          "text": "pairs_of_products"
         },
         "tracegroupgap": 0
        },
        "margin": {
         "t": 60
        },
        "template": {
         "data": {
          "bar": [
           {
            "error_x": {
             "color": "#2a3f5f"
            },
            "error_y": {
             "color": "#2a3f5f"
            },
            "marker": {
             "line": {
              "color": "#E5ECF6",
              "width": 0.5
             },
             "pattern": {
              "fillmode": "overlay",
              "size": 10,
              "solidity": 0.2
             }
            },
            "type": "bar"
           }
          ],
          "barpolar": [
           {
            "marker": {
             "line": {
              "color": "#E5ECF6",
              "width": 0.5
             },
             "pattern": {
              "fillmode": "overlay",
              "size": 10,
              "solidity": 0.2
             }
            },
            "type": "barpolar"
           }
          ],
          "carpet": [
           {
            "aaxis": {
             "endlinecolor": "#2a3f5f",
             "gridcolor": "white",
             "linecolor": "white",
             "minorgridcolor": "white",
             "startlinecolor": "#2a3f5f"
            },
            "baxis": {
             "endlinecolor": "#2a3f5f",
             "gridcolor": "white",
             "linecolor": "white",
             "minorgridcolor": "white",
             "startlinecolor": "#2a3f5f"
            },
            "type": "carpet"
           }
          ],
          "choropleth": [
           {
            "colorbar": {
             "outlinewidth": 0,
             "ticks": ""
            },
            "type": "choropleth"
           }
          ],
          "contour": [
           {
            "colorbar": {
             "outlinewidth": 0,
             "ticks": ""
            },
            "colorscale": [
             [
              0,
              "#0d0887"
             ],
             [
              0.1111111111111111,
              "#46039f"
             ],
             [
              0.2222222222222222,
              "#7201a8"
             ],
             [
              0.3333333333333333,
              "#9c179e"
             ],
             [
              0.4444444444444444,
              "#bd3786"
             ],
             [
              0.5555555555555556,
              "#d8576b"
             ],
             [
              0.6666666666666666,
              "#ed7953"
             ],
             [
              0.7777777777777778,
              "#fb9f3a"
             ],
             [
              0.8888888888888888,
              "#fdca26"
             ],
             [
              1,
              "#f0f921"
             ]
            ],
            "type": "contour"
           }
          ],
          "contourcarpet": [
           {
            "colorbar": {
             "outlinewidth": 0,
             "ticks": ""
            },
            "type": "contourcarpet"
           }
          ],
          "heatmap": [
           {
            "colorbar": {
             "outlinewidth": 0,
             "ticks": ""
            },
            "colorscale": [
             [
              0,
              "#0d0887"
             ],
             [
              0.1111111111111111,
              "#46039f"
             ],
             [
              0.2222222222222222,
              "#7201a8"
             ],
             [
              0.3333333333333333,
              "#9c179e"
             ],
             [
              0.4444444444444444,
              "#bd3786"
             ],
             [
              0.5555555555555556,
              "#d8576b"
             ],
             [
              0.6666666666666666,
              "#ed7953"
             ],
             [
              0.7777777777777778,
              "#fb9f3a"
             ],
             [
              0.8888888888888888,
              "#fdca26"
             ],
             [
              1,
              "#f0f921"
             ]
            ],
            "type": "heatmap"
           }
          ],
          "heatmapgl": [
           {
            "colorbar": {
             "outlinewidth": 0,
             "ticks": ""
            },
            "colorscale": [
             [
              0,
              "#0d0887"
             ],
             [
              0.1111111111111111,
              "#46039f"
             ],
             [
              0.2222222222222222,
              "#7201a8"
             ],
             [
              0.3333333333333333,
              "#9c179e"
             ],
             [
              0.4444444444444444,
              "#bd3786"
             ],
             [
              0.5555555555555556,
              "#d8576b"
             ],
             [
              0.6666666666666666,
              "#ed7953"
             ],
             [
              0.7777777777777778,
              "#fb9f3a"
             ],
             [
              0.8888888888888888,
              "#fdca26"
             ],
             [
              1,
              "#f0f921"
             ]
            ],
            "type": "heatmapgl"
           }
          ],
          "histogram": [
           {
            "marker": {
             "pattern": {
              "fillmode": "overlay",
              "size": 10,
              "solidity": 0.2
             }
            },
            "type": "histogram"
           }
          ],
          "histogram2d": [
           {
            "colorbar": {
             "outlinewidth": 0,
             "ticks": ""
            },
            "colorscale": [
             [
              0,
              "#0d0887"
             ],
             [
              0.1111111111111111,
              "#46039f"
             ],
             [
              0.2222222222222222,
              "#7201a8"
             ],
             [
              0.3333333333333333,
              "#9c179e"
             ],
             [
              0.4444444444444444,
              "#bd3786"
             ],
             [
              0.5555555555555556,
              "#d8576b"
             ],
             [
              0.6666666666666666,
              "#ed7953"
             ],
             [
              0.7777777777777778,
              "#fb9f3a"
             ],
             [
              0.8888888888888888,
              "#fdca26"
             ],
             [
              1,
              "#f0f921"
             ]
            ],
            "type": "histogram2d"
           }
          ],
          "histogram2dcontour": [
           {
            "colorbar": {
             "outlinewidth": 0,
             "ticks": ""
            },
            "colorscale": [
             [
              0,
              "#0d0887"
             ],
             [
              0.1111111111111111,
              "#46039f"
             ],
             [
              0.2222222222222222,
              "#7201a8"
             ],
             [
              0.3333333333333333,
              "#9c179e"
             ],
             [
              0.4444444444444444,
              "#bd3786"
             ],
             [
              0.5555555555555556,
              "#d8576b"
             ],
             [
              0.6666666666666666,
              "#ed7953"
             ],
             [
              0.7777777777777778,
              "#fb9f3a"
             ],
             [
              0.8888888888888888,
              "#fdca26"
             ],
             [
              1,
              "#f0f921"
             ]
            ],
            "type": "histogram2dcontour"
           }
          ],
          "mesh3d": [
           {
            "colorbar": {
             "outlinewidth": 0,
             "ticks": ""
            },
            "type": "mesh3d"
           }
          ],
          "parcoords": [
           {
            "line": {
             "colorbar": {
              "outlinewidth": 0,
              "ticks": ""
             }
            },
            "type": "parcoords"
           }
          ],
          "pie": [
           {
            "automargin": true,
            "type": "pie"
           }
          ],
          "scatter": [
           {
            "fillpattern": {
             "fillmode": "overlay",
             "size": 10,
             "solidity": 0.2
            },
            "type": "scatter"
           }
          ],
          "scatter3d": [
           {
            "line": {
             "colorbar": {
              "outlinewidth": 0,
              "ticks": ""
             }
            },
            "marker": {
             "colorbar": {
              "outlinewidth": 0,
              "ticks": ""
             }
            },
            "type": "scatter3d"
           }
          ],
          "scattercarpet": [
           {
            "marker": {
             "colorbar": {
              "outlinewidth": 0,
              "ticks": ""
             }
            },
            "type": "scattercarpet"
           }
          ],
          "scattergeo": [
           {
            "marker": {
             "colorbar": {
              "outlinewidth": 0,
              "ticks": ""
             }
            },
            "type": "scattergeo"
           }
          ],
          "scattergl": [
           {
            "marker": {
             "colorbar": {
              "outlinewidth": 0,
              "ticks": ""
             }
            },
            "type": "scattergl"
           }
          ],
          "scattermapbox": [
           {
            "marker": {
             "colorbar": {
              "outlinewidth": 0,
              "ticks": ""
             }
            },
            "type": "scattermapbox"
           }
          ],
          "scatterpolar": [
           {
            "marker": {
             "colorbar": {
              "outlinewidth": 0,
              "ticks": ""
             }
            },
            "type": "scatterpolar"
           }
          ],
          "scatterpolargl": [
           {
            "marker": {
             "colorbar": {
              "outlinewidth": 0,
              "ticks": ""
             }
            },
            "type": "scatterpolargl"
           }
          ],
          "scatterternary": [
           {
            "marker": {
             "colorbar": {
              "outlinewidth": 0,
              "ticks": ""
             }
            },
            "type": "scatterternary"
           }
          ],
          "surface": [
           {
            "colorbar": {
             "outlinewidth": 0,
             "ticks": ""
            },
            "colorscale": [
             [
              0,
              "#0d0887"
             ],
             [
              0.1111111111111111,
              "#46039f"
             ],
             [
              0.2222222222222222,
              "#7201a8"
             ],
             [
              0.3333333333333333,
              "#9c179e"
             ],
             [
              0.4444444444444444,
              "#bd3786"
             ],
             [
              0.5555555555555556,
              "#d8576b"
             ],
             [
              0.6666666666666666,
              "#ed7953"
             ],
             [
              0.7777777777777778,
              "#fb9f3a"
             ],
             [
              0.8888888888888888,
              "#fdca26"
             ],
             [
              1,
              "#f0f921"
             ]
            ],
            "type": "surface"
           }
          ],
          "table": [
           {
            "cells": {
             "fill": {
              "color": "#EBF0F8"
             },
             "line": {
              "color": "white"
             }
            },
            "header": {
             "fill": {
              "color": "#C8D4E3"
             },
             "line": {
              "color": "white"
             }
            },
            "type": "table"
           }
          ]
         },
         "layout": {
          "annotationdefaults": {
           "arrowcolor": "#2a3f5f",
           "arrowhead": 0,
           "arrowwidth": 1
          },
          "autotypenumbers": "strict",
          "coloraxis": {
           "colorbar": {
            "outlinewidth": 0,
            "ticks": ""
           }
          },
          "colorscale": {
           "diverging": [
            [
             0,
             "#8e0152"
            ],
            [
             0.1,
             "#c51b7d"
            ],
            [
             0.2,
             "#de77ae"
            ],
            [
             0.3,
             "#f1b6da"
            ],
            [
             0.4,
             "#fde0ef"
            ],
            [
             0.5,
             "#f7f7f7"
            ],
            [
             0.6,
             "#e6f5d0"
            ],
            [
             0.7,
             "#b8e186"
            ],
            [
             0.8,
             "#7fbc41"
            ],
            [
             0.9,
             "#4d9221"
            ],
            [
             1,
             "#276419"
            ]
           ],
           "sequential": [
            [
             0,
             "#0d0887"
            ],
            [
             0.1111111111111111,
             "#46039f"
            ],
            [
             0.2222222222222222,
             "#7201a8"
            ],
            [
             0.3333333333333333,
             "#9c179e"
            ],
            [
             0.4444444444444444,
             "#bd3786"
            ],
            [
             0.5555555555555556,
             "#d8576b"
            ],
            [
             0.6666666666666666,
             "#ed7953"
            ],
            [
             0.7777777777777778,
             "#fb9f3a"
            ],
            [
             0.8888888888888888,
             "#fdca26"
            ],
            [
             1,
             "#f0f921"
            ]
           ],
           "sequentialminus": [
            [
             0,
             "#0d0887"
            ],
            [
             0.1111111111111111,
             "#46039f"
            ],
            [
             0.2222222222222222,
             "#7201a8"
            ],
            [
             0.3333333333333333,
             "#9c179e"
            ],
            [
             0.4444444444444444,
             "#bd3786"
            ],
            [
             0.5555555555555556,
             "#d8576b"
            ],
            [
             0.6666666666666666,
             "#ed7953"
            ],
            [
             0.7777777777777778,
             "#fb9f3a"
            ],
            [
             0.8888888888888888,
             "#fdca26"
            ],
            [
             1,
             "#f0f921"
            ]
           ]
          },
          "colorway": [
           "#636efa",
           "#EF553B",
           "#00cc96",
           "#ab63fa",
           "#FFA15A",
           "#19d3f3",
           "#FF6692",
           "#B6E880",
           "#FF97FF",
           "#FECB52"
          ],
          "font": {
           "color": "#2a3f5f"
          },
          "geo": {
           "bgcolor": "white",
           "lakecolor": "white",
           "landcolor": "#E5ECF6",
           "showlakes": true,
           "showland": true,
           "subunitcolor": "white"
          },
          "hoverlabel": {
           "align": "left"
          },
          "hovermode": "closest",
          "mapbox": {
           "style": "light"
          },
          "paper_bgcolor": "white",
          "plot_bgcolor": "#E5ECF6",
          "polar": {
           "angularaxis": {
            "gridcolor": "white",
            "linecolor": "white",
            "ticks": ""
           },
           "bgcolor": "#E5ECF6",
           "radialaxis": {
            "gridcolor": "white",
            "linecolor": "white",
            "ticks": ""
           }
          },
          "scene": {
           "xaxis": {
            "backgroundcolor": "#E5ECF6",
            "gridcolor": "white",
            "gridwidth": 2,
            "linecolor": "white",
            "showbackground": true,
            "ticks": "",
            "zerolinecolor": "white"
           },
           "yaxis": {
            "backgroundcolor": "#E5ECF6",
            "gridcolor": "white",
            "gridwidth": 2,
            "linecolor": "white",
            "showbackground": true,
            "ticks": "",
            "zerolinecolor": "white"
           },
           "zaxis": {
            "backgroundcolor": "#E5ECF6",
            "gridcolor": "white",
            "gridwidth": 2,
            "linecolor": "white",
            "showbackground": true,
            "ticks": "",
            "zerolinecolor": "white"
           }
          },
          "shapedefaults": {
           "line": {
            "color": "#2a3f5f"
           }
          },
          "ternary": {
           "aaxis": {
            "gridcolor": "white",
            "linecolor": "white",
            "ticks": ""
           },
           "baxis": {
            "gridcolor": "white",
            "linecolor": "white",
            "ticks": ""
           },
           "bgcolor": "#E5ECF6",
           "caxis": {
            "gridcolor": "white",
            "linecolor": "white",
            "ticks": ""
           }
          },
          "title": {
           "x": 0.05
          },
          "xaxis": {
           "automargin": true,
           "gridcolor": "white",
           "linecolor": "white",
           "ticks": "",
           "title": {
            "standoff": 15
           },
           "zerolinecolor": "white",
           "zerolinewidth": 2
          },
          "yaxis": {
           "automargin": true,
           "gridcolor": "white",
           "linecolor": "white",
           "ticks": "",
           "title": {
            "standoff": 15
           },
           "zerolinecolor": "white",
           "zerolinewidth": 2
          }
         }
        },
        "xaxis": {
         "anchor": "y",
         "domain": [
          0,
          1
         ],
         "title": {
          "text": "years_after_first_activation"
         }
        },
        "yaxis": {
         "anchor": "x",
         "domain": [
          0,
          1
         ],
         "title": {
          "text": "count"
         }
        }
       }
      }
     },
     "metadata": {},
     "output_type": "display_data"
    }
   ],
   "source": [
    "fig_1 = px.funnel(for_funnel_chart, x='years_after_first_activation', y='count', color='pairs_of_products')\n",
    "fig_1.show()"
   ]
  },
  {
   "attachments": {},
   "cell_type": "markdown",
   "id": "f41b4287",
   "metadata": {},
   "source": [
    "### - Проверяем изменения на группе данных по кол-ву дней миганий (Неактивного статуса)"
   ]
  },
  {
   "cell_type": "code",
   "execution_count": 10,
   "id": "e63c6b97",
   "metadata": {
    "scrolled": true
   },
   "outputs": [
    {
     "data": {
      "text/html": [
       "<div>\n",
       "<style scoped>\n",
       "    .dataframe tbody tr th:only-of-type {\n",
       "        vertical-align: middle;\n",
       "    }\n",
       "\n",
       "    .dataframe tbody tr th {\n",
       "        vertical-align: top;\n",
       "    }\n",
       "\n",
       "    .dataframe thead th {\n",
       "        text-align: right;\n",
       "    }\n",
       "</style>\n",
       "<table border=\"1\" class=\"dataframe\">\n",
       "  <thead>\n",
       "    <tr style=\"text-align: right;\">\n",
       "      <th>date_diff_groups</th>\n",
       "      <th>(29.94, 50.0]</th>\n",
       "      <th>(50.0, 70.0]</th>\n",
       "      <th>(70.0, 90.0]</th>\n",
       "    </tr>\n",
       "    <tr>\n",
       "      <th>pairs_of_products</th>\n",
       "      <th></th>\n",
       "      <th></th>\n",
       "      <th></th>\n",
       "    </tr>\n",
       "  </thead>\n",
       "  <tbody>\n",
       "    <tr>\n",
       "      <th>CCR - CCR</th>\n",
       "      <td>437191</td>\n",
       "      <td>206975</td>\n",
       "      <td>105596</td>\n",
       "    </tr>\n",
       "    <tr>\n",
       "      <th>CUR - CUR</th>\n",
       "      <td>1959059</td>\n",
       "      <td>1072764</td>\n",
       "      <td>679266</td>\n",
       "    </tr>\n",
       "  </tbody>\n",
       "</table>\n",
       "</div>"
      ],
      "text/plain": [
       "date_diff_groups   (29.94, 50.0]  (50.0, 70.0]  (70.0, 90.0]\n",
       "pairs_of_products                                           \n",
       "CCR - CCR                 437191        206975        105596\n",
       "CUR - CUR                1959059       1072764        679266"
      ]
     },
     "execution_count": 10,
     "metadata": {},
     "output_type": "execute_result"
    }
   ],
   "source": [
    "df_top_pairs.groupby(['pairs_of_products', 'date_diff_groups'], as_index=False)['party_rk'].count() \\\n",
    "            .pivot_table(index='pairs_of_products', columns='date_diff_groups', values='party_rk', aggfunc='sum')\n"
   ]
  },
  {
   "attachments": {},
   "cell_type": "markdown",
   "id": "e12c0467",
   "metadata": {},
   "source": [
    "### - Проверяем изменения на топ 10 записях по городам и частоте миганий"
   ]
  },
  {
   "cell_type": "code",
   "execution_count": 11,
   "id": "8664a8d1",
   "metadata": {},
   "outputs": [
    {
     "data": {
      "application/vnd.plotly.v1+json": {
       "config": {
        "plotlyServerURL": "https://plot.ly"
       },
       "data": [
        {
         "hovertemplate": "pairs_of_products=CUR - CUR<br>lvn_state_nm=%{x}<br>party_rk=%{y}<extra></extra>",
         "legendgroup": "CUR - CUR",
         "marker": {
          "color": "#636efa"
         },
         "name": "CUR - CUR",
         "orientation": "v",
         "showlegend": true,
         "type": "funnel",
         "x": [
          "Г МОСКВА",
          "МОСКОВСКАЯ ОБЛ",
          "КРАСНОДАРСКИЙ КРАЙ",
          "Г САНКТ-ПЕТЕРБУРГ",
          "РЕСП БАШКОРТОСТАН",
          "РЕСП ТАТАРСТАН",
          "РОСТОВСКАЯ ОБЛ",
          "НОВОСИБИРСКАЯ ОБЛ",
          "НИЖЕГОРОДСКАЯ ОБЛ",
          "ПЕРМСКИЙ КРАЙ"
         ],
         "xaxis": "x",
         "y": [
          295736,
          214912,
          132719,
          130874,
          102837,
          99703,
          71324,
          54227,
          53654,
          52237
         ],
         "yaxis": "y"
        },
        {
         "hovertemplate": "pairs_of_products=CCR - CCR<br>lvn_state_nm=%{x}<br>party_rk=%{y}<extra></extra>",
         "legendgroup": "CCR - CCR",
         "marker": {
          "color": "#EF553B"
         },
         "name": "CCR - CCR",
         "orientation": "v",
         "showlegend": true,
         "type": "funnel",
         "x": [
          "Г МОСКВА",
          "МОСКОВСКАЯ ОБЛ",
          "КРАСНОДАРСКИЙ КРАЙ",
          "Г САНКТ-ПЕТЕРБУРГ",
          "РЕСП БАШКОРТОСТАН",
          "РЕСП ТАТАРСТАН",
          "РОСТОВСКАЯ ОБЛ",
          "НОВОСИБИРСКАЯ ОБЛ",
          "НИЖЕГОРОДСКАЯ ОБЛ",
          "ПЕРМСКИЙ КРАЙ"
         ],
         "xaxis": "x",
         "y": [
          70277,
          53798,
          37774,
          35418,
          21690,
          21502,
          20327,
          15330,
          14196,
          13157
         ],
         "yaxis": "y"
        }
       ],
       "layout": {
        "legend": {
         "title": {
          "text": "pairs_of_products"
         },
         "tracegroupgap": 0
        },
        "margin": {
         "t": 60
        },
        "template": {
         "data": {
          "bar": [
           {
            "error_x": {
             "color": "#2a3f5f"
            },
            "error_y": {
             "color": "#2a3f5f"
            },
            "marker": {
             "line": {
              "color": "#E5ECF6",
              "width": 0.5
             },
             "pattern": {
              "fillmode": "overlay",
              "size": 10,
              "solidity": 0.2
             }
            },
            "type": "bar"
           }
          ],
          "barpolar": [
           {
            "marker": {
             "line": {
              "color": "#E5ECF6",
              "width": 0.5
             },
             "pattern": {
              "fillmode": "overlay",
              "size": 10,
              "solidity": 0.2
             }
            },
            "type": "barpolar"
           }
          ],
          "carpet": [
           {
            "aaxis": {
             "endlinecolor": "#2a3f5f",
             "gridcolor": "white",
             "linecolor": "white",
             "minorgridcolor": "white",
             "startlinecolor": "#2a3f5f"
            },
            "baxis": {
             "endlinecolor": "#2a3f5f",
             "gridcolor": "white",
             "linecolor": "white",
             "minorgridcolor": "white",
             "startlinecolor": "#2a3f5f"
            },
            "type": "carpet"
           }
          ],
          "choropleth": [
           {
            "colorbar": {
             "outlinewidth": 0,
             "ticks": ""
            },
            "type": "choropleth"
           }
          ],
          "contour": [
           {
            "colorbar": {
             "outlinewidth": 0,
             "ticks": ""
            },
            "colorscale": [
             [
              0,
              "#0d0887"
             ],
             [
              0.1111111111111111,
              "#46039f"
             ],
             [
              0.2222222222222222,
              "#7201a8"
             ],
             [
              0.3333333333333333,
              "#9c179e"
             ],
             [
              0.4444444444444444,
              "#bd3786"
             ],
             [
              0.5555555555555556,
              "#d8576b"
             ],
             [
              0.6666666666666666,
              "#ed7953"
             ],
             [
              0.7777777777777778,
              "#fb9f3a"
             ],
             [
              0.8888888888888888,
              "#fdca26"
             ],
             [
              1,
              "#f0f921"
             ]
            ],
            "type": "contour"
           }
          ],
          "contourcarpet": [
           {
            "colorbar": {
             "outlinewidth": 0,
             "ticks": ""
            },
            "type": "contourcarpet"
           }
          ],
          "heatmap": [
           {
            "colorbar": {
             "outlinewidth": 0,
             "ticks": ""
            },
            "colorscale": [
             [
              0,
              "#0d0887"
             ],
             [
              0.1111111111111111,
              "#46039f"
             ],
             [
              0.2222222222222222,
              "#7201a8"
             ],
             [
              0.3333333333333333,
              "#9c179e"
             ],
             [
              0.4444444444444444,
              "#bd3786"
             ],
             [
              0.5555555555555556,
              "#d8576b"
             ],
             [
              0.6666666666666666,
              "#ed7953"
             ],
             [
              0.7777777777777778,
              "#fb9f3a"
             ],
             [
              0.8888888888888888,
              "#fdca26"
             ],
             [
              1,
              "#f0f921"
             ]
            ],
            "type": "heatmap"
           }
          ],
          "heatmapgl": [
           {
            "colorbar": {
             "outlinewidth": 0,
             "ticks": ""
            },
            "colorscale": [
             [
              0,
              "#0d0887"
             ],
             [
              0.1111111111111111,
              "#46039f"
             ],
             [
              0.2222222222222222,
              "#7201a8"
             ],
             [
              0.3333333333333333,
              "#9c179e"
             ],
             [
              0.4444444444444444,
              "#bd3786"
             ],
             [
              0.5555555555555556,
              "#d8576b"
             ],
             [
              0.6666666666666666,
              "#ed7953"
             ],
             [
              0.7777777777777778,
              "#fb9f3a"
             ],
             [
              0.8888888888888888,
              "#fdca26"
             ],
             [
              1,
              "#f0f921"
             ]
            ],
            "type": "heatmapgl"
           }
          ],
          "histogram": [
           {
            "marker": {
             "pattern": {
              "fillmode": "overlay",
              "size": 10,
              "solidity": 0.2
             }
            },
            "type": "histogram"
           }
          ],
          "histogram2d": [
           {
            "colorbar": {
             "outlinewidth": 0,
             "ticks": ""
            },
            "colorscale": [
             [
              0,
              "#0d0887"
             ],
             [
              0.1111111111111111,
              "#46039f"
             ],
             [
              0.2222222222222222,
              "#7201a8"
             ],
             [
              0.3333333333333333,
              "#9c179e"
             ],
             [
              0.4444444444444444,
              "#bd3786"
             ],
             [
              0.5555555555555556,
              "#d8576b"
             ],
             [
              0.6666666666666666,
              "#ed7953"
             ],
             [
              0.7777777777777778,
              "#fb9f3a"
             ],
             [
              0.8888888888888888,
              "#fdca26"
             ],
             [
              1,
              "#f0f921"
             ]
            ],
            "type": "histogram2d"
           }
          ],
          "histogram2dcontour": [
           {
            "colorbar": {
             "outlinewidth": 0,
             "ticks": ""
            },
            "colorscale": [
             [
              0,
              "#0d0887"
             ],
             [
              0.1111111111111111,
              "#46039f"
             ],
             [
              0.2222222222222222,
              "#7201a8"
             ],
             [
              0.3333333333333333,
              "#9c179e"
             ],
             [
              0.4444444444444444,
              "#bd3786"
             ],
             [
              0.5555555555555556,
              "#d8576b"
             ],
             [
              0.6666666666666666,
              "#ed7953"
             ],
             [
              0.7777777777777778,
              "#fb9f3a"
             ],
             [
              0.8888888888888888,
              "#fdca26"
             ],
             [
              1,
              "#f0f921"
             ]
            ],
            "type": "histogram2dcontour"
           }
          ],
          "mesh3d": [
           {
            "colorbar": {
             "outlinewidth": 0,
             "ticks": ""
            },
            "type": "mesh3d"
           }
          ],
          "parcoords": [
           {
            "line": {
             "colorbar": {
              "outlinewidth": 0,
              "ticks": ""
             }
            },
            "type": "parcoords"
           }
          ],
          "pie": [
           {
            "automargin": true,
            "type": "pie"
           }
          ],
          "scatter": [
           {
            "fillpattern": {
             "fillmode": "overlay",
             "size": 10,
             "solidity": 0.2
            },
            "type": "scatter"
           }
          ],
          "scatter3d": [
           {
            "line": {
             "colorbar": {
              "outlinewidth": 0,
              "ticks": ""
             }
            },
            "marker": {
             "colorbar": {
              "outlinewidth": 0,
              "ticks": ""
             }
            },
            "type": "scatter3d"
           }
          ],
          "scattercarpet": [
           {
            "marker": {
             "colorbar": {
              "outlinewidth": 0,
              "ticks": ""
             }
            },
            "type": "scattercarpet"
           }
          ],
          "scattergeo": [
           {
            "marker": {
             "colorbar": {
              "outlinewidth": 0,
              "ticks": ""
             }
            },
            "type": "scattergeo"
           }
          ],
          "scattergl": [
           {
            "marker": {
             "colorbar": {
              "outlinewidth": 0,
              "ticks": ""
             }
            },
            "type": "scattergl"
           }
          ],
          "scattermapbox": [
           {
            "marker": {
             "colorbar": {
              "outlinewidth": 0,
              "ticks": ""
             }
            },
            "type": "scattermapbox"
           }
          ],
          "scatterpolar": [
           {
            "marker": {
             "colorbar": {
              "outlinewidth": 0,
              "ticks": ""
             }
            },
            "type": "scatterpolar"
           }
          ],
          "scatterpolargl": [
           {
            "marker": {
             "colorbar": {
              "outlinewidth": 0,
              "ticks": ""
             }
            },
            "type": "scatterpolargl"
           }
          ],
          "scatterternary": [
           {
            "marker": {
             "colorbar": {
              "outlinewidth": 0,
              "ticks": ""
             }
            },
            "type": "scatterternary"
           }
          ],
          "surface": [
           {
            "colorbar": {
             "outlinewidth": 0,
             "ticks": ""
            },
            "colorscale": [
             [
              0,
              "#0d0887"
             ],
             [
              0.1111111111111111,
              "#46039f"
             ],
             [
              0.2222222222222222,
              "#7201a8"
             ],
             [
              0.3333333333333333,
              "#9c179e"
             ],
             [
              0.4444444444444444,
              "#bd3786"
             ],
             [
              0.5555555555555556,
              "#d8576b"
             ],
             [
              0.6666666666666666,
              "#ed7953"
             ],
             [
              0.7777777777777778,
              "#fb9f3a"
             ],
             [
              0.8888888888888888,
              "#fdca26"
             ],
             [
              1,
              "#f0f921"
             ]
            ],
            "type": "surface"
           }
          ],
          "table": [
           {
            "cells": {
             "fill": {
              "color": "#EBF0F8"
             },
             "line": {
              "color": "white"
             }
            },
            "header": {
             "fill": {
              "color": "#C8D4E3"
             },
             "line": {
              "color": "white"
             }
            },
            "type": "table"
           }
          ]
         },
         "layout": {
          "annotationdefaults": {
           "arrowcolor": "#2a3f5f",
           "arrowhead": 0,
           "arrowwidth": 1
          },
          "autotypenumbers": "strict",
          "coloraxis": {
           "colorbar": {
            "outlinewidth": 0,
            "ticks": ""
           }
          },
          "colorscale": {
           "diverging": [
            [
             0,
             "#8e0152"
            ],
            [
             0.1,
             "#c51b7d"
            ],
            [
             0.2,
             "#de77ae"
            ],
            [
             0.3,
             "#f1b6da"
            ],
            [
             0.4,
             "#fde0ef"
            ],
            [
             0.5,
             "#f7f7f7"
            ],
            [
             0.6,
             "#e6f5d0"
            ],
            [
             0.7,
             "#b8e186"
            ],
            [
             0.8,
             "#7fbc41"
            ],
            [
             0.9,
             "#4d9221"
            ],
            [
             1,
             "#276419"
            ]
           ],
           "sequential": [
            [
             0,
             "#0d0887"
            ],
            [
             0.1111111111111111,
             "#46039f"
            ],
            [
             0.2222222222222222,
             "#7201a8"
            ],
            [
             0.3333333333333333,
             "#9c179e"
            ],
            [
             0.4444444444444444,
             "#bd3786"
            ],
            [
             0.5555555555555556,
             "#d8576b"
            ],
            [
             0.6666666666666666,
             "#ed7953"
            ],
            [
             0.7777777777777778,
             "#fb9f3a"
            ],
            [
             0.8888888888888888,
             "#fdca26"
            ],
            [
             1,
             "#f0f921"
            ]
           ],
           "sequentialminus": [
            [
             0,
             "#0d0887"
            ],
            [
             0.1111111111111111,
             "#46039f"
            ],
            [
             0.2222222222222222,
             "#7201a8"
            ],
            [
             0.3333333333333333,
             "#9c179e"
            ],
            [
             0.4444444444444444,
             "#bd3786"
            ],
            [
             0.5555555555555556,
             "#d8576b"
            ],
            [
             0.6666666666666666,
             "#ed7953"
            ],
            [
             0.7777777777777778,
             "#fb9f3a"
            ],
            [
             0.8888888888888888,
             "#fdca26"
            ],
            [
             1,
             "#f0f921"
            ]
           ]
          },
          "colorway": [
           "#636efa",
           "#EF553B",
           "#00cc96",
           "#ab63fa",
           "#FFA15A",
           "#19d3f3",
           "#FF6692",
           "#B6E880",
           "#FF97FF",
           "#FECB52"
          ],
          "font": {
           "color": "#2a3f5f"
          },
          "geo": {
           "bgcolor": "white",
           "lakecolor": "white",
           "landcolor": "#E5ECF6",
           "showlakes": true,
           "showland": true,
           "subunitcolor": "white"
          },
          "hoverlabel": {
           "align": "left"
          },
          "hovermode": "closest",
          "mapbox": {
           "style": "light"
          },
          "paper_bgcolor": "white",
          "plot_bgcolor": "#E5ECF6",
          "polar": {
           "angularaxis": {
            "gridcolor": "white",
            "linecolor": "white",
            "ticks": ""
           },
           "bgcolor": "#E5ECF6",
           "radialaxis": {
            "gridcolor": "white",
            "linecolor": "white",
            "ticks": ""
           }
          },
          "scene": {
           "xaxis": {
            "backgroundcolor": "#E5ECF6",
            "gridcolor": "white",
            "gridwidth": 2,
            "linecolor": "white",
            "showbackground": true,
            "ticks": "",
            "zerolinecolor": "white"
           },
           "yaxis": {
            "backgroundcolor": "#E5ECF6",
            "gridcolor": "white",
            "gridwidth": 2,
            "linecolor": "white",
            "showbackground": true,
            "ticks": "",
            "zerolinecolor": "white"
           },
           "zaxis": {
            "backgroundcolor": "#E5ECF6",
            "gridcolor": "white",
            "gridwidth": 2,
            "linecolor": "white",
            "showbackground": true,
            "ticks": "",
            "zerolinecolor": "white"
           }
          },
          "shapedefaults": {
           "line": {
            "color": "#2a3f5f"
           }
          },
          "ternary": {
           "aaxis": {
            "gridcolor": "white",
            "linecolor": "white",
            "ticks": ""
           },
           "baxis": {
            "gridcolor": "white",
            "linecolor": "white",
            "ticks": ""
           },
           "bgcolor": "#E5ECF6",
           "caxis": {
            "gridcolor": "white",
            "linecolor": "white",
            "ticks": ""
           }
          },
          "title": {
           "x": 0.05
          },
          "xaxis": {
           "automargin": true,
           "gridcolor": "white",
           "linecolor": "white",
           "ticks": "",
           "title": {
            "standoff": 15
           },
           "zerolinecolor": "white",
           "zerolinewidth": 2
          },
          "yaxis": {
           "automargin": true,
           "gridcolor": "white",
           "linecolor": "white",
           "ticks": "",
           "title": {
            "standoff": 15
           },
           "zerolinecolor": "white",
           "zerolinewidth": 2
          }
         }
        },
        "xaxis": {
         "anchor": "y",
         "domain": [
          0,
          1
         ],
         "title": {
          "text": "lvn_state_nm"
         }
        },
        "yaxis": {
         "anchor": "x",
         "domain": [
          0,
          1
         ],
         "title": {
          "text": "party_rk"
         }
        }
       }
      }
     },
     "metadata": {},
     "output_type": "display_data"
    }
   ],
   "source": [
    "for_funnel_3 = df_top_pairs.groupby(['pairs_of_products', 'lvn_state_nm'], as_index=False)['party_rk'].count() \\\n",
    "            .sort_values(['party_rk', 'lvn_state_nm', 'pairs_of_products'], ascending=False) \\\n",
    "            .reset_index(drop=True) \\\n",
    "            .query(\"lvn_state_nm in ('Г МОСКВА', 'Г САНКТ-ПЕТЕРБУРГ', 'КРАСНОДАРСКИЙ КРАЙ', 'МОСКОВСКАЯ ОБЛ', 'НИЖЕГОРОДСКАЯ ОБЛ', 'НОВОСИБИРСКАЯ ОБЛ', 'ПЕРМСКИЙ КРАЙ', 'РЕСП БАШКОРТОСТАН', 'РЕСП ТАТАРСТАН', 'РОСТОВСКАЯ ОБЛ')\") \\\n",
    "#             .pivot_table(index='pairs_of_products', columns='lvn_state_nm', values='party_rk', aggfunc='sum') \\\n",
    "#             .fillna(0) \\\n",
    "#             .astype(int)\n",
    "\n",
    "fig_2 = px.funnel(for_funnel_3, x='lvn_state_nm', y='party_rk', color='pairs_of_products')\n",
    "fig_2.show()"
   ]
  },
  {
   "attachments": {},
   "cell_type": "markdown",
   "id": "d65b0c66",
   "metadata": {},
   "source": [
    "--------\n",
    "# Step - 4. Погружаемся в CUR-CUR связку по продуктам и исследуем клиентов по различным признакам (Факторный анализ) и группам (Кластерный анализ). \n",
    "## Смотрим клиентов, которые ведут активность с 2022-01-01, но первый продукт у них появился <2021-12-31, чтобы исключить тех, кто пришел в выбранный для анализа период впервые и активировал продукт\n",
    "## 'outflow_number' - номер мигания, какой по счету раз клиент попадает в статус неактивного за выбранный период\n",
    "\n",
    "\n",
    "--------"
   ]
  },
  {
   "cell_type": "code",
   "execution_count": 12,
   "id": "8bbb10ef",
   "metadata": {},
   "outputs": [
    {
     "name": "stdout",
     "output_type": "stream",
     "text": [
      "Columns:  ['party_rk', 'financial_account_subtype_cd', 'next_product', 'product_concat', 'active_flg', 'valid_from_dt', 'valid_to_dt', 'first_date_by_product_client', 'next_dttm', 'start_status', 'age', 'gender_cd', 'children_cnt', 'lvn_state_nm', 'monthly_income_amt', 'non_resident_flg', 'date_diff', 'days_after_first_activation', 'years_after_first_activation', 'days_after_first_activation_by_product', 'years_after_first_activation_by_product', 'years_after_first_activation_by_product_groups', 'diff_active_status_days', 'diff_active_status_days_groups', 'outflow_number', 'age_groups', 'outflow_number_groups', 'monthly_income_amt_groups', 'years_after_first_activation_groups', 'year_month_from', 'year_month_to', 'pairs_of_products']\n"
     ]
    },
    {
     "data": {
      "text/html": [
       "<div>\n",
       "<style scoped>\n",
       "    .dataframe tbody tr th:only-of-type {\n",
       "        vertical-align: middle;\n",
       "    }\n",
       "\n",
       "    .dataframe tbody tr th {\n",
       "        vertical-align: top;\n",
       "    }\n",
       "\n",
       "    .dataframe thead th {\n",
       "        text-align: right;\n",
       "    }\n",
       "</style>\n",
       "<table border=\"1\" class=\"dataframe\">\n",
       "  <thead>\n",
       "    <tr style=\"text-align: right;\">\n",
       "      <th></th>\n",
       "      <th>party_rk</th>\n",
       "      <th>financial_account_subtype_cd</th>\n",
       "      <th>next_product</th>\n",
       "      <th>product_concat</th>\n",
       "      <th>active_flg</th>\n",
       "      <th>valid_from_dt</th>\n",
       "      <th>valid_to_dt</th>\n",
       "      <th>first_date_by_product_client</th>\n",
       "      <th>next_dttm</th>\n",
       "      <th>start_status</th>\n",
       "      <th>...</th>\n",
       "      <th>diff_active_status_days</th>\n",
       "      <th>diff_active_status_days_groups</th>\n",
       "      <th>outflow_number</th>\n",
       "      <th>age_groups</th>\n",
       "      <th>outflow_number_groups</th>\n",
       "      <th>monthly_income_amt_groups</th>\n",
       "      <th>years_after_first_activation_groups</th>\n",
       "      <th>year_month_from</th>\n",
       "      <th>year_month_to</th>\n",
       "      <th>pairs_of_products</th>\n",
       "    </tr>\n",
       "  </thead>\n",
       "  <tbody>\n",
       "    <tr>\n",
       "      <th>0</th>\n",
       "      <td>518911654</td>\n",
       "      <td>CUR</td>\n",
       "      <td>CUR</td>\n",
       "      <td>CUR - CUR</td>\n",
       "      <td>1</td>\n",
       "      <td>2023-02-19</td>\n",
       "      <td>2023-03-21</td>\n",
       "      <td>2020-07-22</td>\n",
       "      <td>2023-05-08</td>\n",
       "      <td>re_active</td>\n",
       "      <td>...</td>\n",
       "      <td>30</td>\n",
       "      <td>0-30</td>\n",
       "      <td>4</td>\n",
       "      <td>18-25</td>\n",
       "      <td>3-4</td>\n",
       "      <td>30.001-60.000</td>\n",
       "      <td>0-3</td>\n",
       "      <td>2023-02</td>\n",
       "      <td>2023-03</td>\n",
       "      <td>CUR - CUR</td>\n",
       "    </tr>\n",
       "    <tr>\n",
       "      <th>2</th>\n",
       "      <td>758025234</td>\n",
       "      <td>CUR</td>\n",
       "      <td>CUR</td>\n",
       "      <td>CUR - CUR</td>\n",
       "      <td>1</td>\n",
       "      <td>2022-06-18</td>\n",
       "      <td>2022-08-08</td>\n",
       "      <td>2021-10-28</td>\n",
       "      <td>2022-09-14</td>\n",
       "      <td>re_active</td>\n",
       "      <td>...</td>\n",
       "      <td>51</td>\n",
       "      <td>31-60</td>\n",
       "      <td>1</td>\n",
       "      <td>56 and over</td>\n",
       "      <td>1-2</td>\n",
       "      <td>10.000-30.000</td>\n",
       "      <td>0-3</td>\n",
       "      <td>2022-06</td>\n",
       "      <td>2022-08</td>\n",
       "      <td>CUR - CUR</td>\n",
       "    </tr>\n",
       "    <tr>\n",
       "      <th>10</th>\n",
       "      <td>642412963</td>\n",
       "      <td>CUR</td>\n",
       "      <td>CUR</td>\n",
       "      <td>CUR - CUR</td>\n",
       "      <td>1</td>\n",
       "      <td>2022-07-17</td>\n",
       "      <td>2022-09-03</td>\n",
       "      <td>2021-02-14</td>\n",
       "      <td>2022-10-24</td>\n",
       "      <td>re_active</td>\n",
       "      <td>...</td>\n",
       "      <td>48</td>\n",
       "      <td>31-60</td>\n",
       "      <td>1</td>\n",
       "      <td>26-30</td>\n",
       "      <td>1-2</td>\n",
       "      <td>30.001-60.000</td>\n",
       "      <td>4-7</td>\n",
       "      <td>2022-07</td>\n",
       "      <td>2022-09</td>\n",
       "      <td>CUR - CUR</td>\n",
       "    </tr>\n",
       "    <tr>\n",
       "      <th>21</th>\n",
       "      <td>552710759</td>\n",
       "      <td>CUR</td>\n",
       "      <td>CUR</td>\n",
       "      <td>CUR - CUR</td>\n",
       "      <td>1</td>\n",
       "      <td>2022-02-05</td>\n",
       "      <td>2022-04-04</td>\n",
       "      <td>2020-10-30</td>\n",
       "      <td>2022-05-06</td>\n",
       "      <td>re_active</td>\n",
       "      <td>...</td>\n",
       "      <td>58</td>\n",
       "      <td>31-60</td>\n",
       "      <td>1</td>\n",
       "      <td>31-35</td>\n",
       "      <td>1-2</td>\n",
       "      <td>30.001-60.000</td>\n",
       "      <td>0-3</td>\n",
       "      <td>2022-02</td>\n",
       "      <td>2022-04</td>\n",
       "      <td>CUR - CUR</td>\n",
       "    </tr>\n",
       "    <tr>\n",
       "      <th>25</th>\n",
       "      <td>758623236</td>\n",
       "      <td>CUR</td>\n",
       "      <td>CUR</td>\n",
       "      <td>CUR - CUR</td>\n",
       "      <td>1</td>\n",
       "      <td>2022-03-21</td>\n",
       "      <td>2022-05-18</td>\n",
       "      <td>2021-10-29</td>\n",
       "      <td>2022-07-21</td>\n",
       "      <td>re_active</td>\n",
       "      <td>...</td>\n",
       "      <td>58</td>\n",
       "      <td>31-60</td>\n",
       "      <td>1</td>\n",
       "      <td>18-25</td>\n",
       "      <td>1-2</td>\n",
       "      <td>NaN</td>\n",
       "      <td>0-3</td>\n",
       "      <td>2022-03</td>\n",
       "      <td>2022-05</td>\n",
       "      <td>CUR - CUR</td>\n",
       "    </tr>\n",
       "  </tbody>\n",
       "</table>\n",
       "<p>5 rows × 32 columns</p>\n",
       "</div>"
      ],
      "text/plain": [
       "     party_rk financial_account_subtype_cd next_product product_concat  \\\n",
       "0   518911654                          CUR          CUR      CUR - CUR   \n",
       "2   758025234                          CUR          CUR      CUR - CUR   \n",
       "10  642412963                          CUR          CUR      CUR - CUR   \n",
       "21  552710759                          CUR          CUR      CUR - CUR   \n",
       "25  758623236                          CUR          CUR      CUR - CUR   \n",
       "\n",
       "   active_flg valid_from_dt valid_to_dt first_date_by_product_client  \\\n",
       "0           1    2023-02-19  2023-03-21                   2020-07-22   \n",
       "2           1    2022-06-18  2022-08-08                   2021-10-28   \n",
       "10          1    2022-07-17  2022-09-03                   2021-02-14   \n",
       "21          1    2022-02-05  2022-04-04                   2020-10-30   \n",
       "25          1    2022-03-21  2022-05-18                   2021-10-29   \n",
       "\n",
       "     next_dttm start_status  ... diff_active_status_days  \\\n",
       "0   2023-05-08    re_active  ...                      30   \n",
       "2   2022-09-14    re_active  ...                      51   \n",
       "10  2022-10-24    re_active  ...                      48   \n",
       "21  2022-05-06    re_active  ...                      58   \n",
       "25  2022-07-21    re_active  ...                      58   \n",
       "\n",
       "   diff_active_status_days_groups outflow_number   age_groups  \\\n",
       "0                            0-30              4        18-25   \n",
       "2                           31-60              1  56 and over   \n",
       "10                          31-60              1        26-30   \n",
       "21                          31-60              1        31-35   \n",
       "25                          31-60              1        18-25   \n",
       "\n",
       "    outflow_number_groups monthly_income_amt_groups  \\\n",
       "0                     3-4             30.001-60.000   \n",
       "2                     1-2             10.000-30.000   \n",
       "10                    1-2             30.001-60.000   \n",
       "21                    1-2             30.001-60.000   \n",
       "25                    1-2                       NaN   \n",
       "\n",
       "    years_after_first_activation_groups  year_month_from  year_month_to  \\\n",
       "0                                   0-3          2023-02        2023-03   \n",
       "2                                   0-3          2022-06        2022-08   \n",
       "10                                  4-7          2022-07        2022-09   \n",
       "21                                  0-3          2022-02        2022-04   \n",
       "25                                  0-3          2022-03        2022-05   \n",
       "\n",
       "    pairs_of_products  \n",
       "0           CUR - CUR  \n",
       "2           CUR - CUR  \n",
       "10          CUR - CUR  \n",
       "21          CUR - CUR  \n",
       "25          CUR - CUR  \n",
       "\n",
       "[5 rows x 32 columns]"
      ]
     },
     "execution_count": 12,
     "metadata": {},
     "output_type": "execute_result"
    }
   ],
   "source": [
    "print('Columns: ', list(df_top_pair_4_step.columns))\n",
    "\n",
    "df_top_pair_4_step = df_top_pair_4_step.query(\"first_date_by_product_client < '2021-12-31'\")\n",
    "\n",
    "df_top_pair_4_step.head()"
   ]
  },
  {
   "attachments": {},
   "cell_type": "markdown",
   "id": "ae5277eb",
   "metadata": {},
   "source": [
    "### Смотрим графически топ 10 городов по кол-ву миганий"
   ]
  },
  {
   "cell_type": "code",
   "execution_count": 13,
   "id": "5836d25d",
   "metadata": {},
   "outputs": [
    {
     "data": {
      "application/vnd.plotly.v1+json": {
       "config": {
        "plotlyServerURL": "https://plot.ly"
       },
       "data": [
        {
         "alignmentgroup": "True",
         "hovertemplate": "lvn_state_nm=%{x}<br>outflow_number=%{y}<extra></extra>",
         "legendgroup": "",
         "marker": {
          "color": "#636efa",
          "pattern": {
           "shape": ""
          }
         },
         "name": "",
         "offsetgroup": "",
         "orientation": "v",
         "showlegend": false,
         "textposition": "auto",
         "type": "bar",
         "x": [
          "ОБЛ.ВОЛГОГРАДСКАЯ",
          "АО. ХАНТЫ-МАНСИЙСКИЙ АВТОНОМНЫЙ ОКРУГ - ЮГРА",
          "ОБЛ. ЯРОСЛАВСКАЯ",
          "МОГИЛЁВСКИЙ ОБЛАСТЬ",
          "РЕСП ЧУВАШИЯ",
          "ДЖАЛ-АБАТСКАЯ ОБЛАСТЬ",
          "ПСКОВСКАЯ ОБЛАСТЬ",
          "БРЕСТКАЯ ОБЛ",
          "ГАГРСКИЙ РЕГ-Н",
          "ТАМБОВ",
          "CYPRUS",
          "АЛМАГУЛЬ",
          "ФЕРГАНСКАЯ ОБЛ",
          "ОБЛ ИРКУТСКАЯ ОКРУГ УСТЬ-ОРДЫНСКИЙ БУРЯТСКИЙ",
          "10413"
         ],
         "xaxis": "x",
         "y": [
          2.2,
          2,
          2,
          2,
          2,
          2,
          2,
          2,
          2,
          2,
          2,
          2,
          2,
          2,
          2
         ],
         "yaxis": "y"
        }
       ],
       "layout": {
        "barmode": "relative",
        "legend": {
         "tracegroupgap": 0
        },
        "margin": {
         "t": 60
        },
        "template": {
         "data": {
          "bar": [
           {
            "error_x": {
             "color": "#2a3f5f"
            },
            "error_y": {
             "color": "#2a3f5f"
            },
            "marker": {
             "line": {
              "color": "#E5ECF6",
              "width": 0.5
             },
             "pattern": {
              "fillmode": "overlay",
              "size": 10,
              "solidity": 0.2
             }
            },
            "type": "bar"
           }
          ],
          "barpolar": [
           {
            "marker": {
             "line": {
              "color": "#E5ECF6",
              "width": 0.5
             },
             "pattern": {
              "fillmode": "overlay",
              "size": 10,
              "solidity": 0.2
             }
            },
            "type": "barpolar"
           }
          ],
          "carpet": [
           {
            "aaxis": {
             "endlinecolor": "#2a3f5f",
             "gridcolor": "white",
             "linecolor": "white",
             "minorgridcolor": "white",
             "startlinecolor": "#2a3f5f"
            },
            "baxis": {
             "endlinecolor": "#2a3f5f",
             "gridcolor": "white",
             "linecolor": "white",
             "minorgridcolor": "white",
             "startlinecolor": "#2a3f5f"
            },
            "type": "carpet"
           }
          ],
          "choropleth": [
           {
            "colorbar": {
             "outlinewidth": 0,
             "ticks": ""
            },
            "type": "choropleth"
           }
          ],
          "contour": [
           {
            "colorbar": {
             "outlinewidth": 0,
             "ticks": ""
            },
            "colorscale": [
             [
              0,
              "#0d0887"
             ],
             [
              0.1111111111111111,
              "#46039f"
             ],
             [
              0.2222222222222222,
              "#7201a8"
             ],
             [
              0.3333333333333333,
              "#9c179e"
             ],
             [
              0.4444444444444444,
              "#bd3786"
             ],
             [
              0.5555555555555556,
              "#d8576b"
             ],
             [
              0.6666666666666666,
              "#ed7953"
             ],
             [
              0.7777777777777778,
              "#fb9f3a"
             ],
             [
              0.8888888888888888,
              "#fdca26"
             ],
             [
              1,
              "#f0f921"
             ]
            ],
            "type": "contour"
           }
          ],
          "contourcarpet": [
           {
            "colorbar": {
             "outlinewidth": 0,
             "ticks": ""
            },
            "type": "contourcarpet"
           }
          ],
          "heatmap": [
           {
            "colorbar": {
             "outlinewidth": 0,
             "ticks": ""
            },
            "colorscale": [
             [
              0,
              "#0d0887"
             ],
             [
              0.1111111111111111,
              "#46039f"
             ],
             [
              0.2222222222222222,
              "#7201a8"
             ],
             [
              0.3333333333333333,
              "#9c179e"
             ],
             [
              0.4444444444444444,
              "#bd3786"
             ],
             [
              0.5555555555555556,
              "#d8576b"
             ],
             [
              0.6666666666666666,
              "#ed7953"
             ],
             [
              0.7777777777777778,
              "#fb9f3a"
             ],
             [
              0.8888888888888888,
              "#fdca26"
             ],
             [
              1,
              "#f0f921"
             ]
            ],
            "type": "heatmap"
           }
          ],
          "heatmapgl": [
           {
            "colorbar": {
             "outlinewidth": 0,
             "ticks": ""
            },
            "colorscale": [
             [
              0,
              "#0d0887"
             ],
             [
              0.1111111111111111,
              "#46039f"
             ],
             [
              0.2222222222222222,
              "#7201a8"
             ],
             [
              0.3333333333333333,
              "#9c179e"
             ],
             [
              0.4444444444444444,
              "#bd3786"
             ],
             [
              0.5555555555555556,
              "#d8576b"
             ],
             [
              0.6666666666666666,
              "#ed7953"
             ],
             [
              0.7777777777777778,
              "#fb9f3a"
             ],
             [
              0.8888888888888888,
              "#fdca26"
             ],
             [
              1,
              "#f0f921"
             ]
            ],
            "type": "heatmapgl"
           }
          ],
          "histogram": [
           {
            "marker": {
             "pattern": {
              "fillmode": "overlay",
              "size": 10,
              "solidity": 0.2
             }
            },
            "type": "histogram"
           }
          ],
          "histogram2d": [
           {
            "colorbar": {
             "outlinewidth": 0,
             "ticks": ""
            },
            "colorscale": [
             [
              0,
              "#0d0887"
             ],
             [
              0.1111111111111111,
              "#46039f"
             ],
             [
              0.2222222222222222,
              "#7201a8"
             ],
             [
              0.3333333333333333,
              "#9c179e"
             ],
             [
              0.4444444444444444,
              "#bd3786"
             ],
             [
              0.5555555555555556,
              "#d8576b"
             ],
             [
              0.6666666666666666,
              "#ed7953"
             ],
             [
              0.7777777777777778,
              "#fb9f3a"
             ],
             [
              0.8888888888888888,
              "#fdca26"
             ],
             [
              1,
              "#f0f921"
             ]
            ],
            "type": "histogram2d"
           }
          ],
          "histogram2dcontour": [
           {
            "colorbar": {
             "outlinewidth": 0,
             "ticks": ""
            },
            "colorscale": [
             [
              0,
              "#0d0887"
             ],
             [
              0.1111111111111111,
              "#46039f"
             ],
             [
              0.2222222222222222,
              "#7201a8"
             ],
             [
              0.3333333333333333,
              "#9c179e"
             ],
             [
              0.4444444444444444,
              "#bd3786"
             ],
             [
              0.5555555555555556,
              "#d8576b"
             ],
             [
              0.6666666666666666,
              "#ed7953"
             ],
             [
              0.7777777777777778,
              "#fb9f3a"
             ],
             [
              0.8888888888888888,
              "#fdca26"
             ],
             [
              1,
              "#f0f921"
             ]
            ],
            "type": "histogram2dcontour"
           }
          ],
          "mesh3d": [
           {
            "colorbar": {
             "outlinewidth": 0,
             "ticks": ""
            },
            "type": "mesh3d"
           }
          ],
          "parcoords": [
           {
            "line": {
             "colorbar": {
              "outlinewidth": 0,
              "ticks": ""
             }
            },
            "type": "parcoords"
           }
          ],
          "pie": [
           {
            "automargin": true,
            "type": "pie"
           }
          ],
          "scatter": [
           {
            "fillpattern": {
             "fillmode": "overlay",
             "size": 10,
             "solidity": 0.2
            },
            "type": "scatter"
           }
          ],
          "scatter3d": [
           {
            "line": {
             "colorbar": {
              "outlinewidth": 0,
              "ticks": ""
             }
            },
            "marker": {
             "colorbar": {
              "outlinewidth": 0,
              "ticks": ""
             }
            },
            "type": "scatter3d"
           }
          ],
          "scattercarpet": [
           {
            "marker": {
             "colorbar": {
              "outlinewidth": 0,
              "ticks": ""
             }
            },
            "type": "scattercarpet"
           }
          ],
          "scattergeo": [
           {
            "marker": {
             "colorbar": {
              "outlinewidth": 0,
              "ticks": ""
             }
            },
            "type": "scattergeo"
           }
          ],
          "scattergl": [
           {
            "marker": {
             "colorbar": {
              "outlinewidth": 0,
              "ticks": ""
             }
            },
            "type": "scattergl"
           }
          ],
          "scattermapbox": [
           {
            "marker": {
             "colorbar": {
              "outlinewidth": 0,
              "ticks": ""
             }
            },
            "type": "scattermapbox"
           }
          ],
          "scatterpolar": [
           {
            "marker": {
             "colorbar": {
              "outlinewidth": 0,
              "ticks": ""
             }
            },
            "type": "scatterpolar"
           }
          ],
          "scatterpolargl": [
           {
            "marker": {
             "colorbar": {
              "outlinewidth": 0,
              "ticks": ""
             }
            },
            "type": "scatterpolargl"
           }
          ],
          "scatterternary": [
           {
            "marker": {
             "colorbar": {
              "outlinewidth": 0,
              "ticks": ""
             }
            },
            "type": "scatterternary"
           }
          ],
          "surface": [
           {
            "colorbar": {
             "outlinewidth": 0,
             "ticks": ""
            },
            "colorscale": [
             [
              0,
              "#0d0887"
             ],
             [
              0.1111111111111111,
              "#46039f"
             ],
             [
              0.2222222222222222,
              "#7201a8"
             ],
             [
              0.3333333333333333,
              "#9c179e"
             ],
             [
              0.4444444444444444,
              "#bd3786"
             ],
             [
              0.5555555555555556,
              "#d8576b"
             ],
             [
              0.6666666666666666,
              "#ed7953"
             ],
             [
              0.7777777777777778,
              "#fb9f3a"
             ],
             [
              0.8888888888888888,
              "#fdca26"
             ],
             [
              1,
              "#f0f921"
             ]
            ],
            "type": "surface"
           }
          ],
          "table": [
           {
            "cells": {
             "fill": {
              "color": "#EBF0F8"
             },
             "line": {
              "color": "white"
             }
            },
            "header": {
             "fill": {
              "color": "#C8D4E3"
             },
             "line": {
              "color": "white"
             }
            },
            "type": "table"
           }
          ]
         },
         "layout": {
          "annotationdefaults": {
           "arrowcolor": "#2a3f5f",
           "arrowhead": 0,
           "arrowwidth": 1
          },
          "autotypenumbers": "strict",
          "coloraxis": {
           "colorbar": {
            "outlinewidth": 0,
            "ticks": ""
           }
          },
          "colorscale": {
           "diverging": [
            [
             0,
             "#8e0152"
            ],
            [
             0.1,
             "#c51b7d"
            ],
            [
             0.2,
             "#de77ae"
            ],
            [
             0.3,
             "#f1b6da"
            ],
            [
             0.4,
             "#fde0ef"
            ],
            [
             0.5,
             "#f7f7f7"
            ],
            [
             0.6,
             "#e6f5d0"
            ],
            [
             0.7,
             "#b8e186"
            ],
            [
             0.8,
             "#7fbc41"
            ],
            [
             0.9,
             "#4d9221"
            ],
            [
             1,
             "#276419"
            ]
           ],
           "sequential": [
            [
             0,
             "#0d0887"
            ],
            [
             0.1111111111111111,
             "#46039f"
            ],
            [
             0.2222222222222222,
             "#7201a8"
            ],
            [
             0.3333333333333333,
             "#9c179e"
            ],
            [
             0.4444444444444444,
             "#bd3786"
            ],
            [
             0.5555555555555556,
             "#d8576b"
            ],
            [
             0.6666666666666666,
             "#ed7953"
            ],
            [
             0.7777777777777778,
             "#fb9f3a"
            ],
            [
             0.8888888888888888,
             "#fdca26"
            ],
            [
             1,
             "#f0f921"
            ]
           ],
           "sequentialminus": [
            [
             0,
             "#0d0887"
            ],
            [
             0.1111111111111111,
             "#46039f"
            ],
            [
             0.2222222222222222,
             "#7201a8"
            ],
            [
             0.3333333333333333,
             "#9c179e"
            ],
            [
             0.4444444444444444,
             "#bd3786"
            ],
            [
             0.5555555555555556,
             "#d8576b"
            ],
            [
             0.6666666666666666,
             "#ed7953"
            ],
            [
             0.7777777777777778,
             "#fb9f3a"
            ],
            [
             0.8888888888888888,
             "#fdca26"
            ],
            [
             1,
             "#f0f921"
            ]
           ]
          },
          "colorway": [
           "#636efa",
           "#EF553B",
           "#00cc96",
           "#ab63fa",
           "#FFA15A",
           "#19d3f3",
           "#FF6692",
           "#B6E880",
           "#FF97FF",
           "#FECB52"
          ],
          "font": {
           "color": "#2a3f5f"
          },
          "geo": {
           "bgcolor": "white",
           "lakecolor": "white",
           "landcolor": "#E5ECF6",
           "showlakes": true,
           "showland": true,
           "subunitcolor": "white"
          },
          "hoverlabel": {
           "align": "left"
          },
          "hovermode": "closest",
          "mapbox": {
           "style": "light"
          },
          "paper_bgcolor": "white",
          "plot_bgcolor": "#E5ECF6",
          "polar": {
           "angularaxis": {
            "gridcolor": "white",
            "linecolor": "white",
            "ticks": ""
           },
           "bgcolor": "#E5ECF6",
           "radialaxis": {
            "gridcolor": "white",
            "linecolor": "white",
            "ticks": ""
           }
          },
          "scene": {
           "xaxis": {
            "backgroundcolor": "#E5ECF6",
            "gridcolor": "white",
            "gridwidth": 2,
            "linecolor": "white",
            "showbackground": true,
            "ticks": "",
            "zerolinecolor": "white"
           },
           "yaxis": {
            "backgroundcolor": "#E5ECF6",
            "gridcolor": "white",
            "gridwidth": 2,
            "linecolor": "white",
            "showbackground": true,
            "ticks": "",
            "zerolinecolor": "white"
           },
           "zaxis": {
            "backgroundcolor": "#E5ECF6",
            "gridcolor": "white",
            "gridwidth": 2,
            "linecolor": "white",
            "showbackground": true,
            "ticks": "",
            "zerolinecolor": "white"
           }
          },
          "shapedefaults": {
           "line": {
            "color": "#2a3f5f"
           }
          },
          "ternary": {
           "aaxis": {
            "gridcolor": "white",
            "linecolor": "white",
            "ticks": ""
           },
           "baxis": {
            "gridcolor": "white",
            "linecolor": "white",
            "ticks": ""
           },
           "bgcolor": "#E5ECF6",
           "caxis": {
            "gridcolor": "white",
            "linecolor": "white",
            "ticks": ""
           }
          },
          "title": {
           "x": 0.05
          },
          "xaxis": {
           "automargin": true,
           "gridcolor": "white",
           "linecolor": "white",
           "ticks": "",
           "title": {
            "standoff": 15
           },
           "zerolinecolor": "white",
           "zerolinewidth": 2
          },
          "yaxis": {
           "automargin": true,
           "gridcolor": "white",
           "linecolor": "white",
           "ticks": "",
           "title": {
            "standoff": 15
           },
           "zerolinecolor": "white",
           "zerolinewidth": 2
          }
         }
        },
        "xaxis": {
         "anchor": "y",
         "domain": [
          0,
          1
         ],
         "title": {
          "text": "lvn_state_nm"
         }
        },
        "yaxis": {
         "anchor": "x",
         "domain": [
          0,
          1
         ],
         "title": {
          "text": "outflow_number"
         }
        }
       }
      }
     },
     "metadata": {},
     "output_type": "display_data"
    }
   ],
   "source": [
    "for_bar_chart_step_4 = df_top_pair_4_step.query(\"first_date_by_product_client < '2022-12-31'\") \\\n",
    "                    .groupby('lvn_state_nm', as_index=False)['outflow_number'].mean() \\\n",
    "                    .sort_values('outflow_number', ascending=False) \\\n",
    "                    .head(15)\n",
    "\n",
    "fig_3 = px.bar(for_bar_chart_step_4, x='lvn_state_nm', y='outflow_number')\n",
    "fig_3.show()          "
   ]
  },
  {
   "attachments": {},
   "cell_type": "markdown",
   "id": "62ffebd8",
   "metadata": {},
   "source": [
    "## Смотрим графически среднее кол-во миганий на человека за период с 2022-01-01 \n",
    "#### Учитываются только те, у кого продукт уже был открыт ранее, чтобы исключить тех, кто мог активировать впервые в период анализа"
   ]
  },
  {
   "cell_type": "code",
   "execution_count": 14,
   "id": "a58168a0",
   "metadata": {
    "scrolled": true
   },
   "outputs": [
    {
     "data": {
      "application/vnd.plotly.v1+json": {
       "config": {
        "plotlyServerURL": "https://plot.ly"
       },
       "data": [
        {
         "hovertemplate": "year_month_to=%{x}<br>outflow_number=%{y}<extra></extra>",
         "legendgroup": "",
         "line": {
          "color": "#636efa",
          "dash": "solid"
         },
         "marker": {
          "symbol": "circle"
         },
         "mode": "markers+lines",
         "name": "",
         "orientation": "v",
         "showlegend": false,
         "type": "scatter",
         "x": [
          "2022-01",
          "2022-02",
          "2022-03",
          "2022-04",
          "2022-05",
          "2022-06",
          "2022-07",
          "2022-08",
          "2022-09",
          "2022-10",
          "2022-11",
          "2022-12",
          "2023-01",
          "2023-02",
          "2023-03",
          "2023-04",
          "2023-05"
         ],
         "xaxis": "x",
         "y": [
          1.0001298364061282,
          1.0002071434912556,
          1.0035069847446163,
          1.025412044651293,
          1.0792761655046381,
          1.143648884641998,
          1.189763361983252,
          1.2334695883579871,
          1.2823731952739952,
          1.3292922419402013,
          1.369043443734904,
          1.4076883155860964,
          1.446459958413271,
          1.4796065510379997,
          1.5181203398647476,
          1.5549830790524268,
          1.5761163325400347
         ],
         "yaxis": "y"
        }
       ],
       "layout": {
        "legend": {
         "tracegroupgap": 0
        },
        "margin": {
         "t": 60
        },
        "template": {
         "data": {
          "bar": [
           {
            "error_x": {
             "color": "#2a3f5f"
            },
            "error_y": {
             "color": "#2a3f5f"
            },
            "marker": {
             "line": {
              "color": "#E5ECF6",
              "width": 0.5
             },
             "pattern": {
              "fillmode": "overlay",
              "size": 10,
              "solidity": 0.2
             }
            },
            "type": "bar"
           }
          ],
          "barpolar": [
           {
            "marker": {
             "line": {
              "color": "#E5ECF6",
              "width": 0.5
             },
             "pattern": {
              "fillmode": "overlay",
              "size": 10,
              "solidity": 0.2
             }
            },
            "type": "barpolar"
           }
          ],
          "carpet": [
           {
            "aaxis": {
             "endlinecolor": "#2a3f5f",
             "gridcolor": "white",
             "linecolor": "white",
             "minorgridcolor": "white",
             "startlinecolor": "#2a3f5f"
            },
            "baxis": {
             "endlinecolor": "#2a3f5f",
             "gridcolor": "white",
             "linecolor": "white",
             "minorgridcolor": "white",
             "startlinecolor": "#2a3f5f"
            },
            "type": "carpet"
           }
          ],
          "choropleth": [
           {
            "colorbar": {
             "outlinewidth": 0,
             "ticks": ""
            },
            "type": "choropleth"
           }
          ],
          "contour": [
           {
            "colorbar": {
             "outlinewidth": 0,
             "ticks": ""
            },
            "colorscale": [
             [
              0,
              "#0d0887"
             ],
             [
              0.1111111111111111,
              "#46039f"
             ],
             [
              0.2222222222222222,
              "#7201a8"
             ],
             [
              0.3333333333333333,
              "#9c179e"
             ],
             [
              0.4444444444444444,
              "#bd3786"
             ],
             [
              0.5555555555555556,
              "#d8576b"
             ],
             [
              0.6666666666666666,
              "#ed7953"
             ],
             [
              0.7777777777777778,
              "#fb9f3a"
             ],
             [
              0.8888888888888888,
              "#fdca26"
             ],
             [
              1,
              "#f0f921"
             ]
            ],
            "type": "contour"
           }
          ],
          "contourcarpet": [
           {
            "colorbar": {
             "outlinewidth": 0,
             "ticks": ""
            },
            "type": "contourcarpet"
           }
          ],
          "heatmap": [
           {
            "colorbar": {
             "outlinewidth": 0,
             "ticks": ""
            },
            "colorscale": [
             [
              0,
              "#0d0887"
             ],
             [
              0.1111111111111111,
              "#46039f"
             ],
             [
              0.2222222222222222,
              "#7201a8"
             ],
             [
              0.3333333333333333,
              "#9c179e"
             ],
             [
              0.4444444444444444,
              "#bd3786"
             ],
             [
              0.5555555555555556,
              "#d8576b"
             ],
             [
              0.6666666666666666,
              "#ed7953"
             ],
             [
              0.7777777777777778,
              "#fb9f3a"
             ],
             [
              0.8888888888888888,
              "#fdca26"
             ],
             [
              1,
              "#f0f921"
             ]
            ],
            "type": "heatmap"
           }
          ],
          "heatmapgl": [
           {
            "colorbar": {
             "outlinewidth": 0,
             "ticks": ""
            },
            "colorscale": [
             [
              0,
              "#0d0887"
             ],
             [
              0.1111111111111111,
              "#46039f"
             ],
             [
              0.2222222222222222,
              "#7201a8"
             ],
             [
              0.3333333333333333,
              "#9c179e"
             ],
             [
              0.4444444444444444,
              "#bd3786"
             ],
             [
              0.5555555555555556,
              "#d8576b"
             ],
             [
              0.6666666666666666,
              "#ed7953"
             ],
             [
              0.7777777777777778,
              "#fb9f3a"
             ],
             [
              0.8888888888888888,
              "#fdca26"
             ],
             [
              1,
              "#f0f921"
             ]
            ],
            "type": "heatmapgl"
           }
          ],
          "histogram": [
           {
            "marker": {
             "pattern": {
              "fillmode": "overlay",
              "size": 10,
              "solidity": 0.2
             }
            },
            "type": "histogram"
           }
          ],
          "histogram2d": [
           {
            "colorbar": {
             "outlinewidth": 0,
             "ticks": ""
            },
            "colorscale": [
             [
              0,
              "#0d0887"
             ],
             [
              0.1111111111111111,
              "#46039f"
             ],
             [
              0.2222222222222222,
              "#7201a8"
             ],
             [
              0.3333333333333333,
              "#9c179e"
             ],
             [
              0.4444444444444444,
              "#bd3786"
             ],
             [
              0.5555555555555556,
              "#d8576b"
             ],
             [
              0.6666666666666666,
              "#ed7953"
             ],
             [
              0.7777777777777778,
              "#fb9f3a"
             ],
             [
              0.8888888888888888,
              "#fdca26"
             ],
             [
              1,
              "#f0f921"
             ]
            ],
            "type": "histogram2d"
           }
          ],
          "histogram2dcontour": [
           {
            "colorbar": {
             "outlinewidth": 0,
             "ticks": ""
            },
            "colorscale": [
             [
              0,
              "#0d0887"
             ],
             [
              0.1111111111111111,
              "#46039f"
             ],
             [
              0.2222222222222222,
              "#7201a8"
             ],
             [
              0.3333333333333333,
              "#9c179e"
             ],
             [
              0.4444444444444444,
              "#bd3786"
             ],
             [
              0.5555555555555556,
              "#d8576b"
             ],
             [
              0.6666666666666666,
              "#ed7953"
             ],
             [
              0.7777777777777778,
              "#fb9f3a"
             ],
             [
              0.8888888888888888,
              "#fdca26"
             ],
             [
              1,
              "#f0f921"
             ]
            ],
            "type": "histogram2dcontour"
           }
          ],
          "mesh3d": [
           {
            "colorbar": {
             "outlinewidth": 0,
             "ticks": ""
            },
            "type": "mesh3d"
           }
          ],
          "parcoords": [
           {
            "line": {
             "colorbar": {
              "outlinewidth": 0,
              "ticks": ""
             }
            },
            "type": "parcoords"
           }
          ],
          "pie": [
           {
            "automargin": true,
            "type": "pie"
           }
          ],
          "scatter": [
           {
            "fillpattern": {
             "fillmode": "overlay",
             "size": 10,
             "solidity": 0.2
            },
            "type": "scatter"
           }
          ],
          "scatter3d": [
           {
            "line": {
             "colorbar": {
              "outlinewidth": 0,
              "ticks": ""
             }
            },
            "marker": {
             "colorbar": {
              "outlinewidth": 0,
              "ticks": ""
             }
            },
            "type": "scatter3d"
           }
          ],
          "scattercarpet": [
           {
            "marker": {
             "colorbar": {
              "outlinewidth": 0,
              "ticks": ""
             }
            },
            "type": "scattercarpet"
           }
          ],
          "scattergeo": [
           {
            "marker": {
             "colorbar": {
              "outlinewidth": 0,
              "ticks": ""
             }
            },
            "type": "scattergeo"
           }
          ],
          "scattergl": [
           {
            "marker": {
             "colorbar": {
              "outlinewidth": 0,
              "ticks": ""
             }
            },
            "type": "scattergl"
           }
          ],
          "scattermapbox": [
           {
            "marker": {
             "colorbar": {
              "outlinewidth": 0,
              "ticks": ""
             }
            },
            "type": "scattermapbox"
           }
          ],
          "scatterpolar": [
           {
            "marker": {
             "colorbar": {
              "outlinewidth": 0,
              "ticks": ""
             }
            },
            "type": "scatterpolar"
           }
          ],
          "scatterpolargl": [
           {
            "marker": {
             "colorbar": {
              "outlinewidth": 0,
              "ticks": ""
             }
            },
            "type": "scatterpolargl"
           }
          ],
          "scatterternary": [
           {
            "marker": {
             "colorbar": {
              "outlinewidth": 0,
              "ticks": ""
             }
            },
            "type": "scatterternary"
           }
          ],
          "surface": [
           {
            "colorbar": {
             "outlinewidth": 0,
             "ticks": ""
            },
            "colorscale": [
             [
              0,
              "#0d0887"
             ],
             [
              0.1111111111111111,
              "#46039f"
             ],
             [
              0.2222222222222222,
              "#7201a8"
             ],
             [
              0.3333333333333333,
              "#9c179e"
             ],
             [
              0.4444444444444444,
              "#bd3786"
             ],
             [
              0.5555555555555556,
              "#d8576b"
             ],
             [
              0.6666666666666666,
              "#ed7953"
             ],
             [
              0.7777777777777778,
              "#fb9f3a"
             ],
             [
              0.8888888888888888,
              "#fdca26"
             ],
             [
              1,
              "#f0f921"
             ]
            ],
            "type": "surface"
           }
          ],
          "table": [
           {
            "cells": {
             "fill": {
              "color": "#EBF0F8"
             },
             "line": {
              "color": "white"
             }
            },
            "header": {
             "fill": {
              "color": "#C8D4E3"
             },
             "line": {
              "color": "white"
             }
            },
            "type": "table"
           }
          ]
         },
         "layout": {
          "annotationdefaults": {
           "arrowcolor": "#2a3f5f",
           "arrowhead": 0,
           "arrowwidth": 1
          },
          "autotypenumbers": "strict",
          "coloraxis": {
           "colorbar": {
            "outlinewidth": 0,
            "ticks": ""
           }
          },
          "colorscale": {
           "diverging": [
            [
             0,
             "#8e0152"
            ],
            [
             0.1,
             "#c51b7d"
            ],
            [
             0.2,
             "#de77ae"
            ],
            [
             0.3,
             "#f1b6da"
            ],
            [
             0.4,
             "#fde0ef"
            ],
            [
             0.5,
             "#f7f7f7"
            ],
            [
             0.6,
             "#e6f5d0"
            ],
            [
             0.7,
             "#b8e186"
            ],
            [
             0.8,
             "#7fbc41"
            ],
            [
             0.9,
             "#4d9221"
            ],
            [
             1,
             "#276419"
            ]
           ],
           "sequential": [
            [
             0,
             "#0d0887"
            ],
            [
             0.1111111111111111,
             "#46039f"
            ],
            [
             0.2222222222222222,
             "#7201a8"
            ],
            [
             0.3333333333333333,
             "#9c179e"
            ],
            [
             0.4444444444444444,
             "#bd3786"
            ],
            [
             0.5555555555555556,
             "#d8576b"
            ],
            [
             0.6666666666666666,
             "#ed7953"
            ],
            [
             0.7777777777777778,
             "#fb9f3a"
            ],
            [
             0.8888888888888888,
             "#fdca26"
            ],
            [
             1,
             "#f0f921"
            ]
           ],
           "sequentialminus": [
            [
             0,
             "#0d0887"
            ],
            [
             0.1111111111111111,
             "#46039f"
            ],
            [
             0.2222222222222222,
             "#7201a8"
            ],
            [
             0.3333333333333333,
             "#9c179e"
            ],
            [
             0.4444444444444444,
             "#bd3786"
            ],
            [
             0.5555555555555556,
             "#d8576b"
            ],
            [
             0.6666666666666666,
             "#ed7953"
            ],
            [
             0.7777777777777778,
             "#fb9f3a"
            ],
            [
             0.8888888888888888,
             "#fdca26"
            ],
            [
             1,
             "#f0f921"
            ]
           ]
          },
          "colorway": [
           "#636efa",
           "#EF553B",
           "#00cc96",
           "#ab63fa",
           "#FFA15A",
           "#19d3f3",
           "#FF6692",
           "#B6E880",
           "#FF97FF",
           "#FECB52"
          ],
          "font": {
           "color": "#2a3f5f"
          },
          "geo": {
           "bgcolor": "white",
           "lakecolor": "white",
           "landcolor": "#E5ECF6",
           "showlakes": true,
           "showland": true,
           "subunitcolor": "white"
          },
          "hoverlabel": {
           "align": "left"
          },
          "hovermode": "closest",
          "mapbox": {
           "style": "light"
          },
          "paper_bgcolor": "white",
          "plot_bgcolor": "#E5ECF6",
          "polar": {
           "angularaxis": {
            "gridcolor": "white",
            "linecolor": "white",
            "ticks": ""
           },
           "bgcolor": "#E5ECF6",
           "radialaxis": {
            "gridcolor": "white",
            "linecolor": "white",
            "ticks": ""
           }
          },
          "scene": {
           "xaxis": {
            "backgroundcolor": "#E5ECF6",
            "gridcolor": "white",
            "gridwidth": 2,
            "linecolor": "white",
            "showbackground": true,
            "ticks": "",
            "zerolinecolor": "white"
           },
           "yaxis": {
            "backgroundcolor": "#E5ECF6",
            "gridcolor": "white",
            "gridwidth": 2,
            "linecolor": "white",
            "showbackground": true,
            "ticks": "",
            "zerolinecolor": "white"
           },
           "zaxis": {
            "backgroundcolor": "#E5ECF6",
            "gridcolor": "white",
            "gridwidth": 2,
            "linecolor": "white",
            "showbackground": true,
            "ticks": "",
            "zerolinecolor": "white"
           }
          },
          "shapedefaults": {
           "line": {
            "color": "#2a3f5f"
           }
          },
          "ternary": {
           "aaxis": {
            "gridcolor": "white",
            "linecolor": "white",
            "ticks": ""
           },
           "baxis": {
            "gridcolor": "white",
            "linecolor": "white",
            "ticks": ""
           },
           "bgcolor": "#E5ECF6",
           "caxis": {
            "gridcolor": "white",
            "linecolor": "white",
            "ticks": ""
           }
          },
          "title": {
           "x": 0.05
          },
          "xaxis": {
           "automargin": true,
           "gridcolor": "white",
           "linecolor": "white",
           "ticks": "",
           "title": {
            "standoff": 15
           },
           "zerolinecolor": "white",
           "zerolinewidth": 2
          },
          "yaxis": {
           "automargin": true,
           "gridcolor": "white",
           "linecolor": "white",
           "ticks": "",
           "title": {
            "standoff": 15
           },
           "zerolinecolor": "white",
           "zerolinewidth": 2
          }
         }
        },
        "xaxis": {
         "anchor": "y",
         "domain": [
          0,
          1
         ],
         "title": {
          "text": "year_month_to"
         }
        },
        "yaxis": {
         "anchor": "x",
         "domain": [
          0,
          1
         ],
         "title": {
          "text": "outflow_number"
         }
        }
       }
      }
     },
     "metadata": {},
     "output_type": "display_data"
    }
   ],
   "source": [
    "for_line_chart_step_4 = df_top_pair_4_step.query(\"first_date_by_product_client < '2022-12-31'\") \\\n",
    "                    .groupby('year_month_to', as_index=False)['outflow_number'].mean()\n",
    "\n",
    "fig_4 = px.line(for_line_chart_step_4, x=\"year_month_to\", y=\"outflow_number\", markers=True)\n",
    "fig_4.show()"
   ]
  },
  {
   "attachments": {},
   "cell_type": "markdown",
   "id": "4cb45b6a",
   "metadata": {},
   "source": [
    "### Смотрим кол-во и долю клиентов в разрезе номера мигания"
   ]
  },
  {
   "cell_type": "code",
   "execution_count": 15,
   "id": "881ff1ef",
   "metadata": {},
   "outputs": [
    {
     "data": {
      "text/html": [
       "<div>\n",
       "<style scoped>\n",
       "    .dataframe tbody tr th:only-of-type {\n",
       "        vertical-align: middle;\n",
       "    }\n",
       "\n",
       "    .dataframe tbody tr th {\n",
       "        vertical-align: top;\n",
       "    }\n",
       "\n",
       "    .dataframe thead th {\n",
       "        text-align: right;\n",
       "    }\n",
       "</style>\n",
       "<table border=\"1\" class=\"dataframe\">\n",
       "  <thead>\n",
       "    <tr style=\"text-align: right;\">\n",
       "      <th></th>\n",
       "      <th>outflow_number</th>\n",
       "      <th>clients</th>\n",
       "      <th>share_of_clients</th>\n",
       "      <th>date_diff</th>\n",
       "    </tr>\n",
       "  </thead>\n",
       "  <tbody>\n",
       "    <tr>\n",
       "      <th>0</th>\n",
       "      <td>1</td>\n",
       "      <td>1719372</td>\n",
       "      <td>100.00</td>\n",
       "      <td>52.6</td>\n",
       "    </tr>\n",
       "    <tr>\n",
       "      <th>1</th>\n",
       "      <td>2</td>\n",
       "      <td>432198</td>\n",
       "      <td>25.14</td>\n",
       "      <td>52.1</td>\n",
       "    </tr>\n",
       "    <tr>\n",
       "      <th>2</th>\n",
       "      <td>3</td>\n",
       "      <td>85688</td>\n",
       "      <td>4.98</td>\n",
       "      <td>51.3</td>\n",
       "    </tr>\n",
       "    <tr>\n",
       "      <th>3</th>\n",
       "      <td>4</td>\n",
       "      <td>12301</td>\n",
       "      <td>0.72</td>\n",
       "      <td>50.3</td>\n",
       "    </tr>\n",
       "    <tr>\n",
       "      <th>4</th>\n",
       "      <td>5</td>\n",
       "      <td>1138</td>\n",
       "      <td>0.07</td>\n",
       "      <td>47.5</td>\n",
       "    </tr>\n",
       "    <tr>\n",
       "      <th>5</th>\n",
       "      <td>6</td>\n",
       "      <td>83</td>\n",
       "      <td>0.00</td>\n",
       "      <td>43.6</td>\n",
       "    </tr>\n",
       "    <tr>\n",
       "      <th>6</th>\n",
       "      <td>7</td>\n",
       "      <td>17</td>\n",
       "      <td>0.00</td>\n",
       "      <td>47.0</td>\n",
       "    </tr>\n",
       "    <tr>\n",
       "      <th>7</th>\n",
       "      <td>8</td>\n",
       "      <td>6</td>\n",
       "      <td>0.00</td>\n",
       "      <td>44.3</td>\n",
       "    </tr>\n",
       "    <tr>\n",
       "      <th>8</th>\n",
       "      <td>9</td>\n",
       "      <td>1</td>\n",
       "      <td>0.00</td>\n",
       "      <td>30.0</td>\n",
       "    </tr>\n",
       "  </tbody>\n",
       "</table>\n",
       "</div>"
      ],
      "text/plain": [
       "   outflow_number  clients  share_of_clients  date_diff\n",
       "0               1  1719372            100.00       52.6\n",
       "1               2   432198             25.14       52.1\n",
       "2               3    85688              4.98       51.3\n",
       "3               4    12301              0.72       50.3\n",
       "4               5     1138              0.07       47.5\n",
       "5               6       83              0.00       43.6\n",
       "6               7       17              0.00       47.0\n",
       "7               8        6              0.00       44.3\n",
       "8               9        1              0.00       30.0"
      ]
     },
     "execution_count": 15,
     "metadata": {},
     "output_type": "execute_result"
    }
   ],
   "source": [
    "funnel_by_outflow = df_top_pair_4_step.groupby('outflow_number', as_index=False).agg({'date_diff':'mean', 'party_rk':'nunique'}) \\\n",
    "                    .sort_values('party_rk', ascending=False)\n",
    "\n",
    "funnel_by_outflow['total_qty'] = funnel_by_outflow['party_rk'].max()\n",
    "\n",
    "funnel_by_outflow['share_of_clients'] = funnel_by_outflow['party_rk'] / funnel_by_outflow['total_qty'] * 100\n",
    "\n",
    "funnel_by_outflow[['outflow_number', 'party_rk', 'share_of_clients', 'date_diff']].rename(columns={'party_rk':'clients'}).round({'share_of_clients':2, 'date_diff':1})\n",
    "\n",
    "\n",
    "\n"
   ]
  },
  {
   "attachments": {},
   "cell_type": "markdown",
   "id": "f54d3d02",
   "metadata": {},
   "source": [
    "### Работаем с номером мигания (оттока), кол-вом дней неактивности и клиентами / разными группами. Базовый пример ниже"
   ]
  },
  {
   "cell_type": "code",
   "execution_count": 16,
   "id": "49ac0072",
   "metadata": {},
   "outputs": [
    {
     "data": {
      "text/html": [
       "<div>\n",
       "<style scoped>\n",
       "    .dataframe tbody tr th:only-of-type {\n",
       "        vertical-align: middle;\n",
       "    }\n",
       "\n",
       "    .dataframe tbody tr th {\n",
       "        vertical-align: top;\n",
       "    }\n",
       "\n",
       "    .dataframe thead th {\n",
       "        text-align: right;\n",
       "    }\n",
       "</style>\n",
       "<table border=\"1\" class=\"dataframe\">\n",
       "  <thead>\n",
       "    <tr style=\"text-align: right;\">\n",
       "      <th>party_rk</th>\n",
       "      <th>145</th>\n",
       "      <th>819</th>\n",
       "      <th>849</th>\n",
       "      <th>876</th>\n",
       "      <th>1000</th>\n",
       "      <th>1177</th>\n",
       "      <th>1286</th>\n",
       "      <th>1300</th>\n",
       "      <th>1487</th>\n",
       "      <th>1616</th>\n",
       "      <th>...</th>\n",
       "      <th>6557</th>\n",
       "      <th>7071</th>\n",
       "      <th>7866</th>\n",
       "      <th>8009</th>\n",
       "      <th>8898</th>\n",
       "      <th>9040</th>\n",
       "      <th>9116</th>\n",
       "      <th>9162</th>\n",
       "      <th>9273</th>\n",
       "      <th>9756</th>\n",
       "    </tr>\n",
       "    <tr>\n",
       "      <th>outflow_number</th>\n",
       "      <th></th>\n",
       "      <th></th>\n",
       "      <th></th>\n",
       "      <th></th>\n",
       "      <th></th>\n",
       "      <th></th>\n",
       "      <th></th>\n",
       "      <th></th>\n",
       "      <th></th>\n",
       "      <th></th>\n",
       "      <th></th>\n",
       "      <th></th>\n",
       "      <th></th>\n",
       "      <th></th>\n",
       "      <th></th>\n",
       "      <th></th>\n",
       "      <th></th>\n",
       "      <th></th>\n",
       "      <th></th>\n",
       "      <th></th>\n",
       "      <th></th>\n",
       "    </tr>\n",
       "  </thead>\n",
       "  <tbody>\n",
       "    <tr>\n",
       "      <th>1</th>\n",
       "      <td>62</td>\n",
       "      <td>56</td>\n",
       "      <td>42</td>\n",
       "      <td>52</td>\n",
       "      <td>88</td>\n",
       "      <td>42</td>\n",
       "      <td>69</td>\n",
       "      <td>31</td>\n",
       "      <td>89</td>\n",
       "      <td>50</td>\n",
       "      <td>...</td>\n",
       "      <td>59</td>\n",
       "      <td>31</td>\n",
       "      <td>39</td>\n",
       "      <td>76</td>\n",
       "      <td>80</td>\n",
       "      <td>86</td>\n",
       "      <td>32</td>\n",
       "      <td>40</td>\n",
       "      <td>30</td>\n",
       "      <td>31</td>\n",
       "    </tr>\n",
       "    <tr>\n",
       "      <th>2</th>\n",
       "      <td>&lt;NA&gt;</td>\n",
       "      <td>&lt;NA&gt;</td>\n",
       "      <td>86</td>\n",
       "      <td>50</td>\n",
       "      <td>35</td>\n",
       "      <td>&lt;NA&gt;</td>\n",
       "      <td>&lt;NA&gt;</td>\n",
       "      <td>43</td>\n",
       "      <td>&lt;NA&gt;</td>\n",
       "      <td>&lt;NA&gt;</td>\n",
       "      <td>...</td>\n",
       "      <td>&lt;NA&gt;</td>\n",
       "      <td>&lt;NA&gt;</td>\n",
       "      <td>50</td>\n",
       "      <td>&lt;NA&gt;</td>\n",
       "      <td>&lt;NA&gt;</td>\n",
       "      <td>&lt;NA&gt;</td>\n",
       "      <td>&lt;NA&gt;</td>\n",
       "      <td>&lt;NA&gt;</td>\n",
       "      <td>90</td>\n",
       "      <td>50</td>\n",
       "    </tr>\n",
       "    <tr>\n",
       "      <th>3</th>\n",
       "      <td>&lt;NA&gt;</td>\n",
       "      <td>&lt;NA&gt;</td>\n",
       "      <td>55</td>\n",
       "      <td>&lt;NA&gt;</td>\n",
       "      <td>&lt;NA&gt;</td>\n",
       "      <td>&lt;NA&gt;</td>\n",
       "      <td>&lt;NA&gt;</td>\n",
       "      <td>&lt;NA&gt;</td>\n",
       "      <td>&lt;NA&gt;</td>\n",
       "      <td>&lt;NA&gt;</td>\n",
       "      <td>...</td>\n",
       "      <td>&lt;NA&gt;</td>\n",
       "      <td>&lt;NA&gt;</td>\n",
       "      <td>44</td>\n",
       "      <td>&lt;NA&gt;</td>\n",
       "      <td>&lt;NA&gt;</td>\n",
       "      <td>&lt;NA&gt;</td>\n",
       "      <td>&lt;NA&gt;</td>\n",
       "      <td>&lt;NA&gt;</td>\n",
       "      <td>&lt;NA&gt;</td>\n",
       "      <td>&lt;NA&gt;</td>\n",
       "    </tr>\n",
       "  </tbody>\n",
       "</table>\n",
       "<p>3 rows × 35 columns</p>\n",
       "</div>"
      ],
      "text/plain": [
       "party_rk        145   819   849   876   1000  1177  1286  1300  1487  1616  \\\n",
       "outflow_number                                                               \n",
       "1                 62    56    42    52    88    42    69    31    89    50   \n",
       "2               <NA>  <NA>    86    50    35  <NA>  <NA>    43  <NA>  <NA>   \n",
       "3               <NA>  <NA>    55  <NA>  <NA>  <NA>  <NA>  <NA>  <NA>  <NA>   \n",
       "\n",
       "party_rk        ...  6557  7071  7866  8009  8898  9040  9116  9162  9273  \\\n",
       "outflow_number  ...                                                         \n",
       "1               ...    59    31    39    76    80    86    32    40    30   \n",
       "2               ...  <NA>  <NA>    50  <NA>  <NA>  <NA>  <NA>  <NA>    90   \n",
       "3               ...  <NA>  <NA>    44  <NA>  <NA>  <NA>  <NA>  <NA>  <NA>   \n",
       "\n",
       "party_rk        9756  \n",
       "outflow_number        \n",
       "1                 31  \n",
       "2                 50  \n",
       "3               <NA>  \n",
       "\n",
       "[3 rows x 35 columns]"
      ]
     },
     "execution_count": 16,
     "metadata": {},
     "output_type": "execute_result"
    }
   ],
   "source": [
    "df_top_pair_4_step.groupby(['party_rk', 'outflow_number'], as_index=False)['date_diff'].sum() \\\n",
    "                    .sort_values(['party_rk', 'outflow_number']) \\\n",
    "                    .iloc[:50] \\\n",
    "                    .pivot_table(index='outflow_number', columns='party_rk', values='date_diff', aggfunc='sum')"
   ]
  },
  {
   "attachments": {},
   "cell_type": "markdown",
   "id": "db5f39f2",
   "metadata": {},
   "source": [
    "### Сводная таблица по возрасту клиентов и номеру мигания в разрезе по кол-ву дней оттока"
   ]
  },
  {
   "cell_type": "code",
   "execution_count": 17,
   "id": "2da507a5",
   "metadata": {},
   "outputs": [
    {
     "data": {
      "text/html": [
       "<div>\n",
       "<style scoped>\n",
       "    .dataframe tbody tr th:only-of-type {\n",
       "        vertical-align: middle;\n",
       "    }\n",
       "\n",
       "    .dataframe tbody tr th {\n",
       "        vertical-align: top;\n",
       "    }\n",
       "\n",
       "    .dataframe thead th {\n",
       "        text-align: right;\n",
       "    }\n",
       "</style>\n",
       "<table border=\"1\" class=\"dataframe\">\n",
       "  <thead>\n",
       "    <tr style=\"text-align: right;\">\n",
       "      <th>age_groups</th>\n",
       "      <th>18-25</th>\n",
       "      <th>26-30</th>\n",
       "      <th>31-35</th>\n",
       "      <th>36-40</th>\n",
       "      <th>41-45</th>\n",
       "      <th>46-50</th>\n",
       "      <th>51-55</th>\n",
       "      <th>56 and over</th>\n",
       "    </tr>\n",
       "    <tr>\n",
       "      <th>outflow_number</th>\n",
       "      <th></th>\n",
       "      <th></th>\n",
       "      <th></th>\n",
       "      <th></th>\n",
       "      <th></th>\n",
       "      <th></th>\n",
       "      <th></th>\n",
       "      <th></th>\n",
       "    </tr>\n",
       "  </thead>\n",
       "  <tbody>\n",
       "    <tr>\n",
       "      <th>1</th>\n",
       "      <td>52.8</td>\n",
       "      <td>52.6</td>\n",
       "      <td>52.6</td>\n",
       "      <td>52.5</td>\n",
       "      <td>52.6</td>\n",
       "      <td>52.5</td>\n",
       "      <td>52.6</td>\n",
       "      <td>52.8</td>\n",
       "    </tr>\n",
       "    <tr>\n",
       "      <th>2</th>\n",
       "      <td>52.4</td>\n",
       "      <td>52.3</td>\n",
       "      <td>52.3</td>\n",
       "      <td>51.8</td>\n",
       "      <td>52.0</td>\n",
       "      <td>51.8</td>\n",
       "      <td>51.9</td>\n",
       "      <td>52.0</td>\n",
       "    </tr>\n",
       "    <tr>\n",
       "      <th>3</th>\n",
       "      <td>51.7</td>\n",
       "      <td>51.3</td>\n",
       "      <td>51.3</td>\n",
       "      <td>51.1</td>\n",
       "      <td>51.3</td>\n",
       "      <td>51.1</td>\n",
       "      <td>51.5</td>\n",
       "      <td>50.8</td>\n",
       "    </tr>\n",
       "    <tr>\n",
       "      <th>4</th>\n",
       "      <td>50.7</td>\n",
       "      <td>49.7</td>\n",
       "      <td>50.6</td>\n",
       "      <td>50.2</td>\n",
       "      <td>49.8</td>\n",
       "      <td>50.5</td>\n",
       "      <td>50.3</td>\n",
       "      <td>50.2</td>\n",
       "    </tr>\n",
       "    <tr>\n",
       "      <th>5</th>\n",
       "      <td>47.4</td>\n",
       "      <td>46.9</td>\n",
       "      <td>48.4</td>\n",
       "      <td>48.3</td>\n",
       "      <td>45.0</td>\n",
       "      <td>47.1</td>\n",
       "      <td>48.6</td>\n",
       "      <td>49.3</td>\n",
       "    </tr>\n",
       "    <tr>\n",
       "      <th>6</th>\n",
       "      <td>40.9</td>\n",
       "      <td>41.6</td>\n",
       "      <td>48.0</td>\n",
       "      <td>43.2</td>\n",
       "      <td>41.4</td>\n",
       "      <td>43.2</td>\n",
       "      <td>45.0</td>\n",
       "      <td>48.2</td>\n",
       "    </tr>\n",
       "    <tr>\n",
       "      <th>7</th>\n",
       "      <td>46.5</td>\n",
       "      <td>32.0</td>\n",
       "      <td>48.0</td>\n",
       "      <td>48.7</td>\n",
       "      <td>30.0</td>\n",
       "      <td>47.7</td>\n",
       "      <td>30.0</td>\n",
       "      <td>75.5</td>\n",
       "    </tr>\n",
       "    <tr>\n",
       "      <th>8</th>\n",
       "      <td>30.0</td>\n",
       "      <td>&lt;NA&gt;</td>\n",
       "      <td>60.0</td>\n",
       "      <td>43.5</td>\n",
       "      <td>&lt;NA&gt;</td>\n",
       "      <td>&lt;NA&gt;</td>\n",
       "      <td>&lt;NA&gt;</td>\n",
       "      <td>59.0</td>\n",
       "    </tr>\n",
       "    <tr>\n",
       "      <th>9</th>\n",
       "      <td>&lt;NA&gt;</td>\n",
       "      <td>&lt;NA&gt;</td>\n",
       "      <td>&lt;NA&gt;</td>\n",
       "      <td>30.0</td>\n",
       "      <td>&lt;NA&gt;</td>\n",
       "      <td>&lt;NA&gt;</td>\n",
       "      <td>&lt;NA&gt;</td>\n",
       "      <td>&lt;NA&gt;</td>\n",
       "    </tr>\n",
       "  </tbody>\n",
       "</table>\n",
       "</div>"
      ],
      "text/plain": [
       "age_groups      18-25  26-30  31-35  36-40  41-45  46-50  51-55  56 and over\n",
       "outflow_number                                                              \n",
       "1                52.8   52.6   52.6   52.5   52.6   52.5   52.6         52.8\n",
       "2                52.4   52.3   52.3   51.8   52.0   51.8   51.9         52.0\n",
       "3                51.7   51.3   51.3   51.1   51.3   51.1   51.5         50.8\n",
       "4                50.7   49.7   50.6   50.2   49.8   50.5   50.3         50.2\n",
       "5                47.4   46.9   48.4   48.3   45.0   47.1   48.6         49.3\n",
       "6                40.9   41.6   48.0   43.2   41.4   43.2   45.0         48.2\n",
       "7                46.5   32.0   48.0   48.7   30.0   47.7   30.0         75.5\n",
       "8                30.0   <NA>   60.0   43.5   <NA>   <NA>   <NA>         59.0\n",
       "9                <NA>   <NA>   <NA>   30.0   <NA>   <NA>   <NA>         <NA>"
      ]
     },
     "execution_count": 17,
     "metadata": {},
     "output_type": "execute_result"
    }
   ],
   "source": [
    "df_top_pair_4_step.groupby(['age_groups', 'outflow_number'], as_index=False)['date_diff'].mean() \\\n",
    "                    .sort_values(['age_groups', 'outflow_number']) \\\n",
    "                    .pivot_table(index='outflow_number', columns='age_groups', values='date_diff', aggfunc='sum') \\\n",
    "                    .round(1)"
   ]
  },
  {
   "attachments": {},
   "cell_type": "markdown",
   "id": "2ed78757",
   "metadata": {},
   "source": [
    "### Сводная таблица по lifetime в банке  и номеру мигания в разрезе по кол-ву дней оттока"
   ]
  },
  {
   "cell_type": "code",
   "execution_count": 18,
   "id": "99708bf0",
   "metadata": {},
   "outputs": [
    {
     "data": {
      "text/html": [
       "<div>\n",
       "<style scoped>\n",
       "    .dataframe tbody tr th:only-of-type {\n",
       "        vertical-align: middle;\n",
       "    }\n",
       "\n",
       "    .dataframe tbody tr th {\n",
       "        vertical-align: top;\n",
       "    }\n",
       "\n",
       "    .dataframe thead th {\n",
       "        text-align: right;\n",
       "    }\n",
       "</style>\n",
       "<table border=\"1\" class=\"dataframe\">\n",
       "  <thead>\n",
       "    <tr style=\"text-align: right;\">\n",
       "      <th>years_after_first_activation_groups</th>\n",
       "      <th>0-3</th>\n",
       "      <th>4-7</th>\n",
       "      <th>8 and over</th>\n",
       "    </tr>\n",
       "    <tr>\n",
       "      <th>outflow_number</th>\n",
       "      <th></th>\n",
       "      <th></th>\n",
       "      <th></th>\n",
       "    </tr>\n",
       "  </thead>\n",
       "  <tbody>\n",
       "    <tr>\n",
       "      <th>1</th>\n",
       "      <td>52.7</td>\n",
       "      <td>52.5</td>\n",
       "      <td>52.5</td>\n",
       "    </tr>\n",
       "    <tr>\n",
       "      <th>2</th>\n",
       "      <td>52.2</td>\n",
       "      <td>52.0</td>\n",
       "      <td>51.8</td>\n",
       "    </tr>\n",
       "    <tr>\n",
       "      <th>3</th>\n",
       "      <td>51.4</td>\n",
       "      <td>51.1</td>\n",
       "      <td>51.4</td>\n",
       "    </tr>\n",
       "    <tr>\n",
       "      <th>4</th>\n",
       "      <td>50.4</td>\n",
       "      <td>50.0</td>\n",
       "      <td>49.6</td>\n",
       "    </tr>\n",
       "    <tr>\n",
       "      <th>5</th>\n",
       "      <td>47.6</td>\n",
       "      <td>47.9</td>\n",
       "      <td>45.0</td>\n",
       "    </tr>\n",
       "    <tr>\n",
       "      <th>6</th>\n",
       "      <td>43.6</td>\n",
       "      <td>43.4</td>\n",
       "      <td>43.9</td>\n",
       "    </tr>\n",
       "    <tr>\n",
       "      <th>7</th>\n",
       "      <td>45.0</td>\n",
       "      <td>52.4</td>\n",
       "      <td>44.0</td>\n",
       "    </tr>\n",
       "    <tr>\n",
       "      <th>8</th>\n",
       "      <td>30.0</td>\n",
       "      <td>58.7</td>\n",
       "      <td>30.0</td>\n",
       "    </tr>\n",
       "    <tr>\n",
       "      <th>9</th>\n",
       "      <td>&lt;NA&gt;</td>\n",
       "      <td>30.0</td>\n",
       "      <td>&lt;NA&gt;</td>\n",
       "    </tr>\n",
       "  </tbody>\n",
       "</table>\n",
       "</div>"
      ],
      "text/plain": [
       "years_after_first_activation_groups   0-3   4-7  8 and over\n",
       "outflow_number                                             \n",
       "1                                    52.7  52.5        52.5\n",
       "2                                    52.2  52.0        51.8\n",
       "3                                    51.4  51.1        51.4\n",
       "4                                    50.4  50.0        49.6\n",
       "5                                    47.6  47.9        45.0\n",
       "6                                    43.6  43.4        43.9\n",
       "7                                    45.0  52.4        44.0\n",
       "8                                    30.0  58.7        30.0\n",
       "9                                    <NA>  30.0        <NA>"
      ]
     },
     "execution_count": 18,
     "metadata": {},
     "output_type": "execute_result"
    }
   ],
   "source": [
    "df_top_pair_4_step.groupby(['years_after_first_activation_groups', 'outflow_number'], as_index=False)['date_diff'].mean() \\\n",
    "                    .sort_values(['years_after_first_activation_groups', 'outflow_number']) \\\n",
    "                    .pivot_table(index='outflow_number', columns='years_after_first_activation_groups', values='date_diff', aggfunc='mean') \\\n",
    "                    .round(1)\n"
   ]
  },
  {
   "attachments": {},
   "cell_type": "markdown",
   "id": "c97c8991",
   "metadata": {},
   "source": [
    "### Сводная таблица по lifetime в продукте и номеру мигания в разрезе по кол-ву дней оттока"
   ]
  },
  {
   "cell_type": "code",
   "execution_count": 19,
   "id": "a7062eee",
   "metadata": {},
   "outputs": [
    {
     "data": {
      "text/html": [
       "<div>\n",
       "<style scoped>\n",
       "    .dataframe tbody tr th:only-of-type {\n",
       "        vertical-align: middle;\n",
       "    }\n",
       "\n",
       "    .dataframe tbody tr th {\n",
       "        vertical-align: top;\n",
       "    }\n",
       "\n",
       "    .dataframe thead th {\n",
       "        text-align: right;\n",
       "    }\n",
       "</style>\n",
       "<table border=\"1\" class=\"dataframe\">\n",
       "  <thead>\n",
       "    <tr style=\"text-align: right;\">\n",
       "      <th>years_after_first_activation_by_product_groups</th>\n",
       "      <th>0-1</th>\n",
       "      <th>2-4</th>\n",
       "      <th>5-7</th>\n",
       "      <th>8 and over</th>\n",
       "    </tr>\n",
       "    <tr>\n",
       "      <th>outflow_number</th>\n",
       "      <th></th>\n",
       "      <th></th>\n",
       "      <th></th>\n",
       "      <th></th>\n",
       "    </tr>\n",
       "  </thead>\n",
       "  <tbody>\n",
       "    <tr>\n",
       "      <th>1</th>\n",
       "      <td>52.7</td>\n",
       "      <td>52.6</td>\n",
       "      <td>52.7</td>\n",
       "      <td>52.7</td>\n",
       "    </tr>\n",
       "    <tr>\n",
       "      <th>2</th>\n",
       "      <td>52.1</td>\n",
       "      <td>52.1</td>\n",
       "      <td>52.0</td>\n",
       "      <td>52.0</td>\n",
       "    </tr>\n",
       "    <tr>\n",
       "      <th>3</th>\n",
       "      <td>51.5</td>\n",
       "      <td>51.3</td>\n",
       "      <td>51.1</td>\n",
       "      <td>51.7</td>\n",
       "    </tr>\n",
       "    <tr>\n",
       "      <th>4</th>\n",
       "      <td>50.3</td>\n",
       "      <td>50.3</td>\n",
       "      <td>49.6</td>\n",
       "      <td>50.8</td>\n",
       "    </tr>\n",
       "    <tr>\n",
       "      <th>5</th>\n",
       "      <td>46.4</td>\n",
       "      <td>48.0</td>\n",
       "      <td>47.4</td>\n",
       "      <td>49.1</td>\n",
       "    </tr>\n",
       "    <tr>\n",
       "      <th>6</th>\n",
       "      <td>45.0</td>\n",
       "      <td>43.1</td>\n",
       "      <td>43.1</td>\n",
       "      <td>42.0</td>\n",
       "    </tr>\n",
       "    <tr>\n",
       "      <th>7</th>\n",
       "      <td>40.2</td>\n",
       "      <td>49.5</td>\n",
       "      <td>53.0</td>\n",
       "      <td>30.0</td>\n",
       "    </tr>\n",
       "    <tr>\n",
       "      <th>8</th>\n",
       "      <td>&lt;NA&gt;</td>\n",
       "      <td>44.8</td>\n",
       "      <td>57.0</td>\n",
       "      <td>30.0</td>\n",
       "    </tr>\n",
       "    <tr>\n",
       "      <th>9</th>\n",
       "      <td>&lt;NA&gt;</td>\n",
       "      <td>&lt;NA&gt;</td>\n",
       "      <td>30.0</td>\n",
       "      <td>&lt;NA&gt;</td>\n",
       "    </tr>\n",
       "  </tbody>\n",
       "</table>\n",
       "</div>"
      ],
      "text/plain": [
       "years_after_first_activation_by_product_groups   0-1   2-4   5-7  8 and over\n",
       "outflow_number                                                              \n",
       "1                                               52.7  52.6  52.7        52.7\n",
       "2                                               52.1  52.1  52.0        52.0\n",
       "3                                               51.5  51.3  51.1        51.7\n",
       "4                                               50.3  50.3  49.6        50.8\n",
       "5                                               46.4  48.0  47.4        49.1\n",
       "6                                               45.0  43.1  43.1        42.0\n",
       "7                                               40.2  49.5  53.0        30.0\n",
       "8                                               <NA>  44.8  57.0        30.0\n",
       "9                                               <NA>  <NA>  30.0        <NA>"
      ]
     },
     "execution_count": 19,
     "metadata": {},
     "output_type": "execute_result"
    }
   ],
   "source": [
    "df_top_pair_4_step.groupby(['years_after_first_activation_by_product_groups', 'outflow_number'], as_index=False)['date_diff'].mean() \\\n",
    "                    .sort_values(['years_after_first_activation_by_product_groups', 'outflow_number']) \\\n",
    "                    .pivot_table(index='outflow_number', columns='years_after_first_activation_by_product_groups', values='date_diff', aggfunc='mean') \\\n",
    "                    .round(1)"
   ]
  },
  {
   "attachments": {},
   "cell_type": "markdown",
   "id": "7fe2fa66",
   "metadata": {},
   "source": [
    "### Сводная таблица по кол-ву активных дней клиентов за выбранный период и номеру мигания в разрезе по кол-ву дней оттока"
   ]
  },
  {
   "cell_type": "code",
   "execution_count": 20,
   "id": "6f2110a1",
   "metadata": {},
   "outputs": [
    {
     "data": {
      "text/html": [
       "<div>\n",
       "<style scoped>\n",
       "    .dataframe tbody tr th:only-of-type {\n",
       "        vertical-align: middle;\n",
       "    }\n",
       "\n",
       "    .dataframe tbody tr th {\n",
       "        vertical-align: top;\n",
       "    }\n",
       "\n",
       "    .dataframe thead th {\n",
       "        text-align: right;\n",
       "    }\n",
       "</style>\n",
       "<table border=\"1\" class=\"dataframe\">\n",
       "  <thead>\n",
       "    <tr style=\"text-align: right;\">\n",
       "      <th>diff_active_status_days_groups</th>\n",
       "      <th>0-30</th>\n",
       "      <th>121-200</th>\n",
       "      <th>201 and over</th>\n",
       "      <th>31-60</th>\n",
       "      <th>61-90</th>\n",
       "      <th>91-120</th>\n",
       "    </tr>\n",
       "    <tr>\n",
       "      <th>outflow_number</th>\n",
       "      <th></th>\n",
       "      <th></th>\n",
       "      <th></th>\n",
       "      <th></th>\n",
       "      <th></th>\n",
       "      <th></th>\n",
       "    </tr>\n",
       "  </thead>\n",
       "  <tbody>\n",
       "    <tr>\n",
       "      <th>1</th>\n",
       "      <td>53.0</td>\n",
       "      <td>51.0</td>\n",
       "      <td>50.0</td>\n",
       "      <td>53.0</td>\n",
       "      <td>52.0</td>\n",
       "      <td>51.0</td>\n",
       "    </tr>\n",
       "    <tr>\n",
       "      <th>2</th>\n",
       "      <td>53.0</td>\n",
       "      <td>50.0</td>\n",
       "      <td>49.0</td>\n",
       "      <td>52.0</td>\n",
       "      <td>51.0</td>\n",
       "      <td>51.0</td>\n",
       "    </tr>\n",
       "    <tr>\n",
       "      <th>3</th>\n",
       "      <td>52.0</td>\n",
       "      <td>49.0</td>\n",
       "      <td>46.0</td>\n",
       "      <td>51.0</td>\n",
       "      <td>50.0</td>\n",
       "      <td>49.0</td>\n",
       "    </tr>\n",
       "    <tr>\n",
       "      <th>4</th>\n",
       "      <td>51.0</td>\n",
       "      <td>48.0</td>\n",
       "      <td>40.0</td>\n",
       "      <td>50.0</td>\n",
       "      <td>48.0</td>\n",
       "      <td>49.0</td>\n",
       "    </tr>\n",
       "    <tr>\n",
       "      <th>5</th>\n",
       "      <td>48.0</td>\n",
       "      <td>47.0</td>\n",
       "      <td>&lt;NA&gt;</td>\n",
       "      <td>47.0</td>\n",
       "      <td>46.0</td>\n",
       "      <td>45.0</td>\n",
       "    </tr>\n",
       "    <tr>\n",
       "      <th>6</th>\n",
       "      <td>43.0</td>\n",
       "      <td>&lt;NA&gt;</td>\n",
       "      <td>&lt;NA&gt;</td>\n",
       "      <td>47.0</td>\n",
       "      <td>&lt;NA&gt;</td>\n",
       "      <td>&lt;NA&gt;</td>\n",
       "    </tr>\n",
       "    <tr>\n",
       "      <th>7</th>\n",
       "      <td>47.0</td>\n",
       "      <td>&lt;NA&gt;</td>\n",
       "      <td>&lt;NA&gt;</td>\n",
       "      <td>&lt;NA&gt;</td>\n",
       "      <td>&lt;NA&gt;</td>\n",
       "      <td>&lt;NA&gt;</td>\n",
       "    </tr>\n",
       "    <tr>\n",
       "      <th>8</th>\n",
       "      <td>44.0</td>\n",
       "      <td>&lt;NA&gt;</td>\n",
       "      <td>&lt;NA&gt;</td>\n",
       "      <td>&lt;NA&gt;</td>\n",
       "      <td>&lt;NA&gt;</td>\n",
       "      <td>&lt;NA&gt;</td>\n",
       "    </tr>\n",
       "    <tr>\n",
       "      <th>9</th>\n",
       "      <td>30.0</td>\n",
       "      <td>&lt;NA&gt;</td>\n",
       "      <td>&lt;NA&gt;</td>\n",
       "      <td>&lt;NA&gt;</td>\n",
       "      <td>&lt;NA&gt;</td>\n",
       "      <td>&lt;NA&gt;</td>\n",
       "    </tr>\n",
       "  </tbody>\n",
       "</table>\n",
       "</div>"
      ],
      "text/plain": [
       "diff_active_status_days_groups  0-30  121-200  201 and over  31-60  61-90  \\\n",
       "outflow_number                                                              \n",
       "1                               53.0     51.0          50.0   53.0   52.0   \n",
       "2                               53.0     50.0          49.0   52.0   51.0   \n",
       "3                               52.0     49.0          46.0   51.0   50.0   \n",
       "4                               51.0     48.0          40.0   50.0   48.0   \n",
       "5                               48.0     47.0          <NA>   47.0   46.0   \n",
       "6                               43.0     <NA>          <NA>   47.0   <NA>   \n",
       "7                               47.0     <NA>          <NA>   <NA>   <NA>   \n",
       "8                               44.0     <NA>          <NA>   <NA>   <NA>   \n",
       "9                               30.0     <NA>          <NA>   <NA>   <NA>   \n",
       "\n",
       "diff_active_status_days_groups  91-120  \n",
       "outflow_number                          \n",
       "1                                 51.0  \n",
       "2                                 51.0  \n",
       "3                                 49.0  \n",
       "4                                 49.0  \n",
       "5                                 45.0  \n",
       "6                                 <NA>  \n",
       "7                                 <NA>  \n",
       "8                                 <NA>  \n",
       "9                                 <NA>  "
      ]
     },
     "execution_count": 20,
     "metadata": {},
     "output_type": "execute_result"
    }
   ],
   "source": [
    "df_top_pair_4_step.groupby(['diff_active_status_days_groups', 'outflow_number'], as_index=False)['date_diff'].mean() \\\n",
    "                    .sort_values('diff_active_status_days_groups', ascending=False) \\\n",
    "                    .pivot_table(index='outflow_number', columns='diff_active_status_days_groups', values='date_diff', aggfunc='sum') \\\n",
    "                    .round(0)"
   ]
  },
  {
   "attachments": {},
   "cell_type": "markdown",
   "id": "ddea847b",
   "metadata": {},
   "source": [
    "### Сводная таблица по группам номеров мигания клиентов и номеру мигания в разрезе по кол-ву дней оттока"
   ]
  },
  {
   "cell_type": "code",
   "execution_count": 21,
   "id": "031de629",
   "metadata": {},
   "outputs": [
    {
     "data": {
      "text/html": [
       "<div>\n",
       "<style scoped>\n",
       "    .dataframe tbody tr th:only-of-type {\n",
       "        vertical-align: middle;\n",
       "    }\n",
       "\n",
       "    .dataframe tbody tr th {\n",
       "        vertical-align: top;\n",
       "    }\n",
       "\n",
       "    .dataframe thead th {\n",
       "        text-align: right;\n",
       "    }\n",
       "</style>\n",
       "<table border=\"1\" class=\"dataframe\">\n",
       "  <thead>\n",
       "    <tr style=\"text-align: right;\">\n",
       "      <th>outflow_number_groups</th>\n",
       "      <th>1-2</th>\n",
       "      <th>3-4</th>\n",
       "      <th>5 and over</th>\n",
       "    </tr>\n",
       "    <tr>\n",
       "      <th>outflow_number</th>\n",
       "      <th></th>\n",
       "      <th></th>\n",
       "      <th></th>\n",
       "    </tr>\n",
       "  </thead>\n",
       "  <tbody>\n",
       "    <tr>\n",
       "      <th>1</th>\n",
       "      <td>53.0</td>\n",
       "      <td>&lt;NA&gt;</td>\n",
       "      <td>&lt;NA&gt;</td>\n",
       "    </tr>\n",
       "    <tr>\n",
       "      <th>2</th>\n",
       "      <td>52.0</td>\n",
       "      <td>&lt;NA&gt;</td>\n",
       "      <td>&lt;NA&gt;</td>\n",
       "    </tr>\n",
       "    <tr>\n",
       "      <th>3</th>\n",
       "      <td>&lt;NA&gt;</td>\n",
       "      <td>51.0</td>\n",
       "      <td>&lt;NA&gt;</td>\n",
       "    </tr>\n",
       "    <tr>\n",
       "      <th>4</th>\n",
       "      <td>&lt;NA&gt;</td>\n",
       "      <td>50.0</td>\n",
       "      <td>&lt;NA&gt;</td>\n",
       "    </tr>\n",
       "    <tr>\n",
       "      <th>5</th>\n",
       "      <td>&lt;NA&gt;</td>\n",
       "      <td>&lt;NA&gt;</td>\n",
       "      <td>48.0</td>\n",
       "    </tr>\n",
       "    <tr>\n",
       "      <th>6</th>\n",
       "      <td>&lt;NA&gt;</td>\n",
       "      <td>&lt;NA&gt;</td>\n",
       "      <td>44.0</td>\n",
       "    </tr>\n",
       "    <tr>\n",
       "      <th>7</th>\n",
       "      <td>&lt;NA&gt;</td>\n",
       "      <td>&lt;NA&gt;</td>\n",
       "      <td>47.0</td>\n",
       "    </tr>\n",
       "    <tr>\n",
       "      <th>8</th>\n",
       "      <td>&lt;NA&gt;</td>\n",
       "      <td>&lt;NA&gt;</td>\n",
       "      <td>44.0</td>\n",
       "    </tr>\n",
       "    <tr>\n",
       "      <th>9</th>\n",
       "      <td>&lt;NA&gt;</td>\n",
       "      <td>&lt;NA&gt;</td>\n",
       "      <td>30.0</td>\n",
       "    </tr>\n",
       "  </tbody>\n",
       "</table>\n",
       "</div>"
      ],
      "text/plain": [
       "outflow_number_groups   1-2   3-4  5 and over\n",
       "outflow_number                               \n",
       "1                      53.0  <NA>        <NA>\n",
       "2                      52.0  <NA>        <NA>\n",
       "3                      <NA>  51.0        <NA>\n",
       "4                      <NA>  50.0        <NA>\n",
       "5                      <NA>  <NA>        48.0\n",
       "6                      <NA>  <NA>        44.0\n",
       "7                      <NA>  <NA>        47.0\n",
       "8                      <NA>  <NA>        44.0\n",
       "9                      <NA>  <NA>        30.0"
      ]
     },
     "execution_count": 21,
     "metadata": {},
     "output_type": "execute_result"
    }
   ],
   "source": [
    "df_top_pair_4_step.groupby(['outflow_number_groups', 'outflow_number'], as_index=False)['date_diff'].mean() \\\n",
    "                    .sort_values(['outflow_number_groups', 'outflow_number']) \\\n",
    "                    .pivot_table(index='outflow_number', columns='outflow_number_groups', values='date_diff', aggfunc='sum') \\\n",
    "                    .round(0)\n"
   ]
  },
  {
   "attachments": {},
   "cell_type": "markdown",
   "id": "347ebcc3",
   "metadata": {},
   "source": [
    "# Смотрим кол-во и долю клиентов в разрезе номера мигания, чтобы изучить значимость"
   ]
  },
  {
   "cell_type": "code",
   "execution_count": 22,
   "id": "1b162527",
   "metadata": {},
   "outputs": [
    {
     "data": {
      "application/vnd.plotly.v1+json": {
       "config": {
        "plotlyServerURL": "https://plot.ly"
       },
       "data": [
        {
         "hovertemplate": "outflow_number=%{x}<br>share_of_clients=%{y}<extra></extra>",
         "legendgroup": "",
         "marker": {
          "color": "#636efa"
         },
         "name": "",
         "orientation": "v",
         "showlegend": false,
         "type": "funnel",
         "x": [
          1,
          2,
          3,
          4,
          5,
          6,
          7,
          8,
          9
         ],
         "xaxis": "x",
         "y": [
          76.39,
          19.2,
          3.81,
          0.55,
          0.05,
          0,
          0,
          0,
          0
         ],
         "yaxis": "y"
        }
       ],
       "layout": {
        "legend": {
         "tracegroupgap": 0
        },
        "margin": {
         "t": 60
        },
        "template": {
         "data": {
          "bar": [
           {
            "error_x": {
             "color": "#2a3f5f"
            },
            "error_y": {
             "color": "#2a3f5f"
            },
            "marker": {
             "line": {
              "color": "#E5ECF6",
              "width": 0.5
             },
             "pattern": {
              "fillmode": "overlay",
              "size": 10,
              "solidity": 0.2
             }
            },
            "type": "bar"
           }
          ],
          "barpolar": [
           {
            "marker": {
             "line": {
              "color": "#E5ECF6",
              "width": 0.5
             },
             "pattern": {
              "fillmode": "overlay",
              "size": 10,
              "solidity": 0.2
             }
            },
            "type": "barpolar"
           }
          ],
          "carpet": [
           {
            "aaxis": {
             "endlinecolor": "#2a3f5f",
             "gridcolor": "white",
             "linecolor": "white",
             "minorgridcolor": "white",
             "startlinecolor": "#2a3f5f"
            },
            "baxis": {
             "endlinecolor": "#2a3f5f",
             "gridcolor": "white",
             "linecolor": "white",
             "minorgridcolor": "white",
             "startlinecolor": "#2a3f5f"
            },
            "type": "carpet"
           }
          ],
          "choropleth": [
           {
            "colorbar": {
             "outlinewidth": 0,
             "ticks": ""
            },
            "type": "choropleth"
           }
          ],
          "contour": [
           {
            "colorbar": {
             "outlinewidth": 0,
             "ticks": ""
            },
            "colorscale": [
             [
              0,
              "#0d0887"
             ],
             [
              0.1111111111111111,
              "#46039f"
             ],
             [
              0.2222222222222222,
              "#7201a8"
             ],
             [
              0.3333333333333333,
              "#9c179e"
             ],
             [
              0.4444444444444444,
              "#bd3786"
             ],
             [
              0.5555555555555556,
              "#d8576b"
             ],
             [
              0.6666666666666666,
              "#ed7953"
             ],
             [
              0.7777777777777778,
              "#fb9f3a"
             ],
             [
              0.8888888888888888,
              "#fdca26"
             ],
             [
              1,
              "#f0f921"
             ]
            ],
            "type": "contour"
           }
          ],
          "contourcarpet": [
           {
            "colorbar": {
             "outlinewidth": 0,
             "ticks": ""
            },
            "type": "contourcarpet"
           }
          ],
          "heatmap": [
           {
            "colorbar": {
             "outlinewidth": 0,
             "ticks": ""
            },
            "colorscale": [
             [
              0,
              "#0d0887"
             ],
             [
              0.1111111111111111,
              "#46039f"
             ],
             [
              0.2222222222222222,
              "#7201a8"
             ],
             [
              0.3333333333333333,
              "#9c179e"
             ],
             [
              0.4444444444444444,
              "#bd3786"
             ],
             [
              0.5555555555555556,
              "#d8576b"
             ],
             [
              0.6666666666666666,
              "#ed7953"
             ],
             [
              0.7777777777777778,
              "#fb9f3a"
             ],
             [
              0.8888888888888888,
              "#fdca26"
             ],
             [
              1,
              "#f0f921"
             ]
            ],
            "type": "heatmap"
           }
          ],
          "heatmapgl": [
           {
            "colorbar": {
             "outlinewidth": 0,
             "ticks": ""
            },
            "colorscale": [
             [
              0,
              "#0d0887"
             ],
             [
              0.1111111111111111,
              "#46039f"
             ],
             [
              0.2222222222222222,
              "#7201a8"
             ],
             [
              0.3333333333333333,
              "#9c179e"
             ],
             [
              0.4444444444444444,
              "#bd3786"
             ],
             [
              0.5555555555555556,
              "#d8576b"
             ],
             [
              0.6666666666666666,
              "#ed7953"
             ],
             [
              0.7777777777777778,
              "#fb9f3a"
             ],
             [
              0.8888888888888888,
              "#fdca26"
             ],
             [
              1,
              "#f0f921"
             ]
            ],
            "type": "heatmapgl"
           }
          ],
          "histogram": [
           {
            "marker": {
             "pattern": {
              "fillmode": "overlay",
              "size": 10,
              "solidity": 0.2
             }
            },
            "type": "histogram"
           }
          ],
          "histogram2d": [
           {
            "colorbar": {
             "outlinewidth": 0,
             "ticks": ""
            },
            "colorscale": [
             [
              0,
              "#0d0887"
             ],
             [
              0.1111111111111111,
              "#46039f"
             ],
             [
              0.2222222222222222,
              "#7201a8"
             ],
             [
              0.3333333333333333,
              "#9c179e"
             ],
             [
              0.4444444444444444,
              "#bd3786"
             ],
             [
              0.5555555555555556,
              "#d8576b"
             ],
             [
              0.6666666666666666,
              "#ed7953"
             ],
             [
              0.7777777777777778,
              "#fb9f3a"
             ],
             [
              0.8888888888888888,
              "#fdca26"
             ],
             [
              1,
              "#f0f921"
             ]
            ],
            "type": "histogram2d"
           }
          ],
          "histogram2dcontour": [
           {
            "colorbar": {
             "outlinewidth": 0,
             "ticks": ""
            },
            "colorscale": [
             [
              0,
              "#0d0887"
             ],
             [
              0.1111111111111111,
              "#46039f"
             ],
             [
              0.2222222222222222,
              "#7201a8"
             ],
             [
              0.3333333333333333,
              "#9c179e"
             ],
             [
              0.4444444444444444,
              "#bd3786"
             ],
             [
              0.5555555555555556,
              "#d8576b"
             ],
             [
              0.6666666666666666,
              "#ed7953"
             ],
             [
              0.7777777777777778,
              "#fb9f3a"
             ],
             [
              0.8888888888888888,
              "#fdca26"
             ],
             [
              1,
              "#f0f921"
             ]
            ],
            "type": "histogram2dcontour"
           }
          ],
          "mesh3d": [
           {
            "colorbar": {
             "outlinewidth": 0,
             "ticks": ""
            },
            "type": "mesh3d"
           }
          ],
          "parcoords": [
           {
            "line": {
             "colorbar": {
              "outlinewidth": 0,
              "ticks": ""
             }
            },
            "type": "parcoords"
           }
          ],
          "pie": [
           {
            "automargin": true,
            "type": "pie"
           }
          ],
          "scatter": [
           {
            "fillpattern": {
             "fillmode": "overlay",
             "size": 10,
             "solidity": 0.2
            },
            "type": "scatter"
           }
          ],
          "scatter3d": [
           {
            "line": {
             "colorbar": {
              "outlinewidth": 0,
              "ticks": ""
             }
            },
            "marker": {
             "colorbar": {
              "outlinewidth": 0,
              "ticks": ""
             }
            },
            "type": "scatter3d"
           }
          ],
          "scattercarpet": [
           {
            "marker": {
             "colorbar": {
              "outlinewidth": 0,
              "ticks": ""
             }
            },
            "type": "scattercarpet"
           }
          ],
          "scattergeo": [
           {
            "marker": {
             "colorbar": {
              "outlinewidth": 0,
              "ticks": ""
             }
            },
            "type": "scattergeo"
           }
          ],
          "scattergl": [
           {
            "marker": {
             "colorbar": {
              "outlinewidth": 0,
              "ticks": ""
             }
            },
            "type": "scattergl"
           }
          ],
          "scattermapbox": [
           {
            "marker": {
             "colorbar": {
              "outlinewidth": 0,
              "ticks": ""
             }
            },
            "type": "scattermapbox"
           }
          ],
          "scatterpolar": [
           {
            "marker": {
             "colorbar": {
              "outlinewidth": 0,
              "ticks": ""
             }
            },
            "type": "scatterpolar"
           }
          ],
          "scatterpolargl": [
           {
            "marker": {
             "colorbar": {
              "outlinewidth": 0,
              "ticks": ""
             }
            },
            "type": "scatterpolargl"
           }
          ],
          "scatterternary": [
           {
            "marker": {
             "colorbar": {
              "outlinewidth": 0,
              "ticks": ""
             }
            },
            "type": "scatterternary"
           }
          ],
          "surface": [
           {
            "colorbar": {
             "outlinewidth": 0,
             "ticks": ""
            },
            "colorscale": [
             [
              0,
              "#0d0887"
             ],
             [
              0.1111111111111111,
              "#46039f"
             ],
             [
              0.2222222222222222,
              "#7201a8"
             ],
             [
              0.3333333333333333,
              "#9c179e"
             ],
             [
              0.4444444444444444,
              "#bd3786"
             ],
             [
              0.5555555555555556,
              "#d8576b"
             ],
             [
              0.6666666666666666,
              "#ed7953"
             ],
             [
              0.7777777777777778,
              "#fb9f3a"
             ],
             [
              0.8888888888888888,
              "#fdca26"
             ],
             [
              1,
              "#f0f921"
             ]
            ],
            "type": "surface"
           }
          ],
          "table": [
           {
            "cells": {
             "fill": {
              "color": "#EBF0F8"
             },
             "line": {
              "color": "white"
             }
            },
            "header": {
             "fill": {
              "color": "#C8D4E3"
             },
             "line": {
              "color": "white"
             }
            },
            "type": "table"
           }
          ]
         },
         "layout": {
          "annotationdefaults": {
           "arrowcolor": "#2a3f5f",
           "arrowhead": 0,
           "arrowwidth": 1
          },
          "autotypenumbers": "strict",
          "coloraxis": {
           "colorbar": {
            "outlinewidth": 0,
            "ticks": ""
           }
          },
          "colorscale": {
           "diverging": [
            [
             0,
             "#8e0152"
            ],
            [
             0.1,
             "#c51b7d"
            ],
            [
             0.2,
             "#de77ae"
            ],
            [
             0.3,
             "#f1b6da"
            ],
            [
             0.4,
             "#fde0ef"
            ],
            [
             0.5,
             "#f7f7f7"
            ],
            [
             0.6,
             "#e6f5d0"
            ],
            [
             0.7,
             "#b8e186"
            ],
            [
             0.8,
             "#7fbc41"
            ],
            [
             0.9,
             "#4d9221"
            ],
            [
             1,
             "#276419"
            ]
           ],
           "sequential": [
            [
             0,
             "#0d0887"
            ],
            [
             0.1111111111111111,
             "#46039f"
            ],
            [
             0.2222222222222222,
             "#7201a8"
            ],
            [
             0.3333333333333333,
             "#9c179e"
            ],
            [
             0.4444444444444444,
             "#bd3786"
            ],
            [
             0.5555555555555556,
             "#d8576b"
            ],
            [
             0.6666666666666666,
             "#ed7953"
            ],
            [
             0.7777777777777778,
             "#fb9f3a"
            ],
            [
             0.8888888888888888,
             "#fdca26"
            ],
            [
             1,
             "#f0f921"
            ]
           ],
           "sequentialminus": [
            [
             0,
             "#0d0887"
            ],
            [
             0.1111111111111111,
             "#46039f"
            ],
            [
             0.2222222222222222,
             "#7201a8"
            ],
            [
             0.3333333333333333,
             "#9c179e"
            ],
            [
             0.4444444444444444,
             "#bd3786"
            ],
            [
             0.5555555555555556,
             "#d8576b"
            ],
            [
             0.6666666666666666,
             "#ed7953"
            ],
            [
             0.7777777777777778,
             "#fb9f3a"
            ],
            [
             0.8888888888888888,
             "#fdca26"
            ],
            [
             1,
             "#f0f921"
            ]
           ]
          },
          "colorway": [
           "#636efa",
           "#EF553B",
           "#00cc96",
           "#ab63fa",
           "#FFA15A",
           "#19d3f3",
           "#FF6692",
           "#B6E880",
           "#FF97FF",
           "#FECB52"
          ],
          "font": {
           "color": "#2a3f5f"
          },
          "geo": {
           "bgcolor": "white",
           "lakecolor": "white",
           "landcolor": "#E5ECF6",
           "showlakes": true,
           "showland": true,
           "subunitcolor": "white"
          },
          "hoverlabel": {
           "align": "left"
          },
          "hovermode": "closest",
          "mapbox": {
           "style": "light"
          },
          "paper_bgcolor": "white",
          "plot_bgcolor": "#E5ECF6",
          "polar": {
           "angularaxis": {
            "gridcolor": "white",
            "linecolor": "white",
            "ticks": ""
           },
           "bgcolor": "#E5ECF6",
           "radialaxis": {
            "gridcolor": "white",
            "linecolor": "white",
            "ticks": ""
           }
          },
          "scene": {
           "xaxis": {
            "backgroundcolor": "#E5ECF6",
            "gridcolor": "white",
            "gridwidth": 2,
            "linecolor": "white",
            "showbackground": true,
            "ticks": "",
            "zerolinecolor": "white"
           },
           "yaxis": {
            "backgroundcolor": "#E5ECF6",
            "gridcolor": "white",
            "gridwidth": 2,
            "linecolor": "white",
            "showbackground": true,
            "ticks": "",
            "zerolinecolor": "white"
           },
           "zaxis": {
            "backgroundcolor": "#E5ECF6",
            "gridcolor": "white",
            "gridwidth": 2,
            "linecolor": "white",
            "showbackground": true,
            "ticks": "",
            "zerolinecolor": "white"
           }
          },
          "shapedefaults": {
           "line": {
            "color": "#2a3f5f"
           }
          },
          "ternary": {
           "aaxis": {
            "gridcolor": "white",
            "linecolor": "white",
            "ticks": ""
           },
           "baxis": {
            "gridcolor": "white",
            "linecolor": "white",
            "ticks": ""
           },
           "bgcolor": "#E5ECF6",
           "caxis": {
            "gridcolor": "white",
            "linecolor": "white",
            "ticks": ""
           }
          },
          "title": {
           "x": 0.05
          },
          "xaxis": {
           "automargin": true,
           "gridcolor": "white",
           "linecolor": "white",
           "ticks": "",
           "title": {
            "standoff": 15
           },
           "zerolinecolor": "white",
           "zerolinewidth": 2
          },
          "yaxis": {
           "automargin": true,
           "gridcolor": "white",
           "linecolor": "white",
           "ticks": "",
           "title": {
            "standoff": 15
           },
           "zerolinecolor": "white",
           "zerolinewidth": 2
          }
         }
        },
        "xaxis": {
         "anchor": "y",
         "domain": [
          0,
          1
         ],
         "title": {
          "text": "outflow_number"
         }
        },
        "yaxis": {
         "anchor": "x",
         "domain": [
          0,
          1
         ],
         "title": {
          "text": "share_of_clients"
         }
        }
       }
      }
     },
     "metadata": {},
     "output_type": "display_data"
    }
   ],
   "source": [
    "funnel_by_outflow = df_top_pair_4_step.groupby('outflow_number', as_index=False).agg({'date_diff':'mean', 'diff_active_status_days':'mean', 'party_rk':'nunique'}) \\\n",
    "                    .sort_values('party_rk', ascending=False)\n",
    "\n",
    "# funnel_by_outflow['total_qty'] = funnel_by_outflow['party_rk'].shift(1)\n",
    "funnel_by_outflow['total_qty'] = funnel_by_outflow['party_rk'].sum()\n",
    "\n",
    "funnel_by_outflow['share_of_clients'] = funnel_by_outflow['party_rk'] / funnel_by_outflow['total_qty'] * 100\n",
    "\n",
    "for_share_fig = funnel_by_outflow[['outflow_number', 'party_rk', 'share_of_clients', 'date_diff', 'diff_active_status_days']].rename(columns={'party_rk':'clients'}).round({'share_of_clients':2, 'date_diff':1, 'diff_active_status_days':1})\n",
    "\n",
    "## Так как мы считаем мигающих клиентов теми, у кого есть следующая запись в таблице, то неактивного\n",
    "\n",
    "for_share_fig\n",
    "\n",
    "# fig_share = px.bar(for_share_fig, x='outflow_number', y='share_of_clients', text_auto='.2s')\n",
    "\n",
    "# fig_share.show()\n",
    "fig_share = px.funnel(for_share_fig, x='outflow_number', y='share_of_clients')\n",
    "fig_share.show()\n"
   ]
  },
  {
   "attachments": {},
   "cell_type": "markdown",
   "id": "498a6828",
   "metadata": {},
   "source": [
    "### Когорта активных клиентов¶"
   ]
  },
  {
   "cell_type": "code",
   "execution_count": 23,
   "id": "12e325f2",
   "metadata": {},
   "outputs": [
    {
     "data": {
      "text/html": [
       "<div>\n",
       "<style scoped>\n",
       "    .dataframe tbody tr th:only-of-type {\n",
       "        vertical-align: middle;\n",
       "    }\n",
       "\n",
       "    .dataframe tbody tr th {\n",
       "        vertical-align: top;\n",
       "    }\n",
       "\n",
       "    .dataframe thead th {\n",
       "        text-align: right;\n",
       "    }\n",
       "</style>\n",
       "<table border=\"1\" class=\"dataframe\">\n",
       "  <thead>\n",
       "    <tr style=\"text-align: right;\">\n",
       "      <th>year_month_to</th>\n",
       "      <th>2022-01</th>\n",
       "      <th>2022-02</th>\n",
       "      <th>2022-03</th>\n",
       "      <th>2022-04</th>\n",
       "      <th>2022-05</th>\n",
       "      <th>2022-06</th>\n",
       "      <th>2022-07</th>\n",
       "      <th>2022-08</th>\n",
       "      <th>2022-09</th>\n",
       "      <th>2022-10</th>\n",
       "      <th>2022-11</th>\n",
       "      <th>2022-12</th>\n",
       "      <th>2023-01</th>\n",
       "      <th>2023-02</th>\n",
       "      <th>2023-03</th>\n",
       "      <th>2023-04</th>\n",
       "      <th>2023-05</th>\n",
       "    </tr>\n",
       "    <tr>\n",
       "      <th>year_month_from</th>\n",
       "      <th></th>\n",
       "      <th></th>\n",
       "      <th></th>\n",
       "      <th></th>\n",
       "      <th></th>\n",
       "      <th></th>\n",
       "      <th></th>\n",
       "      <th></th>\n",
       "      <th></th>\n",
       "      <th></th>\n",
       "      <th></th>\n",
       "      <th></th>\n",
       "      <th></th>\n",
       "      <th></th>\n",
       "      <th></th>\n",
       "      <th></th>\n",
       "      <th></th>\n",
       "    </tr>\n",
       "  </thead>\n",
       "  <tbody>\n",
       "    <tr>\n",
       "      <th>2022-01</th>\n",
       "      <td>7701</td>\n",
       "      <td>62845</td>\n",
       "      <td>33920</td>\n",
       "      <td>15798</td>\n",
       "      <td>7868</td>\n",
       "      <td>4733</td>\n",
       "      <td>3850</td>\n",
       "      <td>2468</td>\n",
       "      <td>1740</td>\n",
       "      <td>1354</td>\n",
       "      <td>928</td>\n",
       "      <td>772</td>\n",
       "      <td>719</td>\n",
       "      <td>430</td>\n",
       "      <td>406</td>\n",
       "      <td>290</td>\n",
       "      <td>105</td>\n",
       "    </tr>\n",
       "    <tr>\n",
       "      <th>2022-02</th>\n",
       "      <td>-</td>\n",
       "      <td>4741</td>\n",
       "      <td>77066</td>\n",
       "      <td>36097</td>\n",
       "      <td>15066</td>\n",
       "      <td>7879</td>\n",
       "      <td>6071</td>\n",
       "      <td>3786</td>\n",
       "      <td>2425</td>\n",
       "      <td>2021</td>\n",
       "      <td>1239</td>\n",
       "      <td>1068</td>\n",
       "      <td>954</td>\n",
       "      <td>565</td>\n",
       "      <td>478</td>\n",
       "      <td>375</td>\n",
       "      <td>140</td>\n",
       "    </tr>\n",
       "    <tr>\n",
       "      <th>2022-03</th>\n",
       "      <td>-</td>\n",
       "      <td>-</td>\n",
       "      <td>8773</td>\n",
       "      <td>84991</td>\n",
       "      <td>32560</td>\n",
       "      <td>14154</td>\n",
       "      <td>9514</td>\n",
       "      <td>5513</td>\n",
       "      <td>3465</td>\n",
       "      <td>2696</td>\n",
       "      <td>1739</td>\n",
       "      <td>1404</td>\n",
       "      <td>1216</td>\n",
       "      <td>686</td>\n",
       "      <td>638</td>\n",
       "      <td>444</td>\n",
       "      <td>155</td>\n",
       "    </tr>\n",
       "    <tr>\n",
       "      <th>2022-04</th>\n",
       "      <td>-</td>\n",
       "      <td>-</td>\n",
       "      <td>-</td>\n",
       "      <td>5999</td>\n",
       "      <td>87219</td>\n",
       "      <td>33242</td>\n",
       "      <td>17322</td>\n",
       "      <td>9034</td>\n",
       "      <td>5240</td>\n",
       "      <td>3933</td>\n",
       "      <td>2382</td>\n",
       "      <td>1814</td>\n",
       "      <td>1610</td>\n",
       "      <td>873</td>\n",
       "      <td>796</td>\n",
       "      <td>563</td>\n",
       "      <td>226</td>\n",
       "    </tr>\n",
       "    <tr>\n",
       "      <th>2022-05</th>\n",
       "      <td>-</td>\n",
       "      <td>-</td>\n",
       "      <td>-</td>\n",
       "      <td>-</td>\n",
       "      <td>8315</td>\n",
       "      <td>85558</td>\n",
       "      <td>38374</td>\n",
       "      <td>15537</td>\n",
       "      <td>8176</td>\n",
       "      <td>5476</td>\n",
       "      <td>3176</td>\n",
       "      <td>2389</td>\n",
       "      <td>1796</td>\n",
       "      <td>1024</td>\n",
       "      <td>984</td>\n",
       "      <td>675</td>\n",
       "      <td>226</td>\n",
       "    </tr>\n",
       "    <tr>\n",
       "      <th>2022-06</th>\n",
       "      <td>-</td>\n",
       "      <td>-</td>\n",
       "      <td>-</td>\n",
       "      <td>-</td>\n",
       "      <td>-</td>\n",
       "      <td>6179</td>\n",
       "      <td>96553</td>\n",
       "      <td>34908</td>\n",
       "      <td>15102</td>\n",
       "      <td>8729</td>\n",
       "      <td>4783</td>\n",
       "      <td>3237</td>\n",
       "      <td>2586</td>\n",
       "      <td>1400</td>\n",
       "      <td>1210</td>\n",
       "      <td>819</td>\n",
       "      <td>267</td>\n",
       "    </tr>\n",
       "    <tr>\n",
       "      <th>2022-07</th>\n",
       "      <td>-</td>\n",
       "      <td>-</td>\n",
       "      <td>-</td>\n",
       "      <td>-</td>\n",
       "      <td>-</td>\n",
       "      <td>-</td>\n",
       "      <td>9348</td>\n",
       "      <td>87752</td>\n",
       "      <td>31680</td>\n",
       "      <td>14264</td>\n",
       "      <td>6978</td>\n",
       "      <td>4244</td>\n",
       "      <td>3201</td>\n",
       "      <td>1715</td>\n",
       "      <td>1426</td>\n",
       "      <td>976</td>\n",
       "      <td>314</td>\n",
       "    </tr>\n",
       "    <tr>\n",
       "      <th>2022-08</th>\n",
       "      <td>-</td>\n",
       "      <td>-</td>\n",
       "      <td>-</td>\n",
       "      <td>-</td>\n",
       "      <td>-</td>\n",
       "      <td>-</td>\n",
       "      <td>-</td>\n",
       "      <td>7846</td>\n",
       "      <td>87276</td>\n",
       "      <td>34071</td>\n",
       "      <td>13223</td>\n",
       "      <td>7614</td>\n",
       "      <td>5070</td>\n",
       "      <td>2476</td>\n",
       "      <td>2084</td>\n",
       "      <td>1443</td>\n",
       "      <td>485</td>\n",
       "    </tr>\n",
       "    <tr>\n",
       "      <th>2022-09</th>\n",
       "      <td>-</td>\n",
       "      <td>-</td>\n",
       "      <td>-</td>\n",
       "      <td>-</td>\n",
       "      <td>-</td>\n",
       "      <td>-</td>\n",
       "      <td>-</td>\n",
       "      <td>-</td>\n",
       "      <td>5793</td>\n",
       "      <td>86752</td>\n",
       "      <td>30338</td>\n",
       "      <td>13607</td>\n",
       "      <td>8221</td>\n",
       "      <td>3683</td>\n",
       "      <td>2961</td>\n",
       "      <td>2008</td>\n",
       "      <td>678</td>\n",
       "    </tr>\n",
       "    <tr>\n",
       "      <th>2022-10</th>\n",
       "      <td>-</td>\n",
       "      <td>-</td>\n",
       "      <td>-</td>\n",
       "      <td>-</td>\n",
       "      <td>-</td>\n",
       "      <td>-</td>\n",
       "      <td>-</td>\n",
       "      <td>-</td>\n",
       "      <td>-</td>\n",
       "      <td>8231</td>\n",
       "      <td>80790</td>\n",
       "      <td>31959</td>\n",
       "      <td>14849</td>\n",
       "      <td>6055</td>\n",
       "      <td>4358</td>\n",
       "      <td>2646</td>\n",
       "      <td>821</td>\n",
       "    </tr>\n",
       "    <tr>\n",
       "      <th>2022-11</th>\n",
       "      <td>-</td>\n",
       "      <td>-</td>\n",
       "      <td>-</td>\n",
       "      <td>-</td>\n",
       "      <td>-</td>\n",
       "      <td>-</td>\n",
       "      <td>-</td>\n",
       "      <td>-</td>\n",
       "      <td>-</td>\n",
       "      <td>-</td>\n",
       "      <td>5539</td>\n",
       "      <td>83372</td>\n",
       "      <td>32835</td>\n",
       "      <td>10599</td>\n",
       "      <td>6840</td>\n",
       "      <td>3933</td>\n",
       "      <td>1166</td>\n",
       "    </tr>\n",
       "    <tr>\n",
       "      <th>2022-12</th>\n",
       "      <td>-</td>\n",
       "      <td>-</td>\n",
       "      <td>-</td>\n",
       "      <td>-</td>\n",
       "      <td>-</td>\n",
       "      <td>-</td>\n",
       "      <td>-</td>\n",
       "      <td>-</td>\n",
       "      <td>-</td>\n",
       "      <td>-</td>\n",
       "      <td>-</td>\n",
       "      <td>8447</td>\n",
       "      <td>94584</td>\n",
       "      <td>27845</td>\n",
       "      <td>13470</td>\n",
       "      <td>6700</td>\n",
       "      <td>1765</td>\n",
       "    </tr>\n",
       "    <tr>\n",
       "      <th>2023-01</th>\n",
       "      <td>-</td>\n",
       "      <td>-</td>\n",
       "      <td>-</td>\n",
       "      <td>-</td>\n",
       "      <td>-</td>\n",
       "      <td>-</td>\n",
       "      <td>-</td>\n",
       "      <td>-</td>\n",
       "      <td>-</td>\n",
       "      <td>-</td>\n",
       "      <td>-</td>\n",
       "      <td>-</td>\n",
       "      <td>6451</td>\n",
       "      <td>62347</td>\n",
       "      <td>31661</td>\n",
       "      <td>10856</td>\n",
       "      <td>2553</td>\n",
       "    </tr>\n",
       "    <tr>\n",
       "      <th>2023-02</th>\n",
       "      <td>-</td>\n",
       "      <td>-</td>\n",
       "      <td>-</td>\n",
       "      <td>-</td>\n",
       "      <td>-</td>\n",
       "      <td>-</td>\n",
       "      <td>-</td>\n",
       "      <td>-</td>\n",
       "      <td>-</td>\n",
       "      <td>-</td>\n",
       "      <td>-</td>\n",
       "      <td>-</td>\n",
       "      <td>-</td>\n",
       "      <td>4435</td>\n",
       "      <td>74648</td>\n",
       "      <td>25178</td>\n",
       "      <td>4937</td>\n",
       "    </tr>\n",
       "    <tr>\n",
       "      <th>2023-03</th>\n",
       "      <td>-</td>\n",
       "      <td>-</td>\n",
       "      <td>-</td>\n",
       "      <td>-</td>\n",
       "      <td>-</td>\n",
       "      <td>-</td>\n",
       "      <td>-</td>\n",
       "      <td>-</td>\n",
       "      <td>-</td>\n",
       "      <td>-</td>\n",
       "      <td>-</td>\n",
       "      <td>-</td>\n",
       "      <td>-</td>\n",
       "      <td>-</td>\n",
       "      <td>7980</td>\n",
       "      <td>63906</td>\n",
       "      <td>11026</td>\n",
       "    </tr>\n",
       "    <tr>\n",
       "      <th>2023-04</th>\n",
       "      <td>-</td>\n",
       "      <td>-</td>\n",
       "      <td>-</td>\n",
       "      <td>-</td>\n",
       "      <td>-</td>\n",
       "      <td>-</td>\n",
       "      <td>-</td>\n",
       "      <td>-</td>\n",
       "      <td>-</td>\n",
       "      <td>-</td>\n",
       "      <td>-</td>\n",
       "      <td>-</td>\n",
       "      <td>-</td>\n",
       "      <td>-</td>\n",
       "      <td>-</td>\n",
       "      <td>4181</td>\n",
       "      <td>23211</td>\n",
       "    </tr>\n",
       "    <tr>\n",
       "      <th>2023-05</th>\n",
       "      <td>-</td>\n",
       "      <td>-</td>\n",
       "      <td>-</td>\n",
       "      <td>-</td>\n",
       "      <td>-</td>\n",
       "      <td>-</td>\n",
       "      <td>-</td>\n",
       "      <td>-</td>\n",
       "      <td>-</td>\n",
       "      <td>-</td>\n",
       "      <td>-</td>\n",
       "      <td>-</td>\n",
       "      <td>-</td>\n",
       "      <td>-</td>\n",
       "      <td>-</td>\n",
       "      <td>-</td>\n",
       "      <td>1507</td>\n",
       "    </tr>\n",
       "  </tbody>\n",
       "</table>\n",
       "</div>"
      ],
      "text/plain": [
       "year_month_to   2022-01 2022-02 2022-03 2022-04 2022-05 2022-06 2022-07  \\\n",
       "year_month_from                                                           \n",
       "2022-01            7701   62845   33920   15798    7868    4733    3850   \n",
       "2022-02               -    4741   77066   36097   15066    7879    6071   \n",
       "2022-03               -       -    8773   84991   32560   14154    9514   \n",
       "2022-04               -       -       -    5999   87219   33242   17322   \n",
       "2022-05               -       -       -       -    8315   85558   38374   \n",
       "2022-06               -       -       -       -       -    6179   96553   \n",
       "2022-07               -       -       -       -       -       -    9348   \n",
       "2022-08               -       -       -       -       -       -       -   \n",
       "2022-09               -       -       -       -       -       -       -   \n",
       "2022-10               -       -       -       -       -       -       -   \n",
       "2022-11               -       -       -       -       -       -       -   \n",
       "2022-12               -       -       -       -       -       -       -   \n",
       "2023-01               -       -       -       -       -       -       -   \n",
       "2023-02               -       -       -       -       -       -       -   \n",
       "2023-03               -       -       -       -       -       -       -   \n",
       "2023-04               -       -       -       -       -       -       -   \n",
       "2023-05               -       -       -       -       -       -       -   \n",
       "\n",
       "year_month_to   2022-08 2022-09 2022-10 2022-11 2022-12 2023-01 2023-02  \\\n",
       "year_month_from                                                           \n",
       "2022-01            2468    1740    1354     928     772     719     430   \n",
       "2022-02            3786    2425    2021    1239    1068     954     565   \n",
       "2022-03            5513    3465    2696    1739    1404    1216     686   \n",
       "2022-04            9034    5240    3933    2382    1814    1610     873   \n",
       "2022-05           15537    8176    5476    3176    2389    1796    1024   \n",
       "2022-06           34908   15102    8729    4783    3237    2586    1400   \n",
       "2022-07           87752   31680   14264    6978    4244    3201    1715   \n",
       "2022-08            7846   87276   34071   13223    7614    5070    2476   \n",
       "2022-09               -    5793   86752   30338   13607    8221    3683   \n",
       "2022-10               -       -    8231   80790   31959   14849    6055   \n",
       "2022-11               -       -       -    5539   83372   32835   10599   \n",
       "2022-12               -       -       -       -    8447   94584   27845   \n",
       "2023-01               -       -       -       -       -    6451   62347   \n",
       "2023-02               -       -       -       -       -       -    4435   \n",
       "2023-03               -       -       -       -       -       -       -   \n",
       "2023-04               -       -       -       -       -       -       -   \n",
       "2023-05               -       -       -       -       -       -       -   \n",
       "\n",
       "year_month_to   2023-03 2023-04  2023-05  \n",
       "year_month_from                           \n",
       "2022-01             406     290      105  \n",
       "2022-02             478     375      140  \n",
       "2022-03             638     444      155  \n",
       "2022-04             796     563      226  \n",
       "2022-05             984     675      226  \n",
       "2022-06            1210     819      267  \n",
       "2022-07            1426     976      314  \n",
       "2022-08            2084    1443      485  \n",
       "2022-09            2961    2008      678  \n",
       "2022-10            4358    2646      821  \n",
       "2022-11            6840    3933     1166  \n",
       "2022-12           13470    6700     1765  \n",
       "2023-01           31661   10856     2553  \n",
       "2023-02           74648   25178     4937  \n",
       "2023-03            7980   63906    11026  \n",
       "2023-04               -    4181    23211  \n",
       "2023-05               -       -     1507  "
      ]
     },
     "execution_count": 23,
     "metadata": {},
     "output_type": "execute_result"
    }
   ],
   "source": [
    "df_top_pair_4_step.groupby(['year_month_from','year_month_to'], as_index=False)['party_rk'].agg('nunique') \\\n",
    "                    .sort_values('party_rk', ascending=False) \\\n",
    "                    .pivot_table(columns='year_month_to', index='year_month_from', values='party_rk', aggfunc='sum') \\\n",
    "                    .fillna(0) \\\n",
    "                    .astype(int) \\\n",
    "                    .replace(0, '-')"
   ]
  },
  {
   "attachments": {},
   "cell_type": "markdown",
   "id": "c3f8bd9f",
   "metadata": {},
   "source": [
    "### Кол-во клиентов на последний день (в рамках месяца, значит, последний день был в этом месяце)"
   ]
  },
  {
   "cell_type": "code",
   "execution_count": 24,
   "id": "5656b12a",
   "metadata": {},
   "outputs": [
    {
     "data": {
      "application/vnd.plotly.v1+json": {
       "config": {
        "plotlyServerURL": "https://plot.ly"
       },
       "data": [
        {
         "alignmentgroup": "True",
         "hovertemplate": "year_month_to=%{x}<br>clients=%{y}<br>outflow_number=%{marker.color}<extra></extra>",
         "legendgroup": "",
         "marker": {
          "color": [
           1,
           1,
           1,
           1,
           1,
           1,
           1,
           1,
           1,
           1,
           1,
           1,
           1,
           1,
           1,
           2,
           2,
           2,
           2,
           2,
           2,
           2,
           2,
           2,
           2,
           1,
           2,
           2,
           3,
           3,
           3,
           2,
           3,
           3,
           3,
           1,
           3,
           3,
           3,
           2,
           4,
           4,
           3,
           4,
           4,
           3,
           4,
           4,
           4,
           2,
           5,
           4,
           5,
           3,
           5,
           5,
           3,
           5,
           3,
           4,
           5,
           7,
           7,
           4,
           8,
           2,
           7,
           6,
           7,
           5,
           4,
           8,
           8,
           6,
           6,
           6,
           5,
           4,
           5,
           3,
           6,
           4,
           5,
           7,
           6,
           2,
           5,
           4,
           7,
           6,
           9
          ],
          "coloraxis": "coloraxis",
          "pattern": {
           "shape": ""
          }
         },
         "name": "",
         "offsetgroup": "",
         "orientation": "v",
         "showlegend": false,
         "textposition": "auto",
         "texttemplate": "%{y:.2s}",
         "type": "bar",
         "x": [
          "2022-07",
          "2022-04",
          "2022-05",
          "2022-08",
          "2022-06",
          "2022-09",
          "2022-10",
          "2022-03",
          "2023-01",
          "2022-12",
          "2022-11",
          "2023-03",
          "2023-02",
          "2023-04",
          "2022-02",
          "2023-01",
          "2023-03",
          "2022-12",
          "2022-10",
          "2022-11",
          "2022-09",
          "2023-04",
          "2023-02",
          "2022-08",
          "2022-07",
          "2023-05",
          "2022-06",
          "2023-05",
          "2023-03",
          "2023-01",
          "2023-04",
          "2022-05",
          "2022-12",
          "2023-02",
          "2022-11",
          "2022-01",
          "2022-10",
          "2023-05",
          "2022-09",
          "2022-04",
          "2023-04",
          "2023-03",
          "2022-08",
          "2023-01",
          "2023-02",
          "2022-07",
          "2023-05",
          "2022-12",
          "2022-11",
          "2022-03",
          "2023-04",
          "2022-10",
          "2023-03",
          "2022-06",
          "2023-05",
          "2023-02",
          "2022-03",
          "2022-08",
          "2022-04",
          "2022-06",
          "2022-09",
          "2023-04",
          "2023-02",
          "2022-04",
          "2023-04",
          "2022-01",
          "2022-12",
          "2023-01",
          "2023-05",
          "2022-07",
          "2022-05",
          "2023-02",
          "2023-03",
          "2022-12",
          "2022-11",
          "2023-03",
          "2023-01",
          "2022-09",
          "2022-12",
          "2022-05",
          "2023-04",
          "2022-08",
          "2022-11",
          "2023-03",
          "2023-05",
          "2022-02",
          "2022-10",
          "2022-07",
          "2023-01",
          "2023-02",
          "2023-05"
         ],
         "xaxis": "x",
         "y": [
          147787,
          139259,
          139101,
          130398,
          130163,
          120216,
          119960,
          119343,
          112930,
          107167,
          104490,
          91656,
          78330,
          74252,
          67572,
          46633,
          42159,
          41579,
          40298,
          38148,
          36015,
          35671,
          34111,
          33969,
          32157,
          29047,
          21368,
          14153,
          13216,
          12614,
          11926,
          11884,
          9991,
          9810,
          7838,
          7701,
          6959,
          4962,
          4582,
          3622,
          2762,
          2589,
          2450,
          1820,
          1737,
          1080,
          1214,
          1143,
          617,
          416,
          354,
          298,
          293,
          212,
          188,
          136,
          2,
          3,
          3,
          2,
          2,
          2,
          2,
          1,
          1,
          1,
          1,
          5,
          1,
          1,
          1,
          1,
          4,
          6,
          5,
          20,
          86,
          82,
          44,
          43,
          25,
          24,
          17,
          5,
          16,
          14,
          14,
          11,
          6,
          6,
          1
         ],
         "yaxis": "y"
        }
       ],
       "layout": {
        "barmode": "relative",
        "coloraxis": {
         "colorbar": {
          "title": {
           "text": "outflow_number"
          }
         },
         "colorscale": [
          [
           0,
           "#0d0887"
          ],
          [
           0.1111111111111111,
           "#46039f"
          ],
          [
           0.2222222222222222,
           "#7201a8"
          ],
          [
           0.3333333333333333,
           "#9c179e"
          ],
          [
           0.4444444444444444,
           "#bd3786"
          ],
          [
           0.5555555555555556,
           "#d8576b"
          ],
          [
           0.6666666666666666,
           "#ed7953"
          ],
          [
           0.7777777777777778,
           "#fb9f3a"
          ],
          [
           0.8888888888888888,
           "#fdca26"
          ],
          [
           1,
           "#f0f921"
          ]
         ]
        },
        "legend": {
         "tracegroupgap": 0
        },
        "margin": {
         "t": 60
        },
        "template": {
         "data": {
          "bar": [
           {
            "error_x": {
             "color": "#2a3f5f"
            },
            "error_y": {
             "color": "#2a3f5f"
            },
            "marker": {
             "line": {
              "color": "#E5ECF6",
              "width": 0.5
             },
             "pattern": {
              "fillmode": "overlay",
              "size": 10,
              "solidity": 0.2
             }
            },
            "type": "bar"
           }
          ],
          "barpolar": [
           {
            "marker": {
             "line": {
              "color": "#E5ECF6",
              "width": 0.5
             },
             "pattern": {
              "fillmode": "overlay",
              "size": 10,
              "solidity": 0.2
             }
            },
            "type": "barpolar"
           }
          ],
          "carpet": [
           {
            "aaxis": {
             "endlinecolor": "#2a3f5f",
             "gridcolor": "white",
             "linecolor": "white",
             "minorgridcolor": "white",
             "startlinecolor": "#2a3f5f"
            },
            "baxis": {
             "endlinecolor": "#2a3f5f",
             "gridcolor": "white",
             "linecolor": "white",
             "minorgridcolor": "white",
             "startlinecolor": "#2a3f5f"
            },
            "type": "carpet"
           }
          ],
          "choropleth": [
           {
            "colorbar": {
             "outlinewidth": 0,
             "ticks": ""
            },
            "type": "choropleth"
           }
          ],
          "contour": [
           {
            "colorbar": {
             "outlinewidth": 0,
             "ticks": ""
            },
            "colorscale": [
             [
              0,
              "#0d0887"
             ],
             [
              0.1111111111111111,
              "#46039f"
             ],
             [
              0.2222222222222222,
              "#7201a8"
             ],
             [
              0.3333333333333333,
              "#9c179e"
             ],
             [
              0.4444444444444444,
              "#bd3786"
             ],
             [
              0.5555555555555556,
              "#d8576b"
             ],
             [
              0.6666666666666666,
              "#ed7953"
             ],
             [
              0.7777777777777778,
              "#fb9f3a"
             ],
             [
              0.8888888888888888,
              "#fdca26"
             ],
             [
              1,
              "#f0f921"
             ]
            ],
            "type": "contour"
           }
          ],
          "contourcarpet": [
           {
            "colorbar": {
             "outlinewidth": 0,
             "ticks": ""
            },
            "type": "contourcarpet"
           }
          ],
          "heatmap": [
           {
            "colorbar": {
             "outlinewidth": 0,
             "ticks": ""
            },
            "colorscale": [
             [
              0,
              "#0d0887"
             ],
             [
              0.1111111111111111,
              "#46039f"
             ],
             [
              0.2222222222222222,
              "#7201a8"
             ],
             [
              0.3333333333333333,
              "#9c179e"
             ],
             [
              0.4444444444444444,
              "#bd3786"
             ],
             [
              0.5555555555555556,
              "#d8576b"
             ],
             [
              0.6666666666666666,
              "#ed7953"
             ],
             [
              0.7777777777777778,
              "#fb9f3a"
             ],
             [
              0.8888888888888888,
              "#fdca26"
             ],
             [
              1,
              "#f0f921"
             ]
            ],
            "type": "heatmap"
           }
          ],
          "heatmapgl": [
           {
            "colorbar": {
             "outlinewidth": 0,
             "ticks": ""
            },
            "colorscale": [
             [
              0,
              "#0d0887"
             ],
             [
              0.1111111111111111,
              "#46039f"
             ],
             [
              0.2222222222222222,
              "#7201a8"
             ],
             [
              0.3333333333333333,
              "#9c179e"
             ],
             [
              0.4444444444444444,
              "#bd3786"
             ],
             [
              0.5555555555555556,
              "#d8576b"
             ],
             [
              0.6666666666666666,
              "#ed7953"
             ],
             [
              0.7777777777777778,
              "#fb9f3a"
             ],
             [
              0.8888888888888888,
              "#fdca26"
             ],
             [
              1,
              "#f0f921"
             ]
            ],
            "type": "heatmapgl"
           }
          ],
          "histogram": [
           {
            "marker": {
             "pattern": {
              "fillmode": "overlay",
              "size": 10,
              "solidity": 0.2
             }
            },
            "type": "histogram"
           }
          ],
          "histogram2d": [
           {
            "colorbar": {
             "outlinewidth": 0,
             "ticks": ""
            },
            "colorscale": [
             [
              0,
              "#0d0887"
             ],
             [
              0.1111111111111111,
              "#46039f"
             ],
             [
              0.2222222222222222,
              "#7201a8"
             ],
             [
              0.3333333333333333,
              "#9c179e"
             ],
             [
              0.4444444444444444,
              "#bd3786"
             ],
             [
              0.5555555555555556,
              "#d8576b"
             ],
             [
              0.6666666666666666,
              "#ed7953"
             ],
             [
              0.7777777777777778,
              "#fb9f3a"
             ],
             [
              0.8888888888888888,
              "#fdca26"
             ],
             [
              1,
              "#f0f921"
             ]
            ],
            "type": "histogram2d"
           }
          ],
          "histogram2dcontour": [
           {
            "colorbar": {
             "outlinewidth": 0,
             "ticks": ""
            },
            "colorscale": [
             [
              0,
              "#0d0887"
             ],
             [
              0.1111111111111111,
              "#46039f"
             ],
             [
              0.2222222222222222,
              "#7201a8"
             ],
             [
              0.3333333333333333,
              "#9c179e"
             ],
             [
              0.4444444444444444,
              "#bd3786"
             ],
             [
              0.5555555555555556,
              "#d8576b"
             ],
             [
              0.6666666666666666,
              "#ed7953"
             ],
             [
              0.7777777777777778,
              "#fb9f3a"
             ],
             [
              0.8888888888888888,
              "#fdca26"
             ],
             [
              1,
              "#f0f921"
             ]
            ],
            "type": "histogram2dcontour"
           }
          ],
          "mesh3d": [
           {
            "colorbar": {
             "outlinewidth": 0,
             "ticks": ""
            },
            "type": "mesh3d"
           }
          ],
          "parcoords": [
           {
            "line": {
             "colorbar": {
              "outlinewidth": 0,
              "ticks": ""
             }
            },
            "type": "parcoords"
           }
          ],
          "pie": [
           {
            "automargin": true,
            "type": "pie"
           }
          ],
          "scatter": [
           {
            "fillpattern": {
             "fillmode": "overlay",
             "size": 10,
             "solidity": 0.2
            },
            "type": "scatter"
           }
          ],
          "scatter3d": [
           {
            "line": {
             "colorbar": {
              "outlinewidth": 0,
              "ticks": ""
             }
            },
            "marker": {
             "colorbar": {
              "outlinewidth": 0,
              "ticks": ""
             }
            },
            "type": "scatter3d"
           }
          ],
          "scattercarpet": [
           {
            "marker": {
             "colorbar": {
              "outlinewidth": 0,
              "ticks": ""
             }
            },
            "type": "scattercarpet"
           }
          ],
          "scattergeo": [
           {
            "marker": {
             "colorbar": {
              "outlinewidth": 0,
              "ticks": ""
             }
            },
            "type": "scattergeo"
           }
          ],
          "scattergl": [
           {
            "marker": {
             "colorbar": {
              "outlinewidth": 0,
              "ticks": ""
             }
            },
            "type": "scattergl"
           }
          ],
          "scattermapbox": [
           {
            "marker": {
             "colorbar": {
              "outlinewidth": 0,
              "ticks": ""
             }
            },
            "type": "scattermapbox"
           }
          ],
          "scatterpolar": [
           {
            "marker": {
             "colorbar": {
              "outlinewidth": 0,
              "ticks": ""
             }
            },
            "type": "scatterpolar"
           }
          ],
          "scatterpolargl": [
           {
            "marker": {
             "colorbar": {
              "outlinewidth": 0,
              "ticks": ""
             }
            },
            "type": "scatterpolargl"
           }
          ],
          "scatterternary": [
           {
            "marker": {
             "colorbar": {
              "outlinewidth": 0,
              "ticks": ""
             }
            },
            "type": "scatterternary"
           }
          ],
          "surface": [
           {
            "colorbar": {
             "outlinewidth": 0,
             "ticks": ""
            },
            "colorscale": [
             [
              0,
              "#0d0887"
             ],
             [
              0.1111111111111111,
              "#46039f"
             ],
             [
              0.2222222222222222,
              "#7201a8"
             ],
             [
              0.3333333333333333,
              "#9c179e"
             ],
             [
              0.4444444444444444,
              "#bd3786"
             ],
             [
              0.5555555555555556,
              "#d8576b"
             ],
             [
              0.6666666666666666,
              "#ed7953"
             ],
             [
              0.7777777777777778,
              "#fb9f3a"
             ],
             [
              0.8888888888888888,
              "#fdca26"
             ],
             [
              1,
              "#f0f921"
             ]
            ],
            "type": "surface"
           }
          ],
          "table": [
           {
            "cells": {
             "fill": {
              "color": "#EBF0F8"
             },
             "line": {
              "color": "white"
             }
            },
            "header": {
             "fill": {
              "color": "#C8D4E3"
             },
             "line": {
              "color": "white"
             }
            },
            "type": "table"
           }
          ]
         },
         "layout": {
          "annotationdefaults": {
           "arrowcolor": "#2a3f5f",
           "arrowhead": 0,
           "arrowwidth": 1
          },
          "autotypenumbers": "strict",
          "coloraxis": {
           "colorbar": {
            "outlinewidth": 0,
            "ticks": ""
           }
          },
          "colorscale": {
           "diverging": [
            [
             0,
             "#8e0152"
            ],
            [
             0.1,
             "#c51b7d"
            ],
            [
             0.2,
             "#de77ae"
            ],
            [
             0.3,
             "#f1b6da"
            ],
            [
             0.4,
             "#fde0ef"
            ],
            [
             0.5,
             "#f7f7f7"
            ],
            [
             0.6,
             "#e6f5d0"
            ],
            [
             0.7,
             "#b8e186"
            ],
            [
             0.8,
             "#7fbc41"
            ],
            [
             0.9,
             "#4d9221"
            ],
            [
             1,
             "#276419"
            ]
           ],
           "sequential": [
            [
             0,
             "#0d0887"
            ],
            [
             0.1111111111111111,
             "#46039f"
            ],
            [
             0.2222222222222222,
             "#7201a8"
            ],
            [
             0.3333333333333333,
             "#9c179e"
            ],
            [
             0.4444444444444444,
             "#bd3786"
            ],
            [
             0.5555555555555556,
             "#d8576b"
            ],
            [
             0.6666666666666666,
             "#ed7953"
            ],
            [
             0.7777777777777778,
             "#fb9f3a"
            ],
            [
             0.8888888888888888,
             "#fdca26"
            ],
            [
             1,
             "#f0f921"
            ]
           ],
           "sequentialminus": [
            [
             0,
             "#0d0887"
            ],
            [
             0.1111111111111111,
             "#46039f"
            ],
            [
             0.2222222222222222,
             "#7201a8"
            ],
            [
             0.3333333333333333,
             "#9c179e"
            ],
            [
             0.4444444444444444,
             "#bd3786"
            ],
            [
             0.5555555555555556,
             "#d8576b"
            ],
            [
             0.6666666666666666,
             "#ed7953"
            ],
            [
             0.7777777777777778,
             "#fb9f3a"
            ],
            [
             0.8888888888888888,
             "#fdca26"
            ],
            [
             1,
             "#f0f921"
            ]
           ]
          },
          "colorway": [
           "#636efa",
           "#EF553B",
           "#00cc96",
           "#ab63fa",
           "#FFA15A",
           "#19d3f3",
           "#FF6692",
           "#B6E880",
           "#FF97FF",
           "#FECB52"
          ],
          "font": {
           "color": "#2a3f5f"
          },
          "geo": {
           "bgcolor": "white",
           "lakecolor": "white",
           "landcolor": "#E5ECF6",
           "showlakes": true,
           "showland": true,
           "subunitcolor": "white"
          },
          "hoverlabel": {
           "align": "left"
          },
          "hovermode": "closest",
          "mapbox": {
           "style": "light"
          },
          "paper_bgcolor": "white",
          "plot_bgcolor": "#E5ECF6",
          "polar": {
           "angularaxis": {
            "gridcolor": "white",
            "linecolor": "white",
            "ticks": ""
           },
           "bgcolor": "#E5ECF6",
           "radialaxis": {
            "gridcolor": "white",
            "linecolor": "white",
            "ticks": ""
           }
          },
          "scene": {
           "xaxis": {
            "backgroundcolor": "#E5ECF6",
            "gridcolor": "white",
            "gridwidth": 2,
            "linecolor": "white",
            "showbackground": true,
            "ticks": "",
            "zerolinecolor": "white"
           },
           "yaxis": {
            "backgroundcolor": "#E5ECF6",
            "gridcolor": "white",
            "gridwidth": 2,
            "linecolor": "white",
            "showbackground": true,
            "ticks": "",
            "zerolinecolor": "white"
           },
           "zaxis": {
            "backgroundcolor": "#E5ECF6",
            "gridcolor": "white",
            "gridwidth": 2,
            "linecolor": "white",
            "showbackground": true,
            "ticks": "",
            "zerolinecolor": "white"
           }
          },
          "shapedefaults": {
           "line": {
            "color": "#2a3f5f"
           }
          },
          "ternary": {
           "aaxis": {
            "gridcolor": "white",
            "linecolor": "white",
            "ticks": ""
           },
           "baxis": {
            "gridcolor": "white",
            "linecolor": "white",
            "ticks": ""
           },
           "bgcolor": "#E5ECF6",
           "caxis": {
            "gridcolor": "white",
            "linecolor": "white",
            "ticks": ""
           }
          },
          "title": {
           "x": 0.05
          },
          "xaxis": {
           "automargin": true,
           "gridcolor": "white",
           "linecolor": "white",
           "ticks": "",
           "title": {
            "standoff": 15
           },
           "zerolinecolor": "white",
           "zerolinewidth": 2
          },
          "yaxis": {
           "automargin": true,
           "gridcolor": "white",
           "linecolor": "white",
           "ticks": "",
           "title": {
            "standoff": 15
           },
           "zerolinecolor": "white",
           "zerolinewidth": 2
          }
         }
        },
        "xaxis": {
         "anchor": "y",
         "domain": [
          0,
          1
         ],
         "title": {
          "text": "year_month_to"
         }
        },
        "yaxis": {
         "anchor": "x",
         "domain": [
          0,
          1
         ],
         "title": {
          "text": "clients"
         }
        }
       }
      }
     },
     "metadata": {},
     "output_type": "display_data"
    }
   ],
   "source": [
    "number_of_clients = df_top_pair_4_step.groupby(['year_month_to', 'outflow_number'], as_index=False)['party_rk'].agg('nunique') \\\n",
    "                    .sort_values('year_month_to', ascending=False)\n",
    "\n",
    "number_of_clients['total'] = number_of_clients['party_rk'].sum()\n",
    "\n",
    "\n",
    "number_of_clients['share_of_clients'] = number_of_clients['party_rk'] / number_of_clients['total'] * 100\n",
    "\n",
    "for_fig_5 = number_of_clients.sort_values('share_of_clients', ascending=False).round(2).rename(columns={'party_rk':'clients', 'total':'total_clients'}) \\\n",
    "                                .sort_values('share_of_clients', ascending=False)\n",
    "\n",
    "\n",
    "fig_5 = px.bar(for_fig_5, x='year_month_to', y='clients', color='outflow_number', text_auto='.2s')\n",
    "\n",
    "fig_5.show()\n"
   ]
  },
  {
   "attachments": {},
   "cell_type": "markdown",
   "id": "274e24d3",
   "metadata": {},
   "source": [
    "# STEP - 5. Остаемся в связке продуктов CUR-CUR, но берем весь период. Нужно добавить следующие признаки в выгрузку:\n",
    "- lifetime в продукте / банке;\n",
    "- Дней активности после неактивности и наоборот;\n",
    "- Какой по счету раз клиент оттекает;\n",
    "- Посмотреть другие продукты, возможно зацепиться за них;\n",
    "<!-- - Посмотреть сумму транзакций у неактивных клиентов, что оценить долю тех, кто тратить <1000 or >100 рублей, например и попадает в статус неактивного. -->"
   ]
  },
  {
   "cell_type": "code",
   "execution_count": 25,
   "id": "65611895",
   "metadata": {},
   "outputs": [
    {
     "name": "stdout",
     "output_type": "stream",
     "text": [
      "2023-06-27 11:37:51 - INFO - Query executed successfully. Result saved to DataFrame.\n"
     ]
    }
   ],
   "source": [
    "df_step_5 = tf.gp_to_df(\n",
    "\"\"\"\n",
    "WITH cte AS (SELECT party_rk,\n",
    "                    financial_account_subtype_cd,\n",
    "                    active_flg,\n",
    "                    valid_from_dt,\n",
    "                    valid_to_dt,\n",
    "                    MIN(valid_from_dt) OVER (PARTITION BY party_rk)                                   AS first_date_by_client,\n",
    "                    (valid_to_dt - valid_from_dt)                                                     AS active_date_diff,\n",
    "                    LEAD(valid_from_dt)\n",
    "                    OVER (PARTITION BY party_rk, financial_account_subtype_cd ORDER BY valid_from_dt) AS next_active_dt\n",
    "             FROM prod_v_EMART.CLIENT_ACTIVE_STATUS\n",
    "             WHERE active_flg = 1),\n",
    "     cte2 AS (SELECT *,\n",
    "\n",
    "                     (CURRENT_DATE - first_date_by_client) / 12                                                              AS months_after_the_first_activation,\n",
    "                     (next_active_dt::DATE - valid_to_dt)                                                                    AS next_inactive_date_diff,\n",
    "                     LEAD(active_date_diff)\n",
    "                     OVER (PARTITION BY party_rk, financial_account_subtype_cd ORDER BY valid_from_dt)                       AS next_active_date_diff,\n",
    "                     CASE\n",
    "                         WHEN next_active_dt IS NULL AND valid_to_dt = '5999-01-01' THEN 'active'\n",
    "                         WHEN next_active_dt IS NOT NULL THEN 'flashing'\n",
    "                         WHEN next_active_dt IS NULL AND valid_to_dt != '5999-01-01'THEN 'left' \n",
    "                             END                                                                                    churn_status,\n",
    "                     LEAD(financial_account_subtype_cd)\n",
    "                     OVER (PARTITION BY party_rk ORDER BY valid_from_dt, valid_to_dt)                                        AS next_active_product,\n",
    "                     LEAD(financial_account_subtype_cd, 2)\n",
    "                     OVER (PARTITION BY party_rk ORDER BY valid_from_dt, valid_to_dt)                                        AS after_next_active_product,\n",
    "                     financial_account_subtype_cd || '-' || LEAD(financial_account_subtype_cd)\n",
    "                                                            OVER (PARTITION BY party_rk ORDER BY valid_from_dt, valid_to_dt) AS two_product_bundles,\n",
    "                     financial_account_subtype_cd || '-' || LEAD(financial_account_subtype_cd)\n",
    "                                                            OVER (PARTITION BY party_rk ORDER BY valid_from_dt, valid_to_dt) ||\n",
    "                     '-' || LEAD(financial_account_subtype_cd, 2)\n",
    "                            OVER (PARTITION BY party_rk ORDER BY valid_from_dt, valid_to_dt)                                 AS three_product_bundles\n",
    "              FROM cte\n",
    "              WHERE valid_from_dt != next_active_dt::DATE),\n",
    "     cte3 AS (SELECT party_rk,\n",
    "                     financial_account_subtype_cd,\n",
    "                     CASE\n",
    "                         WHEN next_active_product IS NULL THEN financial_account_subtype_cd\n",
    "                         WHEN next_active_product IS NOT NULL THEN next_active_product\n",
    "                         END                                                                            next_active_product_without_null,\n",
    "                     CASE\n",
    "                         WHEN after_next_active_product IS NULL THEN next_active_product\n",
    "                         WHEN after_next_active_product IS NOT NULL THEN after_next_active_product\n",
    "                         END                                                                            after_next_active_product_without_null,\n",
    "                     valid_from_dt,\n",
    "                     valid_to_dt,\n",
    "                     first_date_by_client,\n",
    "                     months_after_the_first_activation,\n",
    "                     active_date_diff,\n",
    "                     next_inactive_date_diff,\n",
    "                     next_active_date_diff                                                           AS next_active_date_diff_after_inactive_dd,\n",
    "                     RANK()\n",
    "                     OVER (PARTITION BY party_rk, financial_account_subtype_cd ORDER BY valid_to_dt) AS outflow_number\n",
    "              FROM cte2\n",
    "              WHERE churn_status = 'flashing')\n",
    "SELECT *,\n",
    "       CASE\n",
    "           WHEN months_after_the_first_activation BETWEEN 1 AND 3 THEN '1-3 months'\n",
    "           WHEN months_after_the_first_activation BETWEEN 4 AND 7 THEN '4-7 months'\n",
    "           WHEN months_after_the_first_activation BETWEEN 8 AND 12 THEN '8-12 months'\n",
    "           WHEN months_after_the_first_activation BETWEEN 13 AND 16 THEN '13-16 months'\n",
    "           WHEN months_after_the_first_activation BETWEEN 17 AND 20 THEN '17-20 months'\n",
    "           WHEN months_after_the_first_activation BETWEEN 21 AND 24 THEN '21-24 months'\n",
    "           WHEN months_after_the_first_activation BETWEEN 25 AND 28 THEN '25-28 months'\n",
    "           WHEN months_after_the_first_activation BETWEEN 29 AND 33 THEN '29-33 months'\n",
    "           WHEN months_after_the_first_activation >= 34 THEN 'over 34 months'\n",
    "           END months_first_activation_groups,\n",
    "       CASE\n",
    "           WHEN active_date_diff BETWEEN 10 AND 30 THEN '10-30 days'\n",
    "           WHEN active_date_diff BETWEEN 31 AND 60 THEN '31-60 days'\n",
    "           WHEN active_date_diff BETWEEN 61 AND 90 THEN '61-90 days'\n",
    "           WHEN active_date_diff BETWEEN 91 AND 130 THEN '91-130 days'\n",
    "           WHEN active_date_diff BETWEEN 131 AND 160 THEN '131-160 days'\n",
    "           WHEN active_date_diff BETWEEN 161 AND 190 THEN '161-190 days'\n",
    "           WHEN active_date_diff BETWEEN 191 AND 230 THEN '191-230 days'\n",
    "           WHEN active_date_diff BETWEEN 231 AND 260 THEN '231-260 days'\n",
    "           WHEN active_date_diff BETWEEN 261 AND 290 THEN '261-290 days'\n",
    "           WHEN active_date_diff BETWEEN 291 AND 330 THEN '291-330 days'\n",
    "           WHEN active_date_diff BETWEEN 331 AND 360 THEN '331-360 days'\n",
    "           WHEN active_date_diff >= 361 THEN 'over 361 days'\n",
    "           END active_days_group,\n",
    "       CASE\n",
    "           WHEN next_inactive_date_diff BETWEEN 10 AND 30 THEN '10-30 days'\n",
    "           WHEN next_inactive_date_diff BETWEEN 31 AND 60 THEN '31-60 days'\n",
    "           WHEN next_inactive_date_diff BETWEEN 61 AND 90 THEN '61-90 days'\n",
    "           WHEN next_inactive_date_diff BETWEEN 91 AND 130 THEN '91-130 days'\n",
    "           WHEN next_inactive_date_diff BETWEEN 131 AND 160 THEN '131-160 days'\n",
    "           WHEN next_inactive_date_diff BETWEEN 161 AND 190 THEN '161-190 days'\n",
    "           WHEN next_inactive_date_diff BETWEEN 191 AND 230 THEN '191-230 days'\n",
    "           WHEN next_inactive_date_diff BETWEEN 231 AND 260 THEN '231-260 days'\n",
    "           WHEN next_inactive_date_diff BETWEEN 261 AND 290 THEN '261-290 days'\n",
    "           WHEN next_inactive_date_diff BETWEEN 291 AND 330 THEN '291-330 days'\n",
    "           WHEN next_inactive_date_diff BETWEEN 331 AND 360 THEN '331-360 days'\n",
    "           WHEN next_inactive_date_diff >= 361 THEN 'over 361 days'\n",
    "           END next_inactive_days_group,\n",
    "       CASE\n",
    "           WHEN next_active_date_diff_after_inactive_dd BETWEEN 10 AND 30 THEN '10-30 days'\n",
    "           WHEN next_active_date_diff_after_inactive_dd BETWEEN 31 AND 60 THEN '31-60 days'\n",
    "           WHEN next_active_date_diff_after_inactive_dd BETWEEN 61 AND 90 THEN '61-90 days'\n",
    "           WHEN next_active_date_diff_after_inactive_dd BETWEEN 91 AND 130 THEN '91-130 days'\n",
    "           WHEN next_active_date_diff_after_inactive_dd BETWEEN 131 AND 160 THEN '131-160 days'\n",
    "           WHEN next_active_date_diff_after_inactive_dd BETWEEN 161 AND 190 THEN '161-190 days'\n",
    "           WHEN next_active_date_diff_after_inactive_dd BETWEEN 191 AND 230 THEN '191-230 days'\n",
    "           WHEN next_active_date_diff_after_inactive_dd BETWEEN 231 AND 260 THEN '231-260 days'\n",
    "           WHEN next_active_date_diff_after_inactive_dd BETWEEN 261 AND 290 THEN '261-290 days'\n",
    "           WHEN next_active_date_diff_after_inactive_dd BETWEEN 291 AND 330 THEN '291-330 days'\n",
    "           WHEN next_active_date_diff_after_inactive_dd BETWEEN 331 AND 360 THEN '331-360 days'\n",
    "           WHEN next_active_date_diff_after_inactive_dd >= 361 THEN 'over 361 days'\n",
    "           END next_active_days_after_inactive_group,\n",
    "       CASE\n",
    "           WHEN outflow_number = 1 THEN '1'\n",
    "           WHEN outflow_number = 2 THEN '2'\n",
    "           WHEN outflow_number >= 3 THEN '3 and over'\n",
    "           END outflow_number_group\n",
    "FROM cte3\n",
    "\"\"\")"
   ]
  },
  {
   "cell_type": "code",
   "execution_count": 26,
   "id": "cbdd788e",
   "metadata": {},
   "outputs": [
    {
     "data": {
      "text/html": [
       "<div>\n",
       "<style scoped>\n",
       "    .dataframe tbody tr th:only-of-type {\n",
       "        vertical-align: middle;\n",
       "    }\n",
       "\n",
       "    .dataframe tbody tr th {\n",
       "        vertical-align: top;\n",
       "    }\n",
       "\n",
       "    .dataframe thead th {\n",
       "        text-align: right;\n",
       "    }\n",
       "</style>\n",
       "<table border=\"1\" class=\"dataframe\">\n",
       "  <thead>\n",
       "    <tr style=\"text-align: right;\">\n",
       "      <th></th>\n",
       "      <th>party_rk</th>\n",
       "      <th>financial_account_subtype_cd</th>\n",
       "      <th>next_active_product_without_null</th>\n",
       "      <th>after_next_active_product_without_null</th>\n",
       "      <th>valid_from_dt</th>\n",
       "      <th>valid_to_dt</th>\n",
       "      <th>first_date_by_client</th>\n",
       "      <th>months_after_the_first_activation</th>\n",
       "      <th>active_date_diff</th>\n",
       "      <th>next_inactive_date_diff</th>\n",
       "      <th>next_active_date_diff_after_inactive_dd</th>\n",
       "      <th>outflow_number</th>\n",
       "      <th>months_first_activation_groups</th>\n",
       "      <th>active_days_group</th>\n",
       "      <th>next_inactive_days_group</th>\n",
       "      <th>next_active_days_after_inactive_group</th>\n",
       "      <th>outflow_number_group</th>\n",
       "      <th>two_product_bundles</th>\n",
       "      <th>three_product_bundles</th>\n",
       "    </tr>\n",
       "  </thead>\n",
       "  <tbody>\n",
       "    <tr>\n",
       "      <th>0</th>\n",
       "      <td>21301</td>\n",
       "      <td>CCR</td>\n",
       "      <td>CCR</td>\n",
       "      <td>NaN</td>\n",
       "      <td>2012-06-05</td>\n",
       "      <td>2013-04-05</td>\n",
       "      <td>2009-09-01</td>\n",
       "      <td>420</td>\n",
       "      <td>304</td>\n",
       "      <td>175</td>\n",
       "      <td>&lt;NA&gt;</td>\n",
       "      <td>4</td>\n",
       "      <td>over 34 months</td>\n",
       "      <td>291-330 days</td>\n",
       "      <td>161-190 days</td>\n",
       "      <td>NaN</td>\n",
       "      <td>3 and over</td>\n",
       "      <td>CCR - CCR</td>\n",
       "      <td>CCR - CCR</td>\n",
       "    </tr>\n",
       "    <tr>\n",
       "      <th>1</th>\n",
       "      <td>352615</td>\n",
       "      <td>CCR</td>\n",
       "      <td>CCR</td>\n",
       "      <td>CCR</td>\n",
       "      <td>2019-04-24</td>\n",
       "      <td>2019-12-18</td>\n",
       "      <td>2008-05-23</td>\n",
       "      <td>459</td>\n",
       "      <td>238</td>\n",
       "      <td>5</td>\n",
       "      <td>776</td>\n",
       "      <td>15</td>\n",
       "      <td>over 34 months</td>\n",
       "      <td>231-260 days</td>\n",
       "      <td>NaN</td>\n",
       "      <td>over 361 days</td>\n",
       "      <td>3 and over</td>\n",
       "      <td>CCR - CCR</td>\n",
       "      <td>CCR - CCR - CCR</td>\n",
       "    </tr>\n",
       "    <tr>\n",
       "      <th>2</th>\n",
       "      <td>786947</td>\n",
       "      <td>CCR</td>\n",
       "      <td>CCR</td>\n",
       "      <td>NaN</td>\n",
       "      <td>2013-04-12</td>\n",
       "      <td>2013-07-11</td>\n",
       "      <td>2011-07-18</td>\n",
       "      <td>363</td>\n",
       "      <td>90</td>\n",
       "      <td>17</td>\n",
       "      <td>&lt;NA&gt;</td>\n",
       "      <td>12</td>\n",
       "      <td>over 34 months</td>\n",
       "      <td>61-90 days</td>\n",
       "      <td>10-30 days</td>\n",
       "      <td>NaN</td>\n",
       "      <td>3 and over</td>\n",
       "      <td>CCR - CCR</td>\n",
       "      <td>CCR - CCR</td>\n",
       "    </tr>\n",
       "    <tr>\n",
       "      <th>3</th>\n",
       "      <td>1210768</td>\n",
       "      <td>CCR</td>\n",
       "      <td>CCR</td>\n",
       "      <td>CCR</td>\n",
       "      <td>2012-05-24</td>\n",
       "      <td>2012-07-20</td>\n",
       "      <td>2010-07-23</td>\n",
       "      <td>393</td>\n",
       "      <td>57</td>\n",
       "      <td>7</td>\n",
       "      <td>98</td>\n",
       "      <td>3</td>\n",
       "      <td>over 34 months</td>\n",
       "      <td>31-60 days</td>\n",
       "      <td>NaN</td>\n",
       "      <td>91-130 days</td>\n",
       "      <td>3 and over</td>\n",
       "      <td>CCR - CCR</td>\n",
       "      <td>CCR - CCR - CCR</td>\n",
       "    </tr>\n",
       "    <tr>\n",
       "      <th>4</th>\n",
       "      <td>2719736</td>\n",
       "      <td>CCR</td>\n",
       "      <td>CCR</td>\n",
       "      <td>CCR</td>\n",
       "      <td>2011-06-06</td>\n",
       "      <td>2013-05-09</td>\n",
       "      <td>2011-06-06</td>\n",
       "      <td>367</td>\n",
       "      <td>703</td>\n",
       "      <td>2</td>\n",
       "      <td>1181</td>\n",
       "      <td>1</td>\n",
       "      <td>over 34 months</td>\n",
       "      <td>over 361 days</td>\n",
       "      <td>NaN</td>\n",
       "      <td>over 361 days</td>\n",
       "      <td>1</td>\n",
       "      <td>CCR - CCR</td>\n",
       "      <td>CCR - CCR - CCR</td>\n",
       "    </tr>\n",
       "    <tr>\n",
       "      <th>5</th>\n",
       "      <td>2393574</td>\n",
       "      <td>CCR</td>\n",
       "      <td>CCR</td>\n",
       "      <td>CCR</td>\n",
       "      <td>2018-10-08</td>\n",
       "      <td>2019-03-23</td>\n",
       "      <td>2011-05-13</td>\n",
       "      <td>369</td>\n",
       "      <td>166</td>\n",
       "      <td>4</td>\n",
       "      <td>146</td>\n",
       "      <td>8</td>\n",
       "      <td>over 34 months</td>\n",
       "      <td>161-190 days</td>\n",
       "      <td>NaN</td>\n",
       "      <td>131-160 days</td>\n",
       "      <td>3 and over</td>\n",
       "      <td>CCR - CCR</td>\n",
       "      <td>CCR - CCR - CCR</td>\n",
       "    </tr>\n",
       "    <tr>\n",
       "      <th>6</th>\n",
       "      <td>344201</td>\n",
       "      <td>CCR</td>\n",
       "      <td>CCR</td>\n",
       "      <td>CCR</td>\n",
       "      <td>2009-11-16</td>\n",
       "      <td>2009-12-21</td>\n",
       "      <td>2008-06-06</td>\n",
       "      <td>458</td>\n",
       "      <td>35</td>\n",
       "      <td>21</td>\n",
       "      <td>31</td>\n",
       "      <td>4</td>\n",
       "      <td>over 34 months</td>\n",
       "      <td>31-60 days</td>\n",
       "      <td>10-30 days</td>\n",
       "      <td>31-60 days</td>\n",
       "      <td>3 and over</td>\n",
       "      <td>CCR - CCR</td>\n",
       "      <td>CCR - CCR - CCR</td>\n",
       "    </tr>\n",
       "    <tr>\n",
       "      <th>7</th>\n",
       "      <td>342684</td>\n",
       "      <td>CCR</td>\n",
       "      <td>CCR</td>\n",
       "      <td>CCR</td>\n",
       "      <td>2008-07-29</td>\n",
       "      <td>2008-09-02</td>\n",
       "      <td>2008-04-16</td>\n",
       "      <td>462</td>\n",
       "      <td>35</td>\n",
       "      <td>14</td>\n",
       "      <td>35</td>\n",
       "      <td>3</td>\n",
       "      <td>over 34 months</td>\n",
       "      <td>31-60 days</td>\n",
       "      <td>10-30 days</td>\n",
       "      <td>31-60 days</td>\n",
       "      <td>3 and over</td>\n",
       "      <td>CCR - CCR</td>\n",
       "      <td>CCR - CCR - CCR</td>\n",
       "    </tr>\n",
       "    <tr>\n",
       "      <th>8</th>\n",
       "      <td>706456</td>\n",
       "      <td>CUR</td>\n",
       "      <td>CCR</td>\n",
       "      <td>CCR</td>\n",
       "      <td>2018-08-09</td>\n",
       "      <td>2018-10-03</td>\n",
       "      <td>2009-01-19</td>\n",
       "      <td>439</td>\n",
       "      <td>55</td>\n",
       "      <td>5</td>\n",
       "      <td>&lt;NA&gt;</td>\n",
       "      <td>6</td>\n",
       "      <td>over 34 months</td>\n",
       "      <td>31-60 days</td>\n",
       "      <td>NaN</td>\n",
       "      <td>NaN</td>\n",
       "      <td>3 and over</td>\n",
       "      <td>CUR - CCR</td>\n",
       "      <td>CUR - CCR - CCR</td>\n",
       "    </tr>\n",
       "    <tr>\n",
       "      <th>9</th>\n",
       "      <td>204948</td>\n",
       "      <td>CCR</td>\n",
       "      <td>CCR</td>\n",
       "      <td>CCR</td>\n",
       "      <td>2008-08-11</td>\n",
       "      <td>2009-03-24</td>\n",
       "      <td>2008-06-10</td>\n",
       "      <td>457</td>\n",
       "      <td>225</td>\n",
       "      <td>3</td>\n",
       "      <td>35</td>\n",
       "      <td>2</td>\n",
       "      <td>over 34 months</td>\n",
       "      <td>191-230 days</td>\n",
       "      <td>NaN</td>\n",
       "      <td>31-60 days</td>\n",
       "      <td>2</td>\n",
       "      <td>CCR - CCR</td>\n",
       "      <td>CCR - CCR - CCR</td>\n",
       "    </tr>\n",
       "  </tbody>\n",
       "</table>\n",
       "</div>"
      ],
      "text/plain": [
       "   party_rk financial_account_subtype_cd next_active_product_without_null  \\\n",
       "0     21301                          CCR                              CCR   \n",
       "1    352615                          CCR                              CCR   \n",
       "2    786947                          CCR                              CCR   \n",
       "3   1210768                          CCR                              CCR   \n",
       "4   2719736                          CCR                              CCR   \n",
       "5   2393574                          CCR                              CCR   \n",
       "6    344201                          CCR                              CCR   \n",
       "7    342684                          CCR                              CCR   \n",
       "8    706456                          CUR                              CCR   \n",
       "9    204948                          CCR                              CCR   \n",
       "\n",
       "  after_next_active_product_without_null valid_from_dt valid_to_dt  \\\n",
       "0                                    NaN    2012-06-05  2013-04-05   \n",
       "1                                    CCR    2019-04-24  2019-12-18   \n",
       "2                                    NaN    2013-04-12  2013-07-11   \n",
       "3                                    CCR    2012-05-24  2012-07-20   \n",
       "4                                    CCR    2011-06-06  2013-05-09   \n",
       "5                                    CCR    2018-10-08  2019-03-23   \n",
       "6                                    CCR    2009-11-16  2009-12-21   \n",
       "7                                    CCR    2008-07-29  2008-09-02   \n",
       "8                                    CCR    2018-08-09  2018-10-03   \n",
       "9                                    CCR    2008-08-11  2009-03-24   \n",
       "\n",
       "  first_date_by_client  months_after_the_first_activation  active_date_diff  \\\n",
       "0           2009-09-01                                420               304   \n",
       "1           2008-05-23                                459               238   \n",
       "2           2011-07-18                                363                90   \n",
       "3           2010-07-23                                393                57   \n",
       "4           2011-06-06                                367               703   \n",
       "5           2011-05-13                                369               166   \n",
       "6           2008-06-06                                458                35   \n",
       "7           2008-04-16                                462                35   \n",
       "8           2009-01-19                                439                55   \n",
       "9           2008-06-10                                457               225   \n",
       "\n",
       "   next_inactive_date_diff  next_active_date_diff_after_inactive_dd  \\\n",
       "0                      175                                     <NA>   \n",
       "1                        5                                      776   \n",
       "2                       17                                     <NA>   \n",
       "3                        7                                       98   \n",
       "4                        2                                     1181   \n",
       "5                        4                                      146   \n",
       "6                       21                                       31   \n",
       "7                       14                                       35   \n",
       "8                        5                                     <NA>   \n",
       "9                        3                                       35   \n",
       "\n",
       "   outflow_number months_first_activation_groups active_days_group  \\\n",
       "0               4                 over 34 months      291-330 days   \n",
       "1              15                 over 34 months      231-260 days   \n",
       "2              12                 over 34 months        61-90 days   \n",
       "3               3                 over 34 months        31-60 days   \n",
       "4               1                 over 34 months     over 361 days   \n",
       "5               8                 over 34 months      161-190 days   \n",
       "6               4                 over 34 months        31-60 days   \n",
       "7               3                 over 34 months        31-60 days   \n",
       "8               6                 over 34 months        31-60 days   \n",
       "9               2                 over 34 months      191-230 days   \n",
       "\n",
       "  next_inactive_days_group next_active_days_after_inactive_group  \\\n",
       "0             161-190 days                                   NaN   \n",
       "1                      NaN                         over 361 days   \n",
       "2               10-30 days                                   NaN   \n",
       "3                      NaN                           91-130 days   \n",
       "4                      NaN                         over 361 days   \n",
       "5                      NaN                          131-160 days   \n",
       "6               10-30 days                            31-60 days   \n",
       "7               10-30 days                            31-60 days   \n",
       "8                      NaN                                   NaN   \n",
       "9                      NaN                            31-60 days   \n",
       "\n",
       "  outflow_number_group two_product_bundles three_product_bundles  \n",
       "0           3 and over           CCR - CCR             CCR - CCR  \n",
       "1           3 and over           CCR - CCR       CCR - CCR - CCR  \n",
       "2           3 and over           CCR - CCR             CCR - CCR  \n",
       "3           3 and over           CCR - CCR       CCR - CCR - CCR  \n",
       "4                    1           CCR - CCR       CCR - CCR - CCR  \n",
       "5           3 and over           CCR - CCR       CCR - CCR - CCR  \n",
       "6           3 and over           CCR - CCR       CCR - CCR - CCR  \n",
       "7           3 and over           CCR - CCR       CCR - CCR - CCR  \n",
       "8           3 and over           CUR - CCR       CUR - CCR - CCR  \n",
       "9                    2           CCR - CCR       CCR - CCR - CCR  "
      ]
     },
     "execution_count": 26,
     "metadata": {},
     "output_type": "execute_result"
    }
   ],
   "source": [
    "df_step_5['two_product_bundles'] = df_step_5['financial_account_subtype_cd'] + ' - ' + df_step_5['next_active_product_without_null']\n",
    "\n",
    "df_step_5['three_product_bundles'] = df_step_5['financial_account_subtype_cd'] + ' - ' + df_step_5['next_active_product_without_null'] + ' - ' + df_step_5['after_next_active_product_without_null']\n",
    "\n",
    "df_step_5['three_product_bundles'] = df_step_5['three_product_bundles'].fillna(df_step_5['two_product_bundles'])\n",
    "\n",
    "df_step_5.head(10)"
   ]
  },
  {
   "cell_type": "code",
   "execution_count": 27,
   "id": "7366b5d6",
   "metadata": {},
   "outputs": [
    {
     "name": "stderr",
     "output_type": "stream",
     "text": [
      "/var/folders/3g/twm5z59x18s28jmjj3c3ghfm0000gq/T/ipykernel_2928/561925608.py:3: SettingWithCopyWarning:\n",
      "\n",
      "\n",
      "A value is trying to be set on a copy of a slice from a DataFrame.\n",
      "Try using .loc[row_indexer,col_indexer] = value instead\n",
      "\n",
      "See the caveats in the documentation: https://pandas.pydata.org/pandas-docs/stable/user_guide/indexing.html#returning-a-view-versus-a-copy\n",
      "\n",
      "/var/folders/3g/twm5z59x18s28jmjj3c3ghfm0000gq/T/ipykernel_2928/561925608.py:4: SettingWithCopyWarning:\n",
      "\n",
      "\n",
      "A value is trying to be set on a copy of a slice from a DataFrame.\n",
      "Try using .loc[row_indexer,col_indexer] = value instead\n",
      "\n",
      "See the caveats in the documentation: https://pandas.pydata.org/pandas-docs/stable/user_guide/indexing.html#returning-a-view-versus-a-copy\n",
      "\n",
      "/var/folders/3g/twm5z59x18s28jmjj3c3ghfm0000gq/T/ipykernel_2928/561925608.py:5: SettingWithCopyWarning:\n",
      "\n",
      "\n",
      "A value is trying to be set on a copy of a slice from a DataFrame.\n",
      "Try using .loc[row_indexer,col_indexer] = value instead\n",
      "\n",
      "See the caveats in the documentation: https://pandas.pydata.org/pandas-docs/stable/user_guide/indexing.html#returning-a-view-versus-a-copy\n",
      "\n",
      "/var/folders/3g/twm5z59x18s28jmjj3c3ghfm0000gq/T/ipykernel_2928/561925608.py:6: SettingWithCopyWarning:\n",
      "\n",
      "\n",
      "A value is trying to be set on a copy of a slice from a DataFrame.\n",
      "Try using .loc[row_indexer,col_indexer] = value instead\n",
      "\n",
      "See the caveats in the documentation: https://pandas.pydata.org/pandas-docs/stable/user_guide/indexing.html#returning-a-view-versus-a-copy\n",
      "\n"
     ]
    },
    {
     "data": {
      "application/vnd.plotly.v1+json": {
       "config": {
        "plotlyServerURL": "https://plot.ly"
       },
       "data": [
        {
         "alignmentgroup": "True",
         "hovertemplate": "three_product_bundles=%{x}<br>party_rk=%{y}<extra></extra>",
         "legendgroup": "",
         "marker": {
          "color": "#636efa",
          "pattern": {
           "shape": ""
          }
         },
         "name": "",
         "offsetgroup": "",
         "orientation": "v",
         "showlegend": false,
         "textposition": "auto",
         "texttemplate": "%{y:.2s}",
         "type": "bar",
         "x": [
          "CUR - CUR",
          "CUR - CUR - CUR",
          "CUR - CUR - CCR",
          "CUR - CUR - SAV",
          "CUR - CUR - BIL",
          "CUR - CUR - TRD",
          "CUR - CUR - ISF",
          "CUR - CUR - BNP",
          "CUR - CUR - VKR",
          "CUR - CUR - CLN"
         ],
         "xaxis": "x",
         "y": [
          11064772,
          7195211,
          962531,
          638146,
          343070,
          154860,
          114374,
          81830,
          81668,
          67001
         ],
         "yaxis": "y"
        }
       ],
       "layout": {
        "barmode": "relative",
        "legend": {
         "tracegroupgap": 0
        },
        "margin": {
         "t": 60
        },
        "template": {
         "data": {
          "bar": [
           {
            "error_x": {
             "color": "#2a3f5f"
            },
            "error_y": {
             "color": "#2a3f5f"
            },
            "marker": {
             "line": {
              "color": "#E5ECF6",
              "width": 0.5
             },
             "pattern": {
              "fillmode": "overlay",
              "size": 10,
              "solidity": 0.2
             }
            },
            "type": "bar"
           }
          ],
          "barpolar": [
           {
            "marker": {
             "line": {
              "color": "#E5ECF6",
              "width": 0.5
             },
             "pattern": {
              "fillmode": "overlay",
              "size": 10,
              "solidity": 0.2
             }
            },
            "type": "barpolar"
           }
          ],
          "carpet": [
           {
            "aaxis": {
             "endlinecolor": "#2a3f5f",
             "gridcolor": "white",
             "linecolor": "white",
             "minorgridcolor": "white",
             "startlinecolor": "#2a3f5f"
            },
            "baxis": {
             "endlinecolor": "#2a3f5f",
             "gridcolor": "white",
             "linecolor": "white",
             "minorgridcolor": "white",
             "startlinecolor": "#2a3f5f"
            },
            "type": "carpet"
           }
          ],
          "choropleth": [
           {
            "colorbar": {
             "outlinewidth": 0,
             "ticks": ""
            },
            "type": "choropleth"
           }
          ],
          "contour": [
           {
            "colorbar": {
             "outlinewidth": 0,
             "ticks": ""
            },
            "colorscale": [
             [
              0,
              "#0d0887"
             ],
             [
              0.1111111111111111,
              "#46039f"
             ],
             [
              0.2222222222222222,
              "#7201a8"
             ],
             [
              0.3333333333333333,
              "#9c179e"
             ],
             [
              0.4444444444444444,
              "#bd3786"
             ],
             [
              0.5555555555555556,
              "#d8576b"
             ],
             [
              0.6666666666666666,
              "#ed7953"
             ],
             [
              0.7777777777777778,
              "#fb9f3a"
             ],
             [
              0.8888888888888888,
              "#fdca26"
             ],
             [
              1,
              "#f0f921"
             ]
            ],
            "type": "contour"
           }
          ],
          "contourcarpet": [
           {
            "colorbar": {
             "outlinewidth": 0,
             "ticks": ""
            },
            "type": "contourcarpet"
           }
          ],
          "heatmap": [
           {
            "colorbar": {
             "outlinewidth": 0,
             "ticks": ""
            },
            "colorscale": [
             [
              0,
              "#0d0887"
             ],
             [
              0.1111111111111111,
              "#46039f"
             ],
             [
              0.2222222222222222,
              "#7201a8"
             ],
             [
              0.3333333333333333,
              "#9c179e"
             ],
             [
              0.4444444444444444,
              "#bd3786"
             ],
             [
              0.5555555555555556,
              "#d8576b"
             ],
             [
              0.6666666666666666,
              "#ed7953"
             ],
             [
              0.7777777777777778,
              "#fb9f3a"
             ],
             [
              0.8888888888888888,
              "#fdca26"
             ],
             [
              1,
              "#f0f921"
             ]
            ],
            "type": "heatmap"
           }
          ],
          "heatmapgl": [
           {
            "colorbar": {
             "outlinewidth": 0,
             "ticks": ""
            },
            "colorscale": [
             [
              0,
              "#0d0887"
             ],
             [
              0.1111111111111111,
              "#46039f"
             ],
             [
              0.2222222222222222,
              "#7201a8"
             ],
             [
              0.3333333333333333,
              "#9c179e"
             ],
             [
              0.4444444444444444,
              "#bd3786"
             ],
             [
              0.5555555555555556,
              "#d8576b"
             ],
             [
              0.6666666666666666,
              "#ed7953"
             ],
             [
              0.7777777777777778,
              "#fb9f3a"
             ],
             [
              0.8888888888888888,
              "#fdca26"
             ],
             [
              1,
              "#f0f921"
             ]
            ],
            "type": "heatmapgl"
           }
          ],
          "histogram": [
           {
            "marker": {
             "pattern": {
              "fillmode": "overlay",
              "size": 10,
              "solidity": 0.2
             }
            },
            "type": "histogram"
           }
          ],
          "histogram2d": [
           {
            "colorbar": {
             "outlinewidth": 0,
             "ticks": ""
            },
            "colorscale": [
             [
              0,
              "#0d0887"
             ],
             [
              0.1111111111111111,
              "#46039f"
             ],
             [
              0.2222222222222222,
              "#7201a8"
             ],
             [
              0.3333333333333333,
              "#9c179e"
             ],
             [
              0.4444444444444444,
              "#bd3786"
             ],
             [
              0.5555555555555556,
              "#d8576b"
             ],
             [
              0.6666666666666666,
              "#ed7953"
             ],
             [
              0.7777777777777778,
              "#fb9f3a"
             ],
             [
              0.8888888888888888,
              "#fdca26"
             ],
             [
              1,
              "#f0f921"
             ]
            ],
            "type": "histogram2d"
           }
          ],
          "histogram2dcontour": [
           {
            "colorbar": {
             "outlinewidth": 0,
             "ticks": ""
            },
            "colorscale": [
             [
              0,
              "#0d0887"
             ],
             [
              0.1111111111111111,
              "#46039f"
             ],
             [
              0.2222222222222222,
              "#7201a8"
             ],
             [
              0.3333333333333333,
              "#9c179e"
             ],
             [
              0.4444444444444444,
              "#bd3786"
             ],
             [
              0.5555555555555556,
              "#d8576b"
             ],
             [
              0.6666666666666666,
              "#ed7953"
             ],
             [
              0.7777777777777778,
              "#fb9f3a"
             ],
             [
              0.8888888888888888,
              "#fdca26"
             ],
             [
              1,
              "#f0f921"
             ]
            ],
            "type": "histogram2dcontour"
           }
          ],
          "mesh3d": [
           {
            "colorbar": {
             "outlinewidth": 0,
             "ticks": ""
            },
            "type": "mesh3d"
           }
          ],
          "parcoords": [
           {
            "line": {
             "colorbar": {
              "outlinewidth": 0,
              "ticks": ""
             }
            },
            "type": "parcoords"
           }
          ],
          "pie": [
           {
            "automargin": true,
            "type": "pie"
           }
          ],
          "scatter": [
           {
            "fillpattern": {
             "fillmode": "overlay",
             "size": 10,
             "solidity": 0.2
            },
            "type": "scatter"
           }
          ],
          "scatter3d": [
           {
            "line": {
             "colorbar": {
              "outlinewidth": 0,
              "ticks": ""
             }
            },
            "marker": {
             "colorbar": {
              "outlinewidth": 0,
              "ticks": ""
             }
            },
            "type": "scatter3d"
           }
          ],
          "scattercarpet": [
           {
            "marker": {
             "colorbar": {
              "outlinewidth": 0,
              "ticks": ""
             }
            },
            "type": "scattercarpet"
           }
          ],
          "scattergeo": [
           {
            "marker": {
             "colorbar": {
              "outlinewidth": 0,
              "ticks": ""
             }
            },
            "type": "scattergeo"
           }
          ],
          "scattergl": [
           {
            "marker": {
             "colorbar": {
              "outlinewidth": 0,
              "ticks": ""
             }
            },
            "type": "scattergl"
           }
          ],
          "scattermapbox": [
           {
            "marker": {
             "colorbar": {
              "outlinewidth": 0,
              "ticks": ""
             }
            },
            "type": "scattermapbox"
           }
          ],
          "scatterpolar": [
           {
            "marker": {
             "colorbar": {
              "outlinewidth": 0,
              "ticks": ""
             }
            },
            "type": "scatterpolar"
           }
          ],
          "scatterpolargl": [
           {
            "marker": {
             "colorbar": {
              "outlinewidth": 0,
              "ticks": ""
             }
            },
            "type": "scatterpolargl"
           }
          ],
          "scatterternary": [
           {
            "marker": {
             "colorbar": {
              "outlinewidth": 0,
              "ticks": ""
             }
            },
            "type": "scatterternary"
           }
          ],
          "surface": [
           {
            "colorbar": {
             "outlinewidth": 0,
             "ticks": ""
            },
            "colorscale": [
             [
              0,
              "#0d0887"
             ],
             [
              0.1111111111111111,
              "#46039f"
             ],
             [
              0.2222222222222222,
              "#7201a8"
             ],
             [
              0.3333333333333333,
              "#9c179e"
             ],
             [
              0.4444444444444444,
              "#bd3786"
             ],
             [
              0.5555555555555556,
              "#d8576b"
             ],
             [
              0.6666666666666666,
              "#ed7953"
             ],
             [
              0.7777777777777778,
              "#fb9f3a"
             ],
             [
              0.8888888888888888,
              "#fdca26"
             ],
             [
              1,
              "#f0f921"
             ]
            ],
            "type": "surface"
           }
          ],
          "table": [
           {
            "cells": {
             "fill": {
              "color": "#EBF0F8"
             },
             "line": {
              "color": "white"
             }
            },
            "header": {
             "fill": {
              "color": "#C8D4E3"
             },
             "line": {
              "color": "white"
             }
            },
            "type": "table"
           }
          ]
         },
         "layout": {
          "annotationdefaults": {
           "arrowcolor": "#2a3f5f",
           "arrowhead": 0,
           "arrowwidth": 1
          },
          "autotypenumbers": "strict",
          "coloraxis": {
           "colorbar": {
            "outlinewidth": 0,
            "ticks": ""
           }
          },
          "colorscale": {
           "diverging": [
            [
             0,
             "#8e0152"
            ],
            [
             0.1,
             "#c51b7d"
            ],
            [
             0.2,
             "#de77ae"
            ],
            [
             0.3,
             "#f1b6da"
            ],
            [
             0.4,
             "#fde0ef"
            ],
            [
             0.5,
             "#f7f7f7"
            ],
            [
             0.6,
             "#e6f5d0"
            ],
            [
             0.7,
             "#b8e186"
            ],
            [
             0.8,
             "#7fbc41"
            ],
            [
             0.9,
             "#4d9221"
            ],
            [
             1,
             "#276419"
            ]
           ],
           "sequential": [
            [
             0,
             "#0d0887"
            ],
            [
             0.1111111111111111,
             "#46039f"
            ],
            [
             0.2222222222222222,
             "#7201a8"
            ],
            [
             0.3333333333333333,
             "#9c179e"
            ],
            [
             0.4444444444444444,
             "#bd3786"
            ],
            [
             0.5555555555555556,
             "#d8576b"
            ],
            [
             0.6666666666666666,
             "#ed7953"
            ],
            [
             0.7777777777777778,
             "#fb9f3a"
            ],
            [
             0.8888888888888888,
             "#fdca26"
            ],
            [
             1,
             "#f0f921"
            ]
           ],
           "sequentialminus": [
            [
             0,
             "#0d0887"
            ],
            [
             0.1111111111111111,
             "#46039f"
            ],
            [
             0.2222222222222222,
             "#7201a8"
            ],
            [
             0.3333333333333333,
             "#9c179e"
            ],
            [
             0.4444444444444444,
             "#bd3786"
            ],
            [
             0.5555555555555556,
             "#d8576b"
            ],
            [
             0.6666666666666666,
             "#ed7953"
            ],
            [
             0.7777777777777778,
             "#fb9f3a"
            ],
            [
             0.8888888888888888,
             "#fdca26"
            ],
            [
             1,
             "#f0f921"
            ]
           ]
          },
          "colorway": [
           "#636efa",
           "#EF553B",
           "#00cc96",
           "#ab63fa",
           "#FFA15A",
           "#19d3f3",
           "#FF6692",
           "#B6E880",
           "#FF97FF",
           "#FECB52"
          ],
          "font": {
           "color": "#2a3f5f"
          },
          "geo": {
           "bgcolor": "white",
           "lakecolor": "white",
           "landcolor": "#E5ECF6",
           "showlakes": true,
           "showland": true,
           "subunitcolor": "white"
          },
          "hoverlabel": {
           "align": "left"
          },
          "hovermode": "closest",
          "mapbox": {
           "style": "light"
          },
          "paper_bgcolor": "white",
          "plot_bgcolor": "#E5ECF6",
          "polar": {
           "angularaxis": {
            "gridcolor": "white",
            "linecolor": "white",
            "ticks": ""
           },
           "bgcolor": "#E5ECF6",
           "radialaxis": {
            "gridcolor": "white",
            "linecolor": "white",
            "ticks": ""
           }
          },
          "scene": {
           "xaxis": {
            "backgroundcolor": "#E5ECF6",
            "gridcolor": "white",
            "gridwidth": 2,
            "linecolor": "white",
            "showbackground": true,
            "ticks": "",
            "zerolinecolor": "white"
           },
           "yaxis": {
            "backgroundcolor": "#E5ECF6",
            "gridcolor": "white",
            "gridwidth": 2,
            "linecolor": "white",
            "showbackground": true,
            "ticks": "",
            "zerolinecolor": "white"
           },
           "zaxis": {
            "backgroundcolor": "#E5ECF6",
            "gridcolor": "white",
            "gridwidth": 2,
            "linecolor": "white",
            "showbackground": true,
            "ticks": "",
            "zerolinecolor": "white"
           }
          },
          "shapedefaults": {
           "line": {
            "color": "#2a3f5f"
           }
          },
          "ternary": {
           "aaxis": {
            "gridcolor": "white",
            "linecolor": "white",
            "ticks": ""
           },
           "baxis": {
            "gridcolor": "white",
            "linecolor": "white",
            "ticks": ""
           },
           "bgcolor": "#E5ECF6",
           "caxis": {
            "gridcolor": "white",
            "linecolor": "white",
            "ticks": ""
           }
          },
          "title": {
           "x": 0.05
          },
          "xaxis": {
           "automargin": true,
           "gridcolor": "white",
           "linecolor": "white",
           "ticks": "",
           "title": {
            "standoff": 15
           },
           "zerolinecolor": "white",
           "zerolinewidth": 2
          },
          "yaxis": {
           "automargin": true,
           "gridcolor": "white",
           "linecolor": "white",
           "ticks": "",
           "title": {
            "standoff": 15
           },
           "zerolinecolor": "white",
           "zerolinewidth": 2
          }
         }
        },
        "xaxis": {
         "anchor": "y",
         "domain": [
          0,
          1
         ],
         "title": {
          "text": "three_product_bundles"
         }
        },
        "yaxis": {
         "anchor": "x",
         "domain": [
          0,
          1
         ],
         "title": {
          "text": "party_rk"
         }
        }
       }
      }
     },
     "metadata": {},
     "output_type": "display_data"
    }
   ],
   "source": [
    "df_5 = df_step_5.query(\"two_product_bundles == 'CUR - CUR'\")\n",
    "\n",
    "df_5['valid_from_dt'] = pd.to_datetime(df_5[\"valid_from_dt\"])\n",
    "df_5['valid_to_dt'] = pd.to_datetime(df_5[\"valid_to_dt\"])\n",
    "df_5['year_from'] = df_5['valid_from_dt'].dt.strftime('%Y')\n",
    "df_5['year_to'] = df_5['valid_to_dt'].dt.strftime('%Y')\n",
    "\n",
    "for_fig_6 = df_5.groupby('three_product_bundles', as_index=False)['party_rk'].agg('nunique') \\\n",
    "    .sort_values('party_rk', ascending=False) \\\n",
    "    .head(10)\n",
    "\n",
    "fig_6 = px.bar(for_fig_6, x='three_product_bundles', y='party_rk', text_auto='.2s')\n",
    "\n",
    "fig_6.show()"
   ]
  },
  {
   "cell_type": "code",
   "execution_count": 28,
   "id": "94ae5022",
   "metadata": {},
   "outputs": [
    {
     "data": {
      "text/plain": [
       "14676120"
      ]
     },
     "execution_count": 28,
     "metadata": {},
     "output_type": "execute_result"
    }
   ],
   "source": [
    "25038729 - 10362609"
   ]
  },
  {
   "cell_type": "code",
   "execution_count": 29,
   "id": "c0c55bd4",
   "metadata": {},
   "outputs": [
    {
     "data": {
      "text/html": [
       "<div>\n",
       "<style scoped>\n",
       "    .dataframe tbody tr th:only-of-type {\n",
       "        vertical-align: middle;\n",
       "    }\n",
       "\n",
       "    .dataframe tbody tr th {\n",
       "        vertical-align: top;\n",
       "    }\n",
       "\n",
       "    .dataframe thead th {\n",
       "        text-align: right;\n",
       "    }\n",
       "</style>\n",
       "<table border=\"1\" class=\"dataframe\">\n",
       "  <thead>\n",
       "    <tr style=\"text-align: right;\">\n",
       "      <th></th>\n",
       "      <th>party_rk</th>\n",
       "      <th>financial_account_subtype_cd</th>\n",
       "      <th>next_active_product_without_null</th>\n",
       "      <th>after_next_active_product_without_null</th>\n",
       "      <th>valid_from_dt</th>\n",
       "      <th>valid_to_dt</th>\n",
       "      <th>first_date_by_client</th>\n",
       "      <th>months_after_the_first_activation</th>\n",
       "      <th>active_date_diff</th>\n",
       "      <th>next_inactive_date_diff</th>\n",
       "      <th>...</th>\n",
       "      <th>outflow_number</th>\n",
       "      <th>months_first_activation_groups</th>\n",
       "      <th>active_days_group</th>\n",
       "      <th>next_inactive_days_group</th>\n",
       "      <th>next_active_days_after_inactive_group</th>\n",
       "      <th>outflow_number_group</th>\n",
       "      <th>two_product_bundles</th>\n",
       "      <th>three_product_bundles</th>\n",
       "      <th>year_from</th>\n",
       "      <th>year_to</th>\n",
       "    </tr>\n",
       "  </thead>\n",
       "  <tbody>\n",
       "    <tr>\n",
       "      <th>17</th>\n",
       "      <td>4631403</td>\n",
       "      <td>CUR</td>\n",
       "      <td>CUR</td>\n",
       "      <td>NaN</td>\n",
       "      <td>2022-11-14</td>\n",
       "      <td>2023-01-19</td>\n",
       "      <td>2012-04-09</td>\n",
       "      <td>341</td>\n",
       "      <td>66</td>\n",
       "      <td>13</td>\n",
       "      <td>...</td>\n",
       "      <td>4</td>\n",
       "      <td>over 34 months</td>\n",
       "      <td>61-90 days</td>\n",
       "      <td>10-30 days</td>\n",
       "      <td>NaN</td>\n",
       "      <td>3 and over</td>\n",
       "      <td>CUR - CUR</td>\n",
       "      <td>CUR - CUR</td>\n",
       "      <td>2022</td>\n",
       "      <td>2023</td>\n",
       "    </tr>\n",
       "    <tr>\n",
       "      <th>32</th>\n",
       "      <td>5018121</td>\n",
       "      <td>CUR</td>\n",
       "      <td>CUR</td>\n",
       "      <td>CUR</td>\n",
       "      <td>2022-08-05</td>\n",
       "      <td>2022-09-04</td>\n",
       "      <td>2012-06-01</td>\n",
       "      <td>336</td>\n",
       "      <td>30</td>\n",
       "      <td>93</td>\n",
       "      <td>...</td>\n",
       "      <td>11</td>\n",
       "      <td>over 34 months</td>\n",
       "      <td>10-30 days</td>\n",
       "      <td>91-130 days</td>\n",
       "      <td>10-30 days</td>\n",
       "      <td>3 and over</td>\n",
       "      <td>CUR - CUR</td>\n",
       "      <td>CUR - CUR - CUR</td>\n",
       "      <td>2022</td>\n",
       "      <td>2022</td>\n",
       "    </tr>\n",
       "    <tr>\n",
       "      <th>37</th>\n",
       "      <td>70323440</td>\n",
       "      <td>CUR</td>\n",
       "      <td>CUR</td>\n",
       "      <td>CUR</td>\n",
       "      <td>2020-07-25</td>\n",
       "      <td>2020-08-24</td>\n",
       "      <td>2013-12-02</td>\n",
       "      <td>291</td>\n",
       "      <td>30</td>\n",
       "      <td>27</td>\n",
       "      <td>...</td>\n",
       "      <td>8</td>\n",
       "      <td>over 34 months</td>\n",
       "      <td>10-30 days</td>\n",
       "      <td>10-30 days</td>\n",
       "      <td>91-130 days</td>\n",
       "      <td>3 and over</td>\n",
       "      <td>CUR - CUR</td>\n",
       "      <td>CUR - CUR - CUR</td>\n",
       "      <td>2020</td>\n",
       "      <td>2020</td>\n",
       "    </tr>\n",
       "    <tr>\n",
       "      <th>43</th>\n",
       "      <td>108824109</td>\n",
       "      <td>CUR</td>\n",
       "      <td>CUR</td>\n",
       "      <td>NaN</td>\n",
       "      <td>2022-08-27</td>\n",
       "      <td>2022-10-13</td>\n",
       "      <td>2021-08-18</td>\n",
       "      <td>56</td>\n",
       "      <td>47</td>\n",
       "      <td>187</td>\n",
       "      <td>...</td>\n",
       "      <td>2</td>\n",
       "      <td>over 34 months</td>\n",
       "      <td>31-60 days</td>\n",
       "      <td>161-190 days</td>\n",
       "      <td>NaN</td>\n",
       "      <td>2</td>\n",
       "      <td>CUR - CUR</td>\n",
       "      <td>CUR - CUR</td>\n",
       "      <td>2022</td>\n",
       "      <td>2022</td>\n",
       "    </tr>\n",
       "    <tr>\n",
       "      <th>49</th>\n",
       "      <td>128731117</td>\n",
       "      <td>CUR</td>\n",
       "      <td>CUR</td>\n",
       "      <td>CUR</td>\n",
       "      <td>2022-05-20</td>\n",
       "      <td>2022-10-08</td>\n",
       "      <td>2016-03-22</td>\n",
       "      <td>221</td>\n",
       "      <td>141</td>\n",
       "      <td>4</td>\n",
       "      <td>...</td>\n",
       "      <td>6</td>\n",
       "      <td>over 34 months</td>\n",
       "      <td>131-160 days</td>\n",
       "      <td>NaN</td>\n",
       "      <td>31-60 days</td>\n",
       "      <td>3 and over</td>\n",
       "      <td>CUR - CUR</td>\n",
       "      <td>CUR - CUR - CUR</td>\n",
       "      <td>2022</td>\n",
       "      <td>2022</td>\n",
       "    </tr>\n",
       "  </tbody>\n",
       "</table>\n",
       "<p>5 rows × 21 columns</p>\n",
       "</div>"
      ],
      "text/plain": [
       "     party_rk financial_account_subtype_cd next_active_product_without_null  \\\n",
       "17    4631403                          CUR                              CUR   \n",
       "32    5018121                          CUR                              CUR   \n",
       "37   70323440                          CUR                              CUR   \n",
       "43  108824109                          CUR                              CUR   \n",
       "49  128731117                          CUR                              CUR   \n",
       "\n",
       "   after_next_active_product_without_null valid_from_dt valid_to_dt  \\\n",
       "17                                    NaN    2022-11-14  2023-01-19   \n",
       "32                                    CUR    2022-08-05  2022-09-04   \n",
       "37                                    CUR    2020-07-25  2020-08-24   \n",
       "43                                    NaN    2022-08-27  2022-10-13   \n",
       "49                                    CUR    2022-05-20  2022-10-08   \n",
       "\n",
       "   first_date_by_client  months_after_the_first_activation  active_date_diff  \\\n",
       "17           2012-04-09                                341                66   \n",
       "32           2012-06-01                                336                30   \n",
       "37           2013-12-02                                291                30   \n",
       "43           2021-08-18                                 56                47   \n",
       "49           2016-03-22                                221               141   \n",
       "\n",
       "    next_inactive_date_diff  ...  outflow_number  \\\n",
       "17                       13  ...               4   \n",
       "32                       93  ...              11   \n",
       "37                       27  ...               8   \n",
       "43                      187  ...               2   \n",
       "49                        4  ...               6   \n",
       "\n",
       "    months_first_activation_groups active_days_group next_inactive_days_group  \\\n",
       "17                  over 34 months        61-90 days               10-30 days   \n",
       "32                  over 34 months        10-30 days              91-130 days   \n",
       "37                  over 34 months        10-30 days               10-30 days   \n",
       "43                  over 34 months        31-60 days             161-190 days   \n",
       "49                  over 34 months      131-160 days                      NaN   \n",
       "\n",
       "   next_active_days_after_inactive_group outflow_number_group  \\\n",
       "17                                   NaN           3 and over   \n",
       "32                            10-30 days           3 and over   \n",
       "37                           91-130 days           3 and over   \n",
       "43                                   NaN                    2   \n",
       "49                            31-60 days           3 and over   \n",
       "\n",
       "   two_product_bundles three_product_bundles year_from year_to  \n",
       "17           CUR - CUR             CUR - CUR      2022    2023  \n",
       "32           CUR - CUR       CUR - CUR - CUR      2022    2022  \n",
       "37           CUR - CUR       CUR - CUR - CUR      2020    2020  \n",
       "43           CUR - CUR             CUR - CUR      2022    2022  \n",
       "49           CUR - CUR       CUR - CUR - CUR      2022    2022  \n",
       "\n",
       "[5 rows x 21 columns]"
      ]
     },
     "execution_count": 29,
     "metadata": {},
     "output_type": "execute_result"
    }
   ],
   "source": [
    "df_cur = df_5.query(\"three_product_bundles in ('CUR - CUR', 'CUR - CUR - CUR')\")\n",
    "\n",
    "df_cur.head()"
   ]
  },
  {
   "cell_type": "code",
   "execution_count": 30,
   "id": "1a38f384",
   "metadata": {},
   "outputs": [
    {
     "data": {
      "text/plain": [
       "2.845088503188069"
      ]
     },
     "execution_count": 30,
     "metadata": {},
     "output_type": "execute_result"
    }
   ],
   "source": [
    "df_cur.outflow_number.mean()"
   ]
  },
  {
   "cell_type": "code",
   "execution_count": 31,
   "id": "d08a76aa",
   "metadata": {},
   "outputs": [
    {
     "data": {
      "application/vnd.plotly.v1+json": {
       "config": {
        "plotlyServerURL": "https://plot.ly"
       },
       "data": [
        {
         "hovertemplate": "outflow_number=%{x}<br>share=%{y}<extra></extra>",
         "legendgroup": "",
         "marker": {
          "color": "#636efa"
         },
         "name": "",
         "orientation": "v",
         "showlegend": false,
         "type": "funnel",
         "x": [
          1,
          2,
          3,
          4,
          5,
          6,
          7,
          8,
          9,
          10
         ],
         "xaxis": "x",
         "y": [
          100,
          65.08,
          41.66,
          26.57,
          17.05,
          11,
          7.14,
          4.68,
          3.08,
          2.04
         ],
         "yaxis": "y"
        }
       ],
       "layout": {
        "legend": {
         "tracegroupgap": 0
        },
        "margin": {
         "t": 60
        },
        "template": {
         "data": {
          "bar": [
           {
            "error_x": {
             "color": "#2a3f5f"
            },
            "error_y": {
             "color": "#2a3f5f"
            },
            "marker": {
             "line": {
              "color": "#E5ECF6",
              "width": 0.5
             },
             "pattern": {
              "fillmode": "overlay",
              "size": 10,
              "solidity": 0.2
             }
            },
            "type": "bar"
           }
          ],
          "barpolar": [
           {
            "marker": {
             "line": {
              "color": "#E5ECF6",
              "width": 0.5
             },
             "pattern": {
              "fillmode": "overlay",
              "size": 10,
              "solidity": 0.2
             }
            },
            "type": "barpolar"
           }
          ],
          "carpet": [
           {
            "aaxis": {
             "endlinecolor": "#2a3f5f",
             "gridcolor": "white",
             "linecolor": "white",
             "minorgridcolor": "white",
             "startlinecolor": "#2a3f5f"
            },
            "baxis": {
             "endlinecolor": "#2a3f5f",
             "gridcolor": "white",
             "linecolor": "white",
             "minorgridcolor": "white",
             "startlinecolor": "#2a3f5f"
            },
            "type": "carpet"
           }
          ],
          "choropleth": [
           {
            "colorbar": {
             "outlinewidth": 0,
             "ticks": ""
            },
            "type": "choropleth"
           }
          ],
          "contour": [
           {
            "colorbar": {
             "outlinewidth": 0,
             "ticks": ""
            },
            "colorscale": [
             [
              0,
              "#0d0887"
             ],
             [
              0.1111111111111111,
              "#46039f"
             ],
             [
              0.2222222222222222,
              "#7201a8"
             ],
             [
              0.3333333333333333,
              "#9c179e"
             ],
             [
              0.4444444444444444,
              "#bd3786"
             ],
             [
              0.5555555555555556,
              "#d8576b"
             ],
             [
              0.6666666666666666,
              "#ed7953"
             ],
             [
              0.7777777777777778,
              "#fb9f3a"
             ],
             [
              0.8888888888888888,
              "#fdca26"
             ],
             [
              1,
              "#f0f921"
             ]
            ],
            "type": "contour"
           }
          ],
          "contourcarpet": [
           {
            "colorbar": {
             "outlinewidth": 0,
             "ticks": ""
            },
            "type": "contourcarpet"
           }
          ],
          "heatmap": [
           {
            "colorbar": {
             "outlinewidth": 0,
             "ticks": ""
            },
            "colorscale": [
             [
              0,
              "#0d0887"
             ],
             [
              0.1111111111111111,
              "#46039f"
             ],
             [
              0.2222222222222222,
              "#7201a8"
             ],
             [
              0.3333333333333333,
              "#9c179e"
             ],
             [
              0.4444444444444444,
              "#bd3786"
             ],
             [
              0.5555555555555556,
              "#d8576b"
             ],
             [
              0.6666666666666666,
              "#ed7953"
             ],
             [
              0.7777777777777778,
              "#fb9f3a"
             ],
             [
              0.8888888888888888,
              "#fdca26"
             ],
             [
              1,
              "#f0f921"
             ]
            ],
            "type": "heatmap"
           }
          ],
          "heatmapgl": [
           {
            "colorbar": {
             "outlinewidth": 0,
             "ticks": ""
            },
            "colorscale": [
             [
              0,
              "#0d0887"
             ],
             [
              0.1111111111111111,
              "#46039f"
             ],
             [
              0.2222222222222222,
              "#7201a8"
             ],
             [
              0.3333333333333333,
              "#9c179e"
             ],
             [
              0.4444444444444444,
              "#bd3786"
             ],
             [
              0.5555555555555556,
              "#d8576b"
             ],
             [
              0.6666666666666666,
              "#ed7953"
             ],
             [
              0.7777777777777778,
              "#fb9f3a"
             ],
             [
              0.8888888888888888,
              "#fdca26"
             ],
             [
              1,
              "#f0f921"
             ]
            ],
            "type": "heatmapgl"
           }
          ],
          "histogram": [
           {
            "marker": {
             "pattern": {
              "fillmode": "overlay",
              "size": 10,
              "solidity": 0.2
             }
            },
            "type": "histogram"
           }
          ],
          "histogram2d": [
           {
            "colorbar": {
             "outlinewidth": 0,
             "ticks": ""
            },
            "colorscale": [
             [
              0,
              "#0d0887"
             ],
             [
              0.1111111111111111,
              "#46039f"
             ],
             [
              0.2222222222222222,
              "#7201a8"
             ],
             [
              0.3333333333333333,
              "#9c179e"
             ],
             [
              0.4444444444444444,
              "#bd3786"
             ],
             [
              0.5555555555555556,
              "#d8576b"
             ],
             [
              0.6666666666666666,
              "#ed7953"
             ],
             [
              0.7777777777777778,
              "#fb9f3a"
             ],
             [
              0.8888888888888888,
              "#fdca26"
             ],
             [
              1,
              "#f0f921"
             ]
            ],
            "type": "histogram2d"
           }
          ],
          "histogram2dcontour": [
           {
            "colorbar": {
             "outlinewidth": 0,
             "ticks": ""
            },
            "colorscale": [
             [
              0,
              "#0d0887"
             ],
             [
              0.1111111111111111,
              "#46039f"
             ],
             [
              0.2222222222222222,
              "#7201a8"
             ],
             [
              0.3333333333333333,
              "#9c179e"
             ],
             [
              0.4444444444444444,
              "#bd3786"
             ],
             [
              0.5555555555555556,
              "#d8576b"
             ],
             [
              0.6666666666666666,
              "#ed7953"
             ],
             [
              0.7777777777777778,
              "#fb9f3a"
             ],
             [
              0.8888888888888888,
              "#fdca26"
             ],
             [
              1,
              "#f0f921"
             ]
            ],
            "type": "histogram2dcontour"
           }
          ],
          "mesh3d": [
           {
            "colorbar": {
             "outlinewidth": 0,
             "ticks": ""
            },
            "type": "mesh3d"
           }
          ],
          "parcoords": [
           {
            "line": {
             "colorbar": {
              "outlinewidth": 0,
              "ticks": ""
             }
            },
            "type": "parcoords"
           }
          ],
          "pie": [
           {
            "automargin": true,
            "type": "pie"
           }
          ],
          "scatter": [
           {
            "fillpattern": {
             "fillmode": "overlay",
             "size": 10,
             "solidity": 0.2
            },
            "type": "scatter"
           }
          ],
          "scatter3d": [
           {
            "line": {
             "colorbar": {
              "outlinewidth": 0,
              "ticks": ""
             }
            },
            "marker": {
             "colorbar": {
              "outlinewidth": 0,
              "ticks": ""
             }
            },
            "type": "scatter3d"
           }
          ],
          "scattercarpet": [
           {
            "marker": {
             "colorbar": {
              "outlinewidth": 0,
              "ticks": ""
             }
            },
            "type": "scattercarpet"
           }
          ],
          "scattergeo": [
           {
            "marker": {
             "colorbar": {
              "outlinewidth": 0,
              "ticks": ""
             }
            },
            "type": "scattergeo"
           }
          ],
          "scattergl": [
           {
            "marker": {
             "colorbar": {
              "outlinewidth": 0,
              "ticks": ""
             }
            },
            "type": "scattergl"
           }
          ],
          "scattermapbox": [
           {
            "marker": {
             "colorbar": {
              "outlinewidth": 0,
              "ticks": ""
             }
            },
            "type": "scattermapbox"
           }
          ],
          "scatterpolar": [
           {
            "marker": {
             "colorbar": {
              "outlinewidth": 0,
              "ticks": ""
             }
            },
            "type": "scatterpolar"
           }
          ],
          "scatterpolargl": [
           {
            "marker": {
             "colorbar": {
              "outlinewidth": 0,
              "ticks": ""
             }
            },
            "type": "scatterpolargl"
           }
          ],
          "scatterternary": [
           {
            "marker": {
             "colorbar": {
              "outlinewidth": 0,
              "ticks": ""
             }
            },
            "type": "scatterternary"
           }
          ],
          "surface": [
           {
            "colorbar": {
             "outlinewidth": 0,
             "ticks": ""
            },
            "colorscale": [
             [
              0,
              "#0d0887"
             ],
             [
              0.1111111111111111,
              "#46039f"
             ],
             [
              0.2222222222222222,
              "#7201a8"
             ],
             [
              0.3333333333333333,
              "#9c179e"
             ],
             [
              0.4444444444444444,
              "#bd3786"
             ],
             [
              0.5555555555555556,
              "#d8576b"
             ],
             [
              0.6666666666666666,
              "#ed7953"
             ],
             [
              0.7777777777777778,
              "#fb9f3a"
             ],
             [
              0.8888888888888888,
              "#fdca26"
             ],
             [
              1,
              "#f0f921"
             ]
            ],
            "type": "surface"
           }
          ],
          "table": [
           {
            "cells": {
             "fill": {
              "color": "#EBF0F8"
             },
             "line": {
              "color": "white"
             }
            },
            "header": {
             "fill": {
              "color": "#C8D4E3"
             },
             "line": {
              "color": "white"
             }
            },
            "type": "table"
           }
          ]
         },
         "layout": {
          "annotationdefaults": {
           "arrowcolor": "#2a3f5f",
           "arrowhead": 0,
           "arrowwidth": 1
          },
          "autotypenumbers": "strict",
          "coloraxis": {
           "colorbar": {
            "outlinewidth": 0,
            "ticks": ""
           }
          },
          "colorscale": {
           "diverging": [
            [
             0,
             "#8e0152"
            ],
            [
             0.1,
             "#c51b7d"
            ],
            [
             0.2,
             "#de77ae"
            ],
            [
             0.3,
             "#f1b6da"
            ],
            [
             0.4,
             "#fde0ef"
            ],
            [
             0.5,
             "#f7f7f7"
            ],
            [
             0.6,
             "#e6f5d0"
            ],
            [
             0.7,
             "#b8e186"
            ],
            [
             0.8,
             "#7fbc41"
            ],
            [
             0.9,
             "#4d9221"
            ],
            [
             1,
             "#276419"
            ]
           ],
           "sequential": [
            [
             0,
             "#0d0887"
            ],
            [
             0.1111111111111111,
             "#46039f"
            ],
            [
             0.2222222222222222,
             "#7201a8"
            ],
            [
             0.3333333333333333,
             "#9c179e"
            ],
            [
             0.4444444444444444,
             "#bd3786"
            ],
            [
             0.5555555555555556,
             "#d8576b"
            ],
            [
             0.6666666666666666,
             "#ed7953"
            ],
            [
             0.7777777777777778,
             "#fb9f3a"
            ],
            [
             0.8888888888888888,
             "#fdca26"
            ],
            [
             1,
             "#f0f921"
            ]
           ],
           "sequentialminus": [
            [
             0,
             "#0d0887"
            ],
            [
             0.1111111111111111,
             "#46039f"
            ],
            [
             0.2222222222222222,
             "#7201a8"
            ],
            [
             0.3333333333333333,
             "#9c179e"
            ],
            [
             0.4444444444444444,
             "#bd3786"
            ],
            [
             0.5555555555555556,
             "#d8576b"
            ],
            [
             0.6666666666666666,
             "#ed7953"
            ],
            [
             0.7777777777777778,
             "#fb9f3a"
            ],
            [
             0.8888888888888888,
             "#fdca26"
            ],
            [
             1,
             "#f0f921"
            ]
           ]
          },
          "colorway": [
           "#636efa",
           "#EF553B",
           "#00cc96",
           "#ab63fa",
           "#FFA15A",
           "#19d3f3",
           "#FF6692",
           "#B6E880",
           "#FF97FF",
           "#FECB52"
          ],
          "font": {
           "color": "#2a3f5f"
          },
          "geo": {
           "bgcolor": "white",
           "lakecolor": "white",
           "landcolor": "#E5ECF6",
           "showlakes": true,
           "showland": true,
           "subunitcolor": "white"
          },
          "hoverlabel": {
           "align": "left"
          },
          "hovermode": "closest",
          "mapbox": {
           "style": "light"
          },
          "paper_bgcolor": "white",
          "plot_bgcolor": "#E5ECF6",
          "polar": {
           "angularaxis": {
            "gridcolor": "white",
            "linecolor": "white",
            "ticks": ""
           },
           "bgcolor": "#E5ECF6",
           "radialaxis": {
            "gridcolor": "white",
            "linecolor": "white",
            "ticks": ""
           }
          },
          "scene": {
           "xaxis": {
            "backgroundcolor": "#E5ECF6",
            "gridcolor": "white",
            "gridwidth": 2,
            "linecolor": "white",
            "showbackground": true,
            "ticks": "",
            "zerolinecolor": "white"
           },
           "yaxis": {
            "backgroundcolor": "#E5ECF6",
            "gridcolor": "white",
            "gridwidth": 2,
            "linecolor": "white",
            "showbackground": true,
            "ticks": "",
            "zerolinecolor": "white"
           },
           "zaxis": {
            "backgroundcolor": "#E5ECF6",
            "gridcolor": "white",
            "gridwidth": 2,
            "linecolor": "white",
            "showbackground": true,
            "ticks": "",
            "zerolinecolor": "white"
           }
          },
          "shapedefaults": {
           "line": {
            "color": "#2a3f5f"
           }
          },
          "ternary": {
           "aaxis": {
            "gridcolor": "white",
            "linecolor": "white",
            "ticks": ""
           },
           "baxis": {
            "gridcolor": "white",
            "linecolor": "white",
            "ticks": ""
           },
           "bgcolor": "#E5ECF6",
           "caxis": {
            "gridcolor": "white",
            "linecolor": "white",
            "ticks": ""
           }
          },
          "title": {
           "x": 0.05
          },
          "xaxis": {
           "automargin": true,
           "gridcolor": "white",
           "linecolor": "white",
           "ticks": "",
           "title": {
            "standoff": 15
           },
           "zerolinecolor": "white",
           "zerolinewidth": 2
          },
          "yaxis": {
           "automargin": true,
           "gridcolor": "white",
           "linecolor": "white",
           "ticks": "",
           "title": {
            "standoff": 15
           },
           "zerolinecolor": "white",
           "zerolinewidth": 2
          }
         }
        },
        "xaxis": {
         "anchor": "y",
         "domain": [
          0,
          1
         ],
         "title": {
          "text": "outflow_number"
         }
        },
        "yaxis": {
         "anchor": "x",
         "domain": [
          0,
          1
         ],
         "title": {
          "text": "share"
         }
        }
       }
      }
     },
     "metadata": {},
     "output_type": "display_data"
    }
   ],
   "source": [
    "df_6 = df_5.query(\"three_product_bundles in ('CUR - CUR', 'CUR - CUR - CUR')\") \\\n",
    "    .groupby('outflow_number', as_index=False)['party_rk'].agg('nunique') \\\n",
    "    .rename(columns={'party_rk':'clients'})\n",
    "\n",
    "df_6['all_clients'] = df_6['clients'].max()\n",
    "\n",
    "df_6['share'] = df_6['clients'] / df_6['all_clients'] * 100\n",
    "\n",
    "for_fig_share_2 = df_6[['outflow_number', 'clients', 'share']].round(2).head(10)\n",
    "\n",
    "# fig_share_2 = px.bar(for_fig_share_2, x='outflow_number', y='share', text_auto='.2s')\n",
    "\n",
    "# fig_share_2.show()\n",
    "\n",
    "fig_share = px.funnel(for_fig_share_2, x='outflow_number', y='share')\n",
    "fig_share.show()"
   ]
  },
  {
   "cell_type": "code",
   "execution_count": 32,
   "id": "c8b18f8c",
   "metadata": {},
   "outputs": [
    {
     "data": {
      "text/plain": [
       "Index(['party_rk', 'financial_account_subtype_cd',\n",
       "       'next_active_product_without_null',\n",
       "       'after_next_active_product_without_null', 'valid_from_dt',\n",
       "       'valid_to_dt', 'first_date_by_client',\n",
       "       'months_after_the_first_activation', 'active_date_diff',\n",
       "       'next_inactive_date_diff', 'next_active_date_diff_after_inactive_dd',\n",
       "       'outflow_number', 'months_first_activation_groups', 'active_days_group',\n",
       "       'next_inactive_days_group', 'next_active_days_after_inactive_group',\n",
       "       'outflow_number_group', 'two_product_bundles', 'three_product_bundles',\n",
       "       'year_from', 'year_to'],\n",
       "      dtype='object')"
      ]
     },
     "execution_count": 32,
     "metadata": {},
     "output_type": "execute_result"
    }
   ],
   "source": [
    "df_5.columns"
   ]
  },
  {
   "cell_type": "code",
   "execution_count": 33,
   "id": "6726dea4",
   "metadata": {},
   "outputs": [
    {
     "data": {
      "application/vnd.plotly.v1+json": {
       "config": {
        "plotlyServerURL": "https://plot.ly"
       },
       "data": [
        {
         "alignmentgroup": "True",
         "hovertemplate": "year_from=%{x}<br>next_inactive_date_diff=%{y}<extra></extra>",
         "legendgroup": "",
         "marker": {
          "color": "#636efa",
          "pattern": {
           "shape": ""
          }
         },
         "name": "",
         "offsetgroup": "",
         "orientation": "v",
         "showlegend": false,
         "textposition": "auto",
         "texttemplate": "%{y:.2s}",
         "type": "bar",
         "x": [
          "2009",
          "2010",
          "2011",
          "2012",
          "2013",
          "2014",
          "2015",
          "2016",
          "2017",
          "2018",
          "2019",
          "2020",
          "2021",
          "2022",
          "2023"
         ],
         "xaxis": "x",
         "y": [
          567.56,
          443.93,
          352.05,
          268.3,
          265.56,
          253.69,
          263.48,
          246.41,
          196.95,
          157.3,
          120.21,
          94.14,
          78.04,
          52.62,
          22.82
         ],
         "yaxis": "y"
        }
       ],
       "layout": {
        "barmode": "relative",
        "legend": {
         "tracegroupgap": 0
        },
        "margin": {
         "t": 60
        },
        "template": {
         "data": {
          "bar": [
           {
            "error_x": {
             "color": "#2a3f5f"
            },
            "error_y": {
             "color": "#2a3f5f"
            },
            "marker": {
             "line": {
              "color": "#E5ECF6",
              "width": 0.5
             },
             "pattern": {
              "fillmode": "overlay",
              "size": 10,
              "solidity": 0.2
             }
            },
            "type": "bar"
           }
          ],
          "barpolar": [
           {
            "marker": {
             "line": {
              "color": "#E5ECF6",
              "width": 0.5
             },
             "pattern": {
              "fillmode": "overlay",
              "size": 10,
              "solidity": 0.2
             }
            },
            "type": "barpolar"
           }
          ],
          "carpet": [
           {
            "aaxis": {
             "endlinecolor": "#2a3f5f",
             "gridcolor": "white",
             "linecolor": "white",
             "minorgridcolor": "white",
             "startlinecolor": "#2a3f5f"
            },
            "baxis": {
             "endlinecolor": "#2a3f5f",
             "gridcolor": "white",
             "linecolor": "white",
             "minorgridcolor": "white",
             "startlinecolor": "#2a3f5f"
            },
            "type": "carpet"
           }
          ],
          "choropleth": [
           {
            "colorbar": {
             "outlinewidth": 0,
             "ticks": ""
            },
            "type": "choropleth"
           }
          ],
          "contour": [
           {
            "colorbar": {
             "outlinewidth": 0,
             "ticks": ""
            },
            "colorscale": [
             [
              0,
              "#0d0887"
             ],
             [
              0.1111111111111111,
              "#46039f"
             ],
             [
              0.2222222222222222,
              "#7201a8"
             ],
             [
              0.3333333333333333,
              "#9c179e"
             ],
             [
              0.4444444444444444,
              "#bd3786"
             ],
             [
              0.5555555555555556,
              "#d8576b"
             ],
             [
              0.6666666666666666,
              "#ed7953"
             ],
             [
              0.7777777777777778,
              "#fb9f3a"
             ],
             [
              0.8888888888888888,
              "#fdca26"
             ],
             [
              1,
              "#f0f921"
             ]
            ],
            "type": "contour"
           }
          ],
          "contourcarpet": [
           {
            "colorbar": {
             "outlinewidth": 0,
             "ticks": ""
            },
            "type": "contourcarpet"
           }
          ],
          "heatmap": [
           {
            "colorbar": {
             "outlinewidth": 0,
             "ticks": ""
            },
            "colorscale": [
             [
              0,
              "#0d0887"
             ],
             [
              0.1111111111111111,
              "#46039f"
             ],
             [
              0.2222222222222222,
              "#7201a8"
             ],
             [
              0.3333333333333333,
              "#9c179e"
             ],
             [
              0.4444444444444444,
              "#bd3786"
             ],
             [
              0.5555555555555556,
              "#d8576b"
             ],
             [
              0.6666666666666666,
              "#ed7953"
             ],
             [
              0.7777777777777778,
              "#fb9f3a"
             ],
             [
              0.8888888888888888,
              "#fdca26"
             ],
             [
              1,
              "#f0f921"
             ]
            ],
            "type": "heatmap"
           }
          ],
          "heatmapgl": [
           {
            "colorbar": {
             "outlinewidth": 0,
             "ticks": ""
            },
            "colorscale": [
             [
              0,
              "#0d0887"
             ],
             [
              0.1111111111111111,
              "#46039f"
             ],
             [
              0.2222222222222222,
              "#7201a8"
             ],
             [
              0.3333333333333333,
              "#9c179e"
             ],
             [
              0.4444444444444444,
              "#bd3786"
             ],
             [
              0.5555555555555556,
              "#d8576b"
             ],
             [
              0.6666666666666666,
              "#ed7953"
             ],
             [
              0.7777777777777778,
              "#fb9f3a"
             ],
             [
              0.8888888888888888,
              "#fdca26"
             ],
             [
              1,
              "#f0f921"
             ]
            ],
            "type": "heatmapgl"
           }
          ],
          "histogram": [
           {
            "marker": {
             "pattern": {
              "fillmode": "overlay",
              "size": 10,
              "solidity": 0.2
             }
            },
            "type": "histogram"
           }
          ],
          "histogram2d": [
           {
            "colorbar": {
             "outlinewidth": 0,
             "ticks": ""
            },
            "colorscale": [
             [
              0,
              "#0d0887"
             ],
             [
              0.1111111111111111,
              "#46039f"
             ],
             [
              0.2222222222222222,
              "#7201a8"
             ],
             [
              0.3333333333333333,
              "#9c179e"
             ],
             [
              0.4444444444444444,
              "#bd3786"
             ],
             [
              0.5555555555555556,
              "#d8576b"
             ],
             [
              0.6666666666666666,
              "#ed7953"
             ],
             [
              0.7777777777777778,
              "#fb9f3a"
             ],
             [
              0.8888888888888888,
              "#fdca26"
             ],
             [
              1,
              "#f0f921"
             ]
            ],
            "type": "histogram2d"
           }
          ],
          "histogram2dcontour": [
           {
            "colorbar": {
             "outlinewidth": 0,
             "ticks": ""
            },
            "colorscale": [
             [
              0,
              "#0d0887"
             ],
             [
              0.1111111111111111,
              "#46039f"
             ],
             [
              0.2222222222222222,
              "#7201a8"
             ],
             [
              0.3333333333333333,
              "#9c179e"
             ],
             [
              0.4444444444444444,
              "#bd3786"
             ],
             [
              0.5555555555555556,
              "#d8576b"
             ],
             [
              0.6666666666666666,
              "#ed7953"
             ],
             [
              0.7777777777777778,
              "#fb9f3a"
             ],
             [
              0.8888888888888888,
              "#fdca26"
             ],
             [
              1,
              "#f0f921"
             ]
            ],
            "type": "histogram2dcontour"
           }
          ],
          "mesh3d": [
           {
            "colorbar": {
             "outlinewidth": 0,
             "ticks": ""
            },
            "type": "mesh3d"
           }
          ],
          "parcoords": [
           {
            "line": {
             "colorbar": {
              "outlinewidth": 0,
              "ticks": ""
             }
            },
            "type": "parcoords"
           }
          ],
          "pie": [
           {
            "automargin": true,
            "type": "pie"
           }
          ],
          "scatter": [
           {
            "fillpattern": {
             "fillmode": "overlay",
             "size": 10,
             "solidity": 0.2
            },
            "type": "scatter"
           }
          ],
          "scatter3d": [
           {
            "line": {
             "colorbar": {
              "outlinewidth": 0,
              "ticks": ""
             }
            },
            "marker": {
             "colorbar": {
              "outlinewidth": 0,
              "ticks": ""
             }
            },
            "type": "scatter3d"
           }
          ],
          "scattercarpet": [
           {
            "marker": {
             "colorbar": {
              "outlinewidth": 0,
              "ticks": ""
             }
            },
            "type": "scattercarpet"
           }
          ],
          "scattergeo": [
           {
            "marker": {
             "colorbar": {
              "outlinewidth": 0,
              "ticks": ""
             }
            },
            "type": "scattergeo"
           }
          ],
          "scattergl": [
           {
            "marker": {
             "colorbar": {
              "outlinewidth": 0,
              "ticks": ""
             }
            },
            "type": "scattergl"
           }
          ],
          "scattermapbox": [
           {
            "marker": {
             "colorbar": {
              "outlinewidth": 0,
              "ticks": ""
             }
            },
            "type": "scattermapbox"
           }
          ],
          "scatterpolar": [
           {
            "marker": {
             "colorbar": {
              "outlinewidth": 0,
              "ticks": ""
             }
            },
            "type": "scatterpolar"
           }
          ],
          "scatterpolargl": [
           {
            "marker": {
             "colorbar": {
              "outlinewidth": 0,
              "ticks": ""
             }
            },
            "type": "scatterpolargl"
           }
          ],
          "scatterternary": [
           {
            "marker": {
             "colorbar": {
              "outlinewidth": 0,
              "ticks": ""
             }
            },
            "type": "scatterternary"
           }
          ],
          "surface": [
           {
            "colorbar": {
             "outlinewidth": 0,
             "ticks": ""
            },
            "colorscale": [
             [
              0,
              "#0d0887"
             ],
             [
              0.1111111111111111,
              "#46039f"
             ],
             [
              0.2222222222222222,
              "#7201a8"
             ],
             [
              0.3333333333333333,
              "#9c179e"
             ],
             [
              0.4444444444444444,
              "#bd3786"
             ],
             [
              0.5555555555555556,
              "#d8576b"
             ],
             [
              0.6666666666666666,
              "#ed7953"
             ],
             [
              0.7777777777777778,
              "#fb9f3a"
             ],
             [
              0.8888888888888888,
              "#fdca26"
             ],
             [
              1,
              "#f0f921"
             ]
            ],
            "type": "surface"
           }
          ],
          "table": [
           {
            "cells": {
             "fill": {
              "color": "#EBF0F8"
             },
             "line": {
              "color": "white"
             }
            },
            "header": {
             "fill": {
              "color": "#C8D4E3"
             },
             "line": {
              "color": "white"
             }
            },
            "type": "table"
           }
          ]
         },
         "layout": {
          "annotationdefaults": {
           "arrowcolor": "#2a3f5f",
           "arrowhead": 0,
           "arrowwidth": 1
          },
          "autotypenumbers": "strict",
          "coloraxis": {
           "colorbar": {
            "outlinewidth": 0,
            "ticks": ""
           }
          },
          "colorscale": {
           "diverging": [
            [
             0,
             "#8e0152"
            ],
            [
             0.1,
             "#c51b7d"
            ],
            [
             0.2,
             "#de77ae"
            ],
            [
             0.3,
             "#f1b6da"
            ],
            [
             0.4,
             "#fde0ef"
            ],
            [
             0.5,
             "#f7f7f7"
            ],
            [
             0.6,
             "#e6f5d0"
            ],
            [
             0.7,
             "#b8e186"
            ],
            [
             0.8,
             "#7fbc41"
            ],
            [
             0.9,
             "#4d9221"
            ],
            [
             1,
             "#276419"
            ]
           ],
           "sequential": [
            [
             0,
             "#0d0887"
            ],
            [
             0.1111111111111111,
             "#46039f"
            ],
            [
             0.2222222222222222,
             "#7201a8"
            ],
            [
             0.3333333333333333,
             "#9c179e"
            ],
            [
             0.4444444444444444,
             "#bd3786"
            ],
            [
             0.5555555555555556,
             "#d8576b"
            ],
            [
             0.6666666666666666,
             "#ed7953"
            ],
            [
             0.7777777777777778,
             "#fb9f3a"
            ],
            [
             0.8888888888888888,
             "#fdca26"
            ],
            [
             1,
             "#f0f921"
            ]
           ],
           "sequentialminus": [
            [
             0,
             "#0d0887"
            ],
            [
             0.1111111111111111,
             "#46039f"
            ],
            [
             0.2222222222222222,
             "#7201a8"
            ],
            [
             0.3333333333333333,
             "#9c179e"
            ],
            [
             0.4444444444444444,
             "#bd3786"
            ],
            [
             0.5555555555555556,
             "#d8576b"
            ],
            [
             0.6666666666666666,
             "#ed7953"
            ],
            [
             0.7777777777777778,
             "#fb9f3a"
            ],
            [
             0.8888888888888888,
             "#fdca26"
            ],
            [
             1,
             "#f0f921"
            ]
           ]
          },
          "colorway": [
           "#636efa",
           "#EF553B",
           "#00cc96",
           "#ab63fa",
           "#FFA15A",
           "#19d3f3",
           "#FF6692",
           "#B6E880",
           "#FF97FF",
           "#FECB52"
          ],
          "font": {
           "color": "#2a3f5f"
          },
          "geo": {
           "bgcolor": "white",
           "lakecolor": "white",
           "landcolor": "#E5ECF6",
           "showlakes": true,
           "showland": true,
           "subunitcolor": "white"
          },
          "hoverlabel": {
           "align": "left"
          },
          "hovermode": "closest",
          "mapbox": {
           "style": "light"
          },
          "paper_bgcolor": "white",
          "plot_bgcolor": "#E5ECF6",
          "polar": {
           "angularaxis": {
            "gridcolor": "white",
            "linecolor": "white",
            "ticks": ""
           },
           "bgcolor": "#E5ECF6",
           "radialaxis": {
            "gridcolor": "white",
            "linecolor": "white",
            "ticks": ""
           }
          },
          "scene": {
           "xaxis": {
            "backgroundcolor": "#E5ECF6",
            "gridcolor": "white",
            "gridwidth": 2,
            "linecolor": "white",
            "showbackground": true,
            "ticks": "",
            "zerolinecolor": "white"
           },
           "yaxis": {
            "backgroundcolor": "#E5ECF6",
            "gridcolor": "white",
            "gridwidth": 2,
            "linecolor": "white",
            "showbackground": true,
            "ticks": "",
            "zerolinecolor": "white"
           },
           "zaxis": {
            "backgroundcolor": "#E5ECF6",
            "gridcolor": "white",
            "gridwidth": 2,
            "linecolor": "white",
            "showbackground": true,
            "ticks": "",
            "zerolinecolor": "white"
           }
          },
          "shapedefaults": {
           "line": {
            "color": "#2a3f5f"
           }
          },
          "ternary": {
           "aaxis": {
            "gridcolor": "white",
            "linecolor": "white",
            "ticks": ""
           },
           "baxis": {
            "gridcolor": "white",
            "linecolor": "white",
            "ticks": ""
           },
           "bgcolor": "#E5ECF6",
           "caxis": {
            "gridcolor": "white",
            "linecolor": "white",
            "ticks": ""
           }
          },
          "title": {
           "x": 0.05
          },
          "xaxis": {
           "automargin": true,
           "gridcolor": "white",
           "linecolor": "white",
           "ticks": "",
           "title": {
            "standoff": 15
           },
           "zerolinecolor": "white",
           "zerolinewidth": 2
          },
          "yaxis": {
           "automargin": true,
           "gridcolor": "white",
           "linecolor": "white",
           "ticks": "",
           "title": {
            "standoff": 15
           },
           "zerolinecolor": "white",
           "zerolinewidth": 2
          }
         }
        },
        "xaxis": {
         "anchor": "y",
         "domain": [
          0,
          1
         ],
         "title": {
          "text": "year_from"
         }
        },
        "yaxis": {
         "anchor": "x",
         "domain": [
          0,
          1
         ],
         "title": {
          "text": "next_inactive_date_diff"
         }
        }
       }
      }
     },
     "metadata": {},
     "output_type": "display_data"
    }
   ],
   "source": [
    "for_fig_7 = df_5.groupby('year_from', as_index=False)[['active_date_diff', 'next_inactive_date_diff', 'next_active_date_diff_after_inactive_dd', ]].agg('mean') \\\n",
    "    .round(2)\n",
    "\n",
    "fig_7 = px.bar(for_fig_7, x='year_from', y='next_inactive_date_diff', text_auto='.2s')\n",
    "\n",
    "fig_7.show()"
   ]
  },
  {
   "cell_type": "code",
   "execution_count": 34,
   "id": "ba3a4b92",
   "metadata": {},
   "outputs": [
    {
     "data": {
      "application/vnd.plotly.v1+json": {
       "config": {
        "plotlyServerURL": "https://plot.ly"
       },
       "data": [
        {
         "name": "Активные дни (avg)",
         "text": [
          356,
          356,
          194,
          233,
          243,
          193,
          214,
          195,
          192,
          174,
          126,
          113,
          98,
          70,
          43
         ],
         "type": "bar",
         "x": [
          "2009",
          "2010",
          "2011",
          "2012",
          "2013",
          "2014",
          "2015",
          "2016",
          "2017",
          "2018",
          "2019",
          "2020",
          "2021",
          "2022",
          "2023"
         ],
         "y": [
          356.28,
          356.21,
          194.1,
          232.82,
          243.14,
          193.01,
          213.67,
          194.53,
          192.29,
          174.16,
          126.43,
          113.13,
          98.33,
          70.37,
          42.66
         ]
        },
        {
         "name": "Неативные дни (avg)",
         "text": [
          568,
          444,
          352,
          268,
          266,
          254,
          263,
          246,
          197,
          157,
          120,
          94,
          78,
          53,
          23
         ],
         "type": "bar",
         "x": [
          "2009",
          "2010",
          "2011",
          "2012",
          "2013",
          "2014",
          "2015",
          "2016",
          "2017",
          "2018",
          "2019",
          "2020",
          "2021",
          "2022",
          "2023"
         ],
         "y": [
          567.56,
          443.93,
          352.05,
          268.3,
          265.56,
          253.69,
          263.48,
          246.41,
          196.95,
          157.3,
          120.21,
          94.14,
          78.04,
          52.62,
          22.82
         ]
        },
        {
         "name": "Активные после неактивных дни (avg)",
         "text": [
          226,
          261,
          220,
          222,
          201,
          178,
          181,
          161,
          149,
          137,
          108,
          111,
          82,
          58,
          33
         ],
         "type": "bar",
         "x": [
          "2009",
          "2010",
          "2011",
          "2012",
          "2013",
          "2014",
          "2015",
          "2016",
          "2017",
          "2018",
          "2019",
          "2020",
          "2021",
          "2022",
          "2023"
         ],
         "y": [
          225.92,
          261.07,
          220.05,
          221.9,
          200.94,
          178.29,
          180.83,
          160.8,
          149.16,
          136.86,
          108.33,
          110.83,
          82.14,
          58.08,
          32.8
         ]
        }
       ],
       "layout": {
        "barmode": "stack",
        "template": {
         "data": {
          "bar": [
           {
            "error_x": {
             "color": "#2a3f5f"
            },
            "error_y": {
             "color": "#2a3f5f"
            },
            "marker": {
             "line": {
              "color": "#E5ECF6",
              "width": 0.5
             },
             "pattern": {
              "fillmode": "overlay",
              "size": 10,
              "solidity": 0.2
             }
            },
            "type": "bar"
           }
          ],
          "barpolar": [
           {
            "marker": {
             "line": {
              "color": "#E5ECF6",
              "width": 0.5
             },
             "pattern": {
              "fillmode": "overlay",
              "size": 10,
              "solidity": 0.2
             }
            },
            "type": "barpolar"
           }
          ],
          "carpet": [
           {
            "aaxis": {
             "endlinecolor": "#2a3f5f",
             "gridcolor": "white",
             "linecolor": "white",
             "minorgridcolor": "white",
             "startlinecolor": "#2a3f5f"
            },
            "baxis": {
             "endlinecolor": "#2a3f5f",
             "gridcolor": "white",
             "linecolor": "white",
             "minorgridcolor": "white",
             "startlinecolor": "#2a3f5f"
            },
            "type": "carpet"
           }
          ],
          "choropleth": [
           {
            "colorbar": {
             "outlinewidth": 0,
             "ticks": ""
            },
            "type": "choropleth"
           }
          ],
          "contour": [
           {
            "colorbar": {
             "outlinewidth": 0,
             "ticks": ""
            },
            "colorscale": [
             [
              0,
              "#0d0887"
             ],
             [
              0.1111111111111111,
              "#46039f"
             ],
             [
              0.2222222222222222,
              "#7201a8"
             ],
             [
              0.3333333333333333,
              "#9c179e"
             ],
             [
              0.4444444444444444,
              "#bd3786"
             ],
             [
              0.5555555555555556,
              "#d8576b"
             ],
             [
              0.6666666666666666,
              "#ed7953"
             ],
             [
              0.7777777777777778,
              "#fb9f3a"
             ],
             [
              0.8888888888888888,
              "#fdca26"
             ],
             [
              1,
              "#f0f921"
             ]
            ],
            "type": "contour"
           }
          ],
          "contourcarpet": [
           {
            "colorbar": {
             "outlinewidth": 0,
             "ticks": ""
            },
            "type": "contourcarpet"
           }
          ],
          "heatmap": [
           {
            "colorbar": {
             "outlinewidth": 0,
             "ticks": ""
            },
            "colorscale": [
             [
              0,
              "#0d0887"
             ],
             [
              0.1111111111111111,
              "#46039f"
             ],
             [
              0.2222222222222222,
              "#7201a8"
             ],
             [
              0.3333333333333333,
              "#9c179e"
             ],
             [
              0.4444444444444444,
              "#bd3786"
             ],
             [
              0.5555555555555556,
              "#d8576b"
             ],
             [
              0.6666666666666666,
              "#ed7953"
             ],
             [
              0.7777777777777778,
              "#fb9f3a"
             ],
             [
              0.8888888888888888,
              "#fdca26"
             ],
             [
              1,
              "#f0f921"
             ]
            ],
            "type": "heatmap"
           }
          ],
          "heatmapgl": [
           {
            "colorbar": {
             "outlinewidth": 0,
             "ticks": ""
            },
            "colorscale": [
             [
              0,
              "#0d0887"
             ],
             [
              0.1111111111111111,
              "#46039f"
             ],
             [
              0.2222222222222222,
              "#7201a8"
             ],
             [
              0.3333333333333333,
              "#9c179e"
             ],
             [
              0.4444444444444444,
              "#bd3786"
             ],
             [
              0.5555555555555556,
              "#d8576b"
             ],
             [
              0.6666666666666666,
              "#ed7953"
             ],
             [
              0.7777777777777778,
              "#fb9f3a"
             ],
             [
              0.8888888888888888,
              "#fdca26"
             ],
             [
              1,
              "#f0f921"
             ]
            ],
            "type": "heatmapgl"
           }
          ],
          "histogram": [
           {
            "marker": {
             "pattern": {
              "fillmode": "overlay",
              "size": 10,
              "solidity": 0.2
             }
            },
            "type": "histogram"
           }
          ],
          "histogram2d": [
           {
            "colorbar": {
             "outlinewidth": 0,
             "ticks": ""
            },
            "colorscale": [
             [
              0,
              "#0d0887"
             ],
             [
              0.1111111111111111,
              "#46039f"
             ],
             [
              0.2222222222222222,
              "#7201a8"
             ],
             [
              0.3333333333333333,
              "#9c179e"
             ],
             [
              0.4444444444444444,
              "#bd3786"
             ],
             [
              0.5555555555555556,
              "#d8576b"
             ],
             [
              0.6666666666666666,
              "#ed7953"
             ],
             [
              0.7777777777777778,
              "#fb9f3a"
             ],
             [
              0.8888888888888888,
              "#fdca26"
             ],
             [
              1,
              "#f0f921"
             ]
            ],
            "type": "histogram2d"
           }
          ],
          "histogram2dcontour": [
           {
            "colorbar": {
             "outlinewidth": 0,
             "ticks": ""
            },
            "colorscale": [
             [
              0,
              "#0d0887"
             ],
             [
              0.1111111111111111,
              "#46039f"
             ],
             [
              0.2222222222222222,
              "#7201a8"
             ],
             [
              0.3333333333333333,
              "#9c179e"
             ],
             [
              0.4444444444444444,
              "#bd3786"
             ],
             [
              0.5555555555555556,
              "#d8576b"
             ],
             [
              0.6666666666666666,
              "#ed7953"
             ],
             [
              0.7777777777777778,
              "#fb9f3a"
             ],
             [
              0.8888888888888888,
              "#fdca26"
             ],
             [
              1,
              "#f0f921"
             ]
            ],
            "type": "histogram2dcontour"
           }
          ],
          "mesh3d": [
           {
            "colorbar": {
             "outlinewidth": 0,
             "ticks": ""
            },
            "type": "mesh3d"
           }
          ],
          "parcoords": [
           {
            "line": {
             "colorbar": {
              "outlinewidth": 0,
              "ticks": ""
             }
            },
            "type": "parcoords"
           }
          ],
          "pie": [
           {
            "automargin": true,
            "type": "pie"
           }
          ],
          "scatter": [
           {
            "fillpattern": {
             "fillmode": "overlay",
             "size": 10,
             "solidity": 0.2
            },
            "type": "scatter"
           }
          ],
          "scatter3d": [
           {
            "line": {
             "colorbar": {
              "outlinewidth": 0,
              "ticks": ""
             }
            },
            "marker": {
             "colorbar": {
              "outlinewidth": 0,
              "ticks": ""
             }
            },
            "type": "scatter3d"
           }
          ],
          "scattercarpet": [
           {
            "marker": {
             "colorbar": {
              "outlinewidth": 0,
              "ticks": ""
             }
            },
            "type": "scattercarpet"
           }
          ],
          "scattergeo": [
           {
            "marker": {
             "colorbar": {
              "outlinewidth": 0,
              "ticks": ""
             }
            },
            "type": "scattergeo"
           }
          ],
          "scattergl": [
           {
            "marker": {
             "colorbar": {
              "outlinewidth": 0,
              "ticks": ""
             }
            },
            "type": "scattergl"
           }
          ],
          "scattermapbox": [
           {
            "marker": {
             "colorbar": {
              "outlinewidth": 0,
              "ticks": ""
             }
            },
            "type": "scattermapbox"
           }
          ],
          "scatterpolar": [
           {
            "marker": {
             "colorbar": {
              "outlinewidth": 0,
              "ticks": ""
             }
            },
            "type": "scatterpolar"
           }
          ],
          "scatterpolargl": [
           {
            "marker": {
             "colorbar": {
              "outlinewidth": 0,
              "ticks": ""
             }
            },
            "type": "scatterpolargl"
           }
          ],
          "scatterternary": [
           {
            "marker": {
             "colorbar": {
              "outlinewidth": 0,
              "ticks": ""
             }
            },
            "type": "scatterternary"
           }
          ],
          "surface": [
           {
            "colorbar": {
             "outlinewidth": 0,
             "ticks": ""
            },
            "colorscale": [
             [
              0,
              "#0d0887"
             ],
             [
              0.1111111111111111,
              "#46039f"
             ],
             [
              0.2222222222222222,
              "#7201a8"
             ],
             [
              0.3333333333333333,
              "#9c179e"
             ],
             [
              0.4444444444444444,
              "#bd3786"
             ],
             [
              0.5555555555555556,
              "#d8576b"
             ],
             [
              0.6666666666666666,
              "#ed7953"
             ],
             [
              0.7777777777777778,
              "#fb9f3a"
             ],
             [
              0.8888888888888888,
              "#fdca26"
             ],
             [
              1,
              "#f0f921"
             ]
            ],
            "type": "surface"
           }
          ],
          "table": [
           {
            "cells": {
             "fill": {
              "color": "#EBF0F8"
             },
             "line": {
              "color": "white"
             }
            },
            "header": {
             "fill": {
              "color": "#C8D4E3"
             },
             "line": {
              "color": "white"
             }
            },
            "type": "table"
           }
          ]
         },
         "layout": {
          "annotationdefaults": {
           "arrowcolor": "#2a3f5f",
           "arrowhead": 0,
           "arrowwidth": 1
          },
          "autotypenumbers": "strict",
          "coloraxis": {
           "colorbar": {
            "outlinewidth": 0,
            "ticks": ""
           }
          },
          "colorscale": {
           "diverging": [
            [
             0,
             "#8e0152"
            ],
            [
             0.1,
             "#c51b7d"
            ],
            [
             0.2,
             "#de77ae"
            ],
            [
             0.3,
             "#f1b6da"
            ],
            [
             0.4,
             "#fde0ef"
            ],
            [
             0.5,
             "#f7f7f7"
            ],
            [
             0.6,
             "#e6f5d0"
            ],
            [
             0.7,
             "#b8e186"
            ],
            [
             0.8,
             "#7fbc41"
            ],
            [
             0.9,
             "#4d9221"
            ],
            [
             1,
             "#276419"
            ]
           ],
           "sequential": [
            [
             0,
             "#0d0887"
            ],
            [
             0.1111111111111111,
             "#46039f"
            ],
            [
             0.2222222222222222,
             "#7201a8"
            ],
            [
             0.3333333333333333,
             "#9c179e"
            ],
            [
             0.4444444444444444,
             "#bd3786"
            ],
            [
             0.5555555555555556,
             "#d8576b"
            ],
            [
             0.6666666666666666,
             "#ed7953"
            ],
            [
             0.7777777777777778,
             "#fb9f3a"
            ],
            [
             0.8888888888888888,
             "#fdca26"
            ],
            [
             1,
             "#f0f921"
            ]
           ],
           "sequentialminus": [
            [
             0,
             "#0d0887"
            ],
            [
             0.1111111111111111,
             "#46039f"
            ],
            [
             0.2222222222222222,
             "#7201a8"
            ],
            [
             0.3333333333333333,
             "#9c179e"
            ],
            [
             0.4444444444444444,
             "#bd3786"
            ],
            [
             0.5555555555555556,
             "#d8576b"
            ],
            [
             0.6666666666666666,
             "#ed7953"
            ],
            [
             0.7777777777777778,
             "#fb9f3a"
            ],
            [
             0.8888888888888888,
             "#fdca26"
            ],
            [
             1,
             "#f0f921"
            ]
           ]
          },
          "colorway": [
           "#636efa",
           "#EF553B",
           "#00cc96",
           "#ab63fa",
           "#FFA15A",
           "#19d3f3",
           "#FF6692",
           "#B6E880",
           "#FF97FF",
           "#FECB52"
          ],
          "font": {
           "color": "#2a3f5f"
          },
          "geo": {
           "bgcolor": "white",
           "lakecolor": "white",
           "landcolor": "#E5ECF6",
           "showlakes": true,
           "showland": true,
           "subunitcolor": "white"
          },
          "hoverlabel": {
           "align": "left"
          },
          "hovermode": "closest",
          "mapbox": {
           "style": "light"
          },
          "paper_bgcolor": "white",
          "plot_bgcolor": "#E5ECF6",
          "polar": {
           "angularaxis": {
            "gridcolor": "white",
            "linecolor": "white",
            "ticks": ""
           },
           "bgcolor": "#E5ECF6",
           "radialaxis": {
            "gridcolor": "white",
            "linecolor": "white",
            "ticks": ""
           }
          },
          "scene": {
           "xaxis": {
            "backgroundcolor": "#E5ECF6",
            "gridcolor": "white",
            "gridwidth": 2,
            "linecolor": "white",
            "showbackground": true,
            "ticks": "",
            "zerolinecolor": "white"
           },
           "yaxis": {
            "backgroundcolor": "#E5ECF6",
            "gridcolor": "white",
            "gridwidth": 2,
            "linecolor": "white",
            "showbackground": true,
            "ticks": "",
            "zerolinecolor": "white"
           },
           "zaxis": {
            "backgroundcolor": "#E5ECF6",
            "gridcolor": "white",
            "gridwidth": 2,
            "linecolor": "white",
            "showbackground": true,
            "ticks": "",
            "zerolinecolor": "white"
           }
          },
          "shapedefaults": {
           "line": {
            "color": "#2a3f5f"
           }
          },
          "ternary": {
           "aaxis": {
            "gridcolor": "white",
            "linecolor": "white",
            "ticks": ""
           },
           "baxis": {
            "gridcolor": "white",
            "linecolor": "white",
            "ticks": ""
           },
           "bgcolor": "#E5ECF6",
           "caxis": {
            "gridcolor": "white",
            "linecolor": "white",
            "ticks": ""
           }
          },
          "title": {
           "x": 0.05
          },
          "xaxis": {
           "automargin": true,
           "gridcolor": "white",
           "linecolor": "white",
           "ticks": "",
           "title": {
            "standoff": 15
           },
           "zerolinecolor": "white",
           "zerolinewidth": 2
          },
          "yaxis": {
           "automargin": true,
           "gridcolor": "white",
           "linecolor": "white",
           "ticks": "",
           "title": {
            "standoff": 15
           },
           "zerolinecolor": "white",
           "zerolinewidth": 2
          }
         }
        }
       }
      }
     },
     "metadata": {},
     "output_type": "display_data"
    }
   ],
   "source": [
    "import plotly.graph_objects as go\n",
    "\n",
    "fig = go.Figure(data=[\n",
    "    go.Bar(name='Активные дни (avg)', x=for_fig_7['year_from'], y=for_fig_7['active_date_diff'], text=for_fig_7['active_date_diff'].round(0)),\n",
    "    go.Bar(name='Неативные дни (avg)', x=for_fig_7['year_from'], y=for_fig_7['next_inactive_date_diff'], text=for_fig_7['next_inactive_date_diff'].round(0)),\n",
    "    go.Bar(name='Активные после неактивных дни (avg)', x=for_fig_7['year_from'], y=for_fig_7['next_active_date_diff_after_inactive_dd'], text=for_fig_7['next_active_date_diff_after_inactive_dd'].round(0)),\n",
    "])\n",
    "# Change the bar mode\n",
    "fig.update_layout(barmode='stack')\n",
    "fig.show()"
   ]
  },
  {
   "cell_type": "code",
   "execution_count": 35,
   "id": "7051f130",
   "metadata": {},
   "outputs": [
    {
     "data": {
      "text/html": [
       "<div>\n",
       "<style scoped>\n",
       "    .dataframe tbody tr th:only-of-type {\n",
       "        vertical-align: middle;\n",
       "    }\n",
       "\n",
       "    .dataframe tbody tr th {\n",
       "        vertical-align: top;\n",
       "    }\n",
       "\n",
       "    .dataframe thead th {\n",
       "        text-align: right;\n",
       "    }\n",
       "</style>\n",
       "<table border=\"1\" class=\"dataframe\">\n",
       "  <thead>\n",
       "    <tr style=\"text-align: right;\">\n",
       "      <th></th>\n",
       "      <th>year_from</th>\n",
       "      <th>active_date_diff</th>\n",
       "      <th>next_inactive_date_diff</th>\n",
       "      <th>next_active_date_diff_after_inactive_dd</th>\n",
       "    </tr>\n",
       "  </thead>\n",
       "  <tbody>\n",
       "    <tr>\n",
       "      <th>0</th>\n",
       "      <td>2009</td>\n",
       "      <td>356.28</td>\n",
       "      <td>567.56</td>\n",
       "      <td>225.92</td>\n",
       "    </tr>\n",
       "    <tr>\n",
       "      <th>1</th>\n",
       "      <td>2010</td>\n",
       "      <td>356.21</td>\n",
       "      <td>443.93</td>\n",
       "      <td>261.07</td>\n",
       "    </tr>\n",
       "    <tr>\n",
       "      <th>2</th>\n",
       "      <td>2011</td>\n",
       "      <td>194.1</td>\n",
       "      <td>352.05</td>\n",
       "      <td>220.05</td>\n",
       "    </tr>\n",
       "    <tr>\n",
       "      <th>3</th>\n",
       "      <td>2012</td>\n",
       "      <td>232.82</td>\n",
       "      <td>268.3</td>\n",
       "      <td>221.9</td>\n",
       "    </tr>\n",
       "    <tr>\n",
       "      <th>4</th>\n",
       "      <td>2013</td>\n",
       "      <td>243.14</td>\n",
       "      <td>265.56</td>\n",
       "      <td>200.94</td>\n",
       "    </tr>\n",
       "    <tr>\n",
       "      <th>5</th>\n",
       "      <td>2014</td>\n",
       "      <td>193.01</td>\n",
       "      <td>253.69</td>\n",
       "      <td>178.29</td>\n",
       "    </tr>\n",
       "    <tr>\n",
       "      <th>6</th>\n",
       "      <td>2015</td>\n",
       "      <td>213.67</td>\n",
       "      <td>263.48</td>\n",
       "      <td>180.83</td>\n",
       "    </tr>\n",
       "    <tr>\n",
       "      <th>7</th>\n",
       "      <td>2016</td>\n",
       "      <td>194.53</td>\n",
       "      <td>246.41</td>\n",
       "      <td>160.8</td>\n",
       "    </tr>\n",
       "    <tr>\n",
       "      <th>8</th>\n",
       "      <td>2017</td>\n",
       "      <td>192.29</td>\n",
       "      <td>196.95</td>\n",
       "      <td>149.16</td>\n",
       "    </tr>\n",
       "    <tr>\n",
       "      <th>9</th>\n",
       "      <td>2018</td>\n",
       "      <td>174.16</td>\n",
       "      <td>157.3</td>\n",
       "      <td>136.86</td>\n",
       "    </tr>\n",
       "    <tr>\n",
       "      <th>10</th>\n",
       "      <td>2019</td>\n",
       "      <td>126.43</td>\n",
       "      <td>120.21</td>\n",
       "      <td>108.33</td>\n",
       "    </tr>\n",
       "    <tr>\n",
       "      <th>11</th>\n",
       "      <td>2020</td>\n",
       "      <td>113.13</td>\n",
       "      <td>94.14</td>\n",
       "      <td>110.83</td>\n",
       "    </tr>\n",
       "    <tr>\n",
       "      <th>12</th>\n",
       "      <td>2021</td>\n",
       "      <td>98.33</td>\n",
       "      <td>78.04</td>\n",
       "      <td>82.14</td>\n",
       "    </tr>\n",
       "    <tr>\n",
       "      <th>13</th>\n",
       "      <td>2022</td>\n",
       "      <td>70.37</td>\n",
       "      <td>52.62</td>\n",
       "      <td>58.08</td>\n",
       "    </tr>\n",
       "    <tr>\n",
       "      <th>14</th>\n",
       "      <td>2023</td>\n",
       "      <td>42.66</td>\n",
       "      <td>22.82</td>\n",
       "      <td>32.8</td>\n",
       "    </tr>\n",
       "  </tbody>\n",
       "</table>\n",
       "</div>"
      ],
      "text/plain": [
       "   year_from  active_date_diff  next_inactive_date_diff  \\\n",
       "0       2009            356.28                   567.56   \n",
       "1       2010            356.21                   443.93   \n",
       "2       2011             194.1                   352.05   \n",
       "3       2012            232.82                    268.3   \n",
       "4       2013            243.14                   265.56   \n",
       "5       2014            193.01                   253.69   \n",
       "6       2015            213.67                   263.48   \n",
       "7       2016            194.53                   246.41   \n",
       "8       2017            192.29                   196.95   \n",
       "9       2018            174.16                    157.3   \n",
       "10      2019            126.43                   120.21   \n",
       "11      2020            113.13                    94.14   \n",
       "12      2021             98.33                    78.04   \n",
       "13      2022             70.37                    52.62   \n",
       "14      2023             42.66                    22.82   \n",
       "\n",
       "    next_active_date_diff_after_inactive_dd  \n",
       "0                                    225.92  \n",
       "1                                    261.07  \n",
       "2                                    220.05  \n",
       "3                                     221.9  \n",
       "4                                    200.94  \n",
       "5                                    178.29  \n",
       "6                                    180.83  \n",
       "7                                     160.8  \n",
       "8                                    149.16  \n",
       "9                                    136.86  \n",
       "10                                   108.33  \n",
       "11                                   110.83  \n",
       "12                                    82.14  \n",
       "13                                    58.08  \n",
       "14                                     32.8  "
      ]
     },
     "execution_count": 35,
     "metadata": {},
     "output_type": "execute_result"
    }
   ],
   "source": [
    "for_fig_7"
   ]
  },
  {
   "cell_type": "code",
   "execution_count": 36,
   "id": "1d2c450b",
   "metadata": {},
   "outputs": [
    {
     "data": {
      "application/vnd.plotly.v1+json": {
       "config": {
        "plotlyServerURL": "https://plot.ly"
       },
       "data": [
        {
         "alignmentgroup": "True",
         "hovertemplate": "outflow_number_group=1<br>year_from=%{x}<br>party_rk=%{y}<extra></extra>",
         "legendgroup": "1",
         "marker": {
          "color": "#636efa",
          "pattern": {
           "shape": ""
          }
         },
         "name": "1",
         "offsetgroup": "1",
         "orientation": "v",
         "showlegend": true,
         "textposition": "auto",
         "texttemplate": "%{y:.2s}",
         "type": "bar",
         "x": [
          "2009",
          "2010",
          "2011",
          "2012",
          "2013",
          "2014",
          "2015",
          "2016",
          "2017",
          "2018",
          "2019",
          "2020",
          "2021",
          "2022",
          "2023"
         ],
         "xaxis": "x",
         "y": [
          250,
          4740,
          8206,
          17385,
          48123,
          55273,
          107922,
          225096,
          383055,
          612503,
          897615,
          1308086,
          3135694,
          3908549,
          610639
         ],
         "yaxis": "y"
        },
        {
         "alignmentgroup": "True",
         "hovertemplate": "outflow_number_group=2<br>year_from=%{x}<br>party_rk=%{y}<extra></extra>",
         "legendgroup": "2",
         "marker": {
          "color": "#EF553B",
          "pattern": {
           "shape": ""
          }
         },
         "name": "2",
         "offsetgroup": "2",
         "orientation": "v",
         "showlegend": true,
         "textposition": "auto",
         "texttemplate": "%{y:.2s}",
         "type": "bar",
         "x": [
          "2009",
          "2010",
          "2011",
          "2012",
          "2013",
          "2014",
          "2015",
          "2016",
          "2017",
          "2018",
          "2019",
          "2020",
          "2021",
          "2022",
          "2023"
         ],
         "xaxis": "x",
         "y": [
          17,
          873,
          3613,
          7810,
          18614,
          31603,
          47745,
          97647,
          175448,
          289220,
          517645,
          927387,
          1735112,
          2914863,
          671630
         ],
         "yaxis": "y"
        },
        {
         "alignmentgroup": "True",
         "hovertemplate": "outflow_number_group=3 and over<br>year_from=%{x}<br>party_rk=%{y}<extra></extra>",
         "legendgroup": "3 and over",
         "marker": {
          "color": "#00cc96",
          "pattern": {
           "shape": ""
          }
         },
         "name": "3 and over",
         "offsetgroup": "3 and over",
         "orientation": "v",
         "showlegend": true,
         "textposition": "auto",
         "texttemplate": "%{y:.2s}",
         "type": "bar",
         "x": [
          "2009",
          "2010",
          "2011",
          "2012",
          "2013",
          "2014",
          "2015",
          "2016",
          "2017",
          "2018",
          "2019",
          "2020",
          "2021",
          "2022",
          "2023"
         ],
         "xaxis": "x",
         "y": [
          4,
          184,
          1826,
          5452,
          13134,
          27618,
          43790,
          78458,
          145893,
          246836,
          466971,
          1021108,
          1619897,
          3089600,
          1414170
         ],
         "yaxis": "y"
        }
       ],
       "layout": {
        "barmode": "relative",
        "legend": {
         "title": {
          "text": "outflow_number_group"
         },
         "tracegroupgap": 0
        },
        "margin": {
         "t": 60
        },
        "template": {
         "data": {
          "bar": [
           {
            "error_x": {
             "color": "#2a3f5f"
            },
            "error_y": {
             "color": "#2a3f5f"
            },
            "marker": {
             "line": {
              "color": "#E5ECF6",
              "width": 0.5
             },
             "pattern": {
              "fillmode": "overlay",
              "size": 10,
              "solidity": 0.2
             }
            },
            "type": "bar"
           }
          ],
          "barpolar": [
           {
            "marker": {
             "line": {
              "color": "#E5ECF6",
              "width": 0.5
             },
             "pattern": {
              "fillmode": "overlay",
              "size": 10,
              "solidity": 0.2
             }
            },
            "type": "barpolar"
           }
          ],
          "carpet": [
           {
            "aaxis": {
             "endlinecolor": "#2a3f5f",
             "gridcolor": "white",
             "linecolor": "white",
             "minorgridcolor": "white",
             "startlinecolor": "#2a3f5f"
            },
            "baxis": {
             "endlinecolor": "#2a3f5f",
             "gridcolor": "white",
             "linecolor": "white",
             "minorgridcolor": "white",
             "startlinecolor": "#2a3f5f"
            },
            "type": "carpet"
           }
          ],
          "choropleth": [
           {
            "colorbar": {
             "outlinewidth": 0,
             "ticks": ""
            },
            "type": "choropleth"
           }
          ],
          "contour": [
           {
            "colorbar": {
             "outlinewidth": 0,
             "ticks": ""
            },
            "colorscale": [
             [
              0,
              "#0d0887"
             ],
             [
              0.1111111111111111,
              "#46039f"
             ],
             [
              0.2222222222222222,
              "#7201a8"
             ],
             [
              0.3333333333333333,
              "#9c179e"
             ],
             [
              0.4444444444444444,
              "#bd3786"
             ],
             [
              0.5555555555555556,
              "#d8576b"
             ],
             [
              0.6666666666666666,
              "#ed7953"
             ],
             [
              0.7777777777777778,
              "#fb9f3a"
             ],
             [
              0.8888888888888888,
              "#fdca26"
             ],
             [
              1,
              "#f0f921"
             ]
            ],
            "type": "contour"
           }
          ],
          "contourcarpet": [
           {
            "colorbar": {
             "outlinewidth": 0,
             "ticks": ""
            },
            "type": "contourcarpet"
           }
          ],
          "heatmap": [
           {
            "colorbar": {
             "outlinewidth": 0,
             "ticks": ""
            },
            "colorscale": [
             [
              0,
              "#0d0887"
             ],
             [
              0.1111111111111111,
              "#46039f"
             ],
             [
              0.2222222222222222,
              "#7201a8"
             ],
             [
              0.3333333333333333,
              "#9c179e"
             ],
             [
              0.4444444444444444,
              "#bd3786"
             ],
             [
              0.5555555555555556,
              "#d8576b"
             ],
             [
              0.6666666666666666,
              "#ed7953"
             ],
             [
              0.7777777777777778,
              "#fb9f3a"
             ],
             [
              0.8888888888888888,
              "#fdca26"
             ],
             [
              1,
              "#f0f921"
             ]
            ],
            "type": "heatmap"
           }
          ],
          "heatmapgl": [
           {
            "colorbar": {
             "outlinewidth": 0,
             "ticks": ""
            },
            "colorscale": [
             [
              0,
              "#0d0887"
             ],
             [
              0.1111111111111111,
              "#46039f"
             ],
             [
              0.2222222222222222,
              "#7201a8"
             ],
             [
              0.3333333333333333,
              "#9c179e"
             ],
             [
              0.4444444444444444,
              "#bd3786"
             ],
             [
              0.5555555555555556,
              "#d8576b"
             ],
             [
              0.6666666666666666,
              "#ed7953"
             ],
             [
              0.7777777777777778,
              "#fb9f3a"
             ],
             [
              0.8888888888888888,
              "#fdca26"
             ],
             [
              1,
              "#f0f921"
             ]
            ],
            "type": "heatmapgl"
           }
          ],
          "histogram": [
           {
            "marker": {
             "pattern": {
              "fillmode": "overlay",
              "size": 10,
              "solidity": 0.2
             }
            },
            "type": "histogram"
           }
          ],
          "histogram2d": [
           {
            "colorbar": {
             "outlinewidth": 0,
             "ticks": ""
            },
            "colorscale": [
             [
              0,
              "#0d0887"
             ],
             [
              0.1111111111111111,
              "#46039f"
             ],
             [
              0.2222222222222222,
              "#7201a8"
             ],
             [
              0.3333333333333333,
              "#9c179e"
             ],
             [
              0.4444444444444444,
              "#bd3786"
             ],
             [
              0.5555555555555556,
              "#d8576b"
             ],
             [
              0.6666666666666666,
              "#ed7953"
             ],
             [
              0.7777777777777778,
              "#fb9f3a"
             ],
             [
              0.8888888888888888,
              "#fdca26"
             ],
             [
              1,
              "#f0f921"
             ]
            ],
            "type": "histogram2d"
           }
          ],
          "histogram2dcontour": [
           {
            "colorbar": {
             "outlinewidth": 0,
             "ticks": ""
            },
            "colorscale": [
             [
              0,
              "#0d0887"
             ],
             [
              0.1111111111111111,
              "#46039f"
             ],
             [
              0.2222222222222222,
              "#7201a8"
             ],
             [
              0.3333333333333333,
              "#9c179e"
             ],
             [
              0.4444444444444444,
              "#bd3786"
             ],
             [
              0.5555555555555556,
              "#d8576b"
             ],
             [
              0.6666666666666666,
              "#ed7953"
             ],
             [
              0.7777777777777778,
              "#fb9f3a"
             ],
             [
              0.8888888888888888,
              "#fdca26"
             ],
             [
              1,
              "#f0f921"
             ]
            ],
            "type": "histogram2dcontour"
           }
          ],
          "mesh3d": [
           {
            "colorbar": {
             "outlinewidth": 0,
             "ticks": ""
            },
            "type": "mesh3d"
           }
          ],
          "parcoords": [
           {
            "line": {
             "colorbar": {
              "outlinewidth": 0,
              "ticks": ""
             }
            },
            "type": "parcoords"
           }
          ],
          "pie": [
           {
            "automargin": true,
            "type": "pie"
           }
          ],
          "scatter": [
           {
            "fillpattern": {
             "fillmode": "overlay",
             "size": 10,
             "solidity": 0.2
            },
            "type": "scatter"
           }
          ],
          "scatter3d": [
           {
            "line": {
             "colorbar": {
              "outlinewidth": 0,
              "ticks": ""
             }
            },
            "marker": {
             "colorbar": {
              "outlinewidth": 0,
              "ticks": ""
             }
            },
            "type": "scatter3d"
           }
          ],
          "scattercarpet": [
           {
            "marker": {
             "colorbar": {
              "outlinewidth": 0,
              "ticks": ""
             }
            },
            "type": "scattercarpet"
           }
          ],
          "scattergeo": [
           {
            "marker": {
             "colorbar": {
              "outlinewidth": 0,
              "ticks": ""
             }
            },
            "type": "scattergeo"
           }
          ],
          "scattergl": [
           {
            "marker": {
             "colorbar": {
              "outlinewidth": 0,
              "ticks": ""
             }
            },
            "type": "scattergl"
           }
          ],
          "scattermapbox": [
           {
            "marker": {
             "colorbar": {
              "outlinewidth": 0,
              "ticks": ""
             }
            },
            "type": "scattermapbox"
           }
          ],
          "scatterpolar": [
           {
            "marker": {
             "colorbar": {
              "outlinewidth": 0,
              "ticks": ""
             }
            },
            "type": "scatterpolar"
           }
          ],
          "scatterpolargl": [
           {
            "marker": {
             "colorbar": {
              "outlinewidth": 0,
              "ticks": ""
             }
            },
            "type": "scatterpolargl"
           }
          ],
          "scatterternary": [
           {
            "marker": {
             "colorbar": {
              "outlinewidth": 0,
              "ticks": ""
             }
            },
            "type": "scatterternary"
           }
          ],
          "surface": [
           {
            "colorbar": {
             "outlinewidth": 0,
             "ticks": ""
            },
            "colorscale": [
             [
              0,
              "#0d0887"
             ],
             [
              0.1111111111111111,
              "#46039f"
             ],
             [
              0.2222222222222222,
              "#7201a8"
             ],
             [
              0.3333333333333333,
              "#9c179e"
             ],
             [
              0.4444444444444444,
              "#bd3786"
             ],
             [
              0.5555555555555556,
              "#d8576b"
             ],
             [
              0.6666666666666666,
              "#ed7953"
             ],
             [
              0.7777777777777778,
              "#fb9f3a"
             ],
             [
              0.8888888888888888,
              "#fdca26"
             ],
             [
              1,
              "#f0f921"
             ]
            ],
            "type": "surface"
           }
          ],
          "table": [
           {
            "cells": {
             "fill": {
              "color": "#EBF0F8"
             },
             "line": {
              "color": "white"
             }
            },
            "header": {
             "fill": {
              "color": "#C8D4E3"
             },
             "line": {
              "color": "white"
             }
            },
            "type": "table"
           }
          ]
         },
         "layout": {
          "annotationdefaults": {
           "arrowcolor": "#2a3f5f",
           "arrowhead": 0,
           "arrowwidth": 1
          },
          "autotypenumbers": "strict",
          "coloraxis": {
           "colorbar": {
            "outlinewidth": 0,
            "ticks": ""
           }
          },
          "colorscale": {
           "diverging": [
            [
             0,
             "#8e0152"
            ],
            [
             0.1,
             "#c51b7d"
            ],
            [
             0.2,
             "#de77ae"
            ],
            [
             0.3,
             "#f1b6da"
            ],
            [
             0.4,
             "#fde0ef"
            ],
            [
             0.5,
             "#f7f7f7"
            ],
            [
             0.6,
             "#e6f5d0"
            ],
            [
             0.7,
             "#b8e186"
            ],
            [
             0.8,
             "#7fbc41"
            ],
            [
             0.9,
             "#4d9221"
            ],
            [
             1,
             "#276419"
            ]
           ],
           "sequential": [
            [
             0,
             "#0d0887"
            ],
            [
             0.1111111111111111,
             "#46039f"
            ],
            [
             0.2222222222222222,
             "#7201a8"
            ],
            [
             0.3333333333333333,
             "#9c179e"
            ],
            [
             0.4444444444444444,
             "#bd3786"
            ],
            [
             0.5555555555555556,
             "#d8576b"
            ],
            [
             0.6666666666666666,
             "#ed7953"
            ],
            [
             0.7777777777777778,
             "#fb9f3a"
            ],
            [
             0.8888888888888888,
             "#fdca26"
            ],
            [
             1,
             "#f0f921"
            ]
           ],
           "sequentialminus": [
            [
             0,
             "#0d0887"
            ],
            [
             0.1111111111111111,
             "#46039f"
            ],
            [
             0.2222222222222222,
             "#7201a8"
            ],
            [
             0.3333333333333333,
             "#9c179e"
            ],
            [
             0.4444444444444444,
             "#bd3786"
            ],
            [
             0.5555555555555556,
             "#d8576b"
            ],
            [
             0.6666666666666666,
             "#ed7953"
            ],
            [
             0.7777777777777778,
             "#fb9f3a"
            ],
            [
             0.8888888888888888,
             "#fdca26"
            ],
            [
             1,
             "#f0f921"
            ]
           ]
          },
          "colorway": [
           "#636efa",
           "#EF553B",
           "#00cc96",
           "#ab63fa",
           "#FFA15A",
           "#19d3f3",
           "#FF6692",
           "#B6E880",
           "#FF97FF",
           "#FECB52"
          ],
          "font": {
           "color": "#2a3f5f"
          },
          "geo": {
           "bgcolor": "white",
           "lakecolor": "white",
           "landcolor": "#E5ECF6",
           "showlakes": true,
           "showland": true,
           "subunitcolor": "white"
          },
          "hoverlabel": {
           "align": "left"
          },
          "hovermode": "closest",
          "mapbox": {
           "style": "light"
          },
          "paper_bgcolor": "white",
          "plot_bgcolor": "#E5ECF6",
          "polar": {
           "angularaxis": {
            "gridcolor": "white",
            "linecolor": "white",
            "ticks": ""
           },
           "bgcolor": "#E5ECF6",
           "radialaxis": {
            "gridcolor": "white",
            "linecolor": "white",
            "ticks": ""
           }
          },
          "scene": {
           "xaxis": {
            "backgroundcolor": "#E5ECF6",
            "gridcolor": "white",
            "gridwidth": 2,
            "linecolor": "white",
            "showbackground": true,
            "ticks": "",
            "zerolinecolor": "white"
           },
           "yaxis": {
            "backgroundcolor": "#E5ECF6",
            "gridcolor": "white",
            "gridwidth": 2,
            "linecolor": "white",
            "showbackground": true,
            "ticks": "",
            "zerolinecolor": "white"
           },
           "zaxis": {
            "backgroundcolor": "#E5ECF6",
            "gridcolor": "white",
            "gridwidth": 2,
            "linecolor": "white",
            "showbackground": true,
            "ticks": "",
            "zerolinecolor": "white"
           }
          },
          "shapedefaults": {
           "line": {
            "color": "#2a3f5f"
           }
          },
          "ternary": {
           "aaxis": {
            "gridcolor": "white",
            "linecolor": "white",
            "ticks": ""
           },
           "baxis": {
            "gridcolor": "white",
            "linecolor": "white",
            "ticks": ""
           },
           "bgcolor": "#E5ECF6",
           "caxis": {
            "gridcolor": "white",
            "linecolor": "white",
            "ticks": ""
           }
          },
          "title": {
           "x": 0.05
          },
          "xaxis": {
           "automargin": true,
           "gridcolor": "white",
           "linecolor": "white",
           "ticks": "",
           "title": {
            "standoff": 15
           },
           "zerolinecolor": "white",
           "zerolinewidth": 2
          },
          "yaxis": {
           "automargin": true,
           "gridcolor": "white",
           "linecolor": "white",
           "ticks": "",
           "title": {
            "standoff": 15
           },
           "zerolinecolor": "white",
           "zerolinewidth": 2
          }
         }
        },
        "xaxis": {
         "anchor": "y",
         "domain": [
          0,
          1
         ],
         "title": {
          "text": "year_from"
         }
        },
        "yaxis": {
         "anchor": "x",
         "domain": [
          0,
          1
         ],
         "title": {
          "text": "party_rk"
         }
        }
       }
      }
     },
     "metadata": {},
     "output_type": "display_data"
    }
   ],
   "source": [
    "for_fig_8 = df_5.groupby(['year_from', 'outflow_number_group'], as_index=False)['party_rk'].agg('nunique')\n",
    "\n",
    "fig_8 = px.bar(for_fig_8, x='year_from', y='party_rk', color='outflow_number_group', text_auto='.2s')\n",
    "\n",
    "fig_8.show()"
   ]
  },
  {
   "cell_type": "code",
   "execution_count": 38,
   "id": "34167bb6",
   "metadata": {},
   "outputs": [
    {
     "name": "stderr",
     "output_type": "stream",
     "text": [
      "/var/folders/3g/twm5z59x18s28jmjj3c3ghfm0000gq/T/ipykernel_2928/1957679296.py:1: FutureWarning:\n",
      "\n",
      "The default value of numeric_only in DataFrameGroupBy.mean is deprecated. In a future version, numeric_only will default to False. Either specify numeric_only or select only columns which should be valid for the function.\n",
      "\n"
     ]
    },
    {
     "data": {
      "text/html": [
       "<div>\n",
       "<style scoped>\n",
       "    .dataframe tbody tr th:only-of-type {\n",
       "        vertical-align: middle;\n",
       "    }\n",
       "\n",
       "    .dataframe tbody tr th {\n",
       "        vertical-align: top;\n",
       "    }\n",
       "\n",
       "    .dataframe thead th {\n",
       "        text-align: right;\n",
       "    }\n",
       "</style>\n",
       "<table border=\"1\" class=\"dataframe\">\n",
       "  <thead>\n",
       "    <tr style=\"text-align: right;\">\n",
       "      <th></th>\n",
       "      <th>months_first_activation_groups</th>\n",
       "    </tr>\n",
       "  </thead>\n",
       "  <tbody>\n",
       "    <tr>\n",
       "      <th>0</th>\n",
       "      <td>1-3 months</td>\n",
       "    </tr>\n",
       "    <tr>\n",
       "      <th>1</th>\n",
       "      <td>13-16 months</td>\n",
       "    </tr>\n",
       "    <tr>\n",
       "      <th>2</th>\n",
       "      <td>17-20 months</td>\n",
       "    </tr>\n",
       "    <tr>\n",
       "      <th>3</th>\n",
       "      <td>21-24 months</td>\n",
       "    </tr>\n",
       "    <tr>\n",
       "      <th>4</th>\n",
       "      <td>25-28 months</td>\n",
       "    </tr>\n",
       "    <tr>\n",
       "      <th>5</th>\n",
       "      <td>29-33 months</td>\n",
       "    </tr>\n",
       "    <tr>\n",
       "      <th>6</th>\n",
       "      <td>4-7 months</td>\n",
       "    </tr>\n",
       "    <tr>\n",
       "      <th>7</th>\n",
       "      <td>8-12 months</td>\n",
       "    </tr>\n",
       "    <tr>\n",
       "      <th>8</th>\n",
       "      <td>over 34 months</td>\n",
       "    </tr>\n",
       "  </tbody>\n",
       "</table>\n",
       "</div>"
      ],
      "text/plain": [
       "  months_first_activation_groups\n",
       "0                     1-3 months\n",
       "1                   13-16 months\n",
       "2                   17-20 months\n",
       "3                   21-24 months\n",
       "4                   25-28 months\n",
       "5                   29-33 months\n",
       "6                     4-7 months\n",
       "7                    8-12 months\n",
       "8                 over 34 months"
      ]
     },
     "execution_count": 38,
     "metadata": {},
     "output_type": "execute_result"
    }
   ],
   "source": [
    "df_5.groupby('months_first_activation_groups', as_index=False)['next_inactive_days_group'].agg('mean')"
   ]
  }
 ],
 "metadata": {
  "kernelspec": {
   "display_name": "Python 3 (ipykernel)",
   "language": "python",
   "name": "python3"
  },
  "language_info": {
   "codemirror_mode": {
    "name": "ipython",
    "version": 3
   },
   "file_extension": ".py",
   "mimetype": "text/x-python",
   "name": "python",
   "nbconvert_exporter": "python",
   "pygments_lexer": "ipython3",
   "version": "3.9.6"
  }
 },
 "nbformat": 4,
 "nbformat_minor": 5
}
